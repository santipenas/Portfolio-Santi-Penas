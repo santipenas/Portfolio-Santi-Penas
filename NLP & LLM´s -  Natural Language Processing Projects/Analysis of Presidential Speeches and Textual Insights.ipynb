{
 "cells": [
  {
   "cell_type": "markdown",
   "id": "b7a8a9cd-2cb0-4abe-beab-e302cae703cb",
   "metadata": {},
   "source": [
    "# Analysis of Presidential Speeches and Textual Insights\n",
    "\n",
    "## **Introduction**\n",
    "This project is designed to analyze a collection of presidential speeches.  \n",
    "It involves several key stages:\n",
    "\n",
    "### **1. Data Ingestion & Preprocessing:**  \n",
    "- Reading text files containing speeches.  \n",
    "- Cleaning the text (removing punctuation, extra spaces, and converting to lowercase).  \n",
    "- Tokenizing the text into sentences and words.  \n",
    "\n",
    "### **2. Exploratory Analysis:**  \n",
    "- Computing the frequency distribution of words.  \n",
    "- Calculating additional metrics such as average sentence length.  \n",
    "- Visualizing sentence length distributions.  \n",
    "\n",
    "### **3. Advanced NLP Tasks:**  \n",
    "- Training **Word2Vec** models for word embeddings.  \n",
    "- Finding words similar to key terms (e.g., *\"freedom\"*).  \n",
    "- Sentiment analysis using NLTK’s **VADER** to gauge the emotional tone of the speeches.  \n",
    "\n",
    "### **4. Comparative Analysis:**  \n",
    "- Analyzing speeches from individual presidents (e.g., *Franklin D. Roosevelt*) or groups of presidents.  \n",
    "\n",
    "### **5. Workflow & Output:**  \n",
    "- The script prints intermediate results, and at the end, a final conclusion summarizes the major insights and interpretations.  \n",
    "\n",
    "---"
   ]
  },
  {
   "cell_type": "code",
   "execution_count": 1,
   "id": "ed9e39dc-a207-4c48-adfc-cadec6798c32",
   "metadata": {},
   "outputs": [],
   "source": [
    "import os\n",
    "import re\n",
    "import gensim\n",
    "import nltk\n",
    "from nltk.corpus import stopwords\n",
    "from nltk.tokenize import sent_tokenize, word_tokenize\n",
    "from collections import Counter\n",
    "import numpy as np\n",
    "import matplotlib.pyplot as plt\n",
    "from nltk.sentiment import SentimentIntensityAnalyzer\n",
    "import spacy\n",
    "nlp = spacy.load(\"en_core_web_sm\")"
   ]
  },
  {
   "cell_type": "code",
   "execution_count": 2,
   "id": "6f7476e0-a25d-4317-827b-c25f9752f914",
   "metadata": {},
   "outputs": [],
   "source": [
    "# Download necessary NLTK datasets\n",
    "# nltk.download('stopwords')\n",
    "# nltk.download('punkt')\n",
    "# nltk.download('vader_lexicon')"
   ]
  },
  {
   "cell_type": "markdown",
   "id": "49a23290-e1e4-4c4a-8078-78f830a84ca7",
   "metadata": {},
   "source": [
    "## Helper Functions Overview\n",
    "\n",
    "This section details the key helper functions used in the project to process and analyze presidential speeches.\n",
    "\n",
    "### 1. Reading and Cleaning Text\n",
    "- **`read_file(file_name)`**  \n",
    "  Reads a text file and returns its content as a string.  \n",
    "\n",
    "- **`clean_text(text)`**  \n",
    "  Cleans the given text by:\n",
    "  - Removing punctuation and special characters.\n",
    "  - Eliminating extra spaces.\n",
    "  - Converting all text to lowercase for consistency.\n",
    "\n",
    "### 2. Processing and Tokenization\n",
    "- **`process_speeches(speeches)`**  \n",
    "  Tokenizes speeches into sentences and words by:\n",
    "  - Cleaning the text.\n",
    "  - Splitting it into sentences.\n",
    "  - Further breaking each sentence into words.\n",
    "\n",
    "- **`merge_speeches(speeches)`**  \n",
    "  Merges multiple speeches into a single list of sentences for easier analysis.\n",
    "\n",
    "### 3. Speech Retrieval Functions\n",
    "- **`get_president_sentences(president)`**  \n",
    "  - Retrieves tokenized sentences from all speeches of a given president.\n",
    "  - Looks for text files matching the president’s name.\n",
    "  - Reads and processes the speeches.\n",
    "\n",
    "- **`get_presidents_sentences(presidents)`**  \n",
    "  - Similar to `get_president_sentences`, but works for multiple presidents.\n",
    "\n",
    "### 4. Word Frequency Analysis\n",
    "- **`most_frequent_words(sentences, n=20)`**  \n",
    "  - Identifies the `n` most common words across all tokenized sentences.\n",
    "  - Uses the `Counter` class to count word occurrences.\n",
    "\n",
    "- **`most_frequent_meaningful_words(sentences, n=20)`**  \n",
    "  - Identifies the `n` most frequent **meaningful** words.\n",
    "  - Excludes common English stopwords (e.g., \"the\", \"and\", \"is\") using NLTK's `stopwords` list.\n",
    "\n",
    "---\n",
    "These functions form the backbone of text processing, allowing us to analyze presidential speeches effectively.\n"
   ]
  },
  {
   "cell_type": "code",
   "execution_count": 3,
   "id": "60646ac8-c548-48b2-a415-1f75af6e197d",
   "metadata": {},
   "outputs": [],
   "source": [
    "# Reads a text file and returns its content.\n",
    "def read_file(file_name):\n",
    "    with open(file_name, 'r', encoding='utf-8') as file:\n",
    "        return file.read()"
   ]
  },
  {
   "cell_type": "code",
   "execution_count": 4,
   "id": "a2030582-856a-4dbd-a79b-833fc3abaf5f",
   "metadata": {},
   "outputs": [],
   "source": [
    "# Cleans text by removing special characters, multiple spaces, and converting to lowercase.\n",
    "def clean_text(text):\n",
    "    text = re.sub(r'[^a-zA-Z\\s]', '', text)  # Remove punctuation and special characters\n",
    "    text = re.sub(r'\\s+', ' ', text).strip()   # Remove extra spaces\n",
    "    return text.lower()"
   ]
  },
  {
   "cell_type": "code",
   "execution_count": 5,
   "id": "2144e10c-dbe6-4669-bae9-949a074a6310",
   "metadata": {},
   "outputs": [],
   "source": [
    "# Tokenizes speeches into sentences and words\n",
    "def process_speeches(speeches):\n",
    "    tokenized_speeches = []\n",
    "    for speech in speeches:\n",
    "        cleaned_text = clean_text(speech)\n",
    "        sentences = sent_tokenize(cleaned_text)\n",
    "        word_tokenized_sentences = [word_tokenize(sentence) for sentence in sentences]\n",
    "        tokenized_speeches.append(word_tokenized_sentences)\n",
    "    return tokenized_speeches"
   ]
  },
  {
   "cell_type": "code",
   "execution_count": 6,
   "id": "35681096-cafd-4229-9d6b-d08b4566e110",
   "metadata": {},
   "outputs": [],
   "source": [
    "# Merges tokenized speeches into a single list of sentences\n",
    "def merge_speeches(speeches):\n",
    "    return [sentence for speech in speeches for sentence in speech]"
   ]
  },
  {
   "cell_type": "code",
   "execution_count": 7,
   "id": "a03cec9b-aa49-4dd3-9013-3e4afa8ac1d4",
   "metadata": {},
   "outputs": [],
   "source": [
    "# Retrieves tokenized sentences from speeches of a given president.\n",
    "def get_president_sentences(president):\n",
    "    files = sorted([file for file in os.listdir() if president.lower() in file.lower() and file.endswith('.txt')])\n",
    "    speeches = [read_file(file) for file in files]\n",
    "    return merge_speeches(process_speeches(speeches))"
   ]
  },
  {
   "cell_type": "code",
   "execution_count": 8,
   "id": "13e5b26a-13ae-4f5b-848f-9f872da5bb34",
   "metadata": {},
   "outputs": [],
   "source": [
    "def get_presidents_sentences(presidents):\n",
    "    \"\"\"Retrieves tokenized sentences from speeches of multiple presidents.\"\"\"\n",
    "    return [sentence for president in presidents for sentence in get_president_sentences(president)]"
   ]
  },
  {
   "cell_type": "code",
   "execution_count": 9,
   "id": "e255d55c-9d8a-4879-87cc-23c1e982487d",
   "metadata": {},
   "outputs": [],
   "source": [
    "# Finds the most common words in a list of tokenized sentences.\n",
    "def most_frequent_words(sentences, n=20):\n",
    "    words = [word for sentence in sentences for word in sentence]\n",
    "    return Counter(words).most_common(n)"
   ]
  },
  {
   "cell_type": "code",
   "execution_count": 10,
   "id": "8bc99c8a-db55-4f6c-a57e-e623b65c5a94",
   "metadata": {},
   "outputs": [],
   "source": [
    "# nltk.download('stopwords')\n",
    "stop_words = set(stopwords.words('english'))\n",
    "\n",
    "# Finds the most common words, excluding stopwords.\n",
    "def most_frequent_meaningful_words(sentences, n=20):\n",
    "    words = [word for sentence in sentences for word in sentence if word.lower() not in stop_words]\n",
    "    return Counter(words).most_common(n)"
   ]
  },
  {
   "cell_type": "code",
   "execution_count": 11,
   "id": "6c135e2b-a974-4e2f-be3e-41ed2e219b8d",
   "metadata": {},
   "outputs": [],
   "source": [
    "# Trains a Word2Vec model with the given sentences.\n",
    "def train_word2vec_model(sentences, vector_size=100, window=5, min_count=2, workers=4):\n",
    "    return gensim.models.Word2Vec(sentences, vector_size=vector_size, window=window, min_count=min_count, workers=workers, sg=1)"
   ]
  },
  {
   "cell_type": "code",
   "execution_count": 12,
   "id": "19a6f7cd-9e72-48ad-a004-1c89298bea90",
   "metadata": {},
   "outputs": [],
   "source": [
    "# Analyzes sentiment of each sentence using NLTK's VADER.\n",
    "def analyze_sentiment(sentences):\n",
    "    sia = SentimentIntensityAnalyzer()\n",
    "    sentiment_scores = [sia.polarity_scores(\" \".join(sentence)) for sentence in sentences]\n",
    "    \n",
    "    # Compute average sentiment scores across all sentences\n",
    "    avg_sentiment = {\n",
    "        'neg': np.mean([score['neg'] for score in sentiment_scores]),\n",
    "        'neu': np.mean([score['neu'] for score in sentiment_scores]),\n",
    "        'pos': np.mean([score['pos'] for score in sentiment_scores]),\n",
    "        'compound': np.mean([score['compound'] for score in sentiment_scores])\n",
    "    }\n",
    "    return avg_sentiment"
   ]
  },
  {
   "cell_type": "markdown",
   "id": "44246758-391b-4a94-8a6f-a2b096384895",
   "metadata": {},
   "source": [
    "### Main Script Execution"
   ]
  },
  {
   "cell_type": "markdown",
   "id": "50680591-4b19-4a35-a209-5fcce0f4f719",
   "metadata": {},
   "source": [
    "#### List all speech files in the current directory"
   ]
  },
  {
   "cell_type": "code",
   "execution_count": 14,
   "id": "3788399d-d5fa-4ddc-81af-0d1f244a2f45",
   "metadata": {},
   "outputs": [
    {
     "name": "stdout",
     "output_type": "stream",
     "text": [
      "Speech files found: ['1793-Washington.txt', '1801-Jefferson.txt', '1861-Lincoln.txt', '1933-Franklin-D-Roosevelt.txt', '1937-Franklin-D-Roosevelt.txt', '1941-Franklin-D-Roosevelt.txt', '1945-Franklin-D-Roosevelt.txt']\n"
     ]
    }
   ],
   "source": [
    "files = sorted([file for file in os.listdir() if file.endswith('.txt')])\n",
    "print(\"Speech files found:\", files)"
   ]
  },
  {
   "cell_type": "markdown",
   "id": "ea05619a-d44d-4923-af4b-ab36c0f2230d",
   "metadata": {},
   "source": [
    "#### Read each speech file"
   ]
  },
  {
   "cell_type": "code",
   "execution_count": 15,
   "id": "16a4931c-32af-472c-9eb5-6e7711fec33f",
   "metadata": {},
   "outputs": [
    {
     "name": "stdout",
     "output_type": "stream",
     "text": [
      "Lets see the first speech:\n",
      " Fellow citizens, I am again called upon by the voice of my country to execute the functions of its Chief Magistrate. When the occasion proper for it shall arrive, I shall endeavor to express the high sense I entertain of this distinguished honor, and of the confidence which has been reposed in me by the people of united America.\n",
      "\n",
      "Previous to the execution of any official act of the President the Constitution requires an oath of office. This oath I am now about to take, and in your presence: That if it shall be found during my administration of the Government I have in any instance violated willingly or knowingly the injunctions thereof, I may (besides incurring constitutional punishment) be subject to the upbraidings of all who are now witnesses of the present solemn ceremony.\n",
      "\n",
      " \n",
      "\n"
     ]
    }
   ],
   "source": [
    "speeches = [read_file(file) for file in files]\n",
    "print(\"Lets see the first speech:\\n\", speeches[0])"
   ]
  },
  {
   "cell_type": "markdown",
   "id": "ff83ad7b-f606-4cb6-8815-3a72e8b063a8",
   "metadata": {},
   "source": [
    "#### Preprocess each speech (cleaning & tokenization)"
   ]
  },
  {
   "cell_type": "code",
   "execution_count": 16,
   "id": "ac709afd-1855-4ba3-9626-9b0a74cf0129",
   "metadata": {},
   "outputs": [],
   "source": [
    "processed_speeches = process_speeches(speeches)\n",
    "# Example: processed_speeches[0][0][0] is the first word of the first sentence of the first speech"
   ]
  },
  {
   "cell_type": "markdown",
   "id": "94b2eedd-e98a-4168-89ba-5b34a3a6830e",
   "metadata": {},
   "source": [
    "After calling `process_speeches()` with `speeches` as an argument, the data will be formatted as follows:\n",
    "\n",
    "- `processed_speeches[0]` → Represents the **first inaugural address** in `processed_speeches`.  \n",
    "- `processed_speeches[0][0]` → Represents the **first sentence** in the **first inaugural address** in `processed_speeches`.  \n",
    "- `processed_speeches[0][0][0]` → Represents the **first word** in the **first sentence** in the **first inaugural address** in `processed_speeches`.  \n"
   ]
  },
  {
   "cell_type": "markdown",
   "id": "9929fbae-874e-4718-8e02-b17d4a4a440b",
   "metadata": {},
   "source": [
    "#### Merge all speeches into one list of sentences"
   ]
  },
  {
   "cell_type": "code",
   "execution_count": 17,
   "id": "1107de99-f73c-4c23-a2f6-a49ccaf3fd32",
   "metadata": {},
   "outputs": [
    {
     "name": "stdout",
     "output_type": "stream",
     "text": [
      "Total Number of Speeches used: 7\n"
     ]
    }
   ],
   "source": [
    "all_sentences = merge_speeches(processed_speeches)\n",
    "print(\"Total Number of Speeches used:\", len(all_sentences))"
   ]
  },
  {
   "cell_type": "markdown",
   "id": "196e4c21-97cf-460a-b3c7-cbdca462d12e",
   "metadata": {},
   "source": [
    "#### View most frequently used words across all speeches"
   ]
  },
  {
   "cell_type": "code",
   "execution_count": 18,
   "id": "92aa491c-9256-4e84-bd47-97d25ede35d5",
   "metadata": {},
   "outputs": [
    {
     "name": "stdout",
     "output_type": "stream",
     "text": [
      "\n",
      "Most frequent words: [('the', 776), ('of', 582), ('and', 366), ('to', 358), ('in', 223), ('a', 197), ('that', 186), ('we', 151), ('it', 146), ('be', 134), ('is', 131), ('our', 127), ('i', 111), ('not', 99), ('by', 98), ('all', 88), ('have', 87), ('this', 84), ('for', 83), ('as', 77)]\n"
     ]
    }
   ],
   "source": [
    "most_freq_words = most_frequent_words(all_sentences)\n",
    "print(\"\\nMost frequent words:\", most_freq_words)"
   ]
  },
  {
   "cell_type": "markdown",
   "id": "915214e0-2e92-47c7-9e70-527acdf1032f",
   "metadata": {},
   "source": [
    "#### Create a Word2Vec model from all sentences"
   ]
  },
  {
   "cell_type": "code",
   "execution_count": 19,
   "id": "b42a48f5-7776-4c1d-a3b1-947471f7e4ad",
   "metadata": {},
   "outputs": [
    {
     "name": "stdout",
     "output_type": "stream",
     "text": [
      "\n",
      "Words similar to 'freedom': [('made', 0.9985431432723999), ('new', 0.9985142946243286), ('through', 0.9984857439994812), ('right', 0.9984040856361389), ('does', 0.9983956813812256), ('today', 0.9983804225921631), ('are', 0.9983580708503723), ('you', 0.9983406066894531), ('political', 0.9983393549919128), ('power', 0.9983346462249756), ('still', 0.9983243942260742), ('authority', 0.9983219504356384), ('only', 0.9983198046684265), ('many', 0.9983046054840088), ('work', 0.9982998967170715), ('by', 0.9982975125312805), ('no', 0.9982664585113525), ('with', 0.9982662200927734), ('but', 0.9982543587684631), ('progress', 0.9982538819313049)]\n"
     ]
    }
   ],
   "source": [
    "all_prez_embeddings = train_word2vec_model(all_sentences, vector_size=96, window=5, min_count=1, workers=2)\n",
    "# View words similar to 'freedom'\n",
    "try:\n",
    "    similar_to_freedom = all_prez_embeddings.wv.most_similar(\"freedom\", topn=20)\n",
    "    print(\"\\nWords similar to 'freedom':\", similar_to_freedom)\n",
    "except KeyError:\n",
    "    print(\"\\nThe word 'freedom' was not found in the vocabulary.\")"
   ]
  },
  {
   "cell_type": "markdown",
   "id": "d6b4f0c0-2acd-4f88-a58d-696fd494b3db",
   "metadata": {},
   "source": [
    "#### Analysis for a specific president (e.g., Franklin D. Roosevelt)"
   ]
  },
  {
   "cell_type": "code",
   "execution_count": 20,
   "id": "2138e285-36e4-4956-8c18-50abbc708e48",
   "metadata": {},
   "outputs": [
    {
     "name": "stdout",
     "output_type": "stream",
     "text": [
      "\n",
      "Roosevelt's most frequent words: [('the', 377), ('of', 321), ('and', 178), ('to', 158), ('we', 131), ('a', 120), ('in', 119), ('that', 102), ('our', 90), ('it', 72), ('is', 67), ('have', 56), ('for', 47), ('not', 45), ('this', 41), ('be', 41), ('i', 40), ('by', 38), ('will', 36), ('as', 33)]\n",
      "\n",
      "Roosevelt's most frequent meanignful words: [('nation', 26), ('people', 26), ('government', 22), ('us', 20), ('shall', 20), ('democracy', 20), ('men', 18), ('must', 17), ('know', 16), ('life', 15), ('spirit', 15), ('upon', 13), ('national', 12), ('years', 12), ('may', 12), ('world', 12), ('every', 11), ('new', 11), ('states', 11), ('good', 11)]\n",
      "\n",
      "Roosevelt words similar to 'freedom': [('their', 0.9980757236480713), ('that', 0.9979607462882996), ('or', 0.9977210760116577), ('who', 0.9976893067359924), ('have', 0.9976819753646851), ('into', 0.9976814985275269), ('by', 0.997620165348053), ('a', 0.997618556022644), ('at', 0.9975979328155518), ('of', 0.9975970983505249), ('an', 0.9975830316543579), ('these', 0.9975546598434448), ('men', 0.9975457787513733), ('it', 0.9975324273109436), ('but', 0.9975190758705139), ('for', 0.9975135922431946), ('government', 0.9974961280822754), ('this', 0.9974904656410217), ('has', 0.9974780082702637), ('must', 0.9974685311317444)]\n"
     ]
    }
   ],
   "source": [
    "roosevelt_sentences = get_president_sentences(\"franklin-d-roosevelt\")\n",
    "roosevelt_most_freq_words = most_frequent_words(roosevelt_sentences)\n",
    "\n",
    "print(\"\\nRoosevelt's most frequent words:\", roosevelt_most_freq_words)\n",
    "print(\"\\nRoosevelt's most frequent meanignful words:\", most_frequent_meaningful_words(roosevelt_sentences))\n",
    "\n",
    "\n",
    "roosevelt_embeddings = train_word2vec_model(roosevelt_sentences, vector_size=96, window=5, min_count=1, workers=2)\n",
    "try:\n",
    "    roosevelt_similar_to_freedom = roosevelt_embeddings.wv.most_similar(\"freedom\", topn=20)\n",
    "    print(\"\\nRoosevelt words similar to 'freedom':\", roosevelt_similar_to_freedom)\n",
    "except KeyError:\n",
    "    print(\"\\nThe word 'freedom' was not found in Roosevelt's vocabulary.\")"
   ]
  },
  {
   "cell_type": "markdown",
   "id": "0b8e8403-2d50-468c-94d3-07808d708b73",
   "metadata": {},
   "source": [
    "#### Comparative analysis for a group of presidents"
   ]
  },
  {
   "cell_type": "code",
   "execution_count": 21,
   "id": "a7c566cc-3704-4a0f-96e3-5c209d224068",
   "metadata": {},
   "outputs": [
    {
     "name": "stdout",
     "output_type": "stream",
     "text": [
      "\n",
      "Most frequent words (Washington, Jefferson, Lincoln, Theodore Roosevelt): [('the', 399), ('of', 261), ('to', 200), ('and', 188), ('in', 104), ('be', 93), ('that', 84), ('a', 77), ('it', 74), ('i', 71), ('is', 64), ('by', 60), ('all', 55), ('not', 54), ('which', 44), ('as', 44), ('this', 43), ('or', 41), ('with', 40), ('will', 39)]\n",
      "\n",
      "Words similar to 'freedom' (group analysis): [('can', 0.9960426688194275), ('it', 0.9958017468452454), ('them', 0.995782196521759), ('while', 0.99571692943573), ('think', 0.9957135319709778), ('constitution', 0.9956380128860474), ('and', 0.9955600500106812), ('other', 0.9955339431762695), ('these', 0.9955189228057861), ('the', 0.9955078959465027), ('may', 0.9954887628555298), ('are', 0.9954823851585388), ('principle', 0.9954598546028137), ('as', 0.995421290397644), ('state', 0.9954193830490112), ('law', 0.9954063892364502), ('never', 0.9953933358192444), ('for', 0.9953758120536804), ('to', 0.9953690767288208), ('of', 0.9953680038452148)]\n"
     ]
    }
   ],
   "source": [
    "rushmore_prez_sentences = get_presidents_sentences([\"washington\", \"jefferson\", \"lincoln\", \"theodore-roosevelt\"])\n",
    "rushmore_most_freq_words = most_frequent_words(rushmore_prez_sentences)\n",
    "print(\"\\nMost frequent words (Washington, Jefferson, Lincoln, Theodore Roosevelt):\", rushmore_most_freq_words)\n",
    "rushmore_embeddings = train_word2vec_model(rushmore_prez_sentences, vector_size=96, window=5, min_count=1, workers=2)\n",
    "try:\n",
    "    rushmore_similar_to_freedom = rushmore_embeddings.wv.most_similar(\"freedom\", topn=20)\n",
    "    print(\"\\nWords similar to 'freedom' (group analysis):\", rushmore_similar_to_freedom)\n",
    "except KeyError:\n",
    "    print(\"\\nThe word 'freedom' was not found in the group vocabulary.\")"
   ]
  },
  {
   "cell_type": "markdown",
   "id": "b7ef609d-8d78-442f-b85d-557165510b9a",
   "metadata": {},
   "source": [
    "#### Sentiment Analysis for all speeches"
   ]
  },
  {
   "cell_type": "code",
   "execution_count": 22,
   "id": "16508897-e50f-4566-81e4-6859091659c3",
   "metadata": {},
   "outputs": [
    {
     "name": "stdout",
     "output_type": "stream",
     "text": [
      "\n",
      "Overall sentiment scores for all speeches collected here: {'neg': 0.082, 'neu': 0.7484285714285714, 'pos': 0.16985714285714287, 'compound': 0.9381999999999999}\n"
     ]
    }
   ],
   "source": [
    "overall_sentiment = analyze_sentiment(all_sentences)\n",
    "print(\"\\nOverall sentiment scores for all speeches collected here:\", overall_sentiment)"
   ]
  },
  {
   "cell_type": "markdown",
   "id": "3e26c381-b093-40eb-8140-6b7defcdc1d8",
   "metadata": {},
   "source": [
    "#### Sentiment Analysis for Roosvelt speeches"
   ]
  },
  {
   "cell_type": "code",
   "execution_count": 23,
   "id": "4bd4292a-89e0-4f8f-8f9a-3a0e3700fd24",
   "metadata": {},
   "outputs": [
    {
     "name": "stdout",
     "output_type": "stream",
     "text": [
      "\n",
      "Overall sentiment scores for Roosvelts speeches: {'neg': 0.08375, 'neu': 0.72875, 'pos': 0.188, 'compound': 0.999125}\n"
     ]
    }
   ],
   "source": [
    "# Step 9: Sentiment Analysis for all speeches\n",
    "overall_sentiment = analyze_sentiment(roosevelt_sentences)\n",
    "print(\"\\nOverall sentiment scores for Roosvelts speeches:\", overall_sentiment)"
   ]
  },
  {
   "cell_type": "markdown",
   "id": "e3b15b32-7e25-442f-9767-1d0ae70fe2e3",
   "metadata": {},
   "source": [
    "#### Bonus: Caluclating and ploting average lenght of speeches"
   ]
  },
  {
   "cell_type": "code",
   "execution_count": 25,
   "id": "093e0a05-1939-45d5-83bd-e9f326af32fa",
   "metadata": {},
   "outputs": [
    {
     "name": "stdout",
     "output_type": "stream",
     "text": [
      "\n",
      "Plotting sentence length distribution...\n",
      "Average sentence length: 1581.43 words\n"
     ]
    },
    {
     "data": {
      "image/png": "[encoded data removed]",
      "text/plain": [
       "<Figure size 1000x600 with 1 Axes>"
      ]
     },
     "metadata": {},
     "output_type": "display_data"
    }
   ],
   "source": [
    "# Calculates and returns the distribution of sentence lengths (in words)\n",
    "def sentence_length_distribution(sentences):\n",
    "    sentence_lengths = [len(sentence) for sentence in sentences]\n",
    "    return sentence_lengths\n",
    "\n",
    "# Plotting the sentence length distribution with enhanced features\n",
    "print(\"\\nPlotting sentence length distribution...\")\n",
    "\n",
    "# Get the sentence lengths\n",
    "sentence_lengths = sentence_length_distribution(all_sentences)\n",
    "\n",
    "# Calculate and print average sentence length\n",
    "average_length = np.mean(sentence_lengths)\n",
    "print(f\"Average sentence length: {average_length:.2f} words\")\n",
    "\n",
    "# Plot\n",
    "plt.figure(figsize=(10, 6))\n",
    "plt.hist(sentence_lengths, bins=30, color='skyblue', edgecolor='black')\n",
    "plt.axvline(average_length, color='red', linestyle='dashed', linewidth=2, label=f'Average: {average_length:.2f}')\n",
    "plt.title('Sentence Length Distribution', fontsize=16)\n",
    "plt.xlabel('Sentence Length (in words)', fontsize=12)\n",
    "plt.ylabel('Frequency', fontsize=12)\n",
    "plt.legend()\n",
    "plt.grid(True)\n",
    "plt.tight_layout()\n",
    "plt.show()"
   ]
  },
  {
   "cell_type": "markdown",
   "id": "8b5927bb-5b29-42df-bddc-850291bd07cc",
   "metadata": {
    "jp-MarkdownHeadingCollapsed": true
   },
   "source": [
    "## **Conclusion**\n",
    "At the end of the analysis, we extract major insights:\n",
    "\n",
    "### **1. Frequent Word Analysis:**  \n",
    "- The frequency distribution reveals recurring themes across presidential speeches.  \n",
    "- Key words such as **\"freedom\"** and **\"nation\"** appear prominently, indicating thematic importance of this historical figures\n",
    "\n",
    "### **2. Word Embedding Insights:**  \n",
    "- **Word2Vec** models provide context for key concepts.  \n",
    "- Similarity analyses (*e.g., words related to \"freedom\"*) help uncover semantic relationships.  \n",
    "\n",
    "### **3. Sentiment Analysis:**  \n",
    "- Overall sentiment analysis suggests the general emotional tone across speeches.  \n",
    "- Such insights can be linked to historical contexts or rhetorical strategies.  \n",
    "\n",
    "### **4. Statistical and Visual Analysis:**  \n",
    "- The **sentence length distribution** indicates variability in speech structure.  \n",
    "- **Average sentence length metrics** provide an overview of communication style.  \n",
    "\n",
    "---\n",
    "\n",
    "This structured analysis helps in understanding the linguistic and thematic evolution of presidential speeches over time."
   ]
  }
 ],
 "metadata": {
  "kernelspec": {
   "display_name": "Python 3 (ipykernel)",
   "language": "python",
   "name": "python3"
  },
  "language_info": {
   "codemirror_mode": {
    "name": "ipython",
    "version": 3
   },
   "file_extension": ".py",
   "mimetype": "text/x-python",
   "name": "python",
   "nbconvert_exporter": "python",
   "pygments_lexer": "ipython3",
   "version": "3.12.7"
  },
  "panel-cell-order": [
   "0a7a0d54-81d4-46f9-94c2-bf3f8ba482a0",
   "099ef4d1-3b0f-4db4-9a87-f4a6200ff74f",
   "b9c68c43-1329-4e26-a48e-33a2b82130bd",
   "b11cd0c9-994b-42e5-b629-72abd81cbc95",
   "f83e5e34-fc44-47b8-add9-616760e3aee0",
   "4aee1646-f91a-4452-a6cc-4ba46df84baf",
   "eee3f7dd-84a3-4029-bf92-6ec5126e565d",
   "05d8cc68-657f-40c4-962f-bd9f986afe3d",
   "b8d5bcd8-4e81-4707-811f-d4674b1cde4c",
   "cd717fa6-482a-4b53-bf65-235b5892114c",
   "5ae97798-f555-4ee4-b77c-ddfca237d665",
   "5e7ebe96-e8c5-49ff-b9ed-4823fab8de0c",
   "bcb8afb9-3155-4e34-97e7-132961432c54",
   "ff672153-42bd-4d71-ba6d-a49046aa2f76",
   "58e287a4-5b51-4e1e-b398-3a54890f67bc",
   "25794c1e-00e1-45e4-855d-cca6168512e8",
   "03016ea1-0c61-418b-a6b1-6242c2657278",
   "204eca12-c8ab-4bbb-a8fe-8bb0df2ada39",
   "21acce71-ff70-4147-94f9-d81ad3ab78e5",
   "3c7501c3-3a35-4924-a794-8bd1957738d0",
   "4ba3faf8-1e2e-48b9-820f-da711600b03d",
   "150b45b1-39c4-4fd2-af11-e7bd1a052af2",
   "330fb949-042d-410a-9170-b912c1a9a1d1",
   "b08f4ad4-5aeb-42de-9b91-9c6c2c5776ae",
   "23cb5739-f760-4711-8fe4-43183def03a3",
   "fd7105e4-c608-4471-b80d-3c5998005655",
   "873c3815-dc0b-4b48-a6e4-16aa2b00aed2",
   "a963be04-0b81-429f-92a9-b0853b3500f0",
   "c35ade5e-5f01-40f6-a4ca-4c174f6ecff2",
   "78c64ad4-24c7-457c-ab74-ab97a6e8b228"
  ]
 },
 "nbformat": 4,
 "nbformat_minor": 5
}
