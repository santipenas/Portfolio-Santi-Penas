{
 "cells": [
  {
   "cell_type": "markdown",
   "id": "303886f9-38ee-4dec-988d-848091c7e517",
   "metadata": {},
   "source": [
    "## Credit Card Fraud Detection with Logistic Regression: An Analytical and Predictive Approach\n",
    "\n",
    "### Introduction\n",
    "Credit card fraud is a significant problem that causes substantial financial losses annually. The goal of this project is to build a logistic regression model to detect fraudulent transactions. This notebook includes data exploration, preprocessing, model training, evaluation, and key insights.\n",
    "\n",
    "### Summary\n",
    "- This notebook successfully developed a logistic regression model to detect credit card fraud.\n",
    "- Exploratory Data Analysis (EDA) revealed key patterns and correlations in the dataset.\n",
    "- Data balancing using undersampling ensured the model was not biased towards the majority class.\n",
    "- The logistic regression model achieved good accuracy and was evaluated using metrics like the confusion matrix and ROC curve.\n",
    "\n",
    "\n",
    "### Workflow Process\n",
    "1. Load and inspect the dataset.\n",
    "2. Perform EDA to understand the data.\n",
    "3. Engineer features to enhance predictive power.\n",
    "4. Balance the dataset to address class imbalance.\n",
    "5. Train a logistic regression model and evaluate its performance.\n",
    "6. Make predictions on new transactions to demonstrate the model's utility."
   ]
  },
  {
   "cell_type": "markdown",
   "id": "21bb013b-d826-4afd-9822-43f382befeaa",
   "metadata": {},
   "source": [
    "**Libraries importation**"
   ]
  },
  {
   "cell_type": "code",
   "execution_count": 1,
   "id": "8270cbff-1188-47d5-a01d-e0e823cb5b2b",
   "metadata": {},
   "outputs": [],
   "source": [
    "import seaborn as sns\n",
    "import pandas as pd\n",
    "import numpy as np\n",
    "import matplotlib.pyplot as plt\n",
    "from sklearn.linear_model import LogisticRegression\n",
    "from sklearn.model_selection import train_test_split\n",
    "from sklearn.preprocessing import StandardScaler\n",
    "from sklearn.metrics import classification_report, confusion_matrix, roc_curve, auc"
   ]
  },
  {
   "cell_type": "markdown",
   "id": "99cfd03b-1539-4e8c-a3d2-dd4c2897c38a",
   "metadata": {},
   "source": [
    "**Load the data**\n"
   ]
  },
  {
   "cell_type": "code",
   "execution_count": 2,
   "id": "7a009464-266c-4b8f-b1e5-ea0a958f42e8",
   "metadata": {},
   "outputs": [],
   "source": [
    "transactions = pd.read_csv('transactions_modified.csv')"
   ]
  },
  {
   "cell_type": "markdown",
   "id": "285bfda4-3bac-4159-b576-a714c3a2692e",
   "metadata": {},
   "source": [
    "**Exploratory Data Analysis**"
   ]
  },
  {
   "cell_type": "markdown",
   "id": "8cdebf97-84ed-44cc-ad0a-ff4c882e8ab9",
   "metadata": {},
   "source": [
    "- Basic structure and summary of the Pandas dataframe"
   ]
  },
  {
   "cell_type": "code",
   "execution_count": 3,
   "id": "64642afc-d1c8-47e4-8145-4ce529c6b6f1",
   "metadata": {},
   "outputs": [
    {
     "name": "stdout",
     "output_type": "stream",
     "text": [
      "\n",
      "Dataset Info:\n",
      "<class 'pandas.core.frame.DataFrame'>\n",
      "RangeIndex: 1000 entries, 0 to 999\n",
      "Data columns (total 13 columns):\n",
      " #   Column          Non-Null Count  Dtype  \n",
      "---  ------          --------------  -----  \n",
      " 0   step            1000 non-null   int64  \n",
      " 1   type            1000 non-null   object \n",
      " 2   amount          1000 non-null   float64\n",
      " 3   nameOrig        1000 non-null   object \n",
      " 4   oldbalanceOrg   1000 non-null   float64\n",
      " 5   newbalanceOrig  1000 non-null   float64\n",
      " 6   nameDest        1000 non-null   object \n",
      " 7   oldbalanceDest  1000 non-null   float64\n",
      " 8   newbalanceDest  1000 non-null   float64\n",
      " 9   isFraud         1000 non-null   int64  \n",
      " 10  isPayment       1000 non-null   int64  \n",
      " 11  isMovement      1000 non-null   int64  \n",
      " 12  accountDiff     1000 non-null   float64\n",
      "dtypes: float64(6), int64(4), object(3)\n",
      "memory usage: 101.7+ KB\n",
      "None\n",
      "\n",
      "Summary Statistics:\n",
      "              step        amount  oldbalanceOrg  newbalanceOrig  \\\n",
      "count  1000.000000  1.000000e+03   1.000000e+03    1.000000e+03   \n",
      "mean    280.664000  5.373080e+05   1.049284e+06    6.376146e+05   \n",
      "std     167.174593  1.423692e+06   3.226500e+06    2.717351e+06   \n",
      "min       1.000000  0.000000e+00   0.000000e+00    0.000000e+00   \n",
      "25%     164.000000  2.933705e+04   1.287500e+02    0.000000e+00   \n",
      "50%     261.000000  1.265305e+05   4.371400e+04    0.000000e+00   \n",
      "75%     373.250000  3.010378e+05   4.080914e+05    3.795663e+04   \n",
      "max     741.000000  1.000000e+07   5.039905e+07    4.039905e+07   \n",
      "\n",
      "       oldbalanceDest  newbalanceDest      isFraud    isPayment   isMovement  \\\n",
      "count    1.000000e+03    1.000000e+03  1000.000000  1000.000000  1000.000000   \n",
      "mean     1.028848e+06    1.302326e+06     0.282000     0.220000     0.605000   \n",
      "std      2.678541e+06    3.038042e+06     0.450198     0.414454     0.489095   \n",
      "min      0.000000e+00    0.000000e+00     0.000000     0.000000     0.000000   \n",
      "25%      0.000000e+00    0.000000e+00     0.000000     0.000000     0.000000   \n",
      "50%      3.881927e+04    1.956572e+05     0.000000     0.000000     1.000000   \n",
      "75%      7.747167e+05    1.185959e+06     1.000000     0.000000     1.000000   \n",
      "max      3.085651e+07    3.183962e+07     1.000000     1.000000     1.000000   \n",
      "\n",
      "        accountDiff  \n",
      "count  1.000000e+03  \n",
      "mean   1.744828e+06  \n",
      "std    3.792962e+06  \n",
      "min    0.000000e+00  \n",
      "25%    4.273675e+04  \n",
      "50%    3.383816e+05  \n",
      "75%    1.759913e+06  \n",
      "max    5.039905e+07  \n"
     ]
    }
   ],
   "source": [
    "print(\"\\nDataset Info:\")\n",
    "print(transactions.info())\n",
    "print(\"\\nSummary Statistics:\")\n",
    "print(transactions.describe())"
   ]
  },
  {
   "cell_type": "markdown",
   "id": "9e5c4160-0814-4e65-807f-19b18cb4949d",
   "metadata": {},
   "source": [
    "- Plot Distribution of the *isFraud* variable\n"
   ]
  },
  {
   "cell_type": "code",
   "execution_count": 4,
   "id": "b9ffd657-a42c-4989-b667-339f45dba3b4",
   "metadata": {},
   "outputs": [
    {
     "data": {
      "image/png": "[encoded data removed]",
      "text/plain": [
       "<Figure size 640x480 with 1 Axes>"
      ]
     },
     "metadata": {},
     "output_type": "display_data"
    }
   ],
   "source": [
    "sns.countplot(x='isFraud', data=transactions, palette='plasma', hue=\"isFraud\")\n",
    "plt.title('Distribution of Fraudulent vs. Non-Fraudulent Transactions')\n",
    "plt.show()"
   ]
  },
  {
   "cell_type": "code",
   "execution_count": 5,
   "id": "7a62adc0-2c34-4e9a-a64a-92e96d42423c",
   "metadata": {},
   "outputs": [
    {
     "name": "stdout",
     "output_type": "stream",
     "text": [
      "\n",
      "The exactly number of fraudulent (1) and non-fraudulent (0) transaction are:\n",
      "isFraud\n",
      "0    718\n",
      "1    282\n",
      "Name: count, dtype: int64\n"
     ]
    }
   ],
   "source": [
    "print(\"\\nThe exactly number of fraudulent (1) and non-fraudulent (0) transaction are:\")\n",
    "print(transactions.isFraud.value_counts())"
   ]
  },
  {
   "cell_type": "markdown",
   "id": "5a3e40f1-8698-46ee-8b52-039c7bbe632f",
   "metadata": {},
   "source": [
    "- Distribution of transaction types\n"
   ]
  },
  {
   "cell_type": "code",
   "execution_count": 6,
   "id": "a6a985d8-7c5c-4cd7-afa7-0842ed60297d",
   "metadata": {},
   "outputs": [
    {
     "data": {
      "image/png": "[encoded data removed]",
      "text/plain": [
       "<Figure size 640x480 with 1 Axes>"
      ]
     },
     "metadata": {},
     "output_type": "display_data"
    }
   ],
   "source": [
    "sns.countplot(x='type', data=transactions, palette='plasma', order=transactions['type'].value_counts().index, hue=\"type\")\n",
    "plt.title('Distribution of Transaction Types')\n",
    "plt.show()"
   ]
  },
  {
   "cell_type": "code",
   "execution_count": 7,
   "id": "8d775785-a118-41af-ba20-a5d4608a5bfe",
   "metadata": {},
   "outputs": [
    {
     "name": "stdout",
     "output_type": "stream",
     "text": [
      "\n",
      "The exact number of transactions for each type is:\n",
      "type\n",
      "CASH_OUT    400\n",
      "PAYMENT     214\n",
      "TRANSFER    205\n",
      "CASH_IN     175\n",
      "DEBIT         6\n",
      "Name: count, dtype: int64\n"
     ]
    }
   ],
   "source": [
    "print(\"\\nThe exact number of transactions for each type is:\")\n",
    "print(transactions.type.value_counts())"
   ]
  },
  {
   "cell_type": "markdown",
   "id": "4c02a62e-b77b-461f-a3de-a41a68270c71",
   "metadata": {},
   "source": [
    "**ETL: Extract, Transform and Load Data**"
   ]
  },
  {
   "cell_type": "markdown",
   "id": "d774ce8f-f581-4c3e-ba8e-4326f6719478",
   "metadata": {},
   "source": [
    "- Summary statistics on *amount* column, it will be important to focus on this column"
   ]
  },
  {
   "cell_type": "code",
   "execution_count": 8,
   "id": "47ff7a73-b006-4325-b3d1-82174ccbd471",
   "metadata": {},
   "outputs": [
    {
     "name": "stdout",
     "output_type": "stream",
     "text": [
      "count    1.000000e+03\n",
      "mean     5.373080e+05\n",
      "std      1.423692e+06\n",
      "min      0.000000e+00\n",
      "25%      2.933705e+04\n",
      "50%      1.265305e+05\n",
      "75%      3.010378e+05\n",
      "max      1.000000e+07\n",
      "Name: amount, dtype: float64\n"
     ]
    }
   ],
   "source": [
    "print(transactions.amount.describe())"
   ]
  },
  {
   "cell_type": "markdown",
   "id": "e4b80877-9a99-407e-ad1e-68c153522629",
   "metadata": {},
   "source": [
    " - We will create a new columns and call it *isPayment*"
   ]
  },
  {
   "cell_type": "code",
   "execution_count": 9,
   "id": "35008c6d-a189-4756-875c-dc0abf3dc207",
   "metadata": {},
   "outputs": [],
   "source": [
    "transactions['isPayment'] = 0\n",
    "#transactions['isPayment'][transactions['type'].isin(['PAYMENT','DEBIT'])] = 1\n",
    "transactions.loc[transactions['type'].isin(['PAYMENT', 'DEBIT']), 'isPayment'] = 1"
   ]
  },
  {
   "cell_type": "markdown",
   "id": "6bf8fced-b6fc-4cb9-b4f4-ff4e99fe19fe",
   "metadata": {},
   "source": [
    "- We will create a new column and call it *isMovement*\n"
   ]
  },
  {
   "cell_type": "code",
   "execution_count": 10,
   "id": "0de47e11-5c34-4f16-961c-916325d62eba",
   "metadata": {},
   "outputs": [],
   "source": [
    "transactions['isMovement'] = 0\n",
    "# transactions['isMovement'][transactions['type'].isin(['CASH_OUT','TRANSFER'])] = 1\n",
    "transactions.loc[transactions['type'].isin(['CASH_OUT', 'TRANSFER']), 'isMovement'] = 1"
   ]
  },
  {
   "cell_type": "markdown",
   "id": "31b84c37-b173-4b5c-8db7-0710d70cb39f",
   "metadata": {},
   "source": [
    "- We will create a new columns and call it *accountDiff* and would be the difference between thw two former columns we just created"
   ]
  },
  {
   "cell_type": "code",
   "execution_count": 11,
   "id": "6787e869-cb99-4c96-a268-b0bf18c0e601",
   "metadata": {},
   "outputs": [],
   "source": [
    "# Create accountDiff field\n",
    "transactions['accountDiff'] = transactions.oldbalanceOrg - transactions.oldbalanceDest"
   ]
  },
  {
   "cell_type": "markdown",
   "id": "f86598da-8407-4a9e-ae56-122dd8939205",
   "metadata": {},
   "source": [
    "##### Print again the columns to confirm the new features created and display to see the values are correctly"
   ]
  },
  {
   "cell_type": "code",
   "execution_count": 12,
   "id": "4cd5c75d-1426-492f-bbad-6b3fcb5b0404",
   "metadata": {},
   "outputs": [
    {
     "name": "stdout",
     "output_type": "stream",
     "text": [
      "<bound method IndexOpsMixin.tolist of Index(['step', 'type', 'amount', 'nameOrig', 'oldbalanceOrg', 'newbalanceOrig',\n",
      "       'nameDest', 'oldbalanceDest', 'newbalanceDest', 'isFraud', 'isPayment',\n",
      "       'isMovement', 'accountDiff'],\n",
      "      dtype='object')>\n"
     ]
    },
    {
     "data": {
      "text/html": [
       "<div>\n",
       "<style scoped>\n",
       "    .dataframe tbody tr th:only-of-type {\n",
       "        vertical-align: middle;\n",
       "    }\n",
       "\n",
       "    .dataframe tbody tr th {\n",
       "        vertical-align: top;\n",
       "    }\n",
       "\n",
       "    .dataframe thead th {\n",
       "        text-align: right;\n",
       "    }\n",
       "</style>\n",
       "<table border=\"1\" class=\"dataframe\">\n",
       "  <thead>\n",
       "    <tr style=\"text-align: right;\">\n",
       "      <th></th>\n",
       "      <th>step</th>\n",
       "      <th>type</th>\n",
       "      <th>amount</th>\n",
       "      <th>nameOrig</th>\n",
       "      <th>oldbalanceOrg</th>\n",
       "      <th>newbalanceOrig</th>\n",
       "      <th>nameDest</th>\n",
       "      <th>oldbalanceDest</th>\n",
       "      <th>newbalanceDest</th>\n",
       "      <th>isFraud</th>\n",
       "      <th>isPayment</th>\n",
       "      <th>isMovement</th>\n",
       "      <th>accountDiff</th>\n",
       "    </tr>\n",
       "  </thead>\n",
       "  <tbody>\n",
       "    <tr>\n",
       "      <th>0</th>\n",
       "      <td>206</td>\n",
       "      <td>CASH_OUT</td>\n",
       "      <td>62927.08</td>\n",
       "      <td>C473782114</td>\n",
       "      <td>0.00</td>\n",
       "      <td>0.00</td>\n",
       "      <td>C2096898696</td>\n",
       "      <td>649420.67</td>\n",
       "      <td>712347.75</td>\n",
       "      <td>0</td>\n",
       "      <td>0</td>\n",
       "      <td>1</td>\n",
       "      <td>-649420.67</td>\n",
       "    </tr>\n",
       "    <tr>\n",
       "      <th>1</th>\n",
       "      <td>380</td>\n",
       "      <td>PAYMENT</td>\n",
       "      <td>32851.57</td>\n",
       "      <td>C1915112886</td>\n",
       "      <td>0.00</td>\n",
       "      <td>0.00</td>\n",
       "      <td>M916879292</td>\n",
       "      <td>0.00</td>\n",
       "      <td>0.00</td>\n",
       "      <td>0</td>\n",
       "      <td>1</td>\n",
       "      <td>0</td>\n",
       "      <td>0.00</td>\n",
       "    </tr>\n",
       "    <tr>\n",
       "      <th>2</th>\n",
       "      <td>570</td>\n",
       "      <td>CASH_OUT</td>\n",
       "      <td>1131750.38</td>\n",
       "      <td>C1396198422</td>\n",
       "      <td>1131750.38</td>\n",
       "      <td>0.00</td>\n",
       "      <td>C1612235515</td>\n",
       "      <td>313070.53</td>\n",
       "      <td>1444820.92</td>\n",
       "      <td>1</td>\n",
       "      <td>0</td>\n",
       "      <td>1</td>\n",
       "      <td>818679.85</td>\n",
       "    </tr>\n",
       "    <tr>\n",
       "      <th>3</th>\n",
       "      <td>184</td>\n",
       "      <td>CASH_OUT</td>\n",
       "      <td>60519.74</td>\n",
       "      <td>C982551468</td>\n",
       "      <td>60519.74</td>\n",
       "      <td>0.00</td>\n",
       "      <td>C1378644910</td>\n",
       "      <td>54295.32</td>\n",
       "      <td>182654.50</td>\n",
       "      <td>1</td>\n",
       "      <td>0</td>\n",
       "      <td>1</td>\n",
       "      <td>6224.42</td>\n",
       "    </tr>\n",
       "    <tr>\n",
       "      <th>4</th>\n",
       "      <td>162</td>\n",
       "      <td>CASH_IN</td>\n",
       "      <td>46716.01</td>\n",
       "      <td>C1759889425</td>\n",
       "      <td>7668050.60</td>\n",
       "      <td>7714766.61</td>\n",
       "      <td>C2059152908</td>\n",
       "      <td>2125468.75</td>\n",
       "      <td>2078752.75</td>\n",
       "      <td>0</td>\n",
       "      <td>0</td>\n",
       "      <td>0</td>\n",
       "      <td>5542581.85</td>\n",
       "    </tr>\n",
       "    <tr>\n",
       "      <th>...</th>\n",
       "      <td>...</td>\n",
       "      <td>...</td>\n",
       "      <td>...</td>\n",
       "      <td>...</td>\n",
       "      <td>...</td>\n",
       "      <td>...</td>\n",
       "      <td>...</td>\n",
       "      <td>...</td>\n",
       "      <td>...</td>\n",
       "      <td>...</td>\n",
       "      <td>...</td>\n",
       "      <td>...</td>\n",
       "      <td>...</td>\n",
       "    </tr>\n",
       "    <tr>\n",
       "      <th>995</th>\n",
       "      <td>298</td>\n",
       "      <td>CASH_OUT</td>\n",
       "      <td>173833.78</td>\n",
       "      <td>C1112634506</td>\n",
       "      <td>16302.00</td>\n",
       "      <td>0.00</td>\n",
       "      <td>C996800768</td>\n",
       "      <td>316909.31</td>\n",
       "      <td>490743.09</td>\n",
       "      <td>0</td>\n",
       "      <td>0</td>\n",
       "      <td>1</td>\n",
       "      <td>-300607.31</td>\n",
       "    </tr>\n",
       "    <tr>\n",
       "      <th>996</th>\n",
       "      <td>58</td>\n",
       "      <td>TRANSFER</td>\n",
       "      <td>561948.38</td>\n",
       "      <td>C856217790</td>\n",
       "      <td>561948.38</td>\n",
       "      <td>0.00</td>\n",
       "      <td>C1278181974</td>\n",
       "      <td>0.00</td>\n",
       "      <td>0.00</td>\n",
       "      <td>1</td>\n",
       "      <td>0</td>\n",
       "      <td>1</td>\n",
       "      <td>561948.38</td>\n",
       "    </tr>\n",
       "    <tr>\n",
       "      <th>997</th>\n",
       "      <td>72</td>\n",
       "      <td>CASH_OUT</td>\n",
       "      <td>622235.32</td>\n",
       "      <td>C615309889</td>\n",
       "      <td>622235.32</td>\n",
       "      <td>0.00</td>\n",
       "      <td>C755984599</td>\n",
       "      <td>3377968.96</td>\n",
       "      <td>4000204.28</td>\n",
       "      <td>1</td>\n",
       "      <td>0</td>\n",
       "      <td>1</td>\n",
       "      <td>-2755733.64</td>\n",
       "    </tr>\n",
       "    <tr>\n",
       "      <th>998</th>\n",
       "      <td>178</td>\n",
       "      <td>CASH_OUT</td>\n",
       "      <td>119604.13</td>\n",
       "      <td>C42162938</td>\n",
       "      <td>30678.00</td>\n",
       "      <td>0.00</td>\n",
       "      <td>C540527919</td>\n",
       "      <td>22457787.17</td>\n",
       "      <td>22577391.30</td>\n",
       "      <td>0</td>\n",
       "      <td>0</td>\n",
       "      <td>1</td>\n",
       "      <td>-22427109.17</td>\n",
       "    </tr>\n",
       "    <tr>\n",
       "      <th>999</th>\n",
       "      <td>84</td>\n",
       "      <td>TRANSFER</td>\n",
       "      <td>152331.26</td>\n",
       "      <td>C397720555</td>\n",
       "      <td>152331.26</td>\n",
       "      <td>0.00</td>\n",
       "      <td>C1006668962</td>\n",
       "      <td>0.00</td>\n",
       "      <td>0.00</td>\n",
       "      <td>1</td>\n",
       "      <td>0</td>\n",
       "      <td>1</td>\n",
       "      <td>152331.26</td>\n",
       "    </tr>\n",
       "  </tbody>\n",
       "</table>\n",
       "<p>1000 rows × 13 columns</p>\n",
       "</div>"
      ],
      "text/plain": [
       "     step      type      amount     nameOrig  oldbalanceOrg  newbalanceOrig  \\\n",
       "0     206  CASH_OUT    62927.08   C473782114           0.00            0.00   \n",
       "1     380   PAYMENT    32851.57  C1915112886           0.00            0.00   \n",
       "2     570  CASH_OUT  1131750.38  C1396198422     1131750.38            0.00   \n",
       "3     184  CASH_OUT    60519.74   C982551468       60519.74            0.00   \n",
       "4     162   CASH_IN    46716.01  C1759889425     7668050.60      7714766.61   \n",
       "..    ...       ...         ...          ...            ...             ...   \n",
       "995   298  CASH_OUT   173833.78  C1112634506       16302.00            0.00   \n",
       "996    58  TRANSFER   561948.38   C856217790      561948.38            0.00   \n",
       "997    72  CASH_OUT   622235.32   C615309889      622235.32            0.00   \n",
       "998   178  CASH_OUT   119604.13    C42162938       30678.00            0.00   \n",
       "999    84  TRANSFER   152331.26   C397720555      152331.26            0.00   \n",
       "\n",
       "        nameDest  oldbalanceDest  newbalanceDest  isFraud  isPayment  \\\n",
       "0    C2096898696       649420.67       712347.75        0          0   \n",
       "1     M916879292            0.00            0.00        0          1   \n",
       "2    C1612235515       313070.53      1444820.92        1          0   \n",
       "3    C1378644910        54295.32       182654.50        1          0   \n",
       "4    C2059152908      2125468.75      2078752.75        0          0   \n",
       "..           ...             ...             ...      ...        ...   \n",
       "995   C996800768       316909.31       490743.09        0          0   \n",
       "996  C1278181974            0.00            0.00        1          0   \n",
       "997   C755984599      3377968.96      4000204.28        1          0   \n",
       "998   C540527919     22457787.17     22577391.30        0          0   \n",
       "999  C1006668962            0.00            0.00        1          0   \n",
       "\n",
       "     isMovement  accountDiff  \n",
       "0             1   -649420.67  \n",
       "1             0         0.00  \n",
       "2             1    818679.85  \n",
       "3             1      6224.42  \n",
       "4             0   5542581.85  \n",
       "..          ...          ...  \n",
       "995           1   -300607.31  \n",
       "996           1    561948.38  \n",
       "997           1  -2755733.64  \n",
       "998           1 -22427109.17  \n",
       "999           1    152331.26  \n",
       "\n",
       "[1000 rows x 13 columns]"
      ]
     },
     "metadata": {},
     "output_type": "display_data"
    }
   ],
   "source": [
    "print(transactions.columns.to_list)\n",
    "display(transactions)"
   ]
  },
  {
   "cell_type": "markdown",
   "id": "89220da2-f3a9-4f21-bc03-cdbaa919d36a",
   "metadata": {},
   "source": [
    "*Note*: In this project, we aim to focus on the core concepts and processes of machine learning, specifically using logistic regression for fraud detection. To maintain simplicity and clarity at this stage, we deliberately chose not to balance the dataset. This decision ensures our primary focus remains on understanding and demonstrating the logistic regression workflow, without introducing additional complexities from data balancing.\n",
    "\n",
    "However, in real-world applications, balancing the dataset is a critical step to address class imbalances and improve the model's robustness. For reference, we have included commented code below to illustrate how data balancing can be achieved. This highlights the process's simplicity while allowing us to prioritize our current focus on the logistic regression pipeline."
   ]
  },
  {
   "cell_type": "code",
   "execution_count": 13,
   "id": "2f31c3ed-15f2-440d-adca-986f8e251592",
   "metadata": {},
   "outputs": [],
   "source": [
    "# Handling imbalance using undersampling (can also try SMOTE later)\n",
    "#fraud = transactions[transactions['isFraud'] == 1]\n",
    "#non_fraud = transactions[transactions['isFraud'] == 0].sample(len(fraud))\n",
    "#balanced_data = pd.concat([fraud, non_fraud])\n",
    "\n",
    "# Distribution after balancing to plot\n",
    "#sns.countplot(x='isFraud', data=balanced_data, palette='viridis')\n",
    "#plt.title('Balanced Fraud vs. Non-Fraud Transactions')\n",
    "#plt.show()"
   ]
  },
  {
   "cell_type": "markdown",
   "id": "d93429f8-74a2-4392-ba82-fc2edd0afe20",
   "metadata": {},
   "source": [
    "**Model Preparation for the Logistic Regression**\n",
    "\n",
    "- We wil first create features and label variables\n"
   ]
  },
  {
   "cell_type": "code",
   "execution_count": 14,
   "id": "10e148a3-66f2-43fb-9c9f-3f2a9863331e",
   "metadata": {},
   "outputs": [],
   "source": [
    "features = transactions[['amount', 'isPayment', 'isMovement', 'accountDiff']]\n",
    "label = transactions['isFraud']"
   ]
  },
  {
   "cell_type": "markdown",
   "id": "f22a60c8-4205-4466-b5d1-ec1dc08480ae",
   "metadata": {},
   "source": [
    "- Train-test split\n"
   ]
  },
  {
   "cell_type": "code",
   "execution_count": 15,
   "id": "169160b7-f9ae-4837-97d6-b099c7bd03e7",
   "metadata": {},
   "outputs": [],
   "source": [
    "X_train, X_test, y_train, y_test = train_test_split(features, label, test_size=0.3)"
   ]
  },
  {
   "cell_type": "markdown",
   "id": "6341b484-333a-4e03-928f-d07adb8fe95f",
   "metadata": {},
   "source": [
    "- Normalize the features"
   ]
  },
  {
   "cell_type": "code",
   "execution_count": 16,
   "id": "a1799eaa-659c-4b20-a3e0-ae208b97b562",
   "metadata": {},
   "outputs": [],
   "source": [
    "scaler = StandardScaler()\n",
    "X_train = scaler.fit_transform(X_train)\n",
    "X_test = scaler.transform(X_test)"
   ]
  },
  {
   "cell_type": "markdown",
   "id": "c1eb7205-2f88-4409-8efd-af619e1ab767",
   "metadata": {},
   "source": [
    "**Model Training**\n"
   ]
  },
  {
   "cell_type": "markdown",
   "id": "89e83b39-df22-4f13-b272-67c2262c1099",
   "metadata": {},
   "source": [
    "- We create here the Model and fit the with the actual data"
   ]
  },
  {
   "cell_type": "code",
   "execution_count": 17,
   "id": "89dcffd0-b970-448c-83ba-a6a0f627378a",
   "metadata": {},
   "outputs": [
    {
     "data": {
      "text/html": [
       "<style>#sk-container-id-1 {\n",
       "  /* Definition of color scheme common for light and dark mode */\n",
       "  --sklearn-color-text: black;\n",
       "  --sklearn-color-line: gray;\n",
       "  /* Definition of color scheme for unfitted estimators */\n",
       "  --sklearn-color-unfitted-level-0: #fff5e6;\n",
       "  --sklearn-color-unfitted-level-1: #f6e4d2;\n",
       "  --sklearn-color-unfitted-level-2: #ffe0b3;\n",
       "  --sklearn-color-unfitted-level-3: chocolate;\n",
       "  /* Definition of color scheme for fitted estimators */\n",
       "  --sklearn-color-fitted-level-0: #f0f8ff;\n",
       "  --sklearn-color-fitted-level-1: #d4ebff;\n",
       "  --sklearn-color-fitted-level-2: #b3dbfd;\n",
       "  --sklearn-color-fitted-level-3: cornflowerblue;\n",
       "\n",
       "  /* Specific color for light theme */\n",
       "  --sklearn-color-text-on-default-background: var(--sg-text-color, var(--theme-code-foreground, var(--jp-content-font-color1, black)));\n",
       "  --sklearn-color-background: var(--sg-background-color, var(--theme-background, var(--jp-layout-color0, white)));\n",
       "  --sklearn-color-border-box: var(--sg-text-color, var(--theme-code-foreground, var(--jp-content-font-color1, black)));\n",
       "  --sklearn-color-icon: #696969;\n",
       "\n",
       "  @media (prefers-color-scheme: dark) {\n",
       "    /* Redefinition of color scheme for dark theme */\n",
       "    --sklearn-color-text-on-default-background: var(--sg-text-color, var(--theme-code-foreground, var(--jp-content-font-color1, white)));\n",
       "    --sklearn-color-background: var(--sg-background-color, var(--theme-background, var(--jp-layout-color0, #111)));\n",
       "    --sklearn-color-border-box: var(--sg-text-color, var(--theme-code-foreground, var(--jp-content-font-color1, white)));\n",
       "    --sklearn-color-icon: #878787;\n",
       "  }\n",
       "}\n",
       "\n",
       "#sk-container-id-1 {\n",
       "  color: var(--sklearn-color-text);\n",
       "}\n",
       "\n",
       "#sk-container-id-1 pre {\n",
       "  padding: 0;\n",
       "}\n",
       "\n",
       "#sk-container-id-1 input.sk-hidden--visually {\n",
       "  border: 0;\n",
       "  clip: rect(1px 1px 1px 1px);\n",
       "  clip: rect(1px, 1px, 1px, 1px);\n",
       "  height: 1px;\n",
       "  margin: -1px;\n",
       "  overflow: hidden;\n",
       "  padding: 0;\n",
       "  position: absolute;\n",
       "  width: 1px;\n",
       "}\n",
       "\n",
       "#sk-container-id-1 div.sk-dashed-wrapped {\n",
       "  border: 1px dashed var(--sklearn-color-line);\n",
       "  margin: 0 0.4em 0.5em 0.4em;\n",
       "  box-sizing: border-box;\n",
       "  padding-bottom: 0.4em;\n",
       "  background-color: var(--sklearn-color-background);\n",
       "}\n",
       "\n",
       "#sk-container-id-1 div.sk-container {\n",
       "  /* jupyter's `normalize.less` sets `[hidden] { display: none; }`\n",
       "     but bootstrap.min.css set `[hidden] { display: none !important; }`\n",
       "     so we also need the `!important` here to be able to override the\n",
       "     default hidden behavior on the sphinx rendered scikit-learn.org.\n",
       "     See: https://github.com/scikit-learn/scikit-learn/issues/21755 */\n",
       "  display: inline-block !important;\n",
       "  position: relative;\n",
       "}\n",
       "\n",
       "#sk-container-id-1 div.sk-text-repr-fallback {\n",
       "  display: none;\n",
       "}\n",
       "\n",
       "div.sk-parallel-item,\n",
       "div.sk-serial,\n",
       "div.sk-item {\n",
       "  /* draw centered vertical line to link estimators */\n",
       "  background-image: linear-gradient(var(--sklearn-color-text-on-default-background), var(--sklearn-color-text-on-default-background));\n",
       "  background-size: 2px 100%;\n",
       "  background-repeat: no-repeat;\n",
       "  background-position: center center;\n",
       "}\n",
       "\n",
       "/* Parallel-specific style estimator block */\n",
       "\n",
       "#sk-container-id-1 div.sk-parallel-item::after {\n",
       "  content: \"\";\n",
       "  width: 100%;\n",
       "  border-bottom: 2px solid var(--sklearn-color-text-on-default-background);\n",
       "  flex-grow: 1;\n",
       "}\n",
       "\n",
       "#sk-container-id-1 div.sk-parallel {\n",
       "  display: flex;\n",
       "  align-items: stretch;\n",
       "  justify-content: center;\n",
       "  background-color: var(--sklearn-color-background);\n",
       "  position: relative;\n",
       "}\n",
       "\n",
       "#sk-container-id-1 div.sk-parallel-item {\n",
       "  display: flex;\n",
       "  flex-direction: column;\n",
       "}\n",
       "\n",
       "#sk-container-id-1 div.sk-parallel-item:first-child::after {\n",
       "  align-self: flex-end;\n",
       "  width: 50%;\n",
       "}\n",
       "\n",
       "#sk-container-id-1 div.sk-parallel-item:last-child::after {\n",
       "  align-self: flex-start;\n",
       "  width: 50%;\n",
       "}\n",
       "\n",
       "#sk-container-id-1 div.sk-parallel-item:only-child::after {\n",
       "  width: 0;\n",
       "}\n",
       "\n",
       "/* Serial-specific style estimator block */\n",
       "\n",
       "#sk-container-id-1 div.sk-serial {\n",
       "  display: flex;\n",
       "  flex-direction: column;\n",
       "  align-items: center;\n",
       "  background-color: var(--sklearn-color-background);\n",
       "  padding-right: 1em;\n",
       "  padding-left: 1em;\n",
       "}\n",
       "\n",
       "\n",
       "/* Toggleable style: style used for estimator/Pipeline/ColumnTransformer box that is\n",
       "clickable and can be expanded/collapsed.\n",
       "- Pipeline and ColumnTransformer use this feature and define the default style\n",
       "- Estimators will overwrite some part of the style using the `sk-estimator` class\n",
       "*/\n",
       "\n",
       "/* Pipeline and ColumnTransformer style (default) */\n",
       "\n",
       "#sk-container-id-1 div.sk-toggleable {\n",
       "  /* Default theme specific background. It is overwritten whether we have a\n",
       "  specific estimator or a Pipeline/ColumnTransformer */\n",
       "  background-color: var(--sklearn-color-background);\n",
       "}\n",
       "\n",
       "/* Toggleable label */\n",
       "#sk-container-id-1 label.sk-toggleable__label {\n",
       "  cursor: pointer;\n",
       "  display: block;\n",
       "  width: 100%;\n",
       "  margin-bottom: 0;\n",
       "  padding: 0.5em;\n",
       "  box-sizing: border-box;\n",
       "  text-align: center;\n",
       "}\n",
       "\n",
       "#sk-container-id-1 label.sk-toggleable__label-arrow:before {\n",
       "  /* Arrow on the left of the label */\n",
       "  content: \"▸\";\n",
       "  float: left;\n",
       "  margin-right: 0.25em;\n",
       "  color: var(--sklearn-color-icon);\n",
       "}\n",
       "\n",
       "#sk-container-id-1 label.sk-toggleable__label-arrow:hover:before {\n",
       "  color: var(--sklearn-color-text);\n",
       "}\n",
       "\n",
       "/* Toggleable content - dropdown */\n",
       "\n",
       "#sk-container-id-1 div.sk-toggleable__content {\n",
       "  max-height: 0;\n",
       "  max-width: 0;\n",
       "  overflow: hidden;\n",
       "  text-align: left;\n",
       "  /* unfitted */\n",
       "  background-color: var(--sklearn-color-unfitted-level-0);\n",
       "}\n",
       "\n",
       "#sk-container-id-1 div.sk-toggleable__content.fitted {\n",
       "  /* fitted */\n",
       "  background-color: var(--sklearn-color-fitted-level-0);\n",
       "}\n",
       "\n",
       "#sk-container-id-1 div.sk-toggleable__content pre {\n",
       "  margin: 0.2em;\n",
       "  border-radius: 0.25em;\n",
       "  color: var(--sklearn-color-text);\n",
       "  /* unfitted */\n",
       "  background-color: var(--sklearn-color-unfitted-level-0);\n",
       "}\n",
       "\n",
       "#sk-container-id-1 div.sk-toggleable__content.fitted pre {\n",
       "  /* unfitted */\n",
       "  background-color: var(--sklearn-color-fitted-level-0);\n",
       "}\n",
       "\n",
       "#sk-container-id-1 input.sk-toggleable__control:checked~div.sk-toggleable__content {\n",
       "  /* Expand drop-down */\n",
       "  max-height: 200px;\n",
       "  max-width: 100%;\n",
       "  overflow: auto;\n",
       "}\n",
       "\n",
       "#sk-container-id-1 input.sk-toggleable__control:checked~label.sk-toggleable__label-arrow:before {\n",
       "  content: \"▾\";\n",
       "}\n",
       "\n",
       "/* Pipeline/ColumnTransformer-specific style */\n",
       "\n",
       "#sk-container-id-1 div.sk-label input.sk-toggleable__control:checked~label.sk-toggleable__label {\n",
       "  color: var(--sklearn-color-text);\n",
       "  background-color: var(--sklearn-color-unfitted-level-2);\n",
       "}\n",
       "\n",
       "#sk-container-id-1 div.sk-label.fitted input.sk-toggleable__control:checked~label.sk-toggleable__label {\n",
       "  background-color: var(--sklearn-color-fitted-level-2);\n",
       "}\n",
       "\n",
       "/* Estimator-specific style */\n",
       "\n",
       "/* Colorize estimator box */\n",
       "#sk-container-id-1 div.sk-estimator input.sk-toggleable__control:checked~label.sk-toggleable__label {\n",
       "  /* unfitted */\n",
       "  background-color: var(--sklearn-color-unfitted-level-2);\n",
       "}\n",
       "\n",
       "#sk-container-id-1 div.sk-estimator.fitted input.sk-toggleable__control:checked~label.sk-toggleable__label {\n",
       "  /* fitted */\n",
       "  background-color: var(--sklearn-color-fitted-level-2);\n",
       "}\n",
       "\n",
       "#sk-container-id-1 div.sk-label label.sk-toggleable__label,\n",
       "#sk-container-id-1 div.sk-label label {\n",
       "  /* The background is the default theme color */\n",
       "  color: var(--sklearn-color-text-on-default-background);\n",
       "}\n",
       "\n",
       "/* On hover, darken the color of the background */\n",
       "#sk-container-id-1 div.sk-label:hover label.sk-toggleable__label {\n",
       "  color: var(--sklearn-color-text);\n",
       "  background-color: var(--sklearn-color-unfitted-level-2);\n",
       "}\n",
       "\n",
       "/* Label box, darken color on hover, fitted */\n",
       "#sk-container-id-1 div.sk-label.fitted:hover label.sk-toggleable__label.fitted {\n",
       "  color: var(--sklearn-color-text);\n",
       "  background-color: var(--sklearn-color-fitted-level-2);\n",
       "}\n",
       "\n",
       "/* Estimator label */\n",
       "\n",
       "#sk-container-id-1 div.sk-label label {\n",
       "  font-family: monospace;\n",
       "  font-weight: bold;\n",
       "  display: inline-block;\n",
       "  line-height: 1.2em;\n",
       "}\n",
       "\n",
       "#sk-container-id-1 div.sk-label-container {\n",
       "  text-align: center;\n",
       "}\n",
       "\n",
       "/* Estimator-specific */\n",
       "#sk-container-id-1 div.sk-estimator {\n",
       "  font-family: monospace;\n",
       "  border: 1px dotted var(--sklearn-color-border-box);\n",
       "  border-radius: 0.25em;\n",
       "  box-sizing: border-box;\n",
       "  margin-bottom: 0.5em;\n",
       "  /* unfitted */\n",
       "  background-color: var(--sklearn-color-unfitted-level-0);\n",
       "}\n",
       "\n",
       "#sk-container-id-1 div.sk-estimator.fitted {\n",
       "  /* fitted */\n",
       "  background-color: var(--sklearn-color-fitted-level-0);\n",
       "}\n",
       "\n",
       "/* on hover */\n",
       "#sk-container-id-1 div.sk-estimator:hover {\n",
       "  /* unfitted */\n",
       "  background-color: var(--sklearn-color-unfitted-level-2);\n",
       "}\n",
       "\n",
       "#sk-container-id-1 div.sk-estimator.fitted:hover {\n",
       "  /* fitted */\n",
       "  background-color: var(--sklearn-color-fitted-level-2);\n",
       "}\n",
       "\n",
       "/* Specification for estimator info (e.g. \"i\" and \"?\") */\n",
       "\n",
       "/* Common style for \"i\" and \"?\" */\n",
       "\n",
       ".sk-estimator-doc-link,\n",
       "a:link.sk-estimator-doc-link,\n",
       "a:visited.sk-estimator-doc-link {\n",
       "  float: right;\n",
       "  font-size: smaller;\n",
       "  line-height: 1em;\n",
       "  font-family: monospace;\n",
       "  background-color: var(--sklearn-color-background);\n",
       "  border-radius: 1em;\n",
       "  height: 1em;\n",
       "  width: 1em;\n",
       "  text-decoration: none !important;\n",
       "  margin-left: 1ex;\n",
       "  /* unfitted */\n",
       "  border: var(--sklearn-color-unfitted-level-1) 1pt solid;\n",
       "  color: var(--sklearn-color-unfitted-level-1);\n",
       "}\n",
       "\n",
       ".sk-estimator-doc-link.fitted,\n",
       "a:link.sk-estimator-doc-link.fitted,\n",
       "a:visited.sk-estimator-doc-link.fitted {\n",
       "  /* fitted */\n",
       "  border: var(--sklearn-color-fitted-level-1) 1pt solid;\n",
       "  color: var(--sklearn-color-fitted-level-1);\n",
       "}\n",
       "\n",
       "/* On hover */\n",
       "div.sk-estimator:hover .sk-estimator-doc-link:hover,\n",
       ".sk-estimator-doc-link:hover,\n",
       "div.sk-label-container:hover .sk-estimator-doc-link:hover,\n",
       ".sk-estimator-doc-link:hover {\n",
       "  /* unfitted */\n",
       "  background-color: var(--sklearn-color-unfitted-level-3);\n",
       "  color: var(--sklearn-color-background);\n",
       "  text-decoration: none;\n",
       "}\n",
       "\n",
       "div.sk-estimator.fitted:hover .sk-estimator-doc-link.fitted:hover,\n",
       ".sk-estimator-doc-link.fitted:hover,\n",
       "div.sk-label-container:hover .sk-estimator-doc-link.fitted:hover,\n",
       ".sk-estimator-doc-link.fitted:hover {\n",
       "  /* fitted */\n",
       "  background-color: var(--sklearn-color-fitted-level-3);\n",
       "  color: var(--sklearn-color-background);\n",
       "  text-decoration: none;\n",
       "}\n",
       "\n",
       "/* Span, style for the box shown on hovering the info icon */\n",
       ".sk-estimator-doc-link span {\n",
       "  display: none;\n",
       "  z-index: 9999;\n",
       "  position: relative;\n",
       "  font-weight: normal;\n",
       "  right: .2ex;\n",
       "  padding: .5ex;\n",
       "  margin: .5ex;\n",
       "  width: min-content;\n",
       "  min-width: 20ex;\n",
       "  max-width: 50ex;\n",
       "  color: var(--sklearn-color-text);\n",
       "  box-shadow: 2pt 2pt 4pt #999;\n",
       "  /* unfitted */\n",
       "  background: var(--sklearn-color-unfitted-level-0);\n",
       "  border: .5pt solid var(--sklearn-color-unfitted-level-3);\n",
       "}\n",
       "\n",
       ".sk-estimator-doc-link.fitted span {\n",
       "  /* fitted */\n",
       "  background: var(--sklearn-color-fitted-level-0);\n",
       "  border: var(--sklearn-color-fitted-level-3);\n",
       "}\n",
       "\n",
       ".sk-estimator-doc-link:hover span {\n",
       "  display: block;\n",
       "}\n",
       "\n",
       "/* \"?\"-specific style due to the `<a>` HTML tag */\n",
       "\n",
       "#sk-container-id-1 a.estimator_doc_link {\n",
       "  float: right;\n",
       "  font-size: 1rem;\n",
       "  line-height: 1em;\n",
       "  font-family: monospace;\n",
       "  background-color: var(--sklearn-color-background);\n",
       "  border-radius: 1rem;\n",
       "  height: 1rem;\n",
       "  width: 1rem;\n",
       "  text-decoration: none;\n",
       "  /* unfitted */\n",
       "  color: var(--sklearn-color-unfitted-level-1);\n",
       "  border: var(--sklearn-color-unfitted-level-1) 1pt solid;\n",
       "}\n",
       "\n",
       "#sk-container-id-1 a.estimator_doc_link.fitted {\n",
       "  /* fitted */\n",
       "  border: var(--sklearn-color-fitted-level-1) 1pt solid;\n",
       "  color: var(--sklearn-color-fitted-level-1);\n",
       "}\n",
       "\n",
       "/* On hover */\n",
       "#sk-container-id-1 a.estimator_doc_link:hover {\n",
       "  /* unfitted */\n",
       "  background-color: var(--sklearn-color-unfitted-level-3);\n",
       "  color: var(--sklearn-color-background);\n",
       "  text-decoration: none;\n",
       "}\n",
       "\n",
       "#sk-container-id-1 a.estimator_doc_link.fitted:hover {\n",
       "  /* fitted */\n",
       "  background-color: var(--sklearn-color-fitted-level-3);\n",
       "}\n",
       "</style><div id=\"sk-container-id-1\" class=\"sk-top-container\"><div class=\"sk-text-repr-fallback\"><pre>LogisticRegression()</pre><b>In a Jupyter environment, please rerun this cell to show the HTML representation or trust the notebook. <br />On GitHub, the HTML representation is unable to render, please try loading this page with nbviewer.org.</b></div><div class=\"sk-container\" hidden><div class=\"sk-item\"><div class=\"sk-estimator fitted sk-toggleable\"><input class=\"sk-toggleable__control sk-hidden--visually\" id=\"sk-estimator-id-1\" type=\"checkbox\" checked><label for=\"sk-estimator-id-1\" class=\"sk-toggleable__label fitted sk-toggleable__label-arrow fitted\">&nbsp;&nbsp;LogisticRegression<a class=\"sk-estimator-doc-link fitted\" rel=\"noreferrer\" target=\"_blank\" href=\"https://scikit-learn.org/1.5/modules/generated/sklearn.linear_model.LogisticRegression.html\">?<span>Documentation for LogisticRegression</span></a><span class=\"sk-estimator-doc-link fitted\">i<span>Fitted</span></span></label><div class=\"sk-toggleable__content fitted\"><pre>LogisticRegression()</pre></div> </div></div></div></div>"
      ],
      "text/plain": [
       "LogisticRegression()"
      ]
     },
     "execution_count": 17,
     "metadata": {},
     "output_type": "execute_result"
    }
   ],
   "source": [
    "model = LogisticRegression()\n",
    "model.fit(X_train, y_train)"
   ]
  },
  {
   "cell_type": "markdown",
   "id": "c31e06b1-7e80-47cf-b6dd-a69572d56f18",
   "metadata": {},
   "source": [
    "**Model Evaluation**\n",
    "\n",
    "- Training and test scores of both training and test data and print the results"
   ]
  },
  {
   "cell_type": "code",
   "execution_count": 18,
   "id": "889793eb-74c6-4fb7-84f7-9450fa00e7b9",
   "metadata": {},
   "outputs": [
    {
     "name": "stdout",
     "output_type": "stream",
     "text": [
      "\n",
      "Training Data Score Model\n",
      "0.86\n",
      "\n",
      "Test Data Score Model\n",
      "0.8366666666666667\n"
     ]
    }
   ],
   "source": [
    "print(f\"\\nTraining Data Score Model\")\n",
    "print(model.score(X_train, y_train))\n",
    "\n",
    "print(f\"\\nTest Data Score Model\")\n",
    "print(model.score(X_test, y_test))"
   ]
  },
  {
   "cell_type": "markdown",
   "id": "b695474e-3a15-4006-a622-51d909f133f7",
   "metadata": {},
   "source": [
    "- Model Coeficients"
   ]
  },
  {
   "cell_type": "code",
   "execution_count": 19,
   "id": "a06f20f9-d52c-4ef3-bc6f-67d0cb97b529",
   "metadata": {},
   "outputs": [
    {
     "name": "stdout",
     "output_type": "stream",
     "text": [
      "\n",
      "Model Coeficients are\n",
      "[[ 2.27818135 -0.25782281  2.98233094  0.99292337]]\n"
     ]
    }
   ],
   "source": [
    "print(f\"\\nModel Coeficients are\")\n",
    "print(model.coef_)"
   ]
  },
  {
   "cell_type": "code",
   "execution_count": 20,
   "id": "eff7a6f8-90af-4b48-8fd7-24f6716a9779",
   "metadata": {},
   "outputs": [
    {
     "name": "stdout",
     "output_type": "stream",
     "text": [
      "\n",
      "Classification Report:\n",
      "              precision    recall  f1-score   support\n",
      "\n",
      "           0       0.83      0.96      0.89       213\n",
      "           1       0.85      0.53      0.65        87\n",
      "\n",
      "    accuracy                           0.84       300\n",
      "   macro avg       0.84      0.75      0.77       300\n",
      "weighted avg       0.84      0.84      0.82       300\n",
      "\n"
     ]
    }
   ],
   "source": [
    "y_pred = model.predict(X_test)\n",
    "print(\"\\nClassification Report:\")\n",
    "print(classification_report(y_test, y_pred))"
   ]
  },
  {
   "cell_type": "code",
   "execution_count": 21,
   "id": "37ff0f12-5892-4393-878b-dc25f1189d2a",
   "metadata": {},
   "outputs": [
    {
     "data": {
      "image/png": "[encoded data removed]",
      "text/plain": [
       "<Figure size 640x480 with 2 Axes>"
      ]
     },
     "metadata": {},
     "output_type": "display_data"
    }
   ],
   "source": [
    "cm = confusion_matrix(y_test, y_pred)\n",
    "sns.heatmap(cm, annot=True, fmt='d', cmap='Blues')\n",
    "plt.title('Confusion Matrix')\n",
    "plt.xlabel('Predicted')\n",
    "plt.ylabel('Actual')\n",
    "plt.show()"
   ]
  },
  {
   "cell_type": "markdown",
   "id": "a0f9a223-c56f-442f-80c4-ab04657a13c9",
   "metadata": {},
   "source": [
    "- ROC curve and AUC Value"
   ]
  },
  {
   "cell_type": "code",
   "execution_count": 22,
   "id": "d6fb5150-4414-4a11-96c1-f57053eb4d68",
   "metadata": {},
   "outputs": [
    {
     "data": {
      "image/png": "[encoded data removed]",
      "text/plain": [
       "<Figure size 640x480 with 1 Axes>"
      ]
     },
     "metadata": {},
     "output_type": "display_data"
    }
   ],
   "source": [
    "y_pred_prob = model.predict_proba(X_test)[:, 1]\n",
    "fpr, tpr, thresholds = roc_curve(y_test, y_pred_prob)\n",
    "roc_auc = auc(fpr, tpr)\n",
    "\n",
    "plt.plot(fpr, tpr, label=f'AUC = {roc_auc:.2f}')\n",
    "plt.plot([0, 1], [0, 1], 'k--')\n",
    "plt.xlabel('False Positive Rate')\n",
    "plt.ylabel('True Positive Rate')\n",
    "plt.title('ROC Curve')\n",
    "plt.legend(loc='lower right')\n",
    "plt.show()"
   ]
  },
  {
   "cell_type": "markdown",
   "id": "62bfa4d9-1c22-4722-98fd-e4bbb2502ba6",
   "metadata": {},
   "source": [
    "#### Predictions on New Data"
   ]
  },
  {
   "cell_type": "markdown",
   "id": "142ecca5-5640-4ac4-9764-bb00e42bfac1",
   "metadata": {},
   "source": [
    "- We add different numpy arrays simulating new upcoming transactions"
   ]
  },
  {
   "cell_type": "code",
   "execution_count": 23,
   "id": "3e5e524d-1ddf-4d22-920b-0274795615f0",
   "metadata": {},
   "outputs": [],
   "source": [
    "# New transaction data\n",
    "transaction1 = np.array([123456.78, 0.0, 1.0, 54670.1])\n",
    "transaction2 = np.array([98765.43, 1.0, 0.0, 8524.75])\n",
    "transaction3 = np.array([543678.31, 1.0, 0.0, 510025.5])\n",
    "\n",
    "# Create a new extra and last transaction\n",
    "your_transaction = np.array([43434.2, 12.32, 567.11, 22.07])\n",
    "\n",
    "\n",
    "# Combine new transactions into a single array.\n",
    "#  we can combine numpy arrays using the .stack() method.\n",
    "sample_transactions = np.stack((transaction1, transaction2, transaction3, your_transaction))"
   ]
  },
  {
   "cell_type": "markdown",
   "id": "f6cb0ee2-8b45-4535-b697-11fec9b3dd0b",
   "metadata": {},
   "source": [
    "- Normalize and scaled the new transactions with .transform() method with the same model as before."
   ]
  },
  {
   "cell_type": "code",
   "execution_count": 24,
   "id": "2b909826-8839-457f-a32f-2dd7a29b54f5",
   "metadata": {},
   "outputs": [
    {
     "name": "stderr",
     "output_type": "stream",
     "text": [
      "C:\\Users\\Santiago\\anaconda3\\Lib\\site-packages\\sklearn\\base.py:493: UserWarning: X does not have valid feature names, but StandardScaler was fitted with feature names\n",
      "  warnings.warn(\n"
     ]
    }
   ],
   "source": [
    "sample_transactions = scaler.transform(sample_transactions)"
   ]
  },
  {
   "cell_type": "code",
   "execution_count": 25,
   "id": "2e20c3c2-9da8-4bb3-9dae-d9c614adfd38",
   "metadata": {},
   "outputs": [
    {
     "name": "stdout",
     "output_type": "stream",
     "text": [
      "\n",
      "Prediction of the Model\n",
      "[0 0 0 1]\n"
     ]
    }
   ],
   "source": [
    "# Predict fraud on the new transactions\n",
    "print(f\"\\nPrediction of the Model\")\n",
    "print(model.predict(sample_transactions))"
   ]
  },
  {
   "cell_type": "code",
   "execution_count": 26,
   "id": "46f45df9-362a-40d7-b1fd-04f1fe6c2184",
   "metadata": {},
   "outputs": [
    {
     "name": "stdout",
     "output_type": "stream",
     "text": [
      "\n",
      "Prediction Probabilites of the Model\n",
      "[[6.18205986e-01 3.81794014e-01]\n",
      " [9.99274532e-01 7.25468195e-04]\n",
      " [9.98332049e-01 1.66795052e-03]\n",
      " [0.00000000e+00 1.00000000e+00]]\n"
     ]
    }
   ],
   "source": [
    "# Show probabilities on the new transactions\n",
    "print(f\"\\nPrediction Probabilites of the Model\")\n",
    "print(model.predict_proba(sample_transactions)) "
   ]
  },
  {
   "cell_type": "markdown",
   "id": "7be12092-f060-4754-acab-ed4354608b4a",
   "metadata": {},
   "source": [
    "### Key Insights\n",
    "- Fraudulent transactions account for a very small proportion of the dataset, necessitating data balancing.\n",
    "- Features like transaction amount and account balance differences are strong indicators of fraud.\n",
    "- The model achieved a good trade-off between sensitivity and specificity, as shown by the ROC curve.\n",
    "\n",
    "### Conclusion\n",
    "\n",
    "- This project highlights the importance of data preprocessing, feature engineering, and model evaluation in fraud detection.\n",
    "- The logistic regression model provides a solid baseline for detecting fraudulent transactions.\n",
    "- Employing ensemble methods like Random Forests or Gradient Boosting to improve prediction accuracy.\n",
    "- Using techniques like Recursive Feature Elimination (RFE) to refine the most influential predictors.\n",
    "- The final application of this project should be a Real-Time Application: Deploying the model for real-time fraud detection using tools like Flask or FastAPI for a user-interactive dashboard."
   ]
  }
 ],
 "metadata": {
  "kernelspec": {
   "display_name": "Python 3 (ipykernel)",
   "language": "python",
   "name": "python3"
  },
  "language_info": {
   "codemirror_mode": {
    "name": "ipython",
    "version": 3
   },
   "file_extension": ".py",
   "mimetype": "text/x-python",
   "name": "python",
   "nbconvert_exporter": "python",
   "pygments_lexer": "ipython3",
   "version": "3.12.7"
  }
 },
 "nbformat": 4,
 "nbformat_minor": 5
}
