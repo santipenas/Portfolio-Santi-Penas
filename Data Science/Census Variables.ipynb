{
 "cells": [
  {
   "cell_type": "markdown",
   "id": "58117474-5f21-4a04-96ab-2863f364afc3",
   "metadata": {},
   "source": [
    "# Census Variables Project"
   ]
  },
  {
   "cell_type": "markdown",
   "id": "62119da5-9104-4e96-8f7b-4684a27989f8",
   "metadata": {},
   "source": [
    "#### Summary: This project demonstrates how to clean, preprocess, and analyze a dataset using Python, particularly with Pandas, Matplotlib, and Seaborn. The goal was to provide insights into the data by handling missing values, converting data types, performing statistical analysis, encoding categorical variables, and visualizing key data distributions. Below is a detailed summary of the steps we followed to transform and analyze the dataset."
   ]
  },
  {
   "cell_type": "markdown",
   "id": "896ee3b2-7577-4a7b-bfc9-8f70808a6cf2",
   "metadata": {},
   "source": [
    "### 1. Introduction and Setup"
   ]
  },
  {
   "cell_type": "code",
   "execution_count": 1,
   "id": "becfabc4-9943-49d9-97a4-e2ab439bbab3",
   "metadata": {},
   "outputs": [],
   "source": [
    "# Let's start by importing all the necessary libraries for data analysis\n",
    "import pandas as pd\n",
    "import matplotlib.pyplot as plt\n",
    "import seaborn as sns\n",
    "\n",
    "# We can also add a few settings to make the output more readable\n",
    "pd.set_option('display.max_columns', None)  # Show all columns in the dataframe\n",
    "sns.set(style=\"whitegrid\")  # Set the style for Seaborn plots, we will use this option in the Visualization "
   ]
  },
  {
   "cell_type": "markdown",
   "id": "c63d4204-4209-49d7-8177-35c5a33663a0",
   "metadata": {},
   "source": [
    "### 2. Loading the Data"
   ]
  },
  {
   "cell_type": "markdown",
   "id": "bf9a7a2b-339a-4870-9a08-3b7e1725fcd8",
   "metadata": {},
   "source": [
    "##### First, you'll load your data into a Pandas DataFrame. Make sure the dataset file (census_data.csv) is placed in the same directory as your Jupyter notebook or adjust the path to the file accordingly."
   ]
  },
  {
   "cell_type": "code",
   "execution_count": 2,
   "id": "1e0def25-3c2d-4b94-ae33-59ac2add8d75",
   "metadata": {},
   "outputs": [
    {
     "name": "stdout",
     "output_type": "stream",
     "text": [
      "<bound method NDFrame.head of     first_name   last_name birth_year  voted  num_children  income_year  \\\n",
      "0       Denise       Ratke       2005  False             0     92129.41   \n",
      "1         Hali   Cummerata       1987  False             0     75649.17   \n",
      "2      Salomon         Orn       1992   True             2    166313.45   \n",
      "3       Sarina    Schiller       1965  False             2     71704.81   \n",
      "4         Gust   Abernathy       1945  False             2    143316.08   \n",
      "..         ...         ...        ...    ...           ...          ...   \n",
      "95      Carisa       Hills       1958  False             3    157117.14   \n",
      "96      Tameka     Collins       2001  False             1     61518.34   \n",
      "97       Adams    Leuschke       1987  False             0     41784.87   \n",
      "98  Earnestine     Gutmann       1985   True             4     79021.46   \n",
      "99        Rosa  Runolfsson       1961   True             3     82300.02   \n",
      "\n",
      "           higher_tax marital_status  \n",
      "0            disagree         single  \n",
      "1             neutral       divorced  \n",
      "2               agree         single  \n",
      "3      strongly agree        married  \n",
      "4               agree        married  \n",
      "..                ...            ...  \n",
      "95              agree        married  \n",
      "96  strongly disagree         single  \n",
      "97     strongly agree         single  \n",
      "98           disagree        widowed  \n",
      "99     strongly agree         single  \n",
      "\n",
      "[100 rows x 8 columns]>\n"
     ]
    },
    {
     "data": {
      "text/plain": [
       "(100, 8)"
      ]
     },
     "execution_count": 2,
     "metadata": {},
     "output_type": "execute_result"
    }
   ],
   "source": [
    "# Load the census data into a pandas DataFrame\n",
    "census = pd.read_csv('census_data.csv', index_col=0)\n",
    "\n",
    "# Display the first few rows of the dataset to get a sense of the data structure and explore more basic info of the dataset such as total rows and columns\n",
    "print(census.head)\n",
    "census.shape\n"
   ]
  },
  {
   "cell_type": "markdown",
   "id": "09cd57e0-f619-47d1-83b6-cedd95553814",
   "metadata": {},
   "source": [
    "### 3. Exploring the Data\n"
   ]
  },
  {
   "cell_type": "markdown",
   "id": "cd4d0342-c8ca-43d1-84ef-b9dc0192bd71",
   "metadata": {},
   "source": [
    "##### Next, we explore the data to understand its structure and types."
   ]
  },
  {
   "cell_type": "code",
   "execution_count": 3,
   "id": "e554a84b-6aff-46d0-ae84-e05abfc25599",
   "metadata": {},
   "outputs": [
    {
     "name": "stdout",
     "output_type": "stream",
     "text": [
      "first_name         object\n",
      "last_name          object\n",
      "birth_year         object\n",
      "voted                bool\n",
      "num_children        int64\n",
      "income_year       float64\n",
      "higher_tax         object\n",
      "marital_status     object\n",
      "dtype: object\n"
     ]
    },
    {
     "data": {
      "text/html": [
       "<div>\n",
       "<style scoped>\n",
       "    .dataframe tbody tr th:only-of-type {\n",
       "        vertical-align: middle;\n",
       "    }\n",
       "\n",
       "    .dataframe tbody tr th {\n",
       "        vertical-align: top;\n",
       "    }\n",
       "\n",
       "    .dataframe thead th {\n",
       "        text-align: right;\n",
       "    }\n",
       "</style>\n",
       "<table border=\"1\" class=\"dataframe\">\n",
       "  <thead>\n",
       "    <tr style=\"text-align: right;\">\n",
       "      <th></th>\n",
       "      <th>first_name</th>\n",
       "      <th>last_name</th>\n",
       "      <th>birth_year</th>\n",
       "      <th>voted</th>\n",
       "      <th>num_children</th>\n",
       "      <th>income_year</th>\n",
       "      <th>higher_tax</th>\n",
       "      <th>marital_status</th>\n",
       "    </tr>\n",
       "  </thead>\n",
       "  <tbody>\n",
       "    <tr>\n",
       "      <th>0</th>\n",
       "      <td>Denise</td>\n",
       "      <td>Ratke</td>\n",
       "      <td>2005</td>\n",
       "      <td>False</td>\n",
       "      <td>0</td>\n",
       "      <td>92129.41</td>\n",
       "      <td>disagree</td>\n",
       "      <td>single</td>\n",
       "    </tr>\n",
       "    <tr>\n",
       "      <th>1</th>\n",
       "      <td>Hali</td>\n",
       "      <td>Cummerata</td>\n",
       "      <td>1987</td>\n",
       "      <td>False</td>\n",
       "      <td>0</td>\n",
       "      <td>75649.17</td>\n",
       "      <td>neutral</td>\n",
       "      <td>divorced</td>\n",
       "    </tr>\n",
       "    <tr>\n",
       "      <th>2</th>\n",
       "      <td>Salomon</td>\n",
       "      <td>Orn</td>\n",
       "      <td>1992</td>\n",
       "      <td>True</td>\n",
       "      <td>2</td>\n",
       "      <td>166313.45</td>\n",
       "      <td>agree</td>\n",
       "      <td>single</td>\n",
       "    </tr>\n",
       "    <tr>\n",
       "      <th>3</th>\n",
       "      <td>Sarina</td>\n",
       "      <td>Schiller</td>\n",
       "      <td>1965</td>\n",
       "      <td>False</td>\n",
       "      <td>2</td>\n",
       "      <td>71704.81</td>\n",
       "      <td>strongly agree</td>\n",
       "      <td>married</td>\n",
       "    </tr>\n",
       "    <tr>\n",
       "      <th>4</th>\n",
       "      <td>Gust</td>\n",
       "      <td>Abernathy</td>\n",
       "      <td>1945</td>\n",
       "      <td>False</td>\n",
       "      <td>2</td>\n",
       "      <td>143316.08</td>\n",
       "      <td>agree</td>\n",
       "      <td>married</td>\n",
       "    </tr>\n",
       "  </tbody>\n",
       "</table>\n",
       "</div>"
      ],
      "text/plain": [
       "  first_name  last_name birth_year  voted  num_children  income_year  \\\n",
       "0     Denise      Ratke       2005  False             0     92129.41   \n",
       "1       Hali  Cummerata       1987  False             0     75649.17   \n",
       "2    Salomon        Orn       1992   True             2    166313.45   \n",
       "3     Sarina   Schiller       1965  False             2     71704.81   \n",
       "4       Gust  Abernathy       1945  False             2    143316.08   \n",
       "\n",
       "       higher_tax marital_status  \n",
       "0        disagree         single  \n",
       "1         neutral       divorced  \n",
       "2           agree         single  \n",
       "3  strongly agree        married  \n",
       "4           agree        married  "
      ]
     },
     "execution_count": 3,
     "metadata": {},
     "output_type": "execute_result"
    }
   ],
   "source": [
    "# Display the data types of each column\n",
    "print(census.dtypes)\n",
    "\n",
    "# Display the first few rows to get a better understanding of the columns\n",
    "census.head()\n"
   ]
  },
  {
   "cell_type": "code",
   "execution_count": null,
   "id": "5203d2af-a9c3-443c-b48d-f057ae195f27",
   "metadata": {},
   "outputs": [],
   "source": []
  },
  {
   "cell_type": "markdown",
   "id": "b39a156e-5897-402f-a0a2-9c7c6136aec2",
   "metadata": {},
   "source": [
    "### 4. Exploring Unique Values in Columns"
   ]
  },
  {
   "cell_type": "markdown",
   "id": "2d4e8238-de8d-4941-b65e-8f9a35f7beec",
   "metadata": {},
   "source": [
    "##### Check for unique values in a specific column to understand the range of possible values, such as for birth_year and higher_tax columns. For this we use unique()"
   ]
  },
  {
   "cell_type": "code",
   "execution_count": 4,
   "id": "b894a1c2-4572-41b0-bbaa-9232b0ac933c",
   "metadata": {},
   "outputs": [
    {
     "name": "stdout",
     "output_type": "stream",
     "text": [
      "\n",
      "Unique values for the birth year are:\n",
      "['2005' '1987' '1992' '1965' '1945' '1951' '1963' '1949' '1950' '1971'\n",
      " '2007' '1944' '1995' '1973' '1946' '1954' '1994' '1989' '1947' '1993'\n",
      " '1976' '1984' 'missing' '1966' '1941' '2000' '1953' '1956' '1960' '2001'\n",
      " '1980' '1955' '1985' '1996' '1968' '1979' '2006' '1962' '1981' '1959'\n",
      " '1977' '1978' '1983' '1957' '1961' '1982' '2002' '1998' '1999' '1952'\n",
      " '1940' '1986' '1958']\n",
      "\n",
      "Unique values for the higher tax are:\n",
      "['disagree' 'neutral' 'agree' 'strongly agree' 'strongly disagree']\n"
     ]
    }
   ],
   "source": [
    "# Check the unique values in the 'birth_year' column\n",
    "print(\"\\nUnique values for the birth year are:\")\n",
    "print(census['birth_year'].unique())\n",
    "\n",
    "print(\"\\nUnique values for the higher tax are:\")\n",
    "print(census['higher_tax'].unique())"
   ]
  },
  {
   "cell_type": "markdown",
   "id": "95ec832b-0965-4565-98bd-24b35a08790a",
   "metadata": {},
   "source": [
    "##### But if we only want to know how many unique values we have in a column, without having to call all the values. For this we can use nuniuque() "
   ]
  },
  {
   "cell_type": "code",
   "execution_count": 5,
   "id": "46943033-edc9-44e3-b677-ef103e300b55",
   "metadata": {},
   "outputs": [
    {
     "name": "stdout",
     "output_type": "stream",
     "text": [
      "\n",
      " The total number of unique values for the birth years is\n",
      "53\n",
      "\n",
      " The total number of unique values for higher income column is:\n",
      "5\n"
     ]
    }
   ],
   "source": [
    "print(\"\\n The total number of unique values for the birth years is\")\n",
    "print(census['birth_year'].nunique())\n",
    "\n",
    "print(\"\\n The total number of unique values for higher income column is:\")\n",
    "print(census['higher_tax'].nunique())\n"
   ]
  },
  {
   "cell_type": "markdown",
   "id": "59b65f9a-0cde-4007-9236-e79099d34a6a",
   "metadata": {},
   "source": [
    "### 5. Handling Missing Values"
   ]
  },
  {
   "cell_type": "raw",
   "id": "eb1199da-d201-49ac-b3ad-e70e4dabdcc0",
   "metadata": {},
   "source": [
    "#####  Check for any missing values and replace them. For the sake of this test, we will replace them with the year 1967"
   ]
  },
  {
   "cell_type": "code",
   "execution_count": 6,
   "id": "53f92de6-e725-4bb8-8d76-4e3098ab44dd",
   "metadata": {},
   "outputs": [
    {
     "name": "stdout",
     "output_type": "stream",
     "text": [
      "['2005' '1987' '1992' '1965' '1945' '1951' '1963' '1949' '1950' '1971'\n",
      " '2007' '1944' '1995' '1973' '1946' '1954' '1994' '1989' '1947' '1993'\n",
      " '1976' '1984' 1967 '1966' '1941' '2000' '1953' '1956' '1960' '2001'\n",
      " '1980' '1955' '1985' '1996' '1968' '1979' '2006' '1962' '1981' '1959'\n",
      " '1977' '1978' '1983' '1957' '1961' '1982' '2002' '1998' '1999' '1952'\n",
      " '1940' '1986' '1958']\n"
     ]
    }
   ],
   "source": [
    "# Replace 'missing' values in 'birth_year' with 1967\n",
    "census['birth_year'] = census['birth_year'].replace(['missing'], 1967)\n",
    "\n",
    "# Verify the unique values again after replacement and see how \"missing\" is gone\n",
    "print(census['birth_year'].unique())\n"
   ]
  },
  {
   "cell_type": "markdown",
   "id": "2a59d8ed-ce71-480c-99bf-9b2594855ef2",
   "metadata": {},
   "source": [
    "### 6. Changing Data Types"
   ]
  },
  {
   "cell_type": "markdown",
   "id": "2d2ea3d1-5112-4994-ade7-cf348512b709",
   "metadata": {},
   "source": [
    "##### After replacing missing values, you convert the birth_year column to an integer data type. This ensures that any future calculations on this column are correct and we have no problems."
   ]
  },
  {
   "cell_type": "markdown",
   "id": "1ad37605-734d-499c-ae2f-1a6d988aaca1",
   "metadata": {},
   "source": [
    "There are are may ways to do this; here we will use the astype() method"
   ]
  },
  {
   "cell_type": "code",
   "execution_count": 7,
   "id": "ca613ce6-8f26-40ed-9578-5d64feed7fa5",
   "metadata": {},
   "outputs": [
    {
     "name": "stdout",
     "output_type": "stream",
     "text": [
      "first_name         object\n",
      "last_name          object\n",
      "birth_year          int32\n",
      "voted                bool\n",
      "num_children        int64\n",
      "income_year       float64\n",
      "higher_tax         object\n",
      "marital_status     object\n",
      "dtype: object\n"
     ]
    }
   ],
   "source": [
    "# Convert the 'birth_year' column to an integer type\n",
    "census['birth_year'] = census['birth_year'].astype('int')\n",
    "\n",
    "# Display the data types of the columns again to verify the change\n",
    "print(census.dtypes)\n"
   ]
  },
  {
   "cell_type": "markdown",
   "id": "c5c3a89e-e9a8-4893-bffe-a82a8b30eb2b",
   "metadata": {},
   "source": [
    "### 7. Basic Statistical Analysis"
   ]
  },
  {
   "cell_type": "markdown",
   "id": "45f8f58d-480e-449b-a1bd-432b258d997a",
   "metadata": {},
   "source": [
    "##### We can use this step to calculate some basic statistics, such as the mean or median of the birth_year column."
   ]
  },
  {
   "cell_type": "code",
   "execution_count": 8,
   "id": "9eb6c507-a43a-466e-9152-9c01b2c65065",
   "metadata": {},
   "outputs": [
    {
     "name": "stdout",
     "output_type": "stream",
     "text": [
      " The mean of all the years in our dataset is: 1973.4\n"
     ]
    }
   ],
   "source": [
    "# Calculate and print the mean of the 'birth_year' column\n",
    "mean_year = census['birth_year'].mean()\n",
    "print(f\" The mean of all the years in our dataset is: {mean_year}\")"
   ]
  },
  {
   "cell_type": "markdown",
   "id": "919100e8-64f0-42e6-8cc8-e35973a192d4",
   "metadata": {},
   "source": [
    "### 8. Handling Categorical Data"
   ]
  },
  {
   "cell_type": "markdown",
   "id": "f49f67d4-0213-4003-ac91-769ce756c013",
   "metadata": {},
   "source": [
    "##### We are now converting a column (higher_tax) into a categorical type with ordered levels. This is important for deeper analysis, especially when performing machine learning tasks later on as we will see in future projects."
   ]
  },
  {
   "cell_type": "code",
   "execution_count": 9,
   "id": "858fecab-b8bb-4fd4-9a9d-deddf917eadc",
   "metadata": {},
   "outputs": [
    {
     "name": "stdout",
     "output_type": "stream",
     "text": [
      "['disagree', 'neutral', 'agree', 'strongly agree', 'strongly disagree']\n",
      "Categories (5, object): ['strongly disagree' < 'disagree' < 'neutral' < 'agree' < 'strongly agree']\n"
     ]
    }
   ],
   "source": [
    "# Convert 'higher_tax' to a categorical type with ordered levels\n",
    "census['higher_tax'] = pd.Categorical(census['higher_tax'], \n",
    "                                      categories=['strongly disagree', 'disagree', 'neutral', 'agree', 'strongly agree'], \n",
    "                                      ordered=True)\n",
    "\n",
    "# Display the unique values of the 'higher_tax' column\n",
    "print(census['higher_tax'].unique())\n"
   ]
  },
  {
   "cell_type": "markdown",
   "id": "3cb8439f-2fad-483f-a610-bdb4ffa693c3",
   "metadata": {},
   "source": [
    "###### We reprint once again the dtypes() to see the changes"
   ]
  },
  {
   "cell_type": "code",
   "execution_count": 10,
   "id": "ecdd3fea-56e7-43d6-8e2e-8b62ebf6cfc4",
   "metadata": {},
   "outputs": [
    {
     "name": "stdout",
     "output_type": "stream",
     "text": [
      "first_name          object\n",
      "last_name           object\n",
      "birth_year           int32\n",
      "voted                 bool\n",
      "num_children         int64\n",
      "income_year        float64\n",
      "higher_tax        category\n",
      "marital_status      object\n",
      "dtype: object\n"
     ]
    }
   ],
   "source": [
    "print(census.dtypes)"
   ]
  },
  {
   "cell_type": "markdown",
   "id": "53b2518a-1a1c-448c-91f0-85f05455b9f8",
   "metadata": {},
   "source": [
    "### 9. Label Encoding of Categorical Data"
   ]
  },
  {
   "cell_type": "markdown",
   "id": "a28af045-9e61-400a-896d-8a14444e5c26",
   "metadata": {},
   "source": [
    "##### Let´s convert categorical values into numeric codes, which is useful for machine learning algorithms."
   ]
  },
  {
   "cell_type": "code",
   "execution_count": 11,
   "id": "bdb883a9-b752-4e93-8365-ed2863a7e163",
   "metadata": {},
   "outputs": [
    {
     "name": "stdout",
     "output_type": "stream",
     "text": [
      "2.0\n"
     ]
    }
   ],
   "source": [
    "# Use the 'cat.codes' method to convert the 'higher_tax' column to numeric codes\n",
    "census['higher_tax'] = census['higher_tax'].cat.codes\n",
    "\n",
    "# Print the median value of the 'higher_tax' column after encoding\n",
    "print(census['higher_tax'].median())\n"
   ]
  },
  {
   "cell_type": "markdown",
   "id": "64c75ef8-2423-4a86-99b9-24c9320a96b2",
   "metadata": {},
   "source": [
    "### 10. One-Hot Encoding"
   ]
  },
  {
   "cell_type": "markdown",
   "id": "42f7a114-7103-4b93-b495-35b2a5d7c601",
   "metadata": {},
   "source": [
    "##### The marital_status column can be converted into multiple binary columns using one-hot encoding, which is common for categorical variables when preparing data for machine learning."
   ]
  },
  {
   "cell_type": "code",
   "execution_count": 12,
   "id": "82bc4750-814e-4f0a-880e-adfbc89d6ac8",
   "metadata": {},
   "outputs": [
    {
     "data": {
      "text/html": [
       "<div>\n",
       "<style scoped>\n",
       "    .dataframe tbody tr th:only-of-type {\n",
       "        vertical-align: middle;\n",
       "    }\n",
       "\n",
       "    .dataframe tbody tr th {\n",
       "        vertical-align: top;\n",
       "    }\n",
       "\n",
       "    .dataframe thead th {\n",
       "        text-align: right;\n",
       "    }\n",
       "</style>\n",
       "<table border=\"1\" class=\"dataframe\">\n",
       "  <thead>\n",
       "    <tr style=\"text-align: right;\">\n",
       "      <th></th>\n",
       "      <th>first_name</th>\n",
       "      <th>last_name</th>\n",
       "      <th>birth_year</th>\n",
       "      <th>voted</th>\n",
       "      <th>num_children</th>\n",
       "      <th>income_year</th>\n",
       "      <th>higher_tax</th>\n",
       "      <th>marital_status_married</th>\n",
       "      <th>marital_status_single</th>\n",
       "      <th>marital_status_widowed</th>\n",
       "    </tr>\n",
       "  </thead>\n",
       "  <tbody>\n",
       "    <tr>\n",
       "      <th>0</th>\n",
       "      <td>Denise</td>\n",
       "      <td>Ratke</td>\n",
       "      <td>2005</td>\n",
       "      <td>False</td>\n",
       "      <td>0</td>\n",
       "      <td>92129.41</td>\n",
       "      <td>1</td>\n",
       "      <td>False</td>\n",
       "      <td>True</td>\n",
       "      <td>False</td>\n",
       "    </tr>\n",
       "    <tr>\n",
       "      <th>1</th>\n",
       "      <td>Hali</td>\n",
       "      <td>Cummerata</td>\n",
       "      <td>1987</td>\n",
       "      <td>False</td>\n",
       "      <td>0</td>\n",
       "      <td>75649.17</td>\n",
       "      <td>2</td>\n",
       "      <td>False</td>\n",
       "      <td>False</td>\n",
       "      <td>False</td>\n",
       "    </tr>\n",
       "    <tr>\n",
       "      <th>2</th>\n",
       "      <td>Salomon</td>\n",
       "      <td>Orn</td>\n",
       "      <td>1992</td>\n",
       "      <td>True</td>\n",
       "      <td>2</td>\n",
       "      <td>166313.45</td>\n",
       "      <td>3</td>\n",
       "      <td>False</td>\n",
       "      <td>True</td>\n",
       "      <td>False</td>\n",
       "    </tr>\n",
       "    <tr>\n",
       "      <th>3</th>\n",
       "      <td>Sarina</td>\n",
       "      <td>Schiller</td>\n",
       "      <td>1965</td>\n",
       "      <td>False</td>\n",
       "      <td>2</td>\n",
       "      <td>71704.81</td>\n",
       "      <td>4</td>\n",
       "      <td>True</td>\n",
       "      <td>False</td>\n",
       "      <td>False</td>\n",
       "    </tr>\n",
       "    <tr>\n",
       "      <th>4</th>\n",
       "      <td>Gust</td>\n",
       "      <td>Abernathy</td>\n",
       "      <td>1945</td>\n",
       "      <td>False</td>\n",
       "      <td>2</td>\n",
       "      <td>143316.08</td>\n",
       "      <td>3</td>\n",
       "      <td>True</td>\n",
       "      <td>False</td>\n",
       "      <td>False</td>\n",
       "    </tr>\n",
       "  </tbody>\n",
       "</table>\n",
       "</div>"
      ],
      "text/plain": [
       "  first_name  last_name  birth_year  voted  num_children  income_year  \\\n",
       "0     Denise      Ratke        2005  False             0     92129.41   \n",
       "1       Hali  Cummerata        1987  False             0     75649.17   \n",
       "2    Salomon        Orn        1992   True             2    166313.45   \n",
       "3     Sarina   Schiller        1965  False             2     71704.81   \n",
       "4       Gust  Abernathy        1945  False             2    143316.08   \n",
       "\n",
       "   higher_tax  marital_status_married  marital_status_single  \\\n",
       "0           1                   False                   True   \n",
       "1           2                   False                  False   \n",
       "2           3                   False                   True   \n",
       "3           4                    True                  False   \n",
       "4           3                    True                  False   \n",
       "\n",
       "   marital_status_widowed  \n",
       "0                   False  \n",
       "1                   False  \n",
       "2                   False  \n",
       "3                   False  \n",
       "4                   False  "
      ]
     },
     "metadata": {},
     "output_type": "display_data"
    }
   ],
   "source": [
    "# Perform One-Hot Encoding for the 'marital_status' column\n",
    "census = pd.get_dummies(census, columns=['marital_status'], drop_first=True)\n",
    "\n",
    "# Display the updated DataFrame\n",
    "display(census.head())\n"
   ]
  },
  {
   "cell_type": "markdown",
   "id": "ae69e3ed-f699-4aed-8ba7-52f74c37a630",
   "metadata": {},
   "source": [
    "### 11. Visualization"
   ]
  },
  {
   "cell_type": "markdown",
   "id": "5e3c48cd-c980-41fb-b71b-d125a4197ff5",
   "metadata": {},
   "source": [
    "##### Althou we will explore charst anda data visualization in future projects, adding some basic visualizations will help us to make this data analysis more interactive and understandable. For example, you can plot the distribution of the birth_year."
   ]
  },
  {
   "cell_type": "code",
   "execution_count": 13,
   "id": "2f8b3f3a-7bb9-4e19-8641-863d9d149354",
   "metadata": {},
   "outputs": [
    {
     "data": {
      "image/png": "[encoded data removed]",
      "text/plain": [
       "<Figure size 1000x600 with 1 Axes>"
      ]
     },
     "metadata": {},
     "output_type": "display_data"
    }
   ],
   "source": [
    "# Plot the distribution of 'birth_year'\n",
    "plt.figure(figsize=(10, 6))\n",
    "sns.histplot(census['birth_year'], bins=30, kde=True)\n",
    "plt.title('Distribution of Birth Year')\n",
    "plt.xlabel('Birth Year')\n",
    "plt.ylabel('Frequency')\n",
    "plt.show()"
   ]
  },
  {
   "cell_type": "markdown",
   "id": "e9f5c59f-1ce7-44ae-87ba-86552c1c2a3b",
   "metadata": {},
   "source": [
    "### 12. Conclusion"
   ]
  },
  {
   "cell_type": "markdown",
   "id": "e94a153e-4394-43bd-990c-00db4fae8a91",
   "metadata": {},
   "source": [
    "##### Finally, we can summarize our findings and the steps taken during this analysis we just did. Here we might mention insights such as trends, potential data issues, and how you handled them. For now, we can sum up what we did and discover in this project\n",
    "\n",
    "- We successfully loaded and explored the dataset, identifying key columns such as `birth_year` and `higher_tax`.\n",
    "- We handled missing values by replacing 'missing' entries with the year 1967.\n",
    "- We converted categorical variables into numerical ones using label encoding and one-hot encoding, which are useful for future analysis or machine learning tasks.\n",
    "- The dataset was prepared and cleaned for further analysis.\n",
    "\n",
    "This process can be further extended with more advanced techniques such as feature scaling, outlier detection, and more complex visualizations.\n"
   ]
  }
 ],
 "metadata": {
  "kernelspec": {
   "display_name": "Python 3 (ipykernel)",
   "language": "python",
   "name": "python3"
  },
  "language_info": {
   "codemirror_mode": {
    "name": "ipython",
    "version": 3
   },
   "file_extension": ".py",
   "mimetype": "text/x-python",
   "name": "python",
   "nbconvert_exporter": "python",
   "pygments_lexer": "ipython3",
   "version": "3.12.7"
  }
 },
 "nbformat": 4,
 "nbformat_minor": 5
}
