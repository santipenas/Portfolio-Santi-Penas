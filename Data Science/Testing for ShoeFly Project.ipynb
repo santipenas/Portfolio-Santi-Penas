{
 "cells": [
  {
   "cell_type": "markdown",
   "id": "710ee3b4-4ace-4b10-a332-01f57e47f8bb",
   "metadata": {},
   "source": [
    "# Project A/B Testing for ShoeFly"
   ]
  },
  {
   "cell_type": "markdown",
   "id": "ec0884aa-5ed4-4c94-9a91-9acacc2da0dc",
   "metadata": {},
   "source": [
    "##### This project showcases an exploratory data analysis (EDA) and an extract-transform-load (ETL) process on an advertisement click dataset. It begins by loading and inspecting the data to understand its structure, identify missing values, and clean inconsistencies. Key insights are derived by analyzing user interactions with ads across different sources and experimental groups, calculating metrics like click-through rates (CTR) and identifying trends over time. The process involves feature engineering (e.g., creating an is_click column), data aggregation (e.g., grouping by ad source and day), and pivoting tables to visualize click patterns. Additional steps include handling missing data, calculating overall CTR, and saving the cleaned dataset for further use. This project highlights the ability to extract actionable insights and prepare data for advanced analysis or visualization."
   ]
  },
  {
   "cell_type": "markdown",
   "id": "8d368039-a407-4594-a39f-cf3a27ddde2a",
   "metadata": {},
   "source": [
    "Import necessary libraries\n"
   ]
  },
  {
   "cell_type": "code",
   "execution_count": 1,
   "id": "09789d35-6c9b-4c9d-ae38-2912e762de38",
   "metadata": {},
   "outputs": [],
   "source": [
    "import pandas as pd"
   ]
  },
  {
   "cell_type": "markdown",
   "id": "1ecdc13f-8bf5-46d1-b2e5-83ea972e0264",
   "metadata": {},
   "source": [
    "### 1. Data Extraction: Load the dataset\n"
   ]
  },
  {
   "cell_type": "code",
   "execution_count": 2,
   "id": "8d4b8082-4652-488f-abf4-1494262210d8",
   "metadata": {},
   "outputs": [],
   "source": [
    "ad_clicks = pd.read_csv('ad_clicks.csv')"
   ]
  },
  {
   "cell_type": "markdown",
   "id": "560cec69-2249-4109-ad97-7577a87a335f",
   "metadata": {},
   "source": [
    "### 2. Data Preview: Initial Exploration\n"
   ]
  },
  {
   "cell_type": "markdown",
   "id": "fbbbbc9f-5bde-4e5d-9a18-475189618cb5",
   "metadata": {},
   "source": [
    "###### for better visualization, we will use the display() methond instead of print()"
   ]
  },
  {
   "cell_type": "code",
   "execution_count": 3,
   "id": "ca8c2800-0253-423f-a824-115190ca8168",
   "metadata": {},
   "outputs": [
    {
     "name": "stdout",
     "output_type": "stream",
     "text": [
      "Dataset Preview:\n"
     ]
    },
    {
     "data": {
      "text/html": [
       "<div>\n",
       "<style scoped>\n",
       "    .dataframe tbody tr th:only-of-type {\n",
       "        vertical-align: middle;\n",
       "    }\n",
       "\n",
       "    .dataframe tbody tr th {\n",
       "        vertical-align: top;\n",
       "    }\n",
       "\n",
       "    .dataframe thead th {\n",
       "        text-align: right;\n",
       "    }\n",
       "</style>\n",
       "<table border=\"1\" class=\"dataframe\">\n",
       "  <thead>\n",
       "    <tr style=\"text-align: right;\">\n",
       "      <th></th>\n",
       "      <th>user_id</th>\n",
       "      <th>utm_source</th>\n",
       "      <th>day</th>\n",
       "      <th>ad_click_timestamp</th>\n",
       "      <th>experimental_group</th>\n",
       "    </tr>\n",
       "  </thead>\n",
       "  <tbody>\n",
       "    <tr>\n",
       "      <th>0</th>\n",
       "      <td>008b7c6c-7272-471e-b90e-930d548bd8d7</td>\n",
       "      <td>google</td>\n",
       "      <td>6 - Saturday</td>\n",
       "      <td>7:18</td>\n",
       "      <td>A</td>\n",
       "    </tr>\n",
       "    <tr>\n",
       "      <th>1</th>\n",
       "      <td>009abb94-5e14-4b6c-bb1c-4f4df7aa7557</td>\n",
       "      <td>facebook</td>\n",
       "      <td>7 - Sunday</td>\n",
       "      <td>NaN</td>\n",
       "      <td>B</td>\n",
       "    </tr>\n",
       "    <tr>\n",
       "      <th>2</th>\n",
       "      <td>00f5d532-ed58-4570-b6d2-768df5f41aed</td>\n",
       "      <td>twitter</td>\n",
       "      <td>2 - Tuesday</td>\n",
       "      <td>NaN</td>\n",
       "      <td>A</td>\n",
       "    </tr>\n",
       "    <tr>\n",
       "      <th>3</th>\n",
       "      <td>011adc64-0f44-4fd9-a0bb-f1506d2ad439</td>\n",
       "      <td>google</td>\n",
       "      <td>2 - Tuesday</td>\n",
       "      <td>NaN</td>\n",
       "      <td>B</td>\n",
       "    </tr>\n",
       "    <tr>\n",
       "      <th>4</th>\n",
       "      <td>012137e6-7ae7-4649-af68-205b4702169c</td>\n",
       "      <td>facebook</td>\n",
       "      <td>7 - Sunday</td>\n",
       "      <td>NaN</td>\n",
       "      <td>B</td>\n",
       "    </tr>\n",
       "  </tbody>\n",
       "</table>\n",
       "</div>"
      ],
      "text/plain": [
       "                                user_id utm_source           day  \\\n",
       "0  008b7c6c-7272-471e-b90e-930d548bd8d7     google  6 - Saturday   \n",
       "1  009abb94-5e14-4b6c-bb1c-4f4df7aa7557   facebook    7 - Sunday   \n",
       "2  00f5d532-ed58-4570-b6d2-768df5f41aed    twitter   2 - Tuesday   \n",
       "3  011adc64-0f44-4fd9-a0bb-f1506d2ad439     google   2 - Tuesday   \n",
       "4  012137e6-7ae7-4649-af68-205b4702169c   facebook    7 - Sunday   \n",
       "\n",
       "  ad_click_timestamp experimental_group  \n",
       "0               7:18                  A  \n",
       "1                NaN                  B  \n",
       "2                NaN                  A  \n",
       "3                NaN                  B  \n",
       "4                NaN                  B  "
      ]
     },
     "metadata": {},
     "output_type": "display_data"
    }
   ],
   "source": [
    "print(\"Dataset Preview:\")\n",
    "display(ad_clicks.head())"
   ]
  },
  {
   "cell_type": "markdown",
   "id": "86faa13c-d1e8-4761-a53b-2dcf82ff23de",
   "metadata": {},
   "source": [
    "#### Check for missing values and data types to understand the structure of the dataset\n"
   ]
  },
  {
   "cell_type": "markdown",
   "id": "0426017e-9885-4a05-8974-b2ece199e1d7",
   "metadata": {},
   "source": [
    "We use info() method"
   ]
  },
  {
   "cell_type": "code",
   "execution_count": 4,
   "id": "d48ed95f-33f4-4690-bcad-ad268a33ba14",
   "metadata": {},
   "outputs": [
    {
     "name": "stdout",
     "output_type": "stream",
     "text": [
      "\n",
      "Dataset Information:\n",
      "<class 'pandas.core.frame.DataFrame'>\n",
      "RangeIndex: 1654 entries, 0 to 1653\n",
      "Data columns (total 5 columns):\n",
      " #   Column              Non-Null Count  Dtype \n",
      "---  ------              --------------  ----- \n",
      " 0   user_id             1654 non-null   object\n",
      " 1   utm_source          1654 non-null   object\n",
      " 2   day                 1654 non-null   object\n",
      " 3   ad_click_timestamp  565 non-null    object\n",
      " 4   experimental_group  1654 non-null   object\n",
      "dtypes: object(5)\n",
      "memory usage: 64.7+ KB\n"
     ]
    }
   ],
   "source": [
    "print(\"\\nDataset Information:\")\n",
    "ad_clicks.info()"
   ]
  },
  {
   "cell_type": "markdown",
   "id": "1f8befe9-7256-4ab8-83ce-3d44447f5903",
   "metadata": {},
   "source": [
    "##### Let´s count the total number of Missing Values"
   ]
  },
  {
   "cell_type": "code",
   "execution_count": 5,
   "id": "25ffef69-17fb-45ee-8964-39fdce124dd2",
   "metadata": {},
   "outputs": [
    {
     "name": "stdout",
     "output_type": "stream",
     "text": [
      "\n",
      "Missing Values Count:\n"
     ]
    },
    {
     "data": {
      "text/plain": [
       "user_id                  0\n",
       "utm_source               0\n",
       "day                      0\n",
       "ad_click_timestamp    1089\n",
       "experimental_group       0\n",
       "dtype: int64"
      ]
     },
     "metadata": {},
     "output_type": "display_data"
    }
   ],
   "source": [
    "print(\"\\nMissing Values Count:\")\n",
    "display(ad_clicks.isnull().sum())"
   ]
  },
  {
   "cell_type": "markdown",
   "id": "f7f7b6c4-a36a-49f1-afea-9e20df5921aa",
   "metadata": {},
   "source": [
    "\n",
    "\n",
    "We see that the column \"ad_click_timestamp\" has 1089 missing values"
   ]
  },
  {
   "cell_type": "markdown",
   "id": "abddf42c-3cd8-408f-964c-65b2a961649d",
   "metadata": {},
   "source": [
    "### 3. Data Transformation: Understanding Advertisement Sources"
   ]
  },
  {
   "cell_type": "markdown",
   "id": "cc2626c3-724a-47e0-8158-29d3dec8ba9b",
   "metadata": {},
   "source": [
    "##### Group by utm_source (ad source) to count the number of users associated with each source\n"
   ]
  },
  {
   "cell_type": "code",
   "execution_count": 6,
   "id": "45e5157b-6f2b-47d5-ad0f-7ad7e1a16553",
   "metadata": {},
   "outputs": [
    {
     "name": "stdout",
     "output_type": "stream",
     "text": [
      "\n",
      "User counts by UTM source:\n"
     ]
    },
    {
     "data": {
      "text/html": [
       "<div>\n",
       "<style scoped>\n",
       "    .dataframe tbody tr th:only-of-type {\n",
       "        vertical-align: middle;\n",
       "    }\n",
       "\n",
       "    .dataframe tbody tr th {\n",
       "        vertical-align: top;\n",
       "    }\n",
       "\n",
       "    .dataframe thead th {\n",
       "        text-align: right;\n",
       "    }\n",
       "</style>\n",
       "<table border=\"1\" class=\"dataframe\">\n",
       "  <thead>\n",
       "    <tr style=\"text-align: right;\">\n",
       "      <th></th>\n",
       "      <th>utm_source</th>\n",
       "      <th>user_id</th>\n",
       "    </tr>\n",
       "  </thead>\n",
       "  <tbody>\n",
       "    <tr>\n",
       "      <th>0</th>\n",
       "      <td>email</td>\n",
       "      <td>255</td>\n",
       "    </tr>\n",
       "    <tr>\n",
       "      <th>1</th>\n",
       "      <td>facebook</td>\n",
       "      <td>504</td>\n",
       "    </tr>\n",
       "    <tr>\n",
       "      <th>2</th>\n",
       "      <td>google</td>\n",
       "      <td>680</td>\n",
       "    </tr>\n",
       "    <tr>\n",
       "      <th>3</th>\n",
       "      <td>twitter</td>\n",
       "      <td>215</td>\n",
       "    </tr>\n",
       "  </tbody>\n",
       "</table>\n",
       "</div>"
      ],
      "text/plain": [
       "  utm_source  user_id\n",
       "0      email      255\n",
       "1   facebook      504\n",
       "2     google      680\n",
       "3    twitter      215"
      ]
     },
     "metadata": {},
     "output_type": "display_data"
    }
   ],
   "source": [
    "source_counts = ad_clicks.groupby('utm_source').user_id.count().reset_index()\n",
    "print(\"\\nUser counts by UTM source:\")\n",
    "display(source_counts)"
   ]
  },
  {
   "cell_type": "markdown",
   "id": "c28a7a37-f621-4e81-92eb-ed3e2fbd22b4",
   "metadata": {},
   "source": [
    "*Conclusion:* the most important source for us would be Google because most of the subscribers came from it; second, we have Facebook. Any Marketing campaign should focus on both of them and maybe to detect the reasons of the low number with the other two sources: twitter and email marketing."
   ]
  },
  {
   "cell_type": "markdown",
   "id": "99cb308a-56c3-4c84-b9cb-432adc031337",
   "metadata": {},
   "source": [
    "### 4. Feature Engineering: Identifying Clicks"
   ]
  },
  {
   "cell_type": "markdown",
   "id": "7f083c92-7816-4d57-bcf5-a96008a19ac2",
   "metadata": {},
   "source": [
    "##### Add a new column 'is_click' to indicate whether the ad was clicked (non-null ad_click_timestamp)\n"
   ]
  },
  {
   "cell_type": "code",
   "execution_count": 7,
   "id": "c3a26552-4963-402c-9de2-e2da988f76bd",
   "metadata": {},
   "outputs": [],
   "source": [
    "ad_clicks['is_click'] = ~ad_clicks.ad_click_timestamp.isnull()"
   ]
  },
  {
   "cell_type": "markdown",
   "id": "ced09f5b-9572-4bfc-96f5-3269c49707cc",
   "metadata": {},
   "source": [
    "##### Analyze clicks by source\n"
   ]
  },
  {
   "cell_type": "code",
   "execution_count": 8,
   "id": "3b793640-2031-4ee0-b854-c969be7f1d56",
   "metadata": {},
   "outputs": [
    {
     "name": "stdout",
     "output_type": "stream",
     "text": [
      "\n",
      "Clicks by source:\n"
     ]
    },
    {
     "data": {
      "text/html": [
       "<div>\n",
       "<style scoped>\n",
       "    .dataframe tbody tr th:only-of-type {\n",
       "        vertical-align: middle;\n",
       "    }\n",
       "\n",
       "    .dataframe tbody tr th {\n",
       "        vertical-align: top;\n",
       "    }\n",
       "\n",
       "    .dataframe thead th {\n",
       "        text-align: right;\n",
       "    }\n",
       "</style>\n",
       "<table border=\"1\" class=\"dataframe\">\n",
       "  <thead>\n",
       "    <tr style=\"text-align: right;\">\n",
       "      <th></th>\n",
       "      <th>utm_source</th>\n",
       "      <th>is_click</th>\n",
       "      <th>user_id</th>\n",
       "    </tr>\n",
       "  </thead>\n",
       "  <tbody>\n",
       "    <tr>\n",
       "      <th>0</th>\n",
       "      <td>email</td>\n",
       "      <td>False</td>\n",
       "      <td>175</td>\n",
       "    </tr>\n",
       "    <tr>\n",
       "      <th>1</th>\n",
       "      <td>email</td>\n",
       "      <td>True</td>\n",
       "      <td>80</td>\n",
       "    </tr>\n",
       "    <tr>\n",
       "      <th>2</th>\n",
       "      <td>facebook</td>\n",
       "      <td>False</td>\n",
       "      <td>324</td>\n",
       "    </tr>\n",
       "    <tr>\n",
       "      <th>3</th>\n",
       "      <td>facebook</td>\n",
       "      <td>True</td>\n",
       "      <td>180</td>\n",
       "    </tr>\n",
       "    <tr>\n",
       "      <th>4</th>\n",
       "      <td>google</td>\n",
       "      <td>False</td>\n",
       "      <td>441</td>\n",
       "    </tr>\n",
       "    <tr>\n",
       "      <th>5</th>\n",
       "      <td>google</td>\n",
       "      <td>True</td>\n",
       "      <td>239</td>\n",
       "    </tr>\n",
       "    <tr>\n",
       "      <th>6</th>\n",
       "      <td>twitter</td>\n",
       "      <td>False</td>\n",
       "      <td>149</td>\n",
       "    </tr>\n",
       "    <tr>\n",
       "      <th>7</th>\n",
       "      <td>twitter</td>\n",
       "      <td>True</td>\n",
       "      <td>66</td>\n",
       "    </tr>\n",
       "  </tbody>\n",
       "</table>\n",
       "</div>"
      ],
      "text/plain": [
       "  utm_source  is_click  user_id\n",
       "0      email     False      175\n",
       "1      email      True       80\n",
       "2   facebook     False      324\n",
       "3   facebook      True      180\n",
       "4     google     False      441\n",
       "5     google      True      239\n",
       "6    twitter     False      149\n",
       "7    twitter      True       66"
      ]
     },
     "metadata": {},
     "output_type": "display_data"
    }
   ],
   "source": [
    "clicks_by_source = ad_clicks.groupby(['utm_source', 'is_click']).user_id.count().reset_index()\n",
    "print(\"\\nClicks by source:\")\n",
    "display(clicks_by_source)"
   ]
  },
  {
   "cell_type": "markdown",
   "id": "7b6a09f5-de3f-443e-ab15-57b9e4157a51",
   "metadata": {},
   "source": [
    "#### Pivot data to calculate click percentages by source\n"
   ]
  },
  {
   "cell_type": "code",
   "execution_count": 9,
   "id": "239895e1-98d9-4e70-bdf5-d0b60fa53828",
   "metadata": {},
   "outputs": [
    {
     "data": {
      "text/html": [
       "<div>\n",
       "<style scoped>\n",
       "    .dataframe tbody tr th:only-of-type {\n",
       "        vertical-align: middle;\n",
       "    }\n",
       "\n",
       "    .dataframe tbody tr th {\n",
       "        vertical-align: top;\n",
       "    }\n",
       "\n",
       "    .dataframe thead th {\n",
       "        text-align: right;\n",
       "    }\n",
       "</style>\n",
       "<table border=\"1\" class=\"dataframe\">\n",
       "  <thead>\n",
       "    <tr style=\"text-align: right;\">\n",
       "      <th>is_click</th>\n",
       "      <th>utm_source</th>\n",
       "      <th>False</th>\n",
       "      <th>True</th>\n",
       "    </tr>\n",
       "  </thead>\n",
       "  <tbody>\n",
       "    <tr>\n",
       "      <th>0</th>\n",
       "      <td>email</td>\n",
       "      <td>175</td>\n",
       "      <td>80</td>\n",
       "    </tr>\n",
       "    <tr>\n",
       "      <th>1</th>\n",
       "      <td>facebook</td>\n",
       "      <td>324</td>\n",
       "      <td>180</td>\n",
       "    </tr>\n",
       "    <tr>\n",
       "      <th>2</th>\n",
       "      <td>google</td>\n",
       "      <td>441</td>\n",
       "      <td>239</td>\n",
       "    </tr>\n",
       "    <tr>\n",
       "      <th>3</th>\n",
       "      <td>twitter</td>\n",
       "      <td>149</td>\n",
       "      <td>66</td>\n",
       "    </tr>\n",
       "  </tbody>\n",
       "</table>\n",
       "</div>"
      ],
      "text/plain": [
       "is_click utm_source  False  True\n",
       "0             email    175    80\n",
       "1          facebook    324   180\n",
       "2            google    441   239\n",
       "3           twitter    149    66"
      ]
     },
     "metadata": {},
     "output_type": "display_data"
    }
   ],
   "source": [
    "clicks_pivot = clicks_by_source.pivot(columns='is_click', index='utm_source', values='user_id').reset_index()\n",
    "display(clicks_pivot)"
   ]
  },
  {
   "cell_type": "markdown",
   "id": "c6303f1e-9a09-4e3f-a991-4d38442414c6",
   "metadata": {},
   "source": [
    "##### Add a new column for percentage of clicks to our recent created pivoted table\n"
   ]
  },
  {
   "cell_type": "code",
   "execution_count": 10,
   "id": "796ff358-324b-41d3-b8d7-fd85cc159000",
   "metadata": {},
   "outputs": [
    {
     "name": "stdout",
     "output_type": "stream",
     "text": [
      "\n",
      "Click percentages by source:\n"
     ]
    },
    {
     "data": {
      "text/html": [
       "<div>\n",
       "<style scoped>\n",
       "    .dataframe tbody tr th:only-of-type {\n",
       "        vertical-align: middle;\n",
       "    }\n",
       "\n",
       "    .dataframe tbody tr th {\n",
       "        vertical-align: top;\n",
       "    }\n",
       "\n",
       "    .dataframe thead th {\n",
       "        text-align: right;\n",
       "    }\n",
       "</style>\n",
       "<table border=\"1\" class=\"dataframe\">\n",
       "  <thead>\n",
       "    <tr style=\"text-align: right;\">\n",
       "      <th>is_click</th>\n",
       "      <th>utm_source</th>\n",
       "      <th>False</th>\n",
       "      <th>True</th>\n",
       "      <th>percent_clicked</th>\n",
       "    </tr>\n",
       "  </thead>\n",
       "  <tbody>\n",
       "    <tr>\n",
       "      <th>0</th>\n",
       "      <td>email</td>\n",
       "      <td>175</td>\n",
       "      <td>80</td>\n",
       "      <td>0.313725</td>\n",
       "    </tr>\n",
       "    <tr>\n",
       "      <th>1</th>\n",
       "      <td>facebook</td>\n",
       "      <td>324</td>\n",
       "      <td>180</td>\n",
       "      <td>0.357143</td>\n",
       "    </tr>\n",
       "    <tr>\n",
       "      <th>2</th>\n",
       "      <td>google</td>\n",
       "      <td>441</td>\n",
       "      <td>239</td>\n",
       "      <td>0.351471</td>\n",
       "    </tr>\n",
       "    <tr>\n",
       "      <th>3</th>\n",
       "      <td>twitter</td>\n",
       "      <td>149</td>\n",
       "      <td>66</td>\n",
       "      <td>0.306977</td>\n",
       "    </tr>\n",
       "  </tbody>\n",
       "</table>\n",
       "</div>"
      ],
      "text/plain": [
       "is_click utm_source  False  True  percent_clicked\n",
       "0             email    175    80         0.313725\n",
       "1          facebook    324   180         0.357143\n",
       "2            google    441   239         0.351471\n",
       "3           twitter    149    66         0.306977"
      ]
     },
     "metadata": {},
     "output_type": "display_data"
    }
   ],
   "source": [
    "clicks_pivot['percent_clicked'] = clicks_pivot.get(True, 0) / (clicks_pivot.get(True, 0) + clicks_pivot.get(False, 0))\n",
    "print(\"\\nClick percentages by source:\")\n",
    "display(clicks_pivot)"
   ]
  },
  {
   "cell_type": "markdown",
   "id": "e9a045a5-e7a4-46c3-976f-949468941bf7",
   "metadata": {},
   "source": [
    "### 5. Analyze Experiment Groups\n"
   ]
  },
  {
   "cell_type": "markdown",
   "id": "7e3f4e3c-662f-4285-bd15-2dfc1cc0ec3e",
   "metadata": {},
   "source": [
    "##### Group by experimental group to count users\n"
   ]
  },
  {
   "cell_type": "code",
   "execution_count": 11,
   "id": "fd8824cc-9f45-4e9d-b91d-acfe66cfdf4b",
   "metadata": {},
   "outputs": [
    {
     "name": "stdout",
     "output_type": "stream",
     "text": [
      "\n",
      "User counts by experimental group:\n"
     ]
    },
    {
     "data": {
      "text/html": [
       "<div>\n",
       "<style scoped>\n",
       "    .dataframe tbody tr th:only-of-type {\n",
       "        vertical-align: middle;\n",
       "    }\n",
       "\n",
       "    .dataframe tbody tr th {\n",
       "        vertical-align: top;\n",
       "    }\n",
       "\n",
       "    .dataframe thead th {\n",
       "        text-align: right;\n",
       "    }\n",
       "</style>\n",
       "<table border=\"1\" class=\"dataframe\">\n",
       "  <thead>\n",
       "    <tr style=\"text-align: right;\">\n",
       "      <th></th>\n",
       "      <th>experimental_group</th>\n",
       "      <th>user_id</th>\n",
       "    </tr>\n",
       "  </thead>\n",
       "  <tbody>\n",
       "    <tr>\n",
       "      <th>0</th>\n",
       "      <td>A</td>\n",
       "      <td>827</td>\n",
       "    </tr>\n",
       "    <tr>\n",
       "      <th>1</th>\n",
       "      <td>B</td>\n",
       "      <td>827</td>\n",
       "    </tr>\n",
       "  </tbody>\n",
       "</table>\n",
       "</div>"
      ],
      "text/plain": [
       "  experimental_group  user_id\n",
       "0                  A      827\n",
       "1                  B      827"
      ]
     },
     "metadata": {},
     "output_type": "display_data"
    }
   ],
   "source": [
    "ad_counts = ad_clicks.groupby('experimental_group').user_id.count().reset_index()\n",
    "print(\"\\nUser counts by experimental group:\")\n",
    "display(ad_counts)"
   ]
  },
  {
   "cell_type": "markdown",
   "id": "8790b8e0-1806-4626-8034-c5fa826e7fc0",
   "metadata": {},
   "source": [
    "##### Group by experimental_group and is_click to analyze click behavior within experimental groups\n"
   ]
  },
  {
   "cell_type": "code",
   "execution_count": 12,
   "id": "446fbd97-e82e-4632-a7a6-7122db00e8fe",
   "metadata": {},
   "outputs": [
    {
     "data": {
      "text/html": [
       "<div>\n",
       "<style scoped>\n",
       "    .dataframe tbody tr th:only-of-type {\n",
       "        vertical-align: middle;\n",
       "    }\n",
       "\n",
       "    .dataframe tbody tr th {\n",
       "        vertical-align: top;\n",
       "    }\n",
       "\n",
       "    .dataframe thead th {\n",
       "        text-align: right;\n",
       "    }\n",
       "</style>\n",
       "<table border=\"1\" class=\"dataframe\">\n",
       "  <thead>\n",
       "    <tr style=\"text-align: right;\">\n",
       "      <th></th>\n",
       "      <th>experimental_group</th>\n",
       "      <th>is_click</th>\n",
       "      <th>user_id</th>\n",
       "    </tr>\n",
       "  </thead>\n",
       "  <tbody>\n",
       "    <tr>\n",
       "      <th>0</th>\n",
       "      <td>A</td>\n",
       "      <td>False</td>\n",
       "      <td>517</td>\n",
       "    </tr>\n",
       "    <tr>\n",
       "      <th>1</th>\n",
       "      <td>A</td>\n",
       "      <td>True</td>\n",
       "      <td>310</td>\n",
       "    </tr>\n",
       "    <tr>\n",
       "      <th>2</th>\n",
       "      <td>B</td>\n",
       "      <td>False</td>\n",
       "      <td>572</td>\n",
       "    </tr>\n",
       "    <tr>\n",
       "      <th>3</th>\n",
       "      <td>B</td>\n",
       "      <td>True</td>\n",
       "      <td>255</td>\n",
       "    </tr>\n",
       "  </tbody>\n",
       "</table>\n",
       "</div>"
      ],
      "text/plain": [
       "  experimental_group  is_click  user_id\n",
       "0                  A     False      517\n",
       "1                  A      True      310\n",
       "2                  B     False      572\n",
       "3                  B      True      255"
      ]
     },
     "metadata": {},
     "output_type": "display_data"
    }
   ],
   "source": [
    "clicks_by_group = ad_clicks.groupby(['experimental_group', 'is_click']).user_id.count().reset_index()\n",
    "display(clicks_by_group)"
   ]
  },
  {
   "cell_type": "markdown",
   "id": "14d6715a-bd29-4127-847b-7f5770456e39",
   "metadata": {},
   "source": [
    "##### Pivot the data to calculate click percentages for each group\n"
   ]
  },
  {
   "cell_type": "code",
   "execution_count": 13,
   "id": "6bc9f908-b86a-45dc-8647-28a19079ff0f",
   "metadata": {},
   "outputs": [
    {
     "data": {
      "text/html": [
       "<div>\n",
       "<style scoped>\n",
       "    .dataframe tbody tr th:only-of-type {\n",
       "        vertical-align: middle;\n",
       "    }\n",
       "\n",
       "    .dataframe tbody tr th {\n",
       "        vertical-align: top;\n",
       "    }\n",
       "\n",
       "    .dataframe thead th {\n",
       "        text-align: right;\n",
       "    }\n",
       "</style>\n",
       "<table border=\"1\" class=\"dataframe\">\n",
       "  <thead>\n",
       "    <tr style=\"text-align: right;\">\n",
       "      <th>is_click</th>\n",
       "      <th>experimental_group</th>\n",
       "      <th>False</th>\n",
       "      <th>True</th>\n",
       "    </tr>\n",
       "  </thead>\n",
       "  <tbody>\n",
       "    <tr>\n",
       "      <th>0</th>\n",
       "      <td>A</td>\n",
       "      <td>517</td>\n",
       "      <td>310</td>\n",
       "    </tr>\n",
       "    <tr>\n",
       "      <th>1</th>\n",
       "      <td>B</td>\n",
       "      <td>572</td>\n",
       "      <td>255</td>\n",
       "    </tr>\n",
       "  </tbody>\n",
       "</table>\n",
       "</div>"
      ],
      "text/plain": [
       "is_click experimental_group  False  True\n",
       "0                         A    517   310\n",
       "1                         B    572   255"
      ]
     },
     "metadata": {},
     "output_type": "display_data"
    }
   ],
   "source": [
    "clicks_pivot_group = clicks_by_group.pivot(index='experimental_group', columns='is_click', values='user_id').reset_index()\n",
    "display(clicks_pivot_group)"
   ]
  },
  {
   "cell_type": "markdown",
   "id": "254924b0-c4b1-4e98-b11a-d86e3fb91ba0",
   "metadata": {},
   "source": [
    "##### Add percentage of users who clicked for each group\n"
   ]
  },
  {
   "cell_type": "code",
   "execution_count": 14,
   "id": "5dc864d3-1ac6-443e-8291-221058f8b437",
   "metadata": {},
   "outputs": [
    {
     "name": "stdout",
     "output_type": "stream",
     "text": [
      "\n",
      "Click percentages by experimental group:\n"
     ]
    },
    {
     "data": {
      "text/html": [
       "<div>\n",
       "<style scoped>\n",
       "    .dataframe tbody tr th:only-of-type {\n",
       "        vertical-align: middle;\n",
       "    }\n",
       "\n",
       "    .dataframe tbody tr th {\n",
       "        vertical-align: top;\n",
       "    }\n",
       "\n",
       "    .dataframe thead th {\n",
       "        text-align: right;\n",
       "    }\n",
       "</style>\n",
       "<table border=\"1\" class=\"dataframe\">\n",
       "  <thead>\n",
       "    <tr style=\"text-align: right;\">\n",
       "      <th>is_click</th>\n",
       "      <th>experimental_group</th>\n",
       "      <th>False</th>\n",
       "      <th>True</th>\n",
       "      <th>percent_clicked</th>\n",
       "    </tr>\n",
       "  </thead>\n",
       "  <tbody>\n",
       "    <tr>\n",
       "      <th>0</th>\n",
       "      <td>A</td>\n",
       "      <td>517</td>\n",
       "      <td>310</td>\n",
       "      <td>37.484885</td>\n",
       "    </tr>\n",
       "    <tr>\n",
       "      <th>1</th>\n",
       "      <td>B</td>\n",
       "      <td>572</td>\n",
       "      <td>255</td>\n",
       "      <td>30.834341</td>\n",
       "    </tr>\n",
       "  </tbody>\n",
       "</table>\n",
       "</div>"
      ],
      "text/plain": [
       "is_click experimental_group  False  True  percent_clicked\n",
       "0                         A    517   310        37.484885\n",
       "1                         B    572   255        30.834341"
      ]
     },
     "metadata": {},
     "output_type": "display_data"
    }
   ],
   "source": [
    "clicks_pivot_group['percent_clicked'] = clicks_pivot_group.get(True, 0) / (clicks_pivot_group.get(True, 0) + clicks_pivot_group.get(False, 0)) *100\n",
    "print(\"\\nClick percentages by experimental group:\")\n",
    "display(clicks_pivot_group)"
   ]
  },
  {
   "cell_type": "markdown",
   "id": "7caff323-93a0-4b31-814d-c22c173f43ec",
   "metadata": {},
   "source": [
    "### 6. Analyze Daily Trends in Experimental Groups"
   ]
  },
  {
   "cell_type": "markdown",
   "id": "71d907ae-f288-4112-93c8-fdbb7ffa50bd",
   "metadata": {},
   "source": [
    "##### Filter data for group 'A' and 'B' and have two subsets to use them as variables later\n"
   ]
  },
  {
   "cell_type": "code",
   "execution_count": 15,
   "id": "f521447b-fd61-4be6-bf9a-4ccc0dd8b53c",
   "metadata": {},
   "outputs": [],
   "source": [
    "a_clicks = ad_clicks[ad_clicks.experimental_group == 'A']\n",
    "b_clicks = ad_clicks[ad_clicks.experimental_group == 'B']"
   ]
  },
  {
   "cell_type": "markdown",
   "id": "fb7547c9-dd6a-43d1-bcca-f2831ffe1b3e",
   "metadata": {},
   "source": [
    "###### Group 'A' analysis\n"
   ]
  },
  {
   "cell_type": "code",
   "execution_count": 16,
   "id": "0d6b50ac-a72f-45c3-a25c-90258559daf0",
   "metadata": {},
   "outputs": [
    {
     "name": "stdout",
     "output_type": "stream",
     "text": [
      "\n",
      "Group A click percentages by day:\n"
     ]
    },
    {
     "data": {
      "text/html": [
       "<div>\n",
       "<style scoped>\n",
       "    .dataframe tbody tr th:only-of-type {\n",
       "        vertical-align: middle;\n",
       "    }\n",
       "\n",
       "    .dataframe tbody tr th {\n",
       "        vertical-align: top;\n",
       "    }\n",
       "\n",
       "    .dataframe thead th {\n",
       "        text-align: right;\n",
       "    }\n",
       "</style>\n",
       "<table border=\"1\" class=\"dataframe\">\n",
       "  <thead>\n",
       "    <tr style=\"text-align: right;\">\n",
       "      <th>is_click</th>\n",
       "      <th>day</th>\n",
       "      <th>False</th>\n",
       "      <th>True</th>\n",
       "      <th>percent_clicked</th>\n",
       "    </tr>\n",
       "  </thead>\n",
       "  <tbody>\n",
       "    <tr>\n",
       "      <th>0</th>\n",
       "      <td>1 - Monday</td>\n",
       "      <td>70</td>\n",
       "      <td>43</td>\n",
       "      <td>0.380531</td>\n",
       "    </tr>\n",
       "    <tr>\n",
       "      <th>1</th>\n",
       "      <td>2 - Tuesday</td>\n",
       "      <td>76</td>\n",
       "      <td>43</td>\n",
       "      <td>0.361345</td>\n",
       "    </tr>\n",
       "    <tr>\n",
       "      <th>2</th>\n",
       "      <td>3 - Wednesday</td>\n",
       "      <td>86</td>\n",
       "      <td>38</td>\n",
       "      <td>0.306452</td>\n",
       "    </tr>\n",
       "    <tr>\n",
       "      <th>3</th>\n",
       "      <td>4 - Thursday</td>\n",
       "      <td>69</td>\n",
       "      <td>47</td>\n",
       "      <td>0.405172</td>\n",
       "    </tr>\n",
       "    <tr>\n",
       "      <th>4</th>\n",
       "      <td>5 - Friday</td>\n",
       "      <td>77</td>\n",
       "      <td>51</td>\n",
       "      <td>0.398438</td>\n",
       "    </tr>\n",
       "    <tr>\n",
       "      <th>5</th>\n",
       "      <td>6 - Saturday</td>\n",
       "      <td>73</td>\n",
       "      <td>45</td>\n",
       "      <td>0.381356</td>\n",
       "    </tr>\n",
       "    <tr>\n",
       "      <th>6</th>\n",
       "      <td>7 - Sunday</td>\n",
       "      <td>66</td>\n",
       "      <td>43</td>\n",
       "      <td>0.394495</td>\n",
       "    </tr>\n",
       "  </tbody>\n",
       "</table>\n",
       "</div>"
      ],
      "text/plain": [
       "is_click            day  False  True  percent_clicked\n",
       "0            1 - Monday     70    43         0.380531\n",
       "1           2 - Tuesday     76    43         0.361345\n",
       "2         3 - Wednesday     86    38         0.306452\n",
       "3          4 - Thursday     69    47         0.405172\n",
       "4            5 - Friday     77    51         0.398438\n",
       "5          6 - Saturday     73    45         0.381356\n",
       "6            7 - Sunday     66    43         0.394495"
      ]
     },
     "metadata": {},
     "output_type": "display_data"
    }
   ],
   "source": [
    "a_clicks_by_day = a_clicks.groupby(['day', 'is_click']).user_id.count().reset_index()\n",
    "a_clicks_pivot = a_clicks_by_day.pivot(index='day', columns='is_click', values='user_id').reset_index()\n",
    "a_clicks_pivot['percent_clicked'] = a_clicks_pivot.get(True, 0) / (a_clicks_pivot.get(True, 0) + a_clicks_pivot.get(False, 0))\n",
    "\n",
    "print(\"\\nGroup A click percentages by day:\")\n",
    "display(a_clicks_pivot)"
   ]
  },
  {
   "cell_type": "markdown",
   "id": "72f1a13e-bfaf-4dff-8eb1-cbb3d6aa9d52",
   "metadata": {},
   "source": [
    "###### Group 'B' analysis"
   ]
  },
  {
   "cell_type": "code",
   "execution_count": 17,
   "id": "c4bb5867-69e8-4660-b2a2-31d54bda4b94",
   "metadata": {},
   "outputs": [
    {
     "name": "stdout",
     "output_type": "stream",
     "text": [
      "\n",
      "Group B click percentages by day:\n"
     ]
    },
    {
     "data": {
      "text/html": [
       "<div>\n",
       "<style scoped>\n",
       "    .dataframe tbody tr th:only-of-type {\n",
       "        vertical-align: middle;\n",
       "    }\n",
       "\n",
       "    .dataframe tbody tr th {\n",
       "        vertical-align: top;\n",
       "    }\n",
       "\n",
       "    .dataframe thead th {\n",
       "        text-align: right;\n",
       "    }\n",
       "</style>\n",
       "<table border=\"1\" class=\"dataframe\">\n",
       "  <thead>\n",
       "    <tr style=\"text-align: right;\">\n",
       "      <th>is_click</th>\n",
       "      <th>day</th>\n",
       "      <th>False</th>\n",
       "      <th>True</th>\n",
       "      <th>percent_clicked</th>\n",
       "    </tr>\n",
       "  </thead>\n",
       "  <tbody>\n",
       "    <tr>\n",
       "      <th>0</th>\n",
       "      <td>1 - Monday</td>\n",
       "      <td>81</td>\n",
       "      <td>32</td>\n",
       "      <td>0.283186</td>\n",
       "    </tr>\n",
       "    <tr>\n",
       "      <th>1</th>\n",
       "      <td>2 - Tuesday</td>\n",
       "      <td>74</td>\n",
       "      <td>45</td>\n",
       "      <td>0.378151</td>\n",
       "    </tr>\n",
       "    <tr>\n",
       "      <th>2</th>\n",
       "      <td>3 - Wednesday</td>\n",
       "      <td>89</td>\n",
       "      <td>35</td>\n",
       "      <td>0.282258</td>\n",
       "    </tr>\n",
       "    <tr>\n",
       "      <th>3</th>\n",
       "      <td>4 - Thursday</td>\n",
       "      <td>87</td>\n",
       "      <td>29</td>\n",
       "      <td>0.250000</td>\n",
       "    </tr>\n",
       "    <tr>\n",
       "      <th>4</th>\n",
       "      <td>5 - Friday</td>\n",
       "      <td>90</td>\n",
       "      <td>38</td>\n",
       "      <td>0.296875</td>\n",
       "    </tr>\n",
       "    <tr>\n",
       "      <th>5</th>\n",
       "      <td>6 - Saturday</td>\n",
       "      <td>76</td>\n",
       "      <td>42</td>\n",
       "      <td>0.355932</td>\n",
       "    </tr>\n",
       "    <tr>\n",
       "      <th>6</th>\n",
       "      <td>7 - Sunday</td>\n",
       "      <td>75</td>\n",
       "      <td>34</td>\n",
       "      <td>0.311927</td>\n",
       "    </tr>\n",
       "  </tbody>\n",
       "</table>\n",
       "</div>"
      ],
      "text/plain": [
       "is_click            day  False  True  percent_clicked\n",
       "0            1 - Monday     81    32         0.283186\n",
       "1           2 - Tuesday     74    45         0.378151\n",
       "2         3 - Wednesday     89    35         0.282258\n",
       "3          4 - Thursday     87    29         0.250000\n",
       "4            5 - Friday     90    38         0.296875\n",
       "5          6 - Saturday     76    42         0.355932\n",
       "6            7 - Sunday     75    34         0.311927"
      ]
     },
     "metadata": {},
     "output_type": "display_data"
    }
   ],
   "source": [
    "b_clicks_by_day = b_clicks.groupby(['day', 'is_click']).user_id.count().reset_index()\n",
    "b_clicks_pivot = b_clicks_by_day.pivot(index='day', columns='is_click', values='user_id').reset_index()\n",
    "b_clicks_pivot['percent_clicked'] = b_clicks_pivot.get(True, 0) / (b_clicks_pivot.get(True, 0) + b_clicks_pivot.get(False, 0))\n",
    "\n",
    "print(\"\\nGroup B click percentages by day:\")\n",
    "display(b_clicks_pivot)"
   ]
  },
  {
   "cell_type": "markdown",
   "id": "de5efbc4-9c66-4100-97b9-0f2638a756d2",
   "metadata": {},
   "source": [
    "### 7. Identify days with the highest click-through rates (CTR) for both groups"
   ]
  },
  {
   "cell_type": "code",
   "execution_count": 20,
   "id": "47d21705-b364-4791-9b94-1ae07b925e74",
   "metadata": {},
   "outputs": [
    {
     "name": "stdout",
     "output_type": "stream",
     "text": [
      "\n",
      "Top Days by Click-Through Rate for Group A:\n"
     ]
    },
    {
     "data": {
      "text/html": [
       "<div>\n",
       "<style scoped>\n",
       "    .dataframe tbody tr th:only-of-type {\n",
       "        vertical-align: middle;\n",
       "    }\n",
       "\n",
       "    .dataframe tbody tr th {\n",
       "        vertical-align: top;\n",
       "    }\n",
       "\n",
       "    .dataframe thead th {\n",
       "        text-align: right;\n",
       "    }\n",
       "</style>\n",
       "<table border=\"1\" class=\"dataframe\">\n",
       "  <thead>\n",
       "    <tr style=\"text-align: right;\">\n",
       "      <th>is_click</th>\n",
       "      <th>day</th>\n",
       "      <th>False</th>\n",
       "      <th>True</th>\n",
       "      <th>percent_clicked</th>\n",
       "    </tr>\n",
       "  </thead>\n",
       "  <tbody>\n",
       "    <tr>\n",
       "      <th>3</th>\n",
       "      <td>4 - Thursday</td>\n",
       "      <td>69</td>\n",
       "      <td>47</td>\n",
       "      <td>0.405172</td>\n",
       "    </tr>\n",
       "    <tr>\n",
       "      <th>4</th>\n",
       "      <td>5 - Friday</td>\n",
       "      <td>77</td>\n",
       "      <td>51</td>\n",
       "      <td>0.398438</td>\n",
       "    </tr>\n",
       "    <tr>\n",
       "      <th>6</th>\n",
       "      <td>7 - Sunday</td>\n",
       "      <td>66</td>\n",
       "      <td>43</td>\n",
       "      <td>0.394495</td>\n",
       "    </tr>\n",
       "    <tr>\n",
       "      <th>5</th>\n",
       "      <td>6 - Saturday</td>\n",
       "      <td>73</td>\n",
       "      <td>45</td>\n",
       "      <td>0.381356</td>\n",
       "    </tr>\n",
       "    <tr>\n",
       "      <th>0</th>\n",
       "      <td>1 - Monday</td>\n",
       "      <td>70</td>\n",
       "      <td>43</td>\n",
       "      <td>0.380531</td>\n",
       "    </tr>\n",
       "  </tbody>\n",
       "</table>\n",
       "</div>"
      ],
      "text/plain": [
       "is_click           day  False  True  percent_clicked\n",
       "3         4 - Thursday     69    47         0.405172\n",
       "4           5 - Friday     77    51         0.398438\n",
       "6           7 - Sunday     66    43         0.394495\n",
       "5         6 - Saturday     73    45         0.381356\n",
       "0           1 - Monday     70    43         0.380531"
      ]
     },
     "metadata": {},
     "output_type": "display_data"
    },
    {
     "name": "stdout",
     "output_type": "stream",
     "text": [
      "\n",
      "Top Days by Click-Through Rate for Group B:\n"
     ]
    },
    {
     "data": {
      "text/html": [
       "<div>\n",
       "<style scoped>\n",
       "    .dataframe tbody tr th:only-of-type {\n",
       "        vertical-align: middle;\n",
       "    }\n",
       "\n",
       "    .dataframe tbody tr th {\n",
       "        vertical-align: top;\n",
       "    }\n",
       "\n",
       "    .dataframe thead th {\n",
       "        text-align: right;\n",
       "    }\n",
       "</style>\n",
       "<table border=\"1\" class=\"dataframe\">\n",
       "  <thead>\n",
       "    <tr style=\"text-align: right;\">\n",
       "      <th>is_click</th>\n",
       "      <th>day</th>\n",
       "      <th>False</th>\n",
       "      <th>True</th>\n",
       "      <th>percent_clicked</th>\n",
       "    </tr>\n",
       "  </thead>\n",
       "  <tbody>\n",
       "    <tr>\n",
       "      <th>1</th>\n",
       "      <td>2 - Tuesday</td>\n",
       "      <td>74</td>\n",
       "      <td>45</td>\n",
       "      <td>0.378151</td>\n",
       "    </tr>\n",
       "    <tr>\n",
       "      <th>5</th>\n",
       "      <td>6 - Saturday</td>\n",
       "      <td>76</td>\n",
       "      <td>42</td>\n",
       "      <td>0.355932</td>\n",
       "    </tr>\n",
       "    <tr>\n",
       "      <th>6</th>\n",
       "      <td>7 - Sunday</td>\n",
       "      <td>75</td>\n",
       "      <td>34</td>\n",
       "      <td>0.311927</td>\n",
       "    </tr>\n",
       "    <tr>\n",
       "      <th>4</th>\n",
       "      <td>5 - Friday</td>\n",
       "      <td>90</td>\n",
       "      <td>38</td>\n",
       "      <td>0.296875</td>\n",
       "    </tr>\n",
       "    <tr>\n",
       "      <th>0</th>\n",
       "      <td>1 - Monday</td>\n",
       "      <td>81</td>\n",
       "      <td>32</td>\n",
       "      <td>0.283186</td>\n",
       "    </tr>\n",
       "  </tbody>\n",
       "</table>\n",
       "</div>"
      ],
      "text/plain": [
       "is_click           day  False  True  percent_clicked\n",
       "1          2 - Tuesday     74    45         0.378151\n",
       "5         6 - Saturday     76    42         0.355932\n",
       "6           7 - Sunday     75    34         0.311927\n",
       "4           5 - Friday     90    38         0.296875\n",
       "0           1 - Monday     81    32         0.283186"
      ]
     },
     "metadata": {},
     "output_type": "display_data"
    }
   ],
   "source": [
    "print(\"\\nTop Days by Click-Through Rate for Group A:\")\n",
    "display(a_clicks_pivot.sort_values(by='percent_clicked', ascending=False).head())\n",
    "\n",
    "print(\"\\nTop Days by Click-Through Rate for Group B:\")\n",
    "display(b_clicks_pivot.sort_values(by='percent_clicked', ascending=False).head())"
   ]
  },
  {
   "cell_type": "markdown",
   "id": "7c0dcbba-2b51-4f97-9208-126572acad61",
   "metadata": {},
   "source": [
    "*Conlusion:* for group A the best days is the Thursday, while for group B the day with most of the clicks is Tuesday. "
   ]
  },
  {
   "cell_type": "markdown",
   "id": "3f71d22f-b90e-4733-8b5e-4b686d2ac4c6",
   "metadata": {},
   "source": [
    "### 8. Data Aggregation: Calculate overall CTR\n"
   ]
  },
  {
   "cell_type": "code",
   "execution_count": 21,
   "id": "01c1ab73-d5aa-4fa5-9d81-ac3127d27da8",
   "metadata": {},
   "outputs": [
    {
     "name": "stdout",
     "output_type": "stream",
     "text": [
      "\n",
      "Overall Click-Through Rate (CTR): 34.16%\n"
     ]
    }
   ],
   "source": [
    "overall_ctr = ad_clicks['is_click'].mean()\n",
    "print(f\"\\nOverall Click-Through Rate (CTR): {overall_ctr:.2%}\")"
   ]
  },
  {
   "cell_type": "code",
   "execution_count": null,
   "id": "368b0699-f0e2-429d-b288-5db52fd8329d",
   "metadata": {},
   "outputs": [],
   "source": []
  },
  {
   "cell_type": "code",
   "execution_count": null,
   "id": "723e85fc-abb6-4009-9ebc-07008f922126",
   "metadata": {},
   "outputs": [],
   "source": []
  }
 ],
 "metadata": {
  "kernelspec": {
   "display_name": "Python 3 (ipykernel)",
   "language": "python",
   "name": "python3"
  },
  "language_info": {
   "codemirror_mode": {
    "name": "ipython",
    "version": 3
   },
   "file_extension": ".py",
   "mimetype": "text/x-python",
   "name": "python",
   "nbconvert_exporter": "python",
   "pygments_lexer": "ipython3",
   "version": "3.12.7"
  }
 },
 "nbformat": 4,
 "nbformat_minor": 5
}
