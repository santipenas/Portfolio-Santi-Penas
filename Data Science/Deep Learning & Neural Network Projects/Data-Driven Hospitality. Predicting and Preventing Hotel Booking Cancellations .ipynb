{
 "cells": [
  {
   "cell_type": "markdown",
   "id": "f2216dd1-4fc8-42eb-9094-23c8f96bbba1",
   "metadata": {},
   "source": [
    "# Predicting Hotel Booking Cancellations with PyTorch: A Machine Learning Approach\n",
    "\n",
    "## 📚 Project Overview\n",
    "\n",
    "This project focuses on using **PyTorch** and **neural networks** to predict hotel booking cancellations, leveraging real-world data from a resort hotel. The goal is to build robust machine learning models that help hotels make data-driven decisions to optimize their operations and revenue strategies.\n",
    "\n",
    "## 🎯 Project Goals\n",
    "\n",
    "The main objectives of this project are:\n",
    "\n",
    "1. **Develop predictive models using PyTorch:**\n",
    "   - A **binary classification model** to predict whether a customer will cancel their booking or not.\n",
    "   - A **multiclass classification model** to predict whether a customer will:\n",
    "     - Show up to their booking\n",
    "     - Cancel their booking in advance\n",
    "     - No-show without prior notice\n",
    "\n",
    "2. **Enhance hotel management strategies:**\n",
    "   - **Revenue optimization:** Predicting cancellations allows hotels to better manage overbookings and set dynamic pricing.\n",
    "   - **Resource allocation:** Accurate predictions help optimize staff and amenity management.\n",
    "   - **Marketing strategies:** Identify high-risk customers and tailor ad campaigns or special offers to reduce cancellations.\n",
    "\n",
    "## 📊 Dataset\n",
    "\n",
    "The dataset used for this project contains comprehensive booking data, with features that provide critical insights into customer behavior. \n",
    "\n",
    "**Key features include:**\n",
    "- **Booking date:** When the reservation was made.\n",
    "- **Length of stay:** Number of nights the customer plans to stay.\n",
    "- **Guests:** Number of adults, children, and babies per booking.\n",
    "- **Daily rates:** Average price per night.\n",
    "- **Reservation status:** Indicates whether the customer checked in, canceled in advance, or no-showed.\n",
    "\n",
    "You can access the dataset [here](https://www.kaggle.com/datasets/jessemostipak/hotel-booking-demand).\n",
    "\n",
    "## ⚙️ Workflow\n",
    "\n",
    "The project workflow follows a structured machine learning pipeline:\n",
    "\n",
    "1. **Data Exploration and Cleaning:**\n",
    "   - Handle missing values and outliers.\n",
    "   - Convert categorical data into numerical representations.\n",
    "   - Feature engineering to enhance predictive power.\n",
    "\n",
    "2. **Data Preprocessing:**\n",
    "   - Split data into training, validation, and test sets.\n",
    "   - Normalize numerical features.\n",
    "   - Encode target variables for binary and multiclass models.\n",
    "\n",
    "3. **Model Building:**\n",
    "   - Design two neural network architectures:\n",
    "     - **Binary classifier:** Uses a sigmoid activation function for the final output layer.\n",
    "     - **Multiclass classifier:** Implements softmax activation for multi-category prediction.\n",
    "   - Define loss functions (Binary Cross-Entropy and Categorical Cross-Entropy).\n",
    "\n",
    "4. **Training and Evaluation:**\n",
    "   - Use appropriate optimizers (Adam, SGD).\n",
    "   - Implement early stopping and learning rate scheduling.\n",
    "   - Evaluate models using metrics such as accuracy, precision, recall, and F1 score.\n",
    "\n",
    "5. **Model Interpretation and Insights:**\n",
    "   - Visualize feature importance.\n",
    "   - Create confusion matrices to understand model errors.\n",
    "   - Extract actionable insights for hotel management.\n",
    "\n",
    "## 📈 Conclusion\n",
    "\n",
    "By the end of this project, the models will provide actionable predictions for hotel booking behaviors. These insights will help hotels reduce financial loss due to cancellations, improve customer targeting strategies, and enhance overall operational efficiency.\n",
    "\n",
    "---"
   ]
  },
  {
   "cell_type": "markdown",
   "id": "b298ad9f-91f0-4ff2-b666-45aa85b477d4",
   "metadata": {},
   "source": [
    "**Setup - Import libraries**"
   ]
  },
  {
   "cell_type": "code",
   "execution_count": null,
   "id": "9df68894-cfd7-450e-a72d-bd1f99e3e96d",
   "metadata": {},
   "outputs": [],
   "source": [
    "import pandas as pd\n",
    "import numpy as np\n",
    "import torch\n",
    "import torch.nn as nn\n",
    "import torch.optim as optim\n",
    "from sklearn.model_selection import train_test_split\n",
    "from sklearn.metrics import accuracy_score, classification_report"
   ]
  },
  {
   "cell_type": "markdown",
   "id": "0041b071-2761-49db-a716-66ffaddf5cac",
   "metadata": {},
   "source": [
    "## Import and Inspect\n",
    "\n",
    "The file `'datasets/resort_hotel_bookings.csv'` contains a subset of a [real-world dataset](https://www.kaggle.com/datasets/jessemostipak/hotel-booking-demand) containing reservation and cancellation data for a resort hotel. \n",
    "\n",
    "Your goal in this project is build and train a neural network to predict if a customer will cancel their hotel booking reservation based on data including the booking dates, average daily cost, number of adults/children/babies, duration of stay, and so forth."
   ]
  },
  {
   "cell_type": "code",
   "execution_count": 33,
   "id": "f80706ff",
   "metadata": {},
   "outputs": [],
   "source": [
    "hotels = pd.read_csv('datasets/resort_hotel_bookings.csv')"
   ]
  },
  {
   "cell_type": "markdown",
   "id": "2a125c1e-9b3e-484e-90e9-89d95ebddb08",
   "metadata": {},
   "source": [
    "Begin by importing the CSV file to a pandas DataFrame named `hotels`.\n",
    "\n",
    "Preview the first five rows using the `.head()` method."
   ]
  },
  {
   "cell_type": "code",
   "execution_count": 34,
   "id": "9a70147e-a769-4e34-bb58-6ed3ad8f5e36",
   "metadata": {},
   "outputs": [
    {
     "data": {
      "text/html": [
       "<div>\n",
       "<style scoped>\n",
       "    .dataframe tbody tr th:only-of-type {\n",
       "        vertical-align: middle;\n",
       "    }\n",
       "\n",
       "    .dataframe tbody tr th {\n",
       "        vertical-align: top;\n",
       "    }\n",
       "\n",
       "    .dataframe thead th {\n",
       "        text-align: right;\n",
       "    }\n",
       "</style>\n",
       "<table border=\"1\" class=\"dataframe\">\n",
       "  <thead>\n",
       "    <tr style=\"text-align: right;\">\n",
       "      <th></th>\n",
       "      <th>is_canceled</th>\n",
       "      <th>lead_time</th>\n",
       "      <th>arrival_date_year</th>\n",
       "      <th>arrival_date_month</th>\n",
       "      <th>arrival_date_week_number</th>\n",
       "      <th>arrival_date_day_of_month</th>\n",
       "      <th>stays_in_weekend_nights</th>\n",
       "      <th>stays_in_week_nights</th>\n",
       "      <th>adults</th>\n",
       "      <th>children</th>\n",
       "      <th>...</th>\n",
       "      <th>deposit_type</th>\n",
       "      <th>agent</th>\n",
       "      <th>company</th>\n",
       "      <th>days_in_waiting_list</th>\n",
       "      <th>customer_type</th>\n",
       "      <th>adr</th>\n",
       "      <th>required_car_parking_spaces</th>\n",
       "      <th>total_of_special_requests</th>\n",
       "      <th>reservation_status</th>\n",
       "      <th>reservation_status_date</th>\n",
       "    </tr>\n",
       "  </thead>\n",
       "  <tbody>\n",
       "    <tr>\n",
       "      <th>0</th>\n",
       "      <td>0</td>\n",
       "      <td>342</td>\n",
       "      <td>2015</td>\n",
       "      <td>July</td>\n",
       "      <td>27</td>\n",
       "      <td>1</td>\n",
       "      <td>0</td>\n",
       "      <td>0</td>\n",
       "      <td>2</td>\n",
       "      <td>0.0</td>\n",
       "      <td>...</td>\n",
       "      <td>No Deposit</td>\n",
       "      <td>NaN</td>\n",
       "      <td>NaN</td>\n",
       "      <td>0</td>\n",
       "      <td>Transient</td>\n",
       "      <td>0.00</td>\n",
       "      <td>0</td>\n",
       "      <td>0</td>\n",
       "      <td>Check-Out</td>\n",
       "      <td>2015-07-01</td>\n",
       "    </tr>\n",
       "    <tr>\n",
       "      <th>1</th>\n",
       "      <td>0</td>\n",
       "      <td>737</td>\n",
       "      <td>2015</td>\n",
       "      <td>July</td>\n",
       "      <td>27</td>\n",
       "      <td>1</td>\n",
       "      <td>0</td>\n",
       "      <td>0</td>\n",
       "      <td>2</td>\n",
       "      <td>0.0</td>\n",
       "      <td>...</td>\n",
       "      <td>No Deposit</td>\n",
       "      <td>NaN</td>\n",
       "      <td>NaN</td>\n",
       "      <td>0</td>\n",
       "      <td>Transient</td>\n",
       "      <td>0.00</td>\n",
       "      <td>0</td>\n",
       "      <td>0</td>\n",
       "      <td>Check-Out</td>\n",
       "      <td>2015-07-01</td>\n",
       "    </tr>\n",
       "    <tr>\n",
       "      <th>2</th>\n",
       "      <td>0</td>\n",
       "      <td>7</td>\n",
       "      <td>2015</td>\n",
       "      <td>July</td>\n",
       "      <td>27</td>\n",
       "      <td>1</td>\n",
       "      <td>0</td>\n",
       "      <td>1</td>\n",
       "      <td>1</td>\n",
       "      <td>0.0</td>\n",
       "      <td>...</td>\n",
       "      <td>No Deposit</td>\n",
       "      <td>NaN</td>\n",
       "      <td>NaN</td>\n",
       "      <td>0</td>\n",
       "      <td>Transient</td>\n",
       "      <td>75.00</td>\n",
       "      <td>0</td>\n",
       "      <td>0</td>\n",
       "      <td>Check-Out</td>\n",
       "      <td>2015-07-02</td>\n",
       "    </tr>\n",
       "    <tr>\n",
       "      <th>3</th>\n",
       "      <td>0</td>\n",
       "      <td>13</td>\n",
       "      <td>2015</td>\n",
       "      <td>July</td>\n",
       "      <td>27</td>\n",
       "      <td>1</td>\n",
       "      <td>0</td>\n",
       "      <td>1</td>\n",
       "      <td>1</td>\n",
       "      <td>0.0</td>\n",
       "      <td>...</td>\n",
       "      <td>No Deposit</td>\n",
       "      <td>304.0</td>\n",
       "      <td>NaN</td>\n",
       "      <td>0</td>\n",
       "      <td>Transient</td>\n",
       "      <td>75.00</td>\n",
       "      <td>0</td>\n",
       "      <td>0</td>\n",
       "      <td>Check-Out</td>\n",
       "      <td>2015-07-02</td>\n",
       "    </tr>\n",
       "    <tr>\n",
       "      <th>4</th>\n",
       "      <td>0</td>\n",
       "      <td>14</td>\n",
       "      <td>2015</td>\n",
       "      <td>July</td>\n",
       "      <td>27</td>\n",
       "      <td>1</td>\n",
       "      <td>0</td>\n",
       "      <td>2</td>\n",
       "      <td>2</td>\n",
       "      <td>0.0</td>\n",
       "      <td>...</td>\n",
       "      <td>No Deposit</td>\n",
       "      <td>240.0</td>\n",
       "      <td>NaN</td>\n",
       "      <td>0</td>\n",
       "      <td>Transient</td>\n",
       "      <td>98.00</td>\n",
       "      <td>0</td>\n",
       "      <td>1</td>\n",
       "      <td>Check-Out</td>\n",
       "      <td>2015-07-03</td>\n",
       "    </tr>\n",
       "    <tr>\n",
       "      <th>...</th>\n",
       "      <td>...</td>\n",
       "      <td>...</td>\n",
       "      <td>...</td>\n",
       "      <td>...</td>\n",
       "      <td>...</td>\n",
       "      <td>...</td>\n",
       "      <td>...</td>\n",
       "      <td>...</td>\n",
       "      <td>...</td>\n",
       "      <td>...</td>\n",
       "      <td>...</td>\n",
       "      <td>...</td>\n",
       "      <td>...</td>\n",
       "      <td>...</td>\n",
       "      <td>...</td>\n",
       "      <td>...</td>\n",
       "      <td>...</td>\n",
       "      <td>...</td>\n",
       "      <td>...</td>\n",
       "      <td>...</td>\n",
       "      <td>...</td>\n",
       "    </tr>\n",
       "    <tr>\n",
       "      <th>40055</th>\n",
       "      <td>0</td>\n",
       "      <td>212</td>\n",
       "      <td>2017</td>\n",
       "      <td>August</td>\n",
       "      <td>35</td>\n",
       "      <td>31</td>\n",
       "      <td>2</td>\n",
       "      <td>8</td>\n",
       "      <td>2</td>\n",
       "      <td>1.0</td>\n",
       "      <td>...</td>\n",
       "      <td>No Deposit</td>\n",
       "      <td>143.0</td>\n",
       "      <td>NaN</td>\n",
       "      <td>0</td>\n",
       "      <td>Transient</td>\n",
       "      <td>89.75</td>\n",
       "      <td>0</td>\n",
       "      <td>0</td>\n",
       "      <td>Check-Out</td>\n",
       "      <td>2017-09-10</td>\n",
       "    </tr>\n",
       "    <tr>\n",
       "      <th>40056</th>\n",
       "      <td>0</td>\n",
       "      <td>169</td>\n",
       "      <td>2017</td>\n",
       "      <td>August</td>\n",
       "      <td>35</td>\n",
       "      <td>30</td>\n",
       "      <td>2</td>\n",
       "      <td>9</td>\n",
       "      <td>2</td>\n",
       "      <td>0.0</td>\n",
       "      <td>...</td>\n",
       "      <td>No Deposit</td>\n",
       "      <td>250.0</td>\n",
       "      <td>NaN</td>\n",
       "      <td>0</td>\n",
       "      <td>Transient-Party</td>\n",
       "      <td>202.27</td>\n",
       "      <td>0</td>\n",
       "      <td>1</td>\n",
       "      <td>Check-Out</td>\n",
       "      <td>2017-09-10</td>\n",
       "    </tr>\n",
       "    <tr>\n",
       "      <th>40057</th>\n",
       "      <td>0</td>\n",
       "      <td>204</td>\n",
       "      <td>2017</td>\n",
       "      <td>August</td>\n",
       "      <td>35</td>\n",
       "      <td>29</td>\n",
       "      <td>4</td>\n",
       "      <td>10</td>\n",
       "      <td>2</td>\n",
       "      <td>0.0</td>\n",
       "      <td>...</td>\n",
       "      <td>No Deposit</td>\n",
       "      <td>250.0</td>\n",
       "      <td>NaN</td>\n",
       "      <td>0</td>\n",
       "      <td>Transient</td>\n",
       "      <td>153.57</td>\n",
       "      <td>0</td>\n",
       "      <td>3</td>\n",
       "      <td>Check-Out</td>\n",
       "      <td>2017-09-12</td>\n",
       "    </tr>\n",
       "    <tr>\n",
       "      <th>40058</th>\n",
       "      <td>0</td>\n",
       "      <td>211</td>\n",
       "      <td>2017</td>\n",
       "      <td>August</td>\n",
       "      <td>35</td>\n",
       "      <td>31</td>\n",
       "      <td>4</td>\n",
       "      <td>10</td>\n",
       "      <td>2</td>\n",
       "      <td>0.0</td>\n",
       "      <td>...</td>\n",
       "      <td>No Deposit</td>\n",
       "      <td>40.0</td>\n",
       "      <td>NaN</td>\n",
       "      <td>0</td>\n",
       "      <td>Contract</td>\n",
       "      <td>112.80</td>\n",
       "      <td>0</td>\n",
       "      <td>1</td>\n",
       "      <td>Check-Out</td>\n",
       "      <td>2017-09-14</td>\n",
       "    </tr>\n",
       "    <tr>\n",
       "      <th>40059</th>\n",
       "      <td>0</td>\n",
       "      <td>161</td>\n",
       "      <td>2017</td>\n",
       "      <td>August</td>\n",
       "      <td>35</td>\n",
       "      <td>31</td>\n",
       "      <td>4</td>\n",
       "      <td>10</td>\n",
       "      <td>2</td>\n",
       "      <td>0.0</td>\n",
       "      <td>...</td>\n",
       "      <td>No Deposit</td>\n",
       "      <td>69.0</td>\n",
       "      <td>NaN</td>\n",
       "      <td>0</td>\n",
       "      <td>Transient</td>\n",
       "      <td>99.06</td>\n",
       "      <td>0</td>\n",
       "      <td>0</td>\n",
       "      <td>Check-Out</td>\n",
       "      <td>2017-09-14</td>\n",
       "    </tr>\n",
       "  </tbody>\n",
       "</table>\n",
       "<p>40060 rows × 31 columns</p>\n",
       "</div>"
      ],
      "text/plain": [
       "       is_canceled  lead_time  arrival_date_year arrival_date_month  \\\n",
       "0                0        342               2015               July   \n",
       "1                0        737               2015               July   \n",
       "2                0          7               2015               July   \n",
       "3                0         13               2015               July   \n",
       "4                0         14               2015               July   \n",
       "...            ...        ...                ...                ...   \n",
       "40055            0        212               2017             August   \n",
       "40056            0        169               2017             August   \n",
       "40057            0        204               2017             August   \n",
       "40058            0        211               2017             August   \n",
       "40059            0        161               2017             August   \n",
       "\n",
       "       arrival_date_week_number  arrival_date_day_of_month  \\\n",
       "0                            27                          1   \n",
       "1                            27                          1   \n",
       "2                            27                          1   \n",
       "3                            27                          1   \n",
       "4                            27                          1   \n",
       "...                         ...                        ...   \n",
       "40055                        35                         31   \n",
       "40056                        35                         30   \n",
       "40057                        35                         29   \n",
       "40058                        35                         31   \n",
       "40059                        35                         31   \n",
       "\n",
       "       stays_in_weekend_nights  stays_in_week_nights  adults  children  ...  \\\n",
       "0                            0                     0       2       0.0  ...   \n",
       "1                            0                     0       2       0.0  ...   \n",
       "2                            0                     1       1       0.0  ...   \n",
       "3                            0                     1       1       0.0  ...   \n",
       "4                            0                     2       2       0.0  ...   \n",
       "...                        ...                   ...     ...       ...  ...   \n",
       "40055                        2                     8       2       1.0  ...   \n",
       "40056                        2                     9       2       0.0  ...   \n",
       "40057                        4                    10       2       0.0  ...   \n",
       "40058                        4                    10       2       0.0  ...   \n",
       "40059                        4                    10       2       0.0  ...   \n",
       "\n",
       "       deposit_type  agent company days_in_waiting_list    customer_type  \\\n",
       "0        No Deposit    NaN     NaN                    0        Transient   \n",
       "1        No Deposit    NaN     NaN                    0        Transient   \n",
       "2        No Deposit    NaN     NaN                    0        Transient   \n",
       "3        No Deposit  304.0     NaN                    0        Transient   \n",
       "4        No Deposit  240.0     NaN                    0        Transient   \n",
       "...             ...    ...     ...                  ...              ...   \n",
       "40055    No Deposit  143.0     NaN                    0        Transient   \n",
       "40056    No Deposit  250.0     NaN                    0  Transient-Party   \n",
       "40057    No Deposit  250.0     NaN                    0        Transient   \n",
       "40058    No Deposit   40.0     NaN                    0         Contract   \n",
       "40059    No Deposit   69.0     NaN                    0        Transient   \n",
       "\n",
       "          adr  required_car_parking_spaces  total_of_special_requests  \\\n",
       "0        0.00                            0                          0   \n",
       "1        0.00                            0                          0   \n",
       "2       75.00                            0                          0   \n",
       "3       75.00                            0                          0   \n",
       "4       98.00                            0                          1   \n",
       "...       ...                          ...                        ...   \n",
       "40055   89.75                            0                          0   \n",
       "40056  202.27                            0                          1   \n",
       "40057  153.57                            0                          3   \n",
       "40058  112.80                            0                          1   \n",
       "40059   99.06                            0                          0   \n",
       "\n",
       "      reservation_status reservation_status_date  \n",
       "0              Check-Out              2015-07-01  \n",
       "1              Check-Out              2015-07-01  \n",
       "2              Check-Out              2015-07-02  \n",
       "3              Check-Out              2015-07-02  \n",
       "4              Check-Out              2015-07-03  \n",
       "...                  ...                     ...  \n",
       "40055          Check-Out              2017-09-10  \n",
       "40056          Check-Out              2017-09-10  \n",
       "40057          Check-Out              2017-09-12  \n",
       "40058          Check-Out              2017-09-14  \n",
       "40059          Check-Out              2017-09-14  \n",
       "\n",
       "[40060 rows x 31 columns]"
      ]
     },
     "metadata": {},
     "output_type": "display_data"
    },
    {
     "name": "stdout",
     "output_type": "stream",
     "text": [
      "   is_canceled  lead_time  arrival_date_year arrival_date_month  \\\n",
      "0            0        342               2015               July   \n",
      "1            0        737               2015               July   \n",
      "2            0          7               2015               July   \n",
      "3            0         13               2015               July   \n",
      "4            0         14               2015               July   \n",
      "\n",
      "   arrival_date_week_number  arrival_date_day_of_month  \\\n",
      "0                        27                          1   \n",
      "1                        27                          1   \n",
      "2                        27                          1   \n",
      "3                        27                          1   \n",
      "4                        27                          1   \n",
      "\n",
      "   stays_in_weekend_nights  stays_in_week_nights  adults  children  ...  \\\n",
      "0                        0                     0       2       0.0  ...   \n",
      "1                        0                     0       2       0.0  ...   \n",
      "2                        0                     1       1       0.0  ...   \n",
      "3                        0                     1       1       0.0  ...   \n",
      "4                        0                     2       2       0.0  ...   \n",
      "\n",
      "   deposit_type  agent company days_in_waiting_list customer_type   adr  \\\n",
      "0    No Deposit    NaN     NaN                    0     Transient   0.0   \n",
      "1    No Deposit    NaN     NaN                    0     Transient   0.0   \n",
      "2    No Deposit    NaN     NaN                    0     Transient  75.0   \n",
      "3    No Deposit  304.0     NaN                    0     Transient  75.0   \n",
      "4    No Deposit  240.0     NaN                    0     Transient  98.0   \n",
      "\n",
      "   required_car_parking_spaces  total_of_special_requests reservation_status  \\\n",
      "0                            0                          0          Check-Out   \n",
      "1                            0                          0          Check-Out   \n",
      "2                            0                          0          Check-Out   \n",
      "3                            0                          0          Check-Out   \n",
      "4                            0                          1          Check-Out   \n",
      "\n",
      "  reservation_status_date  \n",
      "0              2015-07-01  \n",
      "1              2015-07-01  \n",
      "2              2015-07-02  \n",
      "3              2015-07-02  \n",
      "4              2015-07-03  \n",
      "\n",
      "[5 rows x 31 columns]\n"
     ]
    }
   ],
   "source": [
    "display(hotels)\n",
    "print(hotels.head())"
   ]
  },
  {
   "cell_type": "markdown",
   "id": "f7425cc3-dd20-4dab-a6a9-539b994dd9b9",
   "metadata": {},
   "source": [
    "<details><summary style=\"display:list-item; font-size:16px; color:blue;\">Here's a quick summary of the columns</summary>\n",
    "\n",
    "- **is_canceled**: Whether the booking was canceled (1) or kept (0)\n",
    "- **lead_time**: Number of days between booking date and arrival date\n",
    "- **arrival_date_year**: Year of arrival date\n",
    "- **arrival_date_month**: Month of arrival date\n",
    "- **arrival_date_week_number**: Week number of arrival date\n",
    "- **arrival_date_day_of_month**: Day of the month of arrival date\n",
    "- **stays_in_weekend_nights**: Number of weekend nights booked (Sat-Sun)\n",
    "- **stay_in_week_nights**: Number of weekday nights booked (Mon-Fri)\n",
    "- **adults**: Number of adults\n",
    "- **children**: Number of children\n",
    "- **babies**: Number of babies\n",
    "- **meal**: Type of meal booked (Undefined/SC, BB, HB, or FB)\n",
    "- **country**: Country of origin of the booker\n",
    "- **market_segment**: Market segment (TA - travel agent, TO - tour operators)\n",
    "- **distribution_channel**: Booking distribution channel (TA - travel agent, TO - tour operators)\n",
    "- **is_repeated_guest**: Is this a repeated guest (1) or not (0)\n",
    "- **previous_cancellations**: The number of previous bookings canceled by the customer\n",
    "- **previous_bookings_not_canceled**: The number of previous bookings not canceled by the customer\n",
    "- **reserved_room_type**: Room type reserved\n",
    "- **assigned_room_type**: Type of assigned room booked\n",
    "- **booking_changes**: Number of booking changes or modifications\n",
    "- **deposit_type**: Type of deposit to guarantee booking (No Deposit, Non Refund, or Refundable)\n",
    "- **agent**: ID of the travel agency that made the booking\n",
    "- **company**: ID of the company that made the booking\n",
    "- **days_in_waiting_list**: Number of days booking was waitlisted before confirmation\n",
    "- **customer_type**: The customer type of booking (Contract, Group, Transient, or Transient-party)\n",
    "- **adr**: The average daily rate (cost) of the booking\n",
    "- **required_car_parking_spaces**: Number of parking spaces requested by the customer\n",
    "- **total_of_special_requests**: Number of special requests by the customer\n",
    "- **reservation_status**: The last reservation status (Canceled, Check-Out, No-Show)\n",
    "- **reservation_status_date**: The date of the last reservation status"
   ]
  },
  {
   "cell_type": "markdown",
   "id": "87842e14-50f6-47ec-984a-f30854c859ea",
   "metadata": {},
   "source": [
    "Let's explore the data types and whether any data is missing.\n",
    "\n",
    "Use the `.info()` method on the `hotels` DataFrame to inspect the data."
   ]
  },
  {
   "cell_type": "code",
   "execution_count": 6,
   "id": "32ca9cf6-6b13-4e1f-af01-7673cb7305e0",
   "metadata": {},
   "outputs": [
    {
     "name": "stdout",
     "output_type": "stream",
     "text": [
      "<class 'pandas.core.frame.DataFrame'>\n",
      "RangeIndex: 40060 entries, 0 to 40059\n",
      "Data columns (total 31 columns):\n",
      " #   Column                          Non-Null Count  Dtype  \n",
      "---  ------                          --------------  -----  \n",
      " 0   is_canceled                     40060 non-null  int64  \n",
      " 1   lead_time                       40060 non-null  int64  \n",
      " 2   arrival_date_year               40060 non-null  int64  \n",
      " 3   arrival_date_month              40060 non-null  object \n",
      " 4   arrival_date_week_number        40060 non-null  int64  \n",
      " 5   arrival_date_day_of_month       40060 non-null  int64  \n",
      " 6   stays_in_weekend_nights         40060 non-null  int64  \n",
      " 7   stays_in_week_nights            40060 non-null  int64  \n",
      " 8   adults                          40060 non-null  int64  \n",
      " 9   children                        40060 non-null  float64\n",
      " 10  babies                          40060 non-null  int64  \n",
      " 11  meal                            40060 non-null  object \n",
      " 12  country                         39596 non-null  object \n",
      " 13  market_segment                  40060 non-null  object \n",
      " 14  distribution_channel            40060 non-null  object \n",
      " 15  is_repeated_guest               40060 non-null  int64  \n",
      " 16  previous_cancellations          40060 non-null  int64  \n",
      " 17  previous_bookings_not_canceled  40060 non-null  int64  \n",
      " 18  reserved_room_type              40060 non-null  object \n",
      " 19  assigned_room_type              40060 non-null  object \n",
      " 20  booking_changes                 40060 non-null  int64  \n",
      " 21  deposit_type                    40060 non-null  object \n",
      " 22  agent                           31851 non-null  float64\n",
      " 23  company                         3108 non-null   float64\n",
      " 24  days_in_waiting_list            40060 non-null  int64  \n",
      " 25  customer_type                   40060 non-null  object \n",
      " 26  adr                             40060 non-null  float64\n",
      " 27  required_car_parking_spaces     40060 non-null  int64  \n",
      " 28  total_of_special_requests       40060 non-null  int64  \n",
      " 29  reservation_status              40060 non-null  object \n",
      " 30  reservation_status_date         40060 non-null  object \n",
      "dtypes: float64(4), int64(16), object(11)\n",
      "memory usage: 9.5+ MB\n"
     ]
    }
   ],
   "source": [
    "hotels.info()"
   ]
  },
  {
   "cell_type": "markdown",
   "id": "5d1e2275-58f3-4687-8aad-69771ca90a05",
   "metadata": {},
   "source": [
    "<details><summary style=\"display:list-item; font-size:16px; color:blue;\">What do we notice about the dataset under inspection?</summary>\n",
    "\n",
    "There are 31 columns and 40,060 total observations in our dataset. The majority of columns do not have missing values.\n",
    "\n",
    "However, we do notice that: \n",
    "- the `agent` and `company` columns seem to have missing values that need to be addressed\n",
    "- the `country` column has a couple of missing values as well\n",
    "\n",
    "There are a variety of data types represented. To work with a neural network, we'll have to address any non-numeric columns in our data preparation."
   ]
  },
  {
   "cell_type": "markdown",
   "id": "d4094487-42e0-4ab3-9826-abc746d3a3f1",
   "metadata": {},
   "source": [
    "Let's now explore the cancellation column we want to predict.\n",
    "\n",
    "Use the `.value_counts()` method on the `is_canceled` column to count the number **and** the percentage of overall cancellations. "
   ]
  },
  {
   "cell_type": "code",
   "execution_count": 7,
   "id": "aec2e47c-24d1-438f-a6fe-dcdc28700cb3",
   "metadata": {},
   "outputs": [
    {
     "data": {
      "text/plain": [
       "is_canceled\n",
       "0    28938\n",
       "1    11122\n",
       "Name: count, dtype: int64"
      ]
     },
     "execution_count": 7,
     "metadata": {},
     "output_type": "execute_result"
    }
   ],
   "source": [
    "# total number of cancelations\n",
    "hotels.is_canceled.value_counts()"
   ]
  },
  {
   "cell_type": "markdown",
   "id": "439532b9-8f05-49b0-95c8-8d95872722a9",
   "metadata": {},
   "source": [
    "The `reservation_status` column tells us if the booking was canceled while also telling us if the customer was a no-show.\n",
    "\n",
    "We need to be sure to exclude this column from the training set, otherwise this information will be _leaked_ to our model resulting in inaccurate performance. \n",
    "\n",
    "First, let's take a quick look at the values in this column.\n",
    "\n",
    "Use the `.value_counts()` method on the `reservation_status` column to count the number **and** the percentage of overall cancellations. "
   ]
  },
  {
   "cell_type": "code",
   "execution_count": 8,
   "id": "42306a5e-144f-49f7-acd8-a505bf137522",
   "metadata": {},
   "outputs": [
    {
     "name": "stdout",
     "output_type": "stream",
     "text": [
      "is_canceled\n",
      "0    28938\n",
      "1    11122\n",
      "Name: count, dtype: int64\n",
      "is_canceled\n",
      "0    0.722366\n",
      "1    0.277634\n",
      "Name: proportion, dtype: float64\n"
     ]
    }
   ],
   "source": [
    "# Total Number of cancellations\n",
    "print(hotels['is_canceled'].value_counts(0))\n",
    "\n",
    "# Percentage of cancellations\n",
    "print(hotels['is_canceled'].value_counts(1))"
   ]
  },
  {
   "cell_type": "markdown",
   "id": "69cad566-ae8b-4879-9f78-4023c662626c",
   "metadata": {},
   "source": [
    "Before diving into building a model, let's continue to explore the dataset. It's important to understand how different columns interact with cancellations to guide our model structure! \n",
    "\n",
    "For example, cancellations might be higher in the summer months (June - September) and lower in the winter months (November - January).\n",
    "\n",
    "Use the `.groupby()` method to group the data by the `arrival_date_month` column and apply the `.mean()` aggregation function on the `is_canceled` column. This will return the percent of reservations cancelled in each month.\n",
    "\n",
    "Then, use the `.sort_values()` method to sort the percentages from lowest to highest."
   ]
  },
  {
   "cell_type": "code",
   "execution_count": 9,
   "id": "7017752e-2799-4aa7-816a-dd7574af0c49",
   "metadata": {},
   "outputs": [
    {
     "data": {
      "text/plain": [
       "arrival_date_month\n",
       "January      0.148199\n",
       "November     0.189167\n",
       "March        0.228717\n",
       "December     0.238293\n",
       "February     0.256204\n",
       "October      0.275105\n",
       "May          0.287721\n",
       "April        0.293433\n",
       "July         0.314017\n",
       "September    0.323681\n",
       "June         0.330706\n",
       "August       0.334491\n",
       "Name: is_canceled, dtype: float64"
      ]
     },
     "execution_count": 9,
     "metadata": {},
     "output_type": "execute_result"
    }
   ],
   "source": [
    "grouped_data = hotels.groupby('arrival_date_month')['is_canceled'].mean()\n",
    "grouped_data.sort_values()"
   ]
  },
  {
   "cell_type": "markdown",
   "id": "9b0b30f9-951f-4867-8db1-829301ffdf67",
   "metadata": {},
   "source": [
    "<details><summary style=\"display:list-item; font-size:16px; color:blue;\">What do we notice about the percentage of cancellations by month?</summary>\n",
    "\n",
    "Winter and spring have the lowest cancellation percentages, while summer and fall have the highest. This information can be very useful for our model!"
   ]
  },
  {
   "cell_type": "markdown",
   "id": "c3aea04a-4f56-43bf-be51-48d042855eb0",
   "metadata": {},
   "source": [
    "It might be useful to do more exploratory data analysis to gain additional insights about hotel cancellations. For example, additional analysis may help you select better features to train the model on and exclude features that might seem irrelevant. But for now, let's move on to cleaning and preparing the data."
   ]
  },
  {
   "cell_type": "markdown",
   "id": "4a5e5614-bf65-4f8b-850b-2ca02a6830f7",
   "metadata": {},
   "source": [
    "## Data Cleaning and Preparation\n",
    "\n",
    "In this section, we'll encode categorical data for use in our neural networks."
   ]
  },
  {
   "cell_type": "markdown",
   "id": "b0e7de66-f973-4580-be8d-ce652ae2aeae",
   "metadata": {},
   "source": [
    "To get a sense of the categorical data in the dataset, let's start by previewing the first five rows of all columns with `object` datatype.\n",
    "\n",
    "Create a list named `object_columns` containing only the names of the object columns (except for the reservation status columns). Select those columns from `hotels` and preview the first `5` rows."
   ]
  },
  {
   "cell_type": "code",
   "execution_count": 10,
   "id": "f46a21ff-6eda-4575-8119-903e455469c4",
   "metadata": {},
   "outputs": [
    {
     "data": {
      "text/html": [
       "<div>\n",
       "<style scoped>\n",
       "    .dataframe tbody tr th:only-of-type {\n",
       "        vertical-align: middle;\n",
       "    }\n",
       "\n",
       "    .dataframe tbody tr th {\n",
       "        vertical-align: top;\n",
       "    }\n",
       "\n",
       "    .dataframe thead th {\n",
       "        text-align: right;\n",
       "    }\n",
       "</style>\n",
       "<table border=\"1\" class=\"dataframe\">\n",
       "  <thead>\n",
       "    <tr style=\"text-align: right;\">\n",
       "      <th></th>\n",
       "      <th>arrival_date_month</th>\n",
       "      <th>meal</th>\n",
       "      <th>country</th>\n",
       "      <th>market_segment</th>\n",
       "      <th>distribution_channel</th>\n",
       "      <th>reserved_room_type</th>\n",
       "      <th>assigned_room_type</th>\n",
       "      <th>deposit_type</th>\n",
       "      <th>customer_type</th>\n",
       "    </tr>\n",
       "  </thead>\n",
       "  <tbody>\n",
       "    <tr>\n",
       "      <th>0</th>\n",
       "      <td>July</td>\n",
       "      <td>BB</td>\n",
       "      <td>PRT</td>\n",
       "      <td>Direct</td>\n",
       "      <td>Direct</td>\n",
       "      <td>C</td>\n",
       "      <td>C</td>\n",
       "      <td>No Deposit</td>\n",
       "      <td>Transient</td>\n",
       "    </tr>\n",
       "    <tr>\n",
       "      <th>1</th>\n",
       "      <td>July</td>\n",
       "      <td>BB</td>\n",
       "      <td>PRT</td>\n",
       "      <td>Direct</td>\n",
       "      <td>Direct</td>\n",
       "      <td>C</td>\n",
       "      <td>C</td>\n",
       "      <td>No Deposit</td>\n",
       "      <td>Transient</td>\n",
       "    </tr>\n",
       "    <tr>\n",
       "      <th>2</th>\n",
       "      <td>July</td>\n",
       "      <td>BB</td>\n",
       "      <td>GBR</td>\n",
       "      <td>Direct</td>\n",
       "      <td>Direct</td>\n",
       "      <td>A</td>\n",
       "      <td>C</td>\n",
       "      <td>No Deposit</td>\n",
       "      <td>Transient</td>\n",
       "    </tr>\n",
       "    <tr>\n",
       "      <th>3</th>\n",
       "      <td>July</td>\n",
       "      <td>BB</td>\n",
       "      <td>GBR</td>\n",
       "      <td>Corporate</td>\n",
       "      <td>Corporate</td>\n",
       "      <td>A</td>\n",
       "      <td>A</td>\n",
       "      <td>No Deposit</td>\n",
       "      <td>Transient</td>\n",
       "    </tr>\n",
       "    <tr>\n",
       "      <th>4</th>\n",
       "      <td>July</td>\n",
       "      <td>BB</td>\n",
       "      <td>GBR</td>\n",
       "      <td>Online TA</td>\n",
       "      <td>TA/TO</td>\n",
       "      <td>A</td>\n",
       "      <td>A</td>\n",
       "      <td>No Deposit</td>\n",
       "      <td>Transient</td>\n",
       "    </tr>\n",
       "  </tbody>\n",
       "</table>\n",
       "</div>"
      ],
      "text/plain": [
       "  arrival_date_month meal country market_segment distribution_channel  \\\n",
       "0               July   BB     PRT         Direct               Direct   \n",
       "1               July   BB     PRT         Direct               Direct   \n",
       "2               July   BB     GBR         Direct               Direct   \n",
       "3               July   BB     GBR      Corporate            Corporate   \n",
       "4               July   BB     GBR      Online TA                TA/TO   \n",
       "\n",
       "  reserved_room_type assigned_room_type deposit_type customer_type  \n",
       "0                  C                  C   No Deposit     Transient  \n",
       "1                  C                  C   No Deposit     Transient  \n",
       "2                  A                  C   No Deposit     Transient  \n",
       "3                  A                  A   No Deposit     Transient  \n",
       "4                  A                  A   No Deposit     Transient  "
      ]
     },
     "execution_count": 10,
     "metadata": {},
     "output_type": "execute_result"
    }
   ],
   "source": [
    "object_columns = ['arrival_date_month', 'meal', 'country', 'market_segment', 'distribution_channel', 'reserved_room_type', 'assigned_room_type', 'deposit_type', 'customer_type']\n",
    "hotels[object_columns].head()\n",
    "\n",
    "# Seleccionar solo las columnas de tipo object excepto 'reservation_status' que la voy a excluir\n",
    "# object_columns = hotels.select_dtypes(include='object').drop(columns=['reservation_status'])\n",
    "# object_columns.head()"
   ]
  },
  {
   "cell_type": "markdown",
   "id": "f6642631-3b52-4969-ba5a-da0bc952d070",
   "metadata": {},
   "source": [
    "Typically, we don't want to use every column in training. For example, we may want to drop columns with many missing values or columns that are irrelevant to our prediction task.\n",
    "\n",
    "Drop any columns you don't want to use to train a cancellation model (do not remove the target label column). Feel free to open our Hint to review the columns we chose to drop in our solution.\n",
    "\n",
    "Note: We don't want to drop the `reservation_status` column from the dataset quite yet because we'll be using this column to train our multiclass neural network."
   ]
  },
  {
   "cell_type": "code",
   "execution_count": 11,
   "id": "9f1e0daa-91ef-43ae-8b37-a3e545533729",
   "metadata": {},
   "outputs": [],
   "source": [
    "columns_to_drop = ['country', 'agent', 'company', 'reservation_status_date', 'arrival_date_week_number', 'arrival_date_day_of_month', 'arrival_date_year']\n",
    "\n",
    "hotels = hotels.drop(labels=columns_to_drop, axis=1)"
   ]
  },
  {
   "cell_type": "markdown",
   "id": "e53b42e7-17d6-4123-8048-7b7922acc582",
   "metadata": {},
   "source": [
    "<details><summary style=\"display:list-item; font-size:16px; color:blue;\">Hint: Drop columns in the dataset not used for training.</summary>\n",
    "\n",
    "Here's a list of potential features to drop. Feel free to experiment on your own by dropping or keeping columns we might believe may contribute to training.\n",
    "\n",
    "Here's why we chose these columns:\n",
    "\n",
    "- `country` - there are many countries that only appear a handful of times in the dataset which may make our model less generalizable and even discriminate against customers based on their country\n",
    "- `agent` - similar to `country`, there are many agents that only appear a handful of times which may make our model less generalizable (and there are many missing values!)\n",
    "- `company` - similar to `agent`, there are many companies that only appear a handful of times which may make our model less generalizable (and there are many missing values!)\n",
    "- `reservation_status_date` - tells us the date of the latest status change of the reservation which shouldn't be helpful and if anything may leak data\n",
    "- `arrival_date_week_number` - tells us the week of the year which may be too specific and prone to overfitting\n",
    "- `arrival_date_day_of_month` - tells us the day of the month which may be too specific and prone to overfitting\n",
    "- `arrival_date_year` - tells us the year of the booking which may not be helpful to predict future years\n",
    "\n",
    "</details>"
   ]
  },
  {
   "cell_type": "markdown",
   "id": "5b534b1e-fb7e-44f0-abae-fc2bd3c12fba",
   "metadata": {},
   "source": [
    "Next, let's encode the `meal` column which tells us which type of meal(s) the customer booked: \n",
    "\n",
    "- `Undefined` and `SC` correspond to no meal packages\n",
    "- `BB` corresponds to breakfast only\n",
    "- `HB` (half board) corresponds to breakfast + lunch or dinner\n",
    "- `FB` (full board) corresponds to breakfast, lunch, and dinner.\n",
    "\n",
    "Label encode the `meal` column with a meaningful order (# of meals booked) using the following scheme:\n",
    "\n",
    "- `Undefined` and `SC` to `0`\n",
    "- `BB` to `1`\n",
    "- `HB` to `2`\n",
    "- `FB` to `3` "
   ]
  },
  {
   "cell_type": "code",
   "execution_count": 12,
   "id": "9ece4bef-9603-43dc-ade9-f09be6ecf44d",
   "metadata": {},
   "outputs": [],
   "source": [
    "# label encoding. Replace values in 'meal' column\n",
    "hotels['meal'] = hotels['meal'].replace({'Undefined':0, 'SC':0, 'BB':1, 'HB':2, 'FB':3})"
   ]
  },
  {
   "cell_type": "markdown",
   "id": "fb822fb5-a608-45d7-a916-e18da55c7040",
   "metadata": {},
   "source": [
    "Let's prepare the rest of the categorical columns using one-hot encoding. \n",
    "\n",
    "Create a list named `one_hot_columns` containing the list of categorical column names (all the remaining categorical columns) to be one-hot encoded using the `pd.get_dummies()` method.\n",
    "\n",
    "Preview the cleaned `hotels` DataFrame using the `.head()` method."
   ]
  },
  {
   "cell_type": "code",
   "execution_count": 13,
   "id": "1868c916-5d34-4906-b530-909ba64da1c6",
   "metadata": {},
   "outputs": [
    {
     "name": "stdout",
     "output_type": "stream",
     "text": [
      "<class 'pandas.core.frame.DataFrame'>\n",
      "RangeIndex: 40060 entries, 0 to 40059\n",
      "Data columns (total 67 columns):\n",
      " #   Column                          Non-Null Count  Dtype  \n",
      "---  ------                          --------------  -----  \n",
      " 0   is_canceled                     40060 non-null  int64  \n",
      " 1   lead_time                       40060 non-null  int64  \n",
      " 2   stays_in_weekend_nights         40060 non-null  int64  \n",
      " 3   stays_in_week_nights            40060 non-null  int64  \n",
      " 4   adults                          40060 non-null  int64  \n",
      " 5   children                        40060 non-null  float64\n",
      " 6   babies                          40060 non-null  int64  \n",
      " 7   meal                            40060 non-null  int64  \n",
      " 8   is_repeated_guest               40060 non-null  int64  \n",
      " 9   previous_cancellations          40060 non-null  int64  \n",
      " 10  previous_bookings_not_canceled  40060 non-null  int64  \n",
      " 11  booking_changes                 40060 non-null  int64  \n",
      " 12  days_in_waiting_list            40060 non-null  int64  \n",
      " 13  adr                             40060 non-null  float64\n",
      " 14  required_car_parking_spaces     40060 non-null  int64  \n",
      " 15  total_of_special_requests       40060 non-null  int64  \n",
      " 16  reservation_status              40060 non-null  object \n",
      " 17  arrival_date_month_April        40060 non-null  int64  \n",
      " 18  arrival_date_month_August       40060 non-null  int64  \n",
      " 19  arrival_date_month_December     40060 non-null  int64  \n",
      " 20  arrival_date_month_February     40060 non-null  int64  \n",
      " 21  arrival_date_month_January      40060 non-null  int64  \n",
      " 22  arrival_date_month_July         40060 non-null  int64  \n",
      " 23  arrival_date_month_June         40060 non-null  int64  \n",
      " 24  arrival_date_month_March        40060 non-null  int64  \n",
      " 25  arrival_date_month_May          40060 non-null  int64  \n",
      " 26  arrival_date_month_November     40060 non-null  int64  \n",
      " 27  arrival_date_month_October      40060 non-null  int64  \n",
      " 28  arrival_date_month_September    40060 non-null  int64  \n",
      " 29  distribution_channel_Corporate  40060 non-null  int64  \n",
      " 30  distribution_channel_Direct     40060 non-null  int64  \n",
      " 31  distribution_channel_TA/TO      40060 non-null  int64  \n",
      " 32  distribution_channel_Undefined  40060 non-null  int64  \n",
      " 33  reserved_room_type_A            40060 non-null  int64  \n",
      " 34  reserved_room_type_B            40060 non-null  int64  \n",
      " 35  reserved_room_type_C            40060 non-null  int64  \n",
      " 36  reserved_room_type_D            40060 non-null  int64  \n",
      " 37  reserved_room_type_E            40060 non-null  int64  \n",
      " 38  reserved_room_type_F            40060 non-null  int64  \n",
      " 39  reserved_room_type_G            40060 non-null  int64  \n",
      " 40  reserved_room_type_H            40060 non-null  int64  \n",
      " 41  reserved_room_type_L            40060 non-null  int64  \n",
      " 42  reserved_room_type_P            40060 non-null  int64  \n",
      " 43  assigned_room_type_A            40060 non-null  int64  \n",
      " 44  assigned_room_type_B            40060 non-null  int64  \n",
      " 45  assigned_room_type_C            40060 non-null  int64  \n",
      " 46  assigned_room_type_D            40060 non-null  int64  \n",
      " 47  assigned_room_type_E            40060 non-null  int64  \n",
      " 48  assigned_room_type_F            40060 non-null  int64  \n",
      " 49  assigned_room_type_G            40060 non-null  int64  \n",
      " 50  assigned_room_type_H            40060 non-null  int64  \n",
      " 51  assigned_room_type_I            40060 non-null  int64  \n",
      " 52  assigned_room_type_L            40060 non-null  int64  \n",
      " 53  assigned_room_type_P            40060 non-null  int64  \n",
      " 54  deposit_type_No Deposit         40060 non-null  int64  \n",
      " 55  deposit_type_Non Refund         40060 non-null  int64  \n",
      " 56  deposit_type_Refundable         40060 non-null  int64  \n",
      " 57  customer_type_Contract          40060 non-null  int64  \n",
      " 58  customer_type_Group             40060 non-null  int64  \n",
      " 59  customer_type_Transient         40060 non-null  int64  \n",
      " 60  customer_type_Transient-Party   40060 non-null  int64  \n",
      " 61  market_segment_Complementary    40060 non-null  int64  \n",
      " 62  market_segment_Corporate        40060 non-null  int64  \n",
      " 63  market_segment_Direct           40060 non-null  int64  \n",
      " 64  market_segment_Groups           40060 non-null  int64  \n",
      " 65  market_segment_Offline TA/TO    40060 non-null  int64  \n",
      " 66  market_segment_Online TA        40060 non-null  int64  \n",
      "dtypes: float64(2), int64(64), object(1)\n",
      "memory usage: 20.5+ MB\n"
     ]
    }
   ],
   "source": [
    "one_hot_columns = ['arrival_date_month', 'distribution_channel', 'reserved_room_type', \n",
    "                   'assigned_room_type', 'deposit_type', 'customer_type', 'market_segment']\n",
    "\n",
    "# Verifica las columnas que existen en el DataFrame\n",
    "existing_columns = [col for col in one_hot_columns if col in hotels.columns]\n",
    "\n",
    "# Aplica el one-hot encoding solo a las columnas que existen\n",
    "hotels = pd.get_dummies(hotels, columns=existing_columns, dtype=int)\n",
    "\n",
    "hotels.head()\n",
    "hotels.info()"
   ]
  },
  {
   "cell_type": "markdown",
   "id": "70f02889-5689-4693-84b1-c8eddeb46a71",
   "metadata": {},
   "source": [
    "Perfect! It looks like we've handled all of the categorical variables and prepared the DataFrame for training.\n",
    "\n",
    "Note that the cleaned DataFrame now has 67 columns due to the additional columns created using one-hot encoding."
   ]
  },
  {
   "cell_type": "markdown",
   "id": "44e9ce60-59ca-4170-9182-1bec8451bab9",
   "metadata": {},
   "source": [
    "## Create Training and Testing Sets\n",
    "\n",
    "Next, let's convert our dataset into PyTorch tensors and split them into training and testing sets."
   ]
  },
  {
   "cell_type": "code",
   "execution_count": 14,
   "id": "b9789d74-14b4-42c0-a1e7-d9df7ba5c235",
   "metadata": {},
   "outputs": [],
   "source": [
    "import torch\n",
    "import torch.nn as nn\n",
    "import torch.optim as optim"
   ]
  },
  {
   "cell_type": "markdown",
   "id": "7312231b-c500-4022-b172-e4e67662ce5d",
   "metadata": {},
   "source": [
    "We need to start by separating our training features from the target labels.\n",
    "\n",
    "Create a list named `train_features` that contains all of the feature names (column names excluding the target variables `is_canceled` and `reservation_status`)."
   ]
  },
  {
   "cell_type": "code",
   "execution_count": 16,
   "id": "f568ef4b-8287-4fbb-ad5a-16575da41df1",
   "metadata": {},
   "outputs": [],
   "source": [
    "# Prepare features and target for binary classification\n",
    "features_binary = hotels.drop(columns=['is_canceled', 'reservation_status'])\n",
    "features_binary = features_binary.apply(pd.to_numeric, errors='coerce')  # here we ensure numeric values"
   ]
  },
  {
   "cell_type": "markdown",
   "id": "24724a16-795e-4654-9937-ecb3bd173594",
   "metadata": {},
   "source": [
    "Using the list of training features in `train_features`, create `X` and `y` tensors:\n",
    "\n",
    "- `X` contains the data values from the `train_features` columns\n",
    "- `y` contains the binary labels in the `is_canceled` column in `hotels`\n",
    "\n",
    "Both `X` and `y` should have the float datatype.\n",
    "\n",
    "Be sure to set the correct view of `y` using `.view(-1,1)`"
   ]
  },
  {
   "cell_type": "code",
   "execution_count": 17,
   "id": "9075979f-c19b-4586-bd71-15ea866d5e99",
   "metadata": {},
   "outputs": [],
   "source": [
    "X = torch.tensor(features_binary.values, dtype=torch.float32)\n",
    "y = torch.tensor(hotels['is_canceled'].values, dtype=torch.float32).view(-1, 1)"
   ]
  },
  {
   "cell_type": "markdown",
   "id": "bf85c1dd-70b3-4c61-902d-1be92daeb39f",
   "metadata": {},
   "source": [
    "Let's now split our data contained in `X` and `y` into training and testing sets.\n",
    "\n",
    "Import the `train_test_split` module from Scikit-learn's `sklearn.model_selection` library.\n",
    "\n",
    "Split `X` and `y` using the following scheme:\n",
    "- Use 80% of the data for the training set `X_train` and `y_train`\n",
    "- Use 20% of the data for the testing set `X_test` and `y_test`\n",
    "- Set the random state to `42` to match our solution\n",
    "\n",
    "We then can print out the shape of `X_train` and `X_test` to see how many observations and columns are in the training and testing sets."
   ]
  },
  {
   "cell_type": "code",
   "execution_count": 18,
   "id": "f1975f61-365d-4fb9-9106-e8af73181d68",
   "metadata": {},
   "outputs": [
    {
     "name": "stdout",
     "output_type": "stream",
     "text": [
      "Binary Classification - Training Shape: torch.Size([32048, 65])\n",
      "Binary Classification - Testing Shape: torch.Size([8012, 65])\n"
     ]
    }
   ],
   "source": [
    "# Split the data\n",
    "X_train_b, X_test_b, y_train_b, y_test_b = train_test_split(X, y, train_size=0.80, test_size=0.20, random_state=42)\n",
    "\n",
    "print(\"Binary Classification - Training Shape:\", X_train_b.shape)\n",
    "print(\"Binary Classification - Testing Shape:\", X_test_b.shape)"
   ]
  },
  {
   "cell_type": "markdown",
   "id": "1f19d0e5-2ba5-488b-9af0-3e5d33e06d29",
   "metadata": {},
   "source": [
    "## Train a Neural Network for Binary Classification\n",
    "\n",
    "Let's now create a neural network for binary classification to predict hotel cancellations."
   ]
  },
  {
   "cell_type": "markdown",
   "id": "0c72e761-e422-4893-ac6c-37693886f344",
   "metadata": {},
   "source": [
    "Set a random seed to `42` using `torch.manual_seed(42)`.\n",
    "\n",
    "Build the neural network architecture using `nn.Sequential` with the following:\n",
    "- input layer with `65` nodes (equal to the number of training features)\n",
    "- first hidden layer with `36` nodes and a ReLU activation\n",
    "- second hidden layer with `18` nodes and a ReLU activation\n",
    "- output layer with `1` node and a Sigmoid activation"
   ]
  },
  {
   "cell_type": "code",
   "execution_count": 19,
   "id": "be281de6-8e20-4e8b-a88b-4259db34dccf",
   "metadata": {},
   "outputs": [],
   "source": [
    "torch.manual_seed(42)\n",
    "\n",
    "# Define the binary classification model\n",
    "input_dim_b = X_train_b.shape[1]\n",
    "binary_model = nn.Sequential(\n",
    "    nn.Linear(input_dim_b, 36),\n",
    "    nn.ReLU(),\n",
    "    nn.Linear(36, 18),\n",
    "    nn.ReLU(),\n",
    "    nn.Linear(18, 1),\n",
    "    nn.Sigmoid()\n",
    ")"
   ]
  },
  {
   "cell_type": "markdown",
   "id": "5399e8f4-213f-43eb-894c-aef2b030c900",
   "metadata": {},
   "source": [
    "Next, let's define the loss function and optimizer used for training:\n",
    "- set the **binary cross-entropy** loss function to the variable `loss`\n",
    "- set the **Adam** optimizer to the variable `optimizer` with a learning rate of `0.005`"
   ]
  },
  {
   "cell_type": "code",
   "execution_count": 20,
   "id": "03ca9cbf-b5e2-423a-88b0-98c1eb51f492",
   "metadata": {},
   "outputs": [],
   "source": [
    "loss = nn.BCELoss()\n",
    "optimizer = optim.Adam(binary_model.parameters(), lr=0.005)"
   ]
  },
  {
   "cell_type": "markdown",
   "id": "2b596b59-7ae9-4dcd-9f71-11bf324be1f8",
   "metadata": {},
   "source": [
    "Let's build the training loop to train our neural network.\n",
    "\n",
    "Train the neural network for `1000` epochs.\n",
    "\n",
    "Keep track of the training performance by printing out the binary cross-entropy loss and accuracy score every `100` epochs.\n",
    "\n",
    "Before calculating accuracy, convert the model's predicted probabilities to binary labels (as integers) using `0.5` as the threshold."
   ]
  },
  {
   "cell_type": "code",
   "execution_count": 21,
   "id": "428aeaf3-6952-4050-9a5c-e4f9e6ff794c",
   "metadata": {},
   "outputs": [
    {
     "name": "stdout",
     "output_type": "stream",
     "text": [
      "Epoch [100/1000], BCELoss: 0.3975, Accuracy: 0.8224\n",
      "Epoch [200/1000], BCELoss: 0.3625, Accuracy: 0.8297\n",
      "Epoch [300/1000], BCELoss: 0.3537, Accuracy: 0.8347\n",
      "Epoch [400/1000], BCELoss: 0.3442, Accuracy: 0.8377\n",
      "Epoch [500/1000], BCELoss: 0.3399, Accuracy: 0.8395\n",
      "Epoch [600/1000], BCELoss: 0.3339, Accuracy: 0.8409\n",
      "Epoch [700/1000], BCELoss: 0.3353, Accuracy: 0.8426\n",
      "Epoch [800/1000], BCELoss: 0.3315, Accuracy: 0.8414\n",
      "Epoch [900/1000], BCELoss: 0.3263, Accuracy: 0.8450\n",
      "Epoch [1000/1000], BCELoss: 0.3247, Accuracy: 0.8445\n"
     ]
    }
   ],
   "source": [
    "num_epochs = 1000\n",
    "\n",
    "for epoch in range(num_epochs):\n",
    "    predictions = binary_model(X_train_b)\n",
    "    BCELoss = loss(predictions, y_train_b)\n",
    "    BCELoss.backward()\n",
    "    optimizer.step()\n",
    "    optimizer.zero_grad()\n",
    "    \n",
    "    if (epoch + 1) % 100 == 0:\n",
    "        predicted_labels = (predictions >= 0.5).int()\n",
    "        accuracy = accuracy_score(y_train_b, predicted_labels)\n",
    "        print(f'Epoch [{epoch+1}/{num_epochs}], BCELoss: {BCELoss.item():.4f}, Accuracy: {accuracy.item():.4f}')"
   ]
  },
  {
   "cell_type": "markdown",
   "id": "42ec35a0-5096-4000-9a7b-f1724a2ef946",
   "metadata": {},
   "source": [
    "Let's evaluate the trained neural network on the testing set:\n",
    "\n",
    "1. Set the model to **evaluation mode**\n",
    "2. Turn off gradient calculations\n",
    "3. Generate predicted probabilities on `X_test`. Save the probabilities to the variable `test_predictions`.\n",
    "4. Convert the predicted probabilities to binary labels using `0.5` as the threshold. Save the labels to the variable `test_predicted_labels`."
   ]
  },
  {
   "cell_type": "code",
   "execution_count": 22,
   "id": "70ee1ac3-d63c-4a97-bbbd-2a0a7e502d10",
   "metadata": {},
   "outputs": [],
   "source": [
    "# Evaluate on test set for binary classification\n",
    "binary_model.eval()\n",
    "with torch.no_grad():\n",
    "    test_predictions = binary_model(X_test_b)\n",
    "    test_predicted_labels = (test_predictions >= 0.5).int()"
   ]
  },
  {
   "cell_type": "markdown",
   "id": "e2f37de0-6e5c-4716-ad10-37ced7a86621",
   "metadata": {},
   "source": [
    "Recall that the number of cancellations is much lower than the number of non-cancellations (27.8% canceled vs 72.2% did not cancel). \n",
    "\n",
    "To evaluate our neural network effectively, compute the accuracy, precision, recall, and F1 scores using the `sklearn.metrics` module:\n",
    "\n",
    "- use the `accuracy_score` function to compute the overall accuracy\n",
    "- use the `classification_report` function to compute the precision, recall, and F1 scores\n",
    "\n",
    "We will later print out the accuracy and classification report."
   ]
  },
  {
   "cell_type": "code",
   "execution_count": 23,
   "id": "434e5601-8cee-430a-b47b-95ce604c50b9",
   "metadata": {},
   "outputs": [
    {
     "name": "stdout",
     "output_type": "stream",
     "text": [
      "Binary Classification Test Accuracy: 0.8397\n",
      "Binary Classification Report:\n",
      "              precision    recall  f1-score   support\n",
      "\n",
      "         0.0       0.88      0.90      0.89      5798\n",
      "         1.0       0.72      0.68      0.70      2214\n",
      "\n",
      "    accuracy                           0.84      8012\n",
      "   macro avg       0.80      0.79      0.80      8012\n",
      "weighted avg       0.84      0.84      0.84      8012\n",
      "\n"
     ]
    }
   ],
   "source": [
    "from sklearn.metrics import accuracy_score, classification_report\n",
    "\n",
    "binary_model.eval()\n",
    "with torch.no_grad():\n",
    "    test_predictions = binary_model(X_test_b)\n",
    "    test_predicted_labels = (test_predictions >= 0.5).int()\n",
    "\n",
    "test_accuracy = accuracy_score(y_test_b.numpy(), test_predicted_labels.numpy())\n",
    "print(f'Binary Classification Test Accuracy: {test_accuracy:.4f}')\n",
    "print(\"Binary Classification Report:\")\n",
    "print(classification_report(y_test_b.numpy(), test_predicted_labels.numpy()))"
   ]
  },
  {
   "cell_type": "markdown",
   "id": "4f7e573f-daa9-4918-9228-36e2e06ca16d",
   "metadata": {},
   "source": [
    "## 📈 Conclusion: Binary Classification Model\n",
    "\n",
    "The binary classification model demonstrates strong predictive power for identifying hotel booking cancellations:\n",
    "\n",
    "- **Overall accuracy:** The model achieved an accuracy of **83.7%**, meaning that 83.7% of the predictions were correct.\n",
    "- **Precision:** When the model predicted a cancellation, it was correct about **72%** of the time.\n",
    "- **Recall:** The model successfully captured **68%** of all actual cancellations in the data.\n",
    "\n",
    "While the results are promising, there is room for improvement. A more thorough feature selection process or the inclusion of additional relevant data could enhance predictive performance. For instance, integrating external data like holiday calendars, weather conditions, and economic indicators may boost the model's accuracy.\n",
    "\n",
    "Additionally, experimenting with the neural network architecture — adjusting the number of nodes, adding hidden layers, using various activation functions, or fine-tuning optimization algorithms — could further refine the model.\n",
    "\n",
    "Future steps may also include hyperparameter tuning through grid search or random search methods, and implementing cross-validation to ensure the model generalizes well to unseen data.\n"
   ]
  },
  {
   "cell_type": "markdown",
   "id": "bef7b3ad-9e0d-4ae3-8de8-e20d29c82420",
   "metadata": {},
   "source": [
    "## Train a Neural Network for Multiclass Classification\n",
    "\n",
    "Let's now extend our binary classification task to multiclass by attempting to also predict customers who **no-showed** within the `reservation_status` column.\n",
    "\n",
    "If a hotel can accurately predict no-shows, they can reach out ahead of time to customers who are at high risk of not-showing to their reservation."
   ]
  },
  {
   "cell_type": "markdown",
   "id": "e56d798e-d97c-400f-b761-54a02b27c6ad",
   "metadata": {},
   "source": [
    "First, let's label encode the three categories in the `reservation_status` column:\n",
    "- **Check-Out** to `2`\n",
    "- **Canceled** to `1`\n",
    "- **No-Show** to `0`"
   ]
  },
  {
   "cell_type": "code",
   "execution_count": 24,
   "id": "af57a73b-b3df-4574-a376-1ba9fddfcf16",
   "metadata": {},
   "outputs": [],
   "source": [
    "#label encoding\n",
    "hotels['reservation_status'] = hotels['reservation_status'].replace({'Check-Out':2, 'Canceled':1, 'No-Show':0})"
   ]
  },
  {
   "cell_type": "markdown",
   "id": "776ce78d-5f2c-4fa0-b513-50c79d60e143",
   "metadata": {},
   "source": [
    "Using the same list of training features in `train_features`, create the `X` and `y` tensors where:\n",
    "\n",
    "- `X` contains the data values from the `train_features` columns\n",
    "- `y` contains the multiclass data values in the `reservation_status` column"
   ]
  },
  {
   "cell_type": "code",
   "execution_count": 26,
   "id": "095aba89-a375-4581-aafe-5cbaa26e81d3",
   "metadata": {},
   "outputs": [],
   "source": [
    "features_multi = hotels.drop(columns=['is_canceled', 'reservation_status'])\n",
    "features_multi = features_multi.apply(pd.to_numeric, errors='coerce')\n",
    "X_multi = torch.tensor(features_multi.values, dtype=torch.float32)\n",
    "y_multi = torch.tensor(hotels['reservation_status'].values, dtype=torch.long)"
   ]
  },
  {
   "cell_type": "markdown",
   "id": "5abbd301-7464-4fbf-abcd-2aaa03478cd9",
   "metadata": {},
   "source": [
    "Similar to before, split the `X` and `y` tensors into training and testing splits using the following scheme:\n",
    "- Use 80% of the data for the training set `X_train` and `y_train`\n",
    "- Use 20% of the data for the testing set `X_test` and `y_test`\n",
    "- Set the random state to `42`"
   ]
  },
  {
   "cell_type": "code",
   "execution_count": 27,
   "id": "6f9b53ad-8f96-4f25-9253-97020bfcbec3",
   "metadata": {},
   "outputs": [
    {
     "name": "stdout",
     "output_type": "stream",
     "text": [
      "Multiclass Classification - Training Shape: torch.Size([32048, 65])\n",
      "Multiclass Classification - Testing Shape: torch.Size([8012, 65])\n"
     ]
    }
   ],
   "source": [
    "# Split the data\n",
    "X_train_m, X_test_m, y_train_m, y_test_m = train_test_split(\n",
    "    X_multi, y_multi, train_size=0.8, test_size=0.2, random_state=42)\n",
    "\n",
    "print(\"Multiclass Classification - Training Shape:\", X_train_m.shape)\n",
    "print(\"Multiclass Classification - Testing Shape:\", X_test_m.shape)"
   ]
  },
  {
   "cell_type": "markdown",
   "id": "746d568e-1964-4885-b911-e5b07a337a84",
   "metadata": {},
   "source": [
    "Set a random seed using `torch.manual_seed(42)`.\n",
    "\n",
    "Next, let's construct the multiclass neural network with the following architecture:\n",
    "\n",
    "- input layer with `65` nodes (equal to the number of training features)\n",
    "- first hidden layer with `65` nodes and a ReLU activation\n",
    "- second hidden layer with `36` nodes and a ReLU activation\n",
    "- final output layer with `3` nodes corresponding to each of the categories in `reservation_status`\n",
    "\n",
    "We will later save the network to the variable `multiclass_model`."
   ]
  },
  {
   "cell_type": "code",
   "execution_count": 28,
   "id": "30bcdce8-a0f6-4b42-8e39-14f4514183d5",
   "metadata": {},
   "outputs": [],
   "source": [
    "torch.manual_seed(42)\n",
    "input_dim_m = X_train_m.shape[1]\n",
    "multiclass_model = nn.Sequential(\n",
    "    nn.Linear(input_dim_m, 65),\n",
    "    nn.ReLU(),\n",
    "    nn.Linear(65, 36),\n",
    "    nn.ReLU(),\n",
    "    nn.Linear(36, 3)  # remember that our output layer should have same number as target classes, in this casses three classes: No-Show (0), Canceled (1), Check-Out (2)\n",
    ")"
   ]
  },
  {
   "cell_type": "markdown",
   "id": "da66f270-3ff1-46ae-afb3-bf56f8c48231",
   "metadata": {},
   "source": [
    "Next, let's define the loss function and optimizer used for multiclass training:\n",
    "- set the **cross-entropy** loss function for multiclass to the variable `loss`\n",
    "- set the **Adam** optimizer to the variable `optimizer` with a learning rate of `0.01`"
   ]
  },
  {
   "cell_type": "code",
   "execution_count": 29,
   "id": "054e5888-c5b3-4708-b4d5-a253d503f86b",
   "metadata": {},
   "outputs": [],
   "source": [
    "criterion_m = nn.CrossEntropyLoss()\n",
    "optimizer_m = optim.Adam(multiclass_model.parameters(), lr=0.01)"
   ]
  },
  {
   "cell_type": "markdown",
   "id": "2cd8d1c8-a815-4371-b905-1696ac3f5faf",
   "metadata": {},
   "source": [
    "Let's build the training loop to train our neural network.\n",
    "\n",
    "1. Train the neural network for `500` epochs.\n",
    "2. Keep track of the training performance by printing out the cross-entropy loss and accuracy score every `100` epochs.\n",
    "3. Be sure to convert the output probabilites of the multiclass model to labels using the `torch.argmax()` function."
   ]
  },
  {
   "cell_type": "code",
   "execution_count": 30,
   "id": "c24d74fd-c2fd-4287-a251-403c5e3ed04d",
   "metadata": {},
   "outputs": [
    {
     "name": "stdout",
     "output_type": "stream",
     "text": [
      "Epoch [100/500], Loss: 0.4191, Accuracy: 0.8211\n",
      "Epoch [200/500], Loss: 0.4071, Accuracy: 0.8217\n",
      "Epoch [300/500], Loss: 0.3631, Accuracy: 0.8400\n",
      "Epoch [400/500], Loss: 0.3531, Accuracy: 0.8436\n",
      "Epoch [500/500], Loss: 0.3459, Accuracy: 0.8475\n"
     ]
    }
   ],
   "source": [
    "# Training loop for multiclass classification\n",
    "\n",
    "num_epochs_m = 500\n",
    "for epoch in range(num_epochs_m):\n",
    "    multiclass_model.train()\n",
    "    predictions_m = multiclass_model(X_train_m)\n",
    "    loss_m = criterion_m(predictions_m, y_train_m)\n",
    "    loss_m.backward()\n",
    "    optimizer_m.step()\n",
    "    optimizer_m.zero_grad()\n",
    "    \n",
    "    # Print every 100 epochs\n",
    "    if (epoch + 1) % 100 == 0:\n",
    "        predicted_labels_m = torch.argmax(predictions_m, dim=1)\n",
    "        acc_m = accuracy_score(y_train_m.numpy(), predicted_labels_m.numpy())\n",
    "        print(f'Epoch [{epoch+1}/{num_epochs_m}], Loss: {loss_m.item():.4f}, Accuracy: {acc_m:.4f}')"
   ]
  },
  {
   "cell_type": "markdown",
   "id": "50586271-905d-4229-8a00-611528153b28",
   "metadata": {},
   "source": [
    "Let's evaluate the trained neural network on the testing set:\n",
    "\n",
    "1. Set the multiclass model to **evaluation mode**\n",
    "2. Turn off gradient calculations\n",
    "3. Generate predicted probabilities on `X_test`. Save the predicted probabilities to the variable `multiclass_predictions`.\n",
    "4. Select the class with the largest predicted probability using the `torch.argmax()` function. Save the predicted classes to the variable `multiclass_predicted_labels`."
   ]
  },
  {
   "cell_type": "code",
   "execution_count": 31,
   "id": "92def2d2-e470-40d1-a938-22c6b83f727d",
   "metadata": {},
   "outputs": [],
   "source": [
    "# Evaluate on test set for multiclass classification\n",
    "multiclass_model.eval()\n",
    "with torch.no_grad():\n",
    "    test_predictions_m = multiclass_model(X_test_m)\n",
    "    test_predicted_labels_m = torch.argmax(test_predictions_m, dim=1)"
   ]
  },
  {
   "cell_type": "markdown",
   "id": "e9892547-fea8-4d44-988d-2b1aca8b6b24",
   "metadata": {},
   "source": [
    "Lastly, let's evaluate the multiclass neural network by calculating the overall accuracy, precision, recall, and F1 scores.\n",
    "\n",
    "Using the `sklearn.metrics` module:\n",
    "- use the `accuracy_score` function to compute and save the overall accuracy to the variable `multiclass_accuracy`\n",
    "- use the `classification_report` function to compute and save the classification metrics for each class to the variable `multiclass_report`\n",
    "\n",
    "Print the overall accuracy and classification report for our multiclass model."
   ]
  },
  {
   "cell_type": "code",
   "execution_count": 32,
   "id": "79d96267-d4ab-49fc-be8e-3175cc7a5b9b",
   "metadata": {},
   "outputs": [
    {
     "name": "stdout",
     "output_type": "stream",
     "text": [
      "Multiclass Classification Test Accuracy: 0.8374\n",
      "Multiclass Classification Report:\n",
      "              precision    recall  f1-score   support\n",
      "\n",
      "           0       0.86      0.11      0.19        56\n",
      "           1       0.72      0.68      0.70      2158\n",
      "           2       0.88      0.90      0.89      5798\n",
      "\n",
      "    accuracy                           0.84      8012\n",
      "   macro avg       0.82      0.56      0.59      8012\n",
      "weighted avg       0.83      0.84      0.83      8012\n",
      "\n"
     ]
    }
   ],
   "source": [
    "from sklearn.metrics import accuracy_score, classification_report\n",
    "\n",
    "test_accuracy_m = accuracy_score(y_test_m.numpy(), test_predicted_labels_m.numpy())\n",
    "print(f'Multiclass Classification Test Accuracy: {test_accuracy_m:.4f}')\n",
    "print(\"Multiclass Classification Report:\")\n",
    "print(classification_report(y_test_m.numpy(), test_predicted_labels_m.numpy()))"
   ]
  },
  {
   "cell_type": "markdown",
   "id": "7a78ab2c-650c-422f-876f-33e150d8b00c",
   "metadata": {},
   "source": [
    "## 📈 Conclusion\n",
    "\n",
    "### Multiclass Neural Network Performance Analysis\n",
    "\n",
    "Our **multiclass neural network** shows promising results, achieving an **overall accuracy of 84%**, meaning that 84% of all predictions made by the model were correct.\n",
    "\n",
    "- **Cancellation Predictions:**\n",
    "  - The **precision score** for predicting cancellations (class 1) is **72%**, indicating that when the model predicts a cancellation, it is correct 72% of the time.\n",
    "  - The **recall score** is **68%**, meaning the model captures 68% of actual cancellations present in the dataset.\n",
    "\n",
    "- **No-Show Predictions:**\n",
    "  - For **no-shows** (class 0), the **precision score** is **86%**, suggesting that when the model predicts a no-show, it is correct 86% of the time — a surprisingly strong result.\n",
    "  - However, the **recall score** is **11%**, highlighting a significant gap — the model only identifies 11% of actual no-shows, which reduces its effectiveness in capturing these critical cases.\n",
    "  - The **F1 score** for no-shows is **27%**, pointing to a poor balance between precision and recall, revealing that while the model is confident when predicting a no-show, it misses many actual instances.\n",
    "\n",
    "### Key Takeaways\n",
    "\n",
    "- **Strengths:**\n",
    "  - The model performs well in predicting cancellations, offering hotels a reliable tool to foresee and mitigate revenue loss from advance cancellations.\n",
    "  - High precision for no-shows means fewer false alarms, helping hotels avoid unnecessary interventions.\n",
    "\n",
    "- **Weaknesses:**\n",
    "  - The low recall score for no-shows suggests the model struggles to identify most no-shows, limiting its usefulness for proactive customer engagement.\n",
    "\n",
    "### Next Steps for Improvement\n",
    "\n",
    "To enhance performance, future work could include:\n",
    "- **Data Augmentation:** Collect additional data, such as weather conditions, holiday seasons, and global events like pandemics, to capture more relevant patterns.\n",
    "- **Feature Engineering:** Explore complex features like last-minute cancellations or booking patterns over time.\n",
    "- **Model Tuning:** Experiment with:\n",
    "  - Increasing hidden layers and nodes\n",
    "  - Trying different activation functions (ReLU, Leaky ReLU)\n",
    "  - Fine-tuning optimizers and learning rates\n",
    "  - Incorporating dropout layers to prevent overfitting\n",
    "- **Class Imbalance Handling:** Use techniques like SMOTE (Synthetic Minority Over-sampling Technique) to balance the dataset, especially for the no-show class.\n",
    "\n",
    "---"
   ]
  },
  {
   "cell_type": "code",
   "execution_count": null,
   "id": "3a89f96b",
   "metadata": {},
   "outputs": [],
   "source": []
  }
 ],
 "metadata": {
  "kernelspec": {
   "display_name": "Python [conda env:anaconda3]",
   "language": "python",
   "name": "conda-env-anaconda3-py"
  },
  "language_info": {
   "codemirror_mode": {
    "name": "ipython",
    "version": 3
   },
   "file_extension": ".py",
   "mimetype": "text/x-python",
   "name": "python",
   "nbconvert_exporter": "python",
   "pygments_lexer": "ipython3",
   "version": "3.12.7"
  }
 },
 "nbformat": 4,
 "nbformat_minor": 5
}
