{
 "cells": [
  {
   "cell_type": "markdown",
   "id": "ccfb510f-e8f5-4251-937c-4ca1c14a67b1",
   "metadata": {
    "panel-layout": {
     "height": 50.8125,
     "visible": true,
     "width": 100
    }
   },
   "source": [
    "##  E-Commerce Funnel Analysis - Exploratory Data Analysis (EDA) and ETL\n"
   ]
  },
  {
   "cell_type": "markdown",
   "id": "9583d780-3ff3-4a20-8d62-06dc29223b3e",
   "metadata": {
    "panel-layout": {
     "height": 77.48750305175781,
     "visible": true,
     "width": 100
    }
   },
   "source": [
    "####  Summary: In this analysis, we aim to understand the customer journey on an e-commerce website. Using four datasets representing different stages of the funnel (visits, cart additions, checkouts, and purchases), we perform Exploratory Data Analysis (EDA) to identify bottlenecks and conversion rates. We'll also compute metrics like the percentage of users dropping off at each stage and the average time to purchase. The insights derived can help optimize the user experience and increase conversions.\n"
   ]
  },
  {
   "cell_type": "markdown",
   "id": "78e5865f-9566-4003-9703-f181b099d009",
   "metadata": {
    "panel-layout": {
     "height": 40.275001525878906,
     "visible": true,
     "width": 100
    }
   },
   "source": [
    "###### As usual, we import our required libraries"
   ]
  },
  {
   "cell_type": "code",
   "execution_count": 1,
   "id": "504d4e70-1a10-4527-956e-8ddc8411728e",
   "metadata": {},
   "outputs": [],
   "source": [
    "import pandas as pd"
   ]
  },
  {
   "cell_type": "markdown",
   "id": "19963ebf-e629-47f5-bb05-b432edf18268",
   "metadata": {
    "panel-layout": {
     "height": 40.275001525878906,
     "visible": true,
     "width": 100
    }
   },
   "source": [
    "###### First we load all the dataset, wich came from differents csv files and stores each dataset in a variable"
   ]
  },
  {
   "cell_type": "code",
   "execution_count": 2,
   "id": "d0cde2a2-89ff-4b91-8ca7-e72641428919",
   "metadata": {},
   "outputs": [],
   "source": [
    "visits = pd.read_csv('visits.csv', parse_dates=['visit_time'])\n",
    "cart = pd.read_csv('cart.csv', parse_dates=['cart_time'])\n",
    "checkout = pd.read_csv('checkout.csv', parse_dates=['checkout_time'])\n",
    "purchase = pd.read_csv('purchase.csv', parse_dates=['purchase_time'])"
   ]
  },
  {
   "cell_type": "markdown",
   "id": "1d3fe390-ddf9-40a6-8537-ec567feb5fe3",
   "metadata": {
    "panel-layout": {
     "height": 44.07500076293945,
     "visible": true,
     "width": 100
    }
   },
   "source": [
    "### 1. Preview of the Data"
   ]
  },
  {
   "cell_type": "markdown",
   "id": "05f9c0d1-b2b6-4017-a325-4d4e44ad4410",
   "metadata": {
    "panel-layout": {
     "height": 40.275001525878906,
     "visible": true,
     "width": 100
    }
   },
   "source": [
    "###### Just a quick overview of all of them. Later we can examine each with much more details"
   ]
  },
  {
   "cell_type": "code",
   "execution_count": 3,
   "id": "4f3eff69-d8fd-425d-bef5-edc24487b774",
   "metadata": {
    "panel-layout": {
     "height": 676.7999877929688,
     "visible": true,
     "width": 100
    }
   },
   "outputs": [
    {
     "name": "stdout",
     "output_type": "stream",
     "text": [
      "Visits Data:\n"
     ]
    },
    {
     "data": {
      "text/html": [
       "<div>\n",
       "<style scoped>\n",
       "    .dataframe tbody tr th:only-of-type {\n",
       "        vertical-align: middle;\n",
       "    }\n",
       "\n",
       "    .dataframe tbody tr th {\n",
       "        vertical-align: top;\n",
       "    }\n",
       "\n",
       "    .dataframe thead th {\n",
       "        text-align: right;\n",
       "    }\n",
       "</style>\n",
       "<table border=\"1\" class=\"dataframe\">\n",
       "  <thead>\n",
       "    <tr style=\"text-align: right;\">\n",
       "      <th></th>\n",
       "      <th>user_id</th>\n",
       "      <th>visit_time</th>\n",
       "    </tr>\n",
       "  </thead>\n",
       "  <tbody>\n",
       "    <tr>\n",
       "      <th>0</th>\n",
       "      <td>943647ef-3682-4750-a2e1-918ba6f16188</td>\n",
       "      <td>2017-04-07 15:14:00</td>\n",
       "    </tr>\n",
       "    <tr>\n",
       "      <th>1</th>\n",
       "      <td>0c3a3dd0-fb64-4eac-bf84-ba069ce409f2</td>\n",
       "      <td>2017-01-26 14:24:00</td>\n",
       "    </tr>\n",
       "    <tr>\n",
       "      <th>2</th>\n",
       "      <td>6e0b2d60-4027-4d9a-babd-0e7d40859fb1</td>\n",
       "      <td>2017-08-20 08:23:00</td>\n",
       "    </tr>\n",
       "    <tr>\n",
       "      <th>3</th>\n",
       "      <td>6879527e-c5a6-4d14-b2da-50b85212b0ab</td>\n",
       "      <td>2017-11-04 18:15:00</td>\n",
       "    </tr>\n",
       "    <tr>\n",
       "      <th>4</th>\n",
       "      <td>a84327ff-5daa-4ba1-b789-d5b4caf81e96</td>\n",
       "      <td>2017-02-27 11:25:00</td>\n",
       "    </tr>\n",
       "  </tbody>\n",
       "</table>\n",
       "</div>"
      ],
      "text/plain": [
       "                                user_id          visit_time\n",
       "0  943647ef-3682-4750-a2e1-918ba6f16188 2017-04-07 15:14:00\n",
       "1  0c3a3dd0-fb64-4eac-bf84-ba069ce409f2 2017-01-26 14:24:00\n",
       "2  6e0b2d60-4027-4d9a-babd-0e7d40859fb1 2017-08-20 08:23:00\n",
       "3  6879527e-c5a6-4d14-b2da-50b85212b0ab 2017-11-04 18:15:00\n",
       "4  a84327ff-5daa-4ba1-b789-d5b4caf81e96 2017-02-27 11:25:00"
      ]
     },
     "metadata": {},
     "output_type": "display_data"
    },
    {
     "name": "stdout",
     "output_type": "stream",
     "text": [
      "\n",
      "Cart Data:\n"
     ]
    },
    {
     "data": {
      "text/html": [
       "<div>\n",
       "<style scoped>\n",
       "    .dataframe tbody tr th:only-of-type {\n",
       "        vertical-align: middle;\n",
       "    }\n",
       "\n",
       "    .dataframe tbody tr th {\n",
       "        vertical-align: top;\n",
       "    }\n",
       "\n",
       "    .dataframe thead th {\n",
       "        text-align: right;\n",
       "    }\n",
       "</style>\n",
       "<table border=\"1\" class=\"dataframe\">\n",
       "  <thead>\n",
       "    <tr style=\"text-align: right;\">\n",
       "      <th></th>\n",
       "      <th>user_id</th>\n",
       "      <th>cart_time</th>\n",
       "    </tr>\n",
       "  </thead>\n",
       "  <tbody>\n",
       "    <tr>\n",
       "      <th>0</th>\n",
       "      <td>2be90e7c-9cca-44e0-bcc5-124b945ff168</td>\n",
       "      <td>2017-11-07 20:45:00</td>\n",
       "    </tr>\n",
       "    <tr>\n",
       "      <th>1</th>\n",
       "      <td>4397f73f-1da3-4ab3-91af-762792e25973</td>\n",
       "      <td>2017-05-27 01:35:00</td>\n",
       "    </tr>\n",
       "    <tr>\n",
       "      <th>2</th>\n",
       "      <td>a9db3d4b-0a0a-4398-a55a-ebb2c7adf663</td>\n",
       "      <td>2017-03-04 10:38:00</td>\n",
       "    </tr>\n",
       "    <tr>\n",
       "      <th>3</th>\n",
       "      <td>b594862a-36c5-47d5-b818-6e9512b939b3</td>\n",
       "      <td>2017-09-27 08:22:00</td>\n",
       "    </tr>\n",
       "    <tr>\n",
       "      <th>4</th>\n",
       "      <td>a68a16e2-94f0-4ce8-8ce3-784af0bbb974</td>\n",
       "      <td>2017-07-26 15:48:00</td>\n",
       "    </tr>\n",
       "  </tbody>\n",
       "</table>\n",
       "</div>"
      ],
      "text/plain": [
       "                                user_id           cart_time\n",
       "0  2be90e7c-9cca-44e0-bcc5-124b945ff168 2017-11-07 20:45:00\n",
       "1  4397f73f-1da3-4ab3-91af-762792e25973 2017-05-27 01:35:00\n",
       "2  a9db3d4b-0a0a-4398-a55a-ebb2c7adf663 2017-03-04 10:38:00\n",
       "3  b594862a-36c5-47d5-b818-6e9512b939b3 2017-09-27 08:22:00\n",
       "4  a68a16e2-94f0-4ce8-8ce3-784af0bbb974 2017-07-26 15:48:00"
      ]
     },
     "metadata": {},
     "output_type": "display_data"
    },
    {
     "name": "stdout",
     "output_type": "stream",
     "text": [
      "\n",
      "Checkout Data:\n"
     ]
    },
    {
     "data": {
      "text/html": [
       "<div>\n",
       "<style scoped>\n",
       "    .dataframe tbody tr th:only-of-type {\n",
       "        vertical-align: middle;\n",
       "    }\n",
       "\n",
       "    .dataframe tbody tr th {\n",
       "        vertical-align: top;\n",
       "    }\n",
       "\n",
       "    .dataframe thead th {\n",
       "        text-align: right;\n",
       "    }\n",
       "</style>\n",
       "<table border=\"1\" class=\"dataframe\">\n",
       "  <thead>\n",
       "    <tr style=\"text-align: right;\">\n",
       "      <th></th>\n",
       "      <th>user_id</th>\n",
       "      <th>checkout_time</th>\n",
       "    </tr>\n",
       "  </thead>\n",
       "  <tbody>\n",
       "    <tr>\n",
       "      <th>0</th>\n",
       "      <td>d33bdc47-4afa-45bc-b4e4-dbe948e34c0d</td>\n",
       "      <td>2017-06-25 09:29:00</td>\n",
       "    </tr>\n",
       "    <tr>\n",
       "      <th>1</th>\n",
       "      <td>4ac186f0-9954-4fea-8a27-c081e428e34e</td>\n",
       "      <td>2017-04-07 20:11:00</td>\n",
       "    </tr>\n",
       "    <tr>\n",
       "      <th>2</th>\n",
       "      <td>3c9c78a7-124a-4b77-8d2e-e1926e011e7d</td>\n",
       "      <td>2017-07-13 11:38:00</td>\n",
       "    </tr>\n",
       "    <tr>\n",
       "      <th>3</th>\n",
       "      <td>89fe330a-8966-4756-8f7c-3bdbcd47279a</td>\n",
       "      <td>2017-04-20 16:15:00</td>\n",
       "    </tr>\n",
       "    <tr>\n",
       "      <th>4</th>\n",
       "      <td>3ccdaf69-2d30-40de-b083-51372881aedd</td>\n",
       "      <td>2017-01-08 20:52:00</td>\n",
       "    </tr>\n",
       "  </tbody>\n",
       "</table>\n",
       "</div>"
      ],
      "text/plain": [
       "                                user_id       checkout_time\n",
       "0  d33bdc47-4afa-45bc-b4e4-dbe948e34c0d 2017-06-25 09:29:00\n",
       "1  4ac186f0-9954-4fea-8a27-c081e428e34e 2017-04-07 20:11:00\n",
       "2  3c9c78a7-124a-4b77-8d2e-e1926e011e7d 2017-07-13 11:38:00\n",
       "3  89fe330a-8966-4756-8f7c-3bdbcd47279a 2017-04-20 16:15:00\n",
       "4  3ccdaf69-2d30-40de-b083-51372881aedd 2017-01-08 20:52:00"
      ]
     },
     "metadata": {},
     "output_type": "display_data"
    },
    {
     "name": "stdout",
     "output_type": "stream",
     "text": [
      "\n",
      "Purchase Data:\n"
     ]
    },
    {
     "data": {
      "text/html": [
       "<div>\n",
       "<style scoped>\n",
       "    .dataframe tbody tr th:only-of-type {\n",
       "        vertical-align: middle;\n",
       "    }\n",
       "\n",
       "    .dataframe tbody tr th {\n",
       "        vertical-align: top;\n",
       "    }\n",
       "\n",
       "    .dataframe thead th {\n",
       "        text-align: right;\n",
       "    }\n",
       "</style>\n",
       "<table border=\"1\" class=\"dataframe\">\n",
       "  <thead>\n",
       "    <tr style=\"text-align: right;\">\n",
       "      <th></th>\n",
       "      <th>user_id</th>\n",
       "      <th>purchase_time</th>\n",
       "    </tr>\n",
       "  </thead>\n",
       "  <tbody>\n",
       "    <tr>\n",
       "      <th>0</th>\n",
       "      <td>4b44ace4-2721-47a0-b24b-15fbfa2abf85</td>\n",
       "      <td>2017-05-11 04:25:00</td>\n",
       "    </tr>\n",
       "    <tr>\n",
       "      <th>1</th>\n",
       "      <td>02e684ae-a448-408f-a9ff-dcb4a5c99aac</td>\n",
       "      <td>2017-09-05 08:45:00</td>\n",
       "    </tr>\n",
       "    <tr>\n",
       "      <th>2</th>\n",
       "      <td>4b4bc391-749e-4b90-ab8f-4f6e3c84d6dc</td>\n",
       "      <td>2017-11-20 20:49:00</td>\n",
       "    </tr>\n",
       "    <tr>\n",
       "      <th>3</th>\n",
       "      <td>a5dbb25f-3c36-4103-9030-9f7c6241cd8d</td>\n",
       "      <td>2017-01-22 15:18:00</td>\n",
       "    </tr>\n",
       "    <tr>\n",
       "      <th>4</th>\n",
       "      <td>46a3186d-7f5a-4ab9-87af-84d05bfd4867</td>\n",
       "      <td>2017-06-11 11:32:00</td>\n",
       "    </tr>\n",
       "  </tbody>\n",
       "</table>\n",
       "</div>"
      ],
      "text/plain": [
       "                                user_id       purchase_time\n",
       "0  4b44ace4-2721-47a0-b24b-15fbfa2abf85 2017-05-11 04:25:00\n",
       "1  02e684ae-a448-408f-a9ff-dcb4a5c99aac 2017-09-05 08:45:00\n",
       "2  4b4bc391-749e-4b90-ab8f-4f6e3c84d6dc 2017-11-20 20:49:00\n",
       "3  a5dbb25f-3c36-4103-9030-9f7c6241cd8d 2017-01-22 15:18:00\n",
       "4  46a3186d-7f5a-4ab9-87af-84d05bfd4867 2017-06-11 11:32:00"
      ]
     },
     "metadata": {},
     "output_type": "display_data"
    }
   ],
   "source": [
    "print(\"Visits Data:\")\n",
    "display(visits.head())\n",
    "print(\"\\nCart Data:\")\n",
    "display(cart.head())\n",
    "print(\"\\nCheckout Data:\")\n",
    "display(checkout.head())\n",
    "print(\"\\nPurchase Data:\")\n",
    "display(purchase.head())"
   ]
  },
  {
   "cell_type": "markdown",
   "id": "cb1fdddd-be39-486c-8f08-84744761f56d",
   "metadata": {
    "panel-layout": {
     "height": 44.07500076293945,
     "visible": true,
     "width": 100
    }
   },
   "source": [
    "### # 2. Merge visits and cart data\n"
   ]
  },
  {
   "cell_type": "code",
   "execution_count": 4,
   "id": "5e404206-2205-4722-b562-e960ec6cb19c",
   "metadata": {
    "panel-layout": {
     "height": 0,
     "visible": true,
     "width": 100
    }
   },
   "outputs": [
    {
     "name": "stdout",
     "output_type": "stream",
     "text": [
      "\n",
      "Merged Visits and Cart Data:\n",
      "                                user_id          visit_time  \\\n",
      "0  943647ef-3682-4750-a2e1-918ba6f16188 2017-04-07 15:14:00   \n",
      "1  0c3a3dd0-fb64-4eac-bf84-ba069ce409f2 2017-01-26 14:24:00   \n",
      "2  6e0b2d60-4027-4d9a-babd-0e7d40859fb1 2017-08-20 08:23:00   \n",
      "3  6879527e-c5a6-4d14-b2da-50b85212b0ab 2017-11-04 18:15:00   \n",
      "4  a84327ff-5daa-4ba1-b789-d5b4caf81e96 2017-02-27 11:25:00   \n",
      "\n",
      "            cart_time  \n",
      "0                 NaT  \n",
      "1 2017-01-26 14:44:00  \n",
      "2 2017-08-20 08:31:00  \n",
      "3                 NaT  \n",
      "4                 NaT  \n"
     ]
    }
   ],
   "source": [
    "visits_cart = pd.merge(visits, cart, how = \"left\", on= \"user_id\")\n",
    "print(\"\\nMerged Visits and Cart Data:\")\n",
    "print(visits_cart.head())"
   ]
  },
  {
   "cell_type": "code",
   "execution_count": 5,
   "id": "2734745a-0441-43a8-a2c2-4357f034acce",
   "metadata": {
    "panel-layout": {
     "height": 0,
     "visible": true,
     "width": 100
    }
   },
   "outputs": [
    {
     "name": "stdout",
     "output_type": "stream",
     "text": [
      "\n",
      "Basic info of our new merged table:\n",
      "<bound method DataFrame.info of                                    user_id          visit_time  \\\n",
      "0     943647ef-3682-4750-a2e1-918ba6f16188 2017-04-07 15:14:00   \n",
      "1     0c3a3dd0-fb64-4eac-bf84-ba069ce409f2 2017-01-26 14:24:00   \n",
      "2     6e0b2d60-4027-4d9a-babd-0e7d40859fb1 2017-08-20 08:23:00   \n",
      "3     6879527e-c5a6-4d14-b2da-50b85212b0ab 2017-11-04 18:15:00   \n",
      "4     a84327ff-5daa-4ba1-b789-d5b4caf81e96 2017-02-27 11:25:00   \n",
      "...                                    ...                 ...   \n",
      "1995  33913ac2-03da-45ae-8fc3-fea39df827c6 2017-03-25 03:29:00   \n",
      "1996  4f850132-b99d-4623-80e6-6e61d003577e 2017-01-08 09:57:00   \n",
      "1997  f0830b9b-1f5c-4e74-b63d-3f847cc6ce70 2017-09-07 12:56:00   \n",
      "1998  b01bffa7-63ba-4cd3-9d93-eb1477c23831 2017-07-20 04:37:00   \n",
      "1999  0336ca81-8d68-443f-9248-ac0b8ad147d5 2017-11-15 10:11:00   \n",
      "\n",
      "               cart_time  \n",
      "0                    NaT  \n",
      "1    2017-01-26 14:44:00  \n",
      "2    2017-08-20 08:31:00  \n",
      "3                    NaT  \n",
      "4                    NaT  \n",
      "...                  ...  \n",
      "1995                 NaT  \n",
      "1996                 NaT  \n",
      "1997                 NaT  \n",
      "1998                 NaT  \n",
      "1999                 NaT  \n",
      "\n",
      "[2000 rows x 3 columns]>\n"
     ]
    }
   ],
   "source": [
    "print(\"\\nBasic info of our new merged table:\")\n",
    "print(visits_cart.info)"
   ]
  },
  {
   "cell_type": "markdown",
   "id": "2c6a4b5c-dce4-40ed-a107-8ad1d2763b7e",
   "metadata": {
    "panel-layout": {
     "height": 10,
     "visible": true,
     "width": 100
    }
   },
   "source": [
    "\n",
    "\n"
   ]
  },
  {
   "cell_type": "markdown",
   "id": "0f7916ec-3e9d-4c85-b2ff-8769c492e754",
   "metadata": {
    "panel-layout": {
     "height": 43.212501525878906,
     "visible": true,
     "width": 100
    }
   },
   "source": [
    "#### To see how long is the Dataframe we can use the Python len method"
   ]
  },
  {
   "cell_type": "code",
   "execution_count": null,
   "id": "30956d29-987c-44b3-97a6-17f409f80a10",
   "metadata": {},
   "outputs": [],
   "source": []
  },
  {
   "cell_type": "code",
   "execution_count": 6,
   "id": "0741f639-357b-4492-9cc3-cd4138c65155",
   "metadata": {
    "panel-layout": {
     "height": 0,
     "visible": true,
     "width": 100
    }
   },
   "outputs": [
    {
     "name": "stdout",
     "output_type": "stream",
     "text": [
      " The total number of  rows of the Dataframe is 2000\n"
     ]
    }
   ],
   "source": [
    "length_merged_df = len(visits_cart)\n",
    "print(f\" The total number of  rows of the Dataframe is {length_merged_df}\")"
   ]
  },
  {
   "cell_type": "markdown",
   "id": "ae4cf6b5-3470-4ce7-9010-beea06381af6",
   "metadata": {
    "panel-layout": {
     "height": 43.212501525878906,
     "visible": true,
     "width": 100
    }
   },
   "source": [
    "#### How many of the timestamps are null for the column cart_time?"
   ]
  },
  {
   "cell_type": "code",
   "execution_count": 7,
   "id": "be853f62-f2a6-4eb5-8f41-e6bab5349fd8",
   "metadata": {
    "panel-layout": {
     "height": 0,
     "visible": true,
     "width": 100
    }
   },
   "outputs": [
    {
     "name": "stdout",
     "output_type": "stream",
     "text": [
      " The total number of timestamps from the cart_time column is 1652\n"
     ]
    }
   ],
   "source": [
    "is_null_times = visits_cart['cart_time'].isnull().sum()\n",
    "print(f\" The total number of timestamps from the cart_time column is {is_null_times}\")\n"
   ]
  },
  {
   "cell_type": "markdown",
   "id": "01540471-17f9-4977-8bda-ebbfafb34492",
   "metadata": {
    "panel-layout": {
     "height": 44.07500076293945,
     "visible": true,
     "width": 100
    }
   },
   "source": [
    "### 3.  Get some info values and then we can calculate drop-off rate from visits to cart\n"
   ]
  },
  {
   "cell_type": "code",
   "execution_count": 8,
   "id": "ec7debd0-fecd-4410-80d8-385272ba7efc",
   "metadata": {
    "panel-layout": {
     "height": 0,
     "visible": true,
     "width": 100
    }
   },
   "outputs": [
    {
     "name": "stdout",
     "output_type": "stream",
     "text": [
      "\n",
      "Percentage of visitors who did not add items to the cart: 82.60%\n"
     ]
    }
   ],
   "source": [
    "not_in_cart = visits_cart['cart_time'].isnull().sum()\n",
    "total_visitors = len(visits_cart)\n",
    "percentage_not_in_cart = (not_in_cart / total_visitors) * 100\n",
    "print(f\"\\nPercentage of visitors who did not add items to the cart: {percentage_not_in_cart:.2f}%\")"
   ]
  },
  {
   "cell_type": "markdown",
   "id": "9cf7cae0-5f07-41e3-b615-5064ff30c233",
   "metadata": {
    "panel-layout": {
     "height": 44.07500076293945,
     "visible": true,
     "width": 100
    }
   },
   "source": [
    "### 4. Merge Cart and Checkout dataframes\n"
   ]
  },
  {
   "cell_type": "code",
   "execution_count": 9,
   "id": "0e7aa0e2-73ab-495c-8cc2-7bc5e448b2fd",
   "metadata": {
    "panel-layout": {
     "height": 0,
     "visible": true,
     "width": 100
    }
   },
   "outputs": [
    {
     "name": "stdout",
     "output_type": "stream",
     "text": [
      "\n",
      "Percentage of users who added to cart but did not proceed to checkout: 35.06%\n"
     ]
    }
   ],
   "source": [
    "cart_checkout = pd.merge(cart, checkout, how='left', on='user_id')\n",
    "total_in_cart = len(cart_checkout)\n",
    "not_checked_out = cart_checkout['checkout_time'].isnull().sum()\n",
    "percentage_not_checked_out = (not_checked_out / total_in_cart) * 100\n",
    "print(f\"\\nPercentage of users who added to cart but did not proceed to checkout: {percentage_not_checked_out:.2f}%\")"
   ]
  },
  {
   "cell_type": "markdown",
   "id": "a65d68c4-ac81-44b5-aa9c-cccfa8814b8b",
   "metadata": {
    "panel-layout": {
     "height": 44.07500076293945,
     "visible": true,
     "width": 100
    }
   },
   "source": [
    "### 5. Merge all Stages of the funnel and see"
   ]
  },
  {
   "cell_type": "code",
   "execution_count": 10,
   "id": "6a62e246-8cdf-4701-9ccb-bf4fab552589",
   "metadata": {
    "panel-layout": {
     "height": 169.1999969482422,
     "visible": true,
     "width": 100
    }
   },
   "outputs": [
    {
     "name": "stdout",
     "output_type": "stream",
     "text": [
      "\n",
      "Full Funnel Data:\n"
     ]
    },
    {
     "data": {
      "text/html": [
       "<div>\n",
       "<style scoped>\n",
       "    .dataframe tbody tr th:only-of-type {\n",
       "        vertical-align: middle;\n",
       "    }\n",
       "\n",
       "    .dataframe tbody tr th {\n",
       "        vertical-align: top;\n",
       "    }\n",
       "\n",
       "    .dataframe thead th {\n",
       "        text-align: right;\n",
       "    }\n",
       "</style>\n",
       "<table border=\"1\" class=\"dataframe\">\n",
       "  <thead>\n",
       "    <tr style=\"text-align: right;\">\n",
       "      <th></th>\n",
       "      <th>user_id</th>\n",
       "      <th>visit_time</th>\n",
       "      <th>cart_time</th>\n",
       "      <th>checkout_time</th>\n",
       "      <th>purchase_time</th>\n",
       "    </tr>\n",
       "  </thead>\n",
       "  <tbody>\n",
       "    <tr>\n",
       "      <th>0</th>\n",
       "      <td>943647ef-3682-4750-a2e1-918ba6f16188</td>\n",
       "      <td>2017-04-07 15:14:00</td>\n",
       "      <td>NaT</td>\n",
       "      <td>NaT</td>\n",
       "      <td>NaT</td>\n",
       "    </tr>\n",
       "    <tr>\n",
       "      <th>1</th>\n",
       "      <td>0c3a3dd0-fb64-4eac-bf84-ba069ce409f2</td>\n",
       "      <td>2017-01-26 14:24:00</td>\n",
       "      <td>2017-01-26 14:44:00</td>\n",
       "      <td>2017-01-26 14:54:00</td>\n",
       "      <td>2017-01-26 15:08:00</td>\n",
       "    </tr>\n",
       "    <tr>\n",
       "      <th>2</th>\n",
       "      <td>6e0b2d60-4027-4d9a-babd-0e7d40859fb1</td>\n",
       "      <td>2017-08-20 08:23:00</td>\n",
       "      <td>2017-08-20 08:31:00</td>\n",
       "      <td>NaT</td>\n",
       "      <td>NaT</td>\n",
       "    </tr>\n",
       "    <tr>\n",
       "      <th>3</th>\n",
       "      <td>6879527e-c5a6-4d14-b2da-50b85212b0ab</td>\n",
       "      <td>2017-11-04 18:15:00</td>\n",
       "      <td>NaT</td>\n",
       "      <td>NaT</td>\n",
       "      <td>NaT</td>\n",
       "    </tr>\n",
       "    <tr>\n",
       "      <th>4</th>\n",
       "      <td>a84327ff-5daa-4ba1-b789-d5b4caf81e96</td>\n",
       "      <td>2017-02-27 11:25:00</td>\n",
       "      <td>NaT</td>\n",
       "      <td>NaT</td>\n",
       "      <td>NaT</td>\n",
       "    </tr>\n",
       "  </tbody>\n",
       "</table>\n",
       "</div>"
      ],
      "text/plain": [
       "                                user_id          visit_time  \\\n",
       "0  943647ef-3682-4750-a2e1-918ba6f16188 2017-04-07 15:14:00   \n",
       "1  0c3a3dd0-fb64-4eac-bf84-ba069ce409f2 2017-01-26 14:24:00   \n",
       "2  6e0b2d60-4027-4d9a-babd-0e7d40859fb1 2017-08-20 08:23:00   \n",
       "3  6879527e-c5a6-4d14-b2da-50b85212b0ab 2017-11-04 18:15:00   \n",
       "4  a84327ff-5daa-4ba1-b789-d5b4caf81e96 2017-02-27 11:25:00   \n",
       "\n",
       "            cart_time       checkout_time       purchase_time  \n",
       "0                 NaT                 NaT                 NaT  \n",
       "1 2017-01-26 14:44:00 2017-01-26 14:54:00 2017-01-26 15:08:00  \n",
       "2 2017-08-20 08:31:00                 NaT                 NaT  \n",
       "3                 NaT                 NaT                 NaT  \n",
       "4                 NaT                 NaT                 NaT  "
      ]
     },
     "metadata": {},
     "output_type": "display_data"
    }
   ],
   "source": [
    "all_data = visits.merge(cart, how='left', on='user_id')\\\n",
    "                 .merge(checkout, how='left', on='user_id')\\\n",
    "                 .merge(purchase, how='left', on='user_id')\n",
    "print(\"\\nFull Funnel Data:\")\n",
    "display(all_data.head())"
   ]
  },
  {
   "cell_type": "markdown",
   "id": "077b4bf0-e50c-4737-8bd8-3b0c39d7be0e",
   "metadata": {
    "panel-layout": {
     "height": 44.07500076293945,
     "visible": true,
     "width": 100
    }
   },
   "source": [
    "### 6. Calculate drop-off rate from checkout to purchase\n"
   ]
  },
  {
   "cell_type": "code",
   "execution_count": 11,
   "id": "1999e3d8-0523-4ec6-928c-61adf47f1d29",
   "metadata": {
    "panel-layout": {
     "height": 0,
     "visible": true,
     "width": 100
    }
   },
   "outputs": [
    {
     "name": "stdout",
     "output_type": "stream",
     "text": [
      "\n",
      "Percentage of users who proceeded to checkout but did not purchase: 24.55%\n"
     ]
    }
   ],
   "source": [
    "total_checked_out = all_data['checkout_time'].notnull().sum()\n",
    "not_purchased = all_data['purchase_time'].isnull() & all_data['checkout_time'].notnull()\n",
    "percentage_not_purchased = (not_purchased.sum() / total_checked_out) * 100\n",
    "print(f\"\\nPercentage of users who proceeded to checkout but did not purchase: {percentage_not_purchased:.2f}%\")"
   ]
  },
  {
   "cell_type": "markdown",
   "id": "9bfe2039-8af5-4886-9256-87a2f956a42b",
   "metadata": {
    "panel-layout": {
     "height": 44.07500076293945,
     "visible": true,
     "width": 100
    }
   },
   "source": [
    "### 7. Compute average time to purchase\n"
   ]
  },
  {
   "cell_type": "markdown",
   "id": "86bbbe76-0157-400e-b8b7-3c8685139f50",
   "metadata": {
    "panel-layout": {
     "height": 40.95000076293945,
     "visible": true,
     "width": 100
    }
   },
   "source": [
    "##### Finally, we calculate the average time it takes for buyers to complete the purchase process on our shopping website."
   ]
  },
  {
   "cell_type": "code",
   "execution_count": 12,
   "id": "a8341aa5-4654-4e88-ae52-d554679cd244",
   "metadata": {
    "panel-layout": {
     "height": 0,
     "visible": true,
     "width": 100
    }
   },
   "outputs": [
    {
     "name": "stdout",
     "output_type": "stream",
     "text": [
      "\n",
      "Average time to purchase: 0 days 00:43:12.380952380 minutes\n"
     ]
    }
   ],
   "source": [
    "all_data['time_to_purchase'] = all_data['purchase_time'] - all_data['visit_time']\n",
    "mean_time_to_purchase = all_data['time_to_purchase'].mean()\n",
    "print(f\"\\nAverage time to purchase: {mean_time_to_purchase} minutes\")"
   ]
  },
  {
   "cell_type": "markdown",
   "id": "887c3786-f119-4d14-a39c-ab8ab6559909",
   "metadata": {
    "panel-layout": {
     "height": 44.07500076293945,
     "visible": true,
     "width": 100
    }
   },
   "source": [
    "### 8. Some conlusions"
   ]
  },
  {
   "cell_type": "markdown",
   "id": "3448fc4d-59ed-460f-8d84-44dc3c563389",
   "metadata": {
    "panel-layout": {
     "height": 102.55000305175781,
     "visible": true,
     "width": 100
    }
   },
   "source": [
    "- 1. A significant percentage of visitors drop off before adding items to their cart. This indicates a potential issue with product visibility or user experience on the site.\n",
    "- 2. Some users add items to the cart but do not proceed to checkout, suggesting a need for improvements in cart-to-checkout conversion mechanisms.\n",
    "- 3. A fraction of users abandon their purchase after proceeding to checkout, pointing towards potential payment or trust issues.\n",
    "- 4. The average time to purchase can help refine marketing strategies to target users more effectively within this time window."
   ]
  }
 ],
 "metadata": {
  "kernelspec": {
   "display_name": "Python 3 (ipykernel)",
   "language": "python",
   "name": "python3"
  },
  "language_info": {
   "codemirror_mode": {
    "name": "ipython",
    "version": 3
   },
   "file_extension": ".py",
   "mimetype": "text/x-python",
   "name": "python",
   "nbconvert_exporter": "python",
   "pygments_lexer": "ipython3",
   "version": "3.12.7"
  },
  "panel-cell-order": [
   "ccfb510f-e8f5-4251-937c-4ca1c14a67b1",
   "9583d780-3ff3-4a20-8d62-06dc29223b3e",
   "78e5865f-9566-4003-9703-f181b099d009",
   "19963ebf-e629-47f5-bb05-b432edf18268",
   "1d3fe390-ddf9-40a6-8537-ec567feb5fe3",
   "05f9c0d1-b2b6-4017-a325-4d4e44ad4410",
   "4f3eff69-d8fd-425d-bef5-edc24487b774",
   "cb1fdddd-be39-486c-8f08-84744761f56d",
   "5e404206-2205-4722-b562-e960ec6cb19c",
   "2734745a-0441-43a8-a2c2-4357f034acce",
   "2c6a4b5c-dce4-40ed-a107-8ad1d2763b7e",
   "0f7916ec-3e9d-4c85-b2ff-8769c492e754",
   "0741f639-357b-4492-9cc3-cd4138c65155",
   "ae4cf6b5-3470-4ce7-9010-beea06381af6",
   "be853f62-f2a6-4eb5-8f41-e6bab5349fd8",
   "01540471-17f9-4977-8bda-ebbfafb34492",
   "ec7debd0-fecd-4410-80d8-385272ba7efc",
   "9cf7cae0-5f07-41e3-b615-5064ff30c233",
   "0e7aa0e2-73ab-495c-8cc2-7bc5e448b2fd",
   "a65d68c4-ac81-44b5-aa9c-cccfa8814b8b",
   "6a62e246-8cdf-4701-9ccb-bf4fab552589",
   "077b4bf0-e50c-4737-8bd8-3b0c39d7be0e",
   "1999e3d8-0523-4ec6-928c-61adf47f1d29",
   "9bfe2039-8af5-4886-9256-87a2f956a42b",
   "86bbbe76-0157-400e-b8b7-3c8685139f50",
   "a8341aa5-4654-4e88-ae52-d554679cd244",
   "887c3786-f119-4d14-a39c-ab8ab6559909",
   "3448fc4d-59ed-460f-8d84-44dc3c563389"
  ]
 },
 "nbformat": 4,
 "nbformat_minor": 5
}
