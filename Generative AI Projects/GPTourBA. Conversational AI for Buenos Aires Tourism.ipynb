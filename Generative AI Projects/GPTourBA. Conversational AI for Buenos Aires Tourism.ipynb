{
 "cells": [
  {
   "cell_type": "markdown",
   "id": "17000260-fe07-4f92-abb4-3d325226eb1f",
   "metadata": {},
   "source": [
    "# Project: Smart Tourist Guide for Buenos Aires 🇦🇷\n",
    "\n",
    "This project leverages the power of OpenAI's language models to simulate an intelligent travel assistant focused on **Buenos Aires, Argentina**. The assistant is designed to engage in natural, concise, and informative conversations with users, providing guidance on the city's most iconic landmarks, cultural experiences, culinary highlights, and travel tips for exploring beyond the capital.\n",
    "\n",
    "Through this conversational AI system, users can receive instant answers to questions such as:\n",
    "\n",
    "- How far is the Teatro Colón from the Obelisco?\n",
    "- Where is Plaza de Mayo located?\n",
    "- What are the must-see artworks at the Museo Nacional de Bellas Artes?\n",
    "- Where can one enjoy authentic tango shows or visit local milongas?\n",
    "- Which parrillas offer the best Argentine steak?\n",
    "- What other cities should travelers visit during their stay in Argentina?\n",
    "\n",
    "The goal is to replicate the experience of speaking with a knowledgeable local tour guide, using AI to generate accurate and context-aware responses. The implementation uses the `gpt-3.5-turbo` model from OpenAI, with a structured prompt history to maintain the flow of conversation.\n",
    "\n",
    "This notebook includes all the necessary setup to define the assistant's role, submit multiple tourist-related queries, and display real-time answers returned by the model.\n",
    "\n",
    "---\n",
    "\n",
    "Below is the Python code that initializes the conversation and queries the model for travel guidance:\n"
   ]
  },
  {
   "cell_type": "code",
   "execution_count": 5,
   "id": "af542964-72bd-404b-8689-0ddf2cec72b9",
   "metadata": {
    "executionCancelledAt": null,
    "executionTime": 6499,
    "lastExecutedAt": 1748434819862,
    "lastExecutedByKernel": "1ae54320-3718-4c56-b911-0f9e17d4c019",
    "lastScheduledRunId": null,
    "lastSuccessfullyExecutedCode": "# Start your code here!\nimport os\nfrom openai import OpenAI\n\n# Define the model to use\nmodel = \"gpt-3.5-turbo\"\n\n# Define the client\napi_key = os.environ.get(\"OPENAI_API_KEY\")\nif not api_key:\n    raise ValueError(\"API key for OpenAI is not set in the environment variables.\")\nclient = OpenAI(api_key=api_key)\n\n# Define the conversation\nconversation =[\n    {\n        \"role\": \"system\",\n        \"content\":\"You are a travel guide designed to provide information about landmarks that tourists should explore in Buenos Aires, Argentina. You speak in a concise manner.\"\n    },\n    {\n        \"role\":\"user\",\n        \"content\":\"What is the most famous landmark in Buenos Aires?\"\n    },\n    {\n        \"role\":\"assistant\",\n        \"content\":\"The most famous landmark in Buenos Aires is the Obelisco.\"\n    },\n]\n\n# Define a list of questions\nquestions = [\n    \"How far away is the Teatro Colon from the Obelisco (in walking distance)?\",\n    \"Where is the Plaza de Mayo?\",\n    \"What are the must-see artworks at the Museo de Bellas Artes?\",\n    \"Where can we find tango shows or milongas in Buenos Aires?\",\n    \"Can you recommend any parrilla restaurant to taste Argentinean famous meat?\",\n    \"If we wanted to extend our visit in other argenteinean cities, wich other cities can we go to in Argentina\"\n]\n\n# Loop through each question to generate responses\nfor question in questions:\n\n    # Format the user input into dictionary form\n    input_dict = {\"role\": \"user\", \"content\": question}\n    \n    # Add the user input dictionary to the conversation\n    conversation.append(input_dict)  \n\n    # Make the next API call\n    response = client.chat.completions.create(\n        model=model,\n        messages=conversation,\n        temperature=0.0,\n        max_tokens=100\n    )\n    \n    # Print the response from the model\n    resp = response.choices[0].message.content\n    print(resp)\n\n    # Convert the response into the dictionary\n    resp_dict = {\"role\": \"assistant\", \"content\": resp}\n    \n    # Append the response to the conversation\n    conversation.append(resp_dict)",
    "outputsMetadata": {
     "0": {
      "height": 185,
      "type": "stream"
     }
    }
   },
   "outputs": [
    {
     "name": "stdout",
     "output_type": "stream",
     "text": [
      "The Teatro Colon is approximately a 10-minute walk from the Obelisco.\n",
      "The Plaza de Mayo is located in the heart of Buenos Aires, near the Casa Rosada (Presidential Palace).\n",
      "Some must-see artworks at the Museo de Bellas Artes include \"El Beso\" by Gustav Klimt, \"La Catedral\" by Fernando Fader, and \"Retrato de la señora Juana Manso de Noronha\" by Francisco de Goya.\n",
      "You can find tango shows and milongas in neighborhoods like San Telmo, La Boca, and Palermo in Buenos Aires. Some popular venues include La Viruta, Salon Canning, and El Querandi.\n",
      "For a delicious taste of Argentinean meat, I recommend trying La Cabrera in Palermo or Don Julio in Palermo Soho. Both are renowned for their excellent parrilla (grill) dishes.\n",
      "If you want to explore other Argentinean cities, consider visiting Mendoza for wine country, Bariloche for stunning lakes and mountains, Iguazu Falls for breathtaking waterfalls, and Salta for its colonial architecture and Andean landscapes.\n"
     ]
    }
   ],
   "source": [
    "import os\n",
    "from openai import OpenAI\n",
    "\n",
    "model = \"gpt-3.5-turbo\"\n",
    "\n",
    "api_key = os.environ.get(\"OPENAI_API_KEY\")\n",
    "if not api_key:\n",
    "    raise ValueError(\"API key for OpenAI is not set in the environment variables.\")\n",
    "client = OpenAI(api_key=api_key)\n",
    "\n",
    "conversation =[\n",
    "    {\n",
    "        \"role\": \"system\",\n",
    "        \"content\":\"You are a travel guide designed to provide information about landmarks that tourists should explore in Buenos Aires, Argentina. You speak in a concise manner.\"\n",
    "    },\n",
    "    {\n",
    "        \"role\":\"user\",\n",
    "        \"content\":\"What is the most famous landmark in Buenos Aires?\"\n",
    "    },\n",
    "    {\n",
    "        \"role\":\"assistant\",\n",
    "        \"content\":\"The most famous landmark in Buenos Aires is the Obelisco.\"\n",
    "    },\n",
    "]\n",
    "\n",
    "questions = [\n",
    "    \"How far away is the Teatro Colon from the Obelisco (in walking distance)?\",\n",
    "    \"Where is the Plaza de Mayo?\",\n",
    "    \"What are the must-see artworks at the Museo de Bellas Artes?\",\n",
    "    \"Where can we find tango shows or milongas in Buenos Aires?\",\n",
    "    \"Can you recommend any parrilla restaurant to taste Argentinean famous meat?\",\n",
    "    \"If we wanted to extend our visit in other argenteinean cities, wich other cities can we go to in Argentina\"\n",
    "]\n",
    "\n",
    "for question in questions:\n",
    "\n",
    "    input_dict = {\"role\": \"user\", \"content\": question}\n",
    "       \n",
    "    conversation.append(input_dict)  \n",
    "\n",
    "    response = client.chat.completions.create(\n",
    "        model=model,\n",
    "        messages=conversation,\n",
    "        temperature=0.0,\n",
    "        max_tokens=100\n",
    "    )\n",
    "    \n",
    "    \n",
    "    resp = response.choices[0].message.content\n",
    "    print(resp)\n",
    "\n",
    "    resp_dict = {\"role\": \"assistant\", \"content\": resp}\n",
    "    \n",
    "    conversation.append(resp_dict)"
   ]
  }
 ],
 "metadata": {
  "editor": "DataLab",
  "kernelspec": {
   "display_name": "Python 3 (ipykernel)",
   "language": "python",
   "name": "python3"
  },
  "language_info": {
   "codemirror_mode": {
    "name": "ipython",
    "version": 3
   },
   "file_extension": ".py",
   "mimetype": "text/x-python",
   "name": "python",
   "nbconvert_exporter": "python",
   "pygments_lexer": "ipython3",
   "version": "3.12.7"
  }
 },
 "nbformat": 4,
 "nbformat_minor": 5
}
