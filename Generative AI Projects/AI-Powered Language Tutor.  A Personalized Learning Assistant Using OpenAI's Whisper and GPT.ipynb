{
 "cells": [
  {
   "cell_type": "markdown",
   "id": "b10b8822-ca4c-4954-adae-d392b9e05033",
   "metadata": {},
   "source": [
    "## AI-Powered Language Tutor: A Personalized Learning Assistant Using OpenAI's Whisper and GPT\n",
    "\n",
    "### Introduction\n",
    "\n",
    "Language learning is a deeply personal and often challenging journey, requiring not only dedication but also access to effective, interactive, and responsive tools. In this project, we harness the power of **OpenAI's advanced language models and speech technologies** to build a **Personalized Language Tutor**—an AI-driven assistant designed to elevate the user’s experience in learning a new language.\n",
    "\n",
    "The assistant integrates multiple features that support various aspects of language acquisition:\n",
    "\n",
    "- **Speech-to-Text Transcription**: Utilizing OpenAI's `whisper-1` model, the assistant transcribes spoken English from an audio file (`sample.wav`) into accurate, readable text.\n",
    "- **Real-time Translation**: The transcribed text is translated into the user’s target language (e.g., French) using the `gpt-4o-mini` model, facilitating multilingual comprehension and practice.\n",
    "- **Grammar Check**: The translated text is evaluated for grammatical correctness, and AI-generated feedback is provided to help the user learn and improve their writing skills.\n",
    "- **Pronunciation Feedback**: The user’s spoken input is compared with target sentences, offering constructive feedback to refine pronunciation and intonation.\n",
    "\n",
    "By combining these capabilities, the assistant becomes a powerful ally for learners, enabling practice in listening, speaking, writing, and reading—all supported by AI. It is particularly beneficial for users seeking immersive, responsive learning environments that mimic one-on-one tutoring experiences.\n"
   ]
  },
  {
   "cell_type": "code",
   "execution_count": 19,
   "id": "c4e0f788-2092-429d-9e6e-8ee7adb30a0a",
   "metadata": {
    "executionCancelledAt": null,
    "executionTime": 14,
    "lastExecutedAt": 1748035726190,
    "lastExecutedByKernel": "f63f1841-dfd8-4381-9e5f-4d1057923781",
    "lastScheduledRunId": null,
    "lastSuccessfullyExecutedCode": "import os\nfrom openai import OpenAI\n\n# Set the OpenAI API key using an environment varia\n\n# Initialize OpenAI client\nclient = OpenAI(api_key=openai_api_key)    ",
    "outputsMetadata": {
     "0": {
      "height": 584,
      "type": "stream"
     }
    }
   },
   "outputs": [],
   "source": [
    "import os\n",
    "from openai import OpenAI\n",
    "\n",
    "# Initialize OpenAI client\n",
    "client = OpenAI(api_key=openai_api_key)    "
   ]
  },
  {
   "cell_type": "markdown",
   "id": "059b6355-5c0f-453a-b6e8-ace2cd8b5529",
   "metadata": {},
   "source": [
    "#### We will transcribe audio using Whisper-1 model and store in transcription_text"
   ]
  },
  {
   "cell_type": "code",
   "execution_count": 21,
   "id": "190fc547-dce4-4e70-b377-f913667ea78b",
   "metadata": {
    "executionCancelledAt": null,
    "executionTime": null,
    "lastExecutedAt": null,
    "lastExecutedByKernel": null,
    "lastScheduledRunId": null,
    "lastSuccessfullyExecutedCode": null,
    "outputsMetadata": {
     "0": {
      "height": 59,
      "type": "stream"
     }
    }
   },
   "outputs": [
    {
     "name": "stdout",
     "output_type": "stream",
     "text": [
      "The stale smell of old beer lingers. It takes heat to bring out the odor. A cold dip restores health and zest. A salt pickle tastes fine with ham. Tacos al pastor are my favorite. A zestful food is the hot cross bun.\n"
     ]
    }
   ],
   "source": [
    "with open(\"data/sample.wav\", \"rb\") as audio_file:\n",
    "    # Call the Whisper-1 model for audio transcription\n",
    "    transcription_response = client.audio.transcriptions.create(model=\"whisper-1\", file=audio_file)\n",
    "    \n",
    "    # Store the transcribed text\n",
    "    transcription_text = transcription_response.text \n",
    "print(\"Original English Text:\", transcription_text)"
   ]
  },
  {
   "cell_type": "markdown",
   "id": "bcf80077-feb2-4dfc-ba3b-0b04bc290f2a",
   "metadata": {},
   "source": [
    "#### Now we can translate the original transcription_text to, let says, French language."
   ]
  },
  {
   "cell_type": "code",
   "execution_count": 3,
   "id": "df5f8a5c-b1c8-4061-ba34-bcdbf886fe30",
   "metadata": {
    "executionCancelledAt": null,
    "executionTime": null,
    "lastExecutedAt": null,
    "lastExecutedByKernel": null,
    "lastScheduledRunId": null,
    "lastSuccessfullyExecutedCode": null,
    "outputsMetadata": {
     "0": {
      "height": 122,
      "type": "stream"
     }
    }
   },
   "outputs": [
    {
     "name": "stdout",
     "output_type": "stream",
     "text": [
      "Translated Text into French: Here is the translation of your text into French:\n",
      "\n",
      "L'odeur rance de la vieille bière persiste. Il faut de la chaleur pour faire ressortir l'odeur. Un bain froid restaure la santé et le dynamisme. Un cornichon au sel se marie bien avec le jambon. Les tacos al pastor sont mes préférés. Un aliment plein de peps est le petit pain de Pâques.\n"
     ]
    }
   ],
   "source": [
    "target_language = 'French'\n",
    "\n",
    "completion = client.chat.completions.create(\n",
    "        model=\"gpt-4o-mini\",\n",
    "        messages=[\n",
    "            {\"role\": \"system\", \"content\": \"You are a helpful assistant.\"},\n",
    "            {\"role\": \"user\", \"content\": f\"Please translate the following text to {target_language}: {transcription_text}\"}        \n",
    "        ]\n",
    "    )\n",
    "\n",
    "translated_text = completion.choices[0].message.content\n",
    "\n",
    "print(f\"Translated Text into {target_language}: {translated_text}\")"
   ]
  },
  {
   "cell_type": "markdown",
   "id": "5b384133-b89d-4cea-b809-6ccbacffcbcc",
   "metadata": {},
   "source": [
    "#### Laslty we will get grammar feedback for the translated text"
   ]
  },
  {
   "cell_type": "code",
   "execution_count": 4,
   "id": "dca2198d-0df4-4405-9625-fbe1334dfce8",
   "metadata": {
    "executionCancelledAt": null,
    "executionTime": null,
    "lastExecutedAt": null,
    "lastExecutedByKernel": null,
    "lastScheduledRunId": null,
    "lastSuccessfullyExecutedCode": null,
    "outputsMetadata": {
     "0": {
      "height": 458,
      "type": "stream"
     }
    }
   },
   "outputs": [
    {
     "name": "stdout",
     "output_type": "stream",
     "text": [
      "Grammar Checked Text: Your translation into French is quite well done! However, there are a couple of points to consider for clarity and grammatical accuracy:\n",
      "\n",
      "1. **Cornichon au sel**: While this phrase is grammatically correct, it might flow better as \"des cornichons au sel\" if you are speaking about them in general. This depends on whether you refer to a specific pickle or pickles in general.\n",
      "\n",
      "2. **Aliment plein de peps**: This phrase is correct, but you might consider rephrasing it slightly to enhance clarity. A simple alternative could be \"Un aliment qui a du peps est le petit pain de Pâques\".\n",
      "\n",
      "Here’s a revised version of your text:\n",
      "\n",
      "**Revised Translation:**\n",
      "L'odeur rance de la vieille bière persiste. Il faut de la chaleur pour faire ressortir l'odeur. Un bain froid restaure la santé et le dynamisme. Des cornichons au sel se marient bien avec le jambon. Les tacos al pastor sont mes préférés. Un aliment qui a du peps est le petit pain de Pâques.\n",
      "\n",
      "**Overall Feedback:**\n",
      "- The structure of your sentences is clear and easy to understand.\n",
      "- You use a variety of vocabulary, which enhances the richness of the text. \n",
      "- Ensure consistency with pluralization when discussing food items.\n",
      "- Good job with the overall grammar and syntax!\n"
     ]
    }
   ],
   "source": [
    "completion = client.chat.completions.create(\n",
    "        model=\"gpt-4o-mini\",\n",
    "        messages=[\n",
    "            {\"role\": \"system\", \"content\": \"You are a language learning assistant providing grammar feedback.\"},\n",
    "            {\"role\": \"user\", \"content\":  f\"Please correct any grammar mistakes in the following text and provide feedback: {translated_text}\"}\n",
    "        ]\n",
    "    )\n",
    "grammar_feedback = completion.choices[0].message.content\n",
    "\n",
    "print(f\"Grammar Checked Text: {grammar_feedback}\")"
   ]
  },
  {
   "cell_type": "markdown",
   "id": "5576fba5-d4eb-41a2-a798-6ba7dffb383f",
   "metadata": {},
   "source": [
    "#### We could try to get pronunciation feedback based on the original transcription text and a target pronunciation"
   ]
  },
  {
   "cell_type": "code",
   "execution_count": 5,
   "id": "3d86939d-fb9f-41da-bdc5-9f642b00d3a1",
   "metadata": {
    "executionCancelledAt": null,
    "executionTime": null,
    "lastExecutedAt": null,
    "lastExecutedByKernel": null,
    "lastScheduledRunId": null,
    "lastSuccessfullyExecutedCode": null,
    "outputsMetadata": {
     "0": {
      "height": 437,
      "type": "stream"
     }
    }
   },
   "outputs": [
    {
     "name": "stdout",
     "output_type": "stream",
     "text": [
      "Pronunciation Feedback: Your pronunciation of the original sentences conveys the intended meaning well, but there are a few areas where you could improve clarity and fluency:\n",
      "\n",
      "1. **Rhythm and Intonation**: Pay attention to the natural rhythm of speech. In English, we often emphasize certain words to convey meaning. For example, in \"stale smell\" and \"brings out flavor,\" emphasize \"stale\" and \"brings\" respectively to enhance clarity.\n",
      "\n",
      "2. **Vowel Sounds**: Ensure you are pronouncing vowel sounds distinctly. For words like \"zest\" and \"ham,\" make sure the vowels are clear and adequately pronounced.\n",
      "\n",
      "3. **Consonant Clarity**: In words like \"pickle\" and \"tacos,\" ensuring that the initial consonant sounds are crisp will make your speech more comprehensible.\n",
      "\n",
      "4. **Pacing**: Try to maintain a steady pace. Avoid rushing through parts of the sentence to allow listeners to absorb the information.\n",
      "\n",
      "5. **Natural Connection of Phrases**: In more conversational contexts, you might want to connect related ideas more fluidly, like linking “cold” and “restores” to sound like one idea rather than two separate phrases.\n",
      "\n",
      "Overall, you're doing well, but focusing on these aspects can improve your clarity and effectiveness in pronunciation!\n"
     ]
    }
   ],
   "source": [
    "target_text = \"Heat brings out flavor, cold restores, salt complements ham, tacos are a favorite, and hot cross buns are zestful.\"  \n",
    "\n",
    "completion = client.chat.completions.create(\n",
    "        model=\"gpt-4o-mini\",\n",
    "        messages=[\n",
    "            {\"role\": \"system\", \"content\": \"You are a language learning assistant providing pronunciation feedback.\"},\n",
    "            {\"role\": \"user\", \"content\": f\"I said: {transcription_text}. How close is it to: {target_text}? Give feedback.\"}\n",
    "        ]\n",
    "    )\n",
    "pronunciation_feedback = completion.choices[0].message.content\n",
    "\n",
    "print(f\"Pronunciation Feedback: {pronunciation_feedback}\")"
   ]
  },
  {
   "cell_type": "markdown",
   "id": "bb5ec50a-a6b4-405e-8027-f8a1c804b89b",
   "metadata": {},
   "source": [
    "## Conclusion\n",
    "\n",
    "This project demonstrates the potential of AI in transforming language education through accessible, personalized tools. By integrating OpenAI's models—`whisper-1` for speech recognition and `gpt-4o-mini` for language processing—we've created a comprehensive assistant that not only transcribes and translates spoken language but also provides intelligent grammar corrections and nuanced pronunciation feedback.\n",
    "\n",
    "The use of **Harvard Sentences** as a starting point ensures phonetically balanced input for robust pronunciation analysis. From this foundation, the assistant empowers users to:\n",
    "\n",
    "- Hear and understand how language sounds in real use,\n",
    "- Reflect on their written grammar through real-time feedback,\n",
    "- Learn how to pronounce and enunciate words correctly.\n",
    "\n",
    "More than just a technical exercise, this project underscores how **AI can serve as a supportive, always-available tutor**, helping language learners gain confidence and proficiency at their own pace. The modular structure of this assistant also opens the door to future enhancements, such as conversation simulations, personalized vocabulary drills, and gamified progress tracking, making it a scalable solution for diverse educational needs.\n"
   ]
  },
  {
   "cell_type": "code",
   "execution_count": null,
   "id": "88a1d74a-9799-40a3-8e14-de8b6275846b",
   "metadata": {},
   "outputs": [],
   "source": []
  }
 ],
 "metadata": {
  "editor": "DataLab",
  "kernelspec": {
   "display_name": "Python 3 (ipykernel)",
   "language": "python",
   "name": "python3"
  },
  "language_info": {
   "codemirror_mode": {
    "name": "ipython",
    "version": 3
   },
   "file_extension": ".py",
   "mimetype": "text/x-python",
   "name": "python",
   "nbconvert_exporter": "python",
   "pygments_lexer": "ipython3",
   "version": "3.12.7"
  }
 },
 "nbformat": 4,
 "nbformat_minor": 5
}
