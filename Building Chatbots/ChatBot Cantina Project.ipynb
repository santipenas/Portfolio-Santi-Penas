{
 "cells": [
  {
   "cell_type": "markdown",
   "id": "9c7b1117-bb0a-4cf3-8c52-03670dbff419",
   "metadata": {},
   "source": [
    "# 🏆 Cantina Chatbot: An Intelligent Food Query Assistant  \n",
    "\n",
    "## 🍽️ Introduction  \n",
    "\n",
    "Cantina Chatbot is a smart, interactive assistant designed to help users with menu-related queries. It leverages **Natural Language Processing (NLP)** techniques to understand user messages, extract relevant food-related information, and provide accurate responses.  \n",
    "\n",
    "### 🔥 Key Features:  \n",
    "- **Spell Correction**: Automatically corrects user typos using **TextBlob**.  \n",
    "- **Named Entity Recognition (NER)**: Uses **spaCy** to identify food items and products from user messages.  \n",
    "- **Context Awareness**: Remembers the last detected food-related entity for better continuity in conversation.  \n",
    "- **Intent Matching**: Finds the most relevant response using **word similarity analysis** with **spaCy** word vectors.  \n",
    "- **Diverse Responses**: Dynamically generates responses based on detected entities to make the conversation feel more natural.  \n",
    "- **Exit Confirmation**: Ensures users do not accidentally exit the chat by requiring confirmation.  \n",
    "\n",
    "The chatbot is built using **Python** and libraries such as `spaCy`, `NLTK`, and `TextBlob`, making it both powerful and efficient for handling customer inquiries in a restaurant or online ordering system.  \n",
    "\n",
    "---"
   ]
  },
  {
   "cell_type": "code",
   "execution_count": 16,
   "id": "83c09840-6a24-4145-a4d8-8c8f0f7d2868",
   "metadata": {},
   "outputs": [],
   "source": [
    "# Download necessary NLTK resources\n",
    "#  nltk.download(\"stopwords\")\n",
    "#  nltk.download(\"punkt\")\n",
    "#  nltk.download(\"averaged_perceptron_tagger\")\n",
    "# !pip install spacy\n",
    "# !python -m spacy download en_core_web_md\n",
    "# !pip install textblob\n",
    "# !python -m textblob.download_corpora"
   ]
  },
  {
   "cell_type": "code",
   "execution_count": 21,
   "id": "3aac60e9-fb0f-4e93-9237-9080d3a57880",
   "metadata": {},
   "outputs": [
    {
     "name": "stdout",
     "output_type": "stream",
     "text": [
      "👋 Hey! What would you like to know about our menu today?\n"
     ]
    },
    {
     "name": "stdin",
     "output_type": "stream",
     "text": [
      ">  any meal?\n"
     ]
    },
    {
     "name": "stdout",
     "output_type": "stream",
     "text": [
      "We offer many options with the meal, such as mashed potatoes and steamed vegetables, or meat if you liked it\n"
     ]
    },
    {
     "name": "stdin",
     "output_type": "stream",
     "text": [
      ">  and do you have spicy?\n"
     ]
    },
    {
     "name": "stdout",
     "output_type": "stream",
     "text": [
      "Yes! The spice has a gluten-free option, but it is not vegan.\n"
     ]
    },
    {
     "name": "stdin",
     "output_type": "stream",
     "text": [
      ">  ok but later, i need to go now. Bye\n",
      "Are you sure you want to exit? (yes/no)  yes\n"
     ]
    },
    {
     "name": "stdout",
     "output_type": "stream",
     "text": [
      "Goodbye! Have a great day! 😊\n"
     ]
    }
   ],
   "source": [
    "import re\n",
    "import spacy\n",
    "import random\n",
    "import nltk\n",
    "from collections import Counter\n",
    "from nltk import pos_tag\n",
    "from nltk.tokenize import word_tokenize\n",
    "from nltk.corpus import stopwords\n",
    "from textblob import TextBlob\n",
    "\n",
    "# Load language model\n",
    "# nlp = spacy.load(\"en_core_web_sm\") \n",
    "nlp = spacy.load(\"en_core_web_md\")  # We also can use \"en_core_web_lg\" para más precisión, pero ralentiza.\n",
    "stop_words = set(stopwords.words(\"english\"))\n",
    "\n",
    "# Exit commands\n",
    "exit_commands = (\"quit\", \"goodbye\", \"exit\", \"no\")\n",
    "\n",
    "# Dynamic responses for variety\n",
    "response_templates = [\n",
    "    \"Yes! The {} has a gluten-free option, but it is not vegan.\",\n",
    "    \"We offer many options with the {}, such as mashed potatoes and steamed vegetables, or meat if you liked it\",\n",
    "    \"Our {} contains habanero, so it has a spicy kick!\"\n",
    "]\n",
    "fallback_responses = [\n",
    "    \"I'm not sure about that. Could you rephrase your question?\",\n",
    "    \"Hmm, I don’t know. Can you ask in a different way?\",\n",
    "    \"I didn’t understand. Could you clarify?\"\n",
    "]\n",
    "\n",
    "class ChatBot:\n",
    "    \"\"\"An enhanced chatbot that understands food-related queries better.\"\"\"\n",
    "\n",
    "    def __init__(self):\n",
    "        self.context = None  # Stores the last recognized entity\n",
    "\n",
    "    def make_exit(self, user_message): # Confirms before exiting the conversation\n",
    "        if any(exit_command in user_message.lower() for exit_command in exit_commands):\n",
    "            confirmation = input(\"Are you sure you want to exit? (yes/no) \").strip().lower()\n",
    "            return confirmation == \"yes\"\n",
    "        return False\n",
    "\n",
    "    def preprocess(self, input_sentence): # Lowercases, removes punctuation, tokenizes, and removes stopwords.\n",
    "        input_sentence = input_sentence.lower()\n",
    "        input_sentence = re.sub(r\"[^\\w\\s]\", \"\", input_sentence)  # Remove punctuation\n",
    "        tokens = word_tokenize(input_sentence)\n",
    "        return [i for i in tokens if i not in stop_words]\n",
    "\n",
    "    def correct_spelling(self, user_message): # Uses TextBlob to correct typos.\n",
    "        return str(TextBlob(user_message).correct())\n",
    "\n",
    "    def extract_entities(self, user_message): # Uses spaCy's Named Entity Recognition (NER) to extract food-related entities\n",
    "        doc = nlp(user_message)\n",
    "        food_items = [ent.text for ent in doc.ents if ent.label_ in [\"FOOD\", \"PRODUCT\"]]\n",
    "        \n",
    "        if food_items:\n",
    "            self.context = food_items[-1]  # Remember the last recognized entity\n",
    "            return food_items[-1]\n",
    "        \n",
    "        # If no entity is found, try using nouns as a fallback\n",
    "        tagged_user_message = pos_tag(self.preprocess(user_message))\n",
    "        message_nouns = [word for word, tag in tagged_user_message if tag.startswith(\"N\")]\n",
    "        \n",
    "        if message_nouns:\n",
    "            self.context = message_nouns[-1]\n",
    "            return message_nouns[-1]\n",
    "\n",
    "        return self.context if self.context else \"food\"\n",
    "\n",
    "    def find_intent_match(self, responses, user_message): #Uses spaCy similarity to find the best matching response.\n",
    "        user_doc = nlp(user_message)\n",
    "        response_scores = [(resp, user_doc.similarity(nlp(resp))) for resp in responses]\n",
    "        best_response = max(response_scores, key=lambda x: x[1])[0]\n",
    "\n",
    "        return best_response if max(response_scores, key=lambda x: x[1])[1] > 0.3 else random.choice(fallback_responses)\n",
    "\n",
    "    def chat(self): # Main chat loop for interacting with the user.\n",
    "        print(\"👋 Hey! What would you like to know about our menu today?\")\n",
    "        \n",
    "        while True:\n",
    "            try:\n",
    "                user_message = input(\"> \").strip()\n",
    "                user_message = self.correct_spelling(user_message)  # Auto-correct typos\n",
    "                \n",
    "                if self.make_exit(user_message):\n",
    "                    print(\"Goodbye! Have a great day! 😊\")\n",
    "                    break\n",
    "\n",
    "                response = self.respond(user_message)\n",
    "                print(response)\n",
    "\n",
    "            except Exception as e:\n",
    "                print(\"Oops! Something went wrong. Try again.\")\n",
    "\n",
    "    def respond(self, user_message): # Generates a response based on user input.\n",
    "        best_response = self.find_intent_match(response_templates, user_message)\n",
    "        entity = self.extract_entities(user_message)\n",
    "        return best_response.format(entity)\n",
    "\n",
    "\n",
    "# Initialize and start chatbot\n",
    "bot = ChatBot()\n",
    "bot.chat()\n"
   ]
  },
  {
   "cell_type": "markdown",
   "id": "554cc8cc-a2fa-4b80-a940-4527215cccbf",
   "metadata": {},
   "source": [
    "# 🎯 Conclusion and Future Improvements  \n",
    "\n",
    "## ✅ Strengths:  \n",
    "Cantina Chatbot effectively handles **menu-related questions** and **corrects spelling errors**, making it user-friendly. It also utilizes **machine learning-based NLP techniques** to enhance response accuracy.  \n",
    "\n",
    "## 🔧 Areas for Improvement:  \n",
    "- **Improve Entity Recognition**: Expand food-related entity detection using a custom **spaCy pipeline** trained on restaurant-specific data.  \n",
    "- **Enhance Small Talk Handling**: Integrate a conversational model (e.g., **GPT-based** responses) to make interactions more engaging.  \n",
    "- **Implement Memory for Conversations**: Store user preferences or past queries for **personalized recommendations**.  \n",
    "- **Add More Custom Responses**: Increase the variety of dynamic responses to avoid repetition.  \n",
    "- **Deploy as a Web App**: Integrate with a **Flask** or **FastAPI** backend for real-world usage in food ordering platforms.  \n",
    "\n",
    "*In the comming day we will work for this last  imporvement, that is, workin on the Deployment, so Cantina Chatbot can evolve into a **fully interactive virtual assistant** for restaurants, catering businesses, and food delivery services.* 🚀"
   ]
  }
 ],
 "metadata": {
  "kernelspec": {
   "display_name": "Python 3 (ipykernel)",
   "language": "python",
   "name": "python3"
  },
  "language_info": {
   "codemirror_mode": {
    "name": "ipython",
    "version": 3
   },
   "file_extension": ".py",
   "mimetype": "text/x-python",
   "name": "python",
   "nbconvert_exporter": "python",
   "pygments_lexer": "ipython3",
   "version": "3.12.7"
  }
 },
 "nbformat": 4,
 "nbformat_minor": 5
}
