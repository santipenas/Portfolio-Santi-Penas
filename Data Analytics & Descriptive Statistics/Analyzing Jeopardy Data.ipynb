{
 "cells": [
  {
   "cell_type": "markdown",
   "id": "6d6dc5b6-4e79-4cc0-9046-7001f402b080",
   "metadata": {},
   "source": [
    "# Analyzing Jeopardy Data - Data Cleaning and Insights"
   ]
  },
  {
   "cell_type": "markdown",
   "id": "5e3b1291-53d8-47bc-a9e5-cbefd1cf70cc",
   "metadata": {},
   "source": [
    "#### Summary:\n",
    "This project explores the \"Jeopardy\" dataset to analyze questions and answers, focusing on filtering data based on keywords, cleaning monetary values, and identifying unique answers. The analysis aims to demonstrate data cleaning, transformation, and statistical computation skills."
   ]
  },
  {
   "cell_type": "markdown",
   "id": "6deb8437-00c9-4c57-9399-e1b448ca6c8b",
   "metadata": {},
   "source": [
    "#### This will be the Workflow Process:\n",
    " 1. Load and investigate the dataset.\n",
    " 2. Rename columns to fix formatting issues.\n",
    " 3. Filter questions based on specific keywords.\n",
    " 4. Clean and convert monetary values into a usable format.\n",
    " 5. Identify unique answers and calculate average values for filtered data.\n",
    " 6. Use functions to program, filter and manipulate data for better results when reauired"
   ]
  },
  {
   "cell_type": "markdown",
   "id": "9e7d7cda-3a40-4ac3-8145-9d605d302170",
   "metadata": {},
   "source": [
    "We import pandas library"
   ]
  },
  {
   "cell_type": "code",
   "execution_count": 1,
   "id": "c9daef35-40e0-4fcf-9902-663f25da8b39",
   "metadata": {},
   "outputs": [],
   "source": [
    "import pandas as pd\n",
    "pd.set_option('display.max_colwidth', None)"
   ]
  },
  {
   "cell_type": "markdown",
   "id": "2a82c342-0066-4695-895d-93eceef48e18",
   "metadata": {},
   "source": [
    "*Note*: before we have instructed pandas to display the full content of each cell in a column, regardless of how long the text is. This can be helpful when working with text-heavy columns where you want to see the entire content without truncation."
   ]
  },
  {
   "cell_type": "markdown",
   "id": "32b85406-a40b-4b96-a06c-e2e3601a129e",
   "metadata": {},
   "source": [
    "We proceed to load the data, this time from a csv file and print the column namber and the head() basic info to inspect the first 8 rows"
   ]
  },
  {
   "cell_type": "code",
   "execution_count": 2,
   "id": "e36624c0-581c-4896-a8b8-36b150643ac1",
   "metadata": {},
   "outputs": [
    {
     "name": "stdout",
     "output_type": "stream",
     "text": [
      "\n",
      "Te Dataset has the next columns:\n",
      "Index(['Show Number', ' Air Date', ' Round', ' Category', ' Value',\n",
      "       ' Question', ' Answer'],\n",
      "      dtype='object')\n"
     ]
    }
   ],
   "source": [
    "jeopardy_data = pd.read_csv(\"jeopardy.csv\")\n",
    "print(\"\\nTe Dataset has the next columns:\")\n",
    "print(jeopardy_data.columns)"
   ]
  },
  {
   "cell_type": "code",
   "execution_count": 3,
   "id": "ea0b7762-77fa-48fa-a4cd-47c254abc6b3",
   "metadata": {},
   "outputs": [
    {
     "data": {
      "text/html": [
       "<div>\n",
       "<style scoped>\n",
       "    .dataframe tbody tr th:only-of-type {\n",
       "        vertical-align: middle;\n",
       "    }\n",
       "\n",
       "    .dataframe tbody tr th {\n",
       "        vertical-align: top;\n",
       "    }\n",
       "\n",
       "    .dataframe thead th {\n",
       "        text-align: right;\n",
       "    }\n",
       "</style>\n",
       "<table border=\"1\" class=\"dataframe\">\n",
       "  <thead>\n",
       "    <tr style=\"text-align: right;\">\n",
       "      <th></th>\n",
       "      <th>Show Number</th>\n",
       "      <th>Air Date</th>\n",
       "      <th>Round</th>\n",
       "      <th>Category</th>\n",
       "      <th>Value</th>\n",
       "      <th>Question</th>\n",
       "      <th>Answer</th>\n",
       "    </tr>\n",
       "  </thead>\n",
       "  <tbody>\n",
       "    <tr>\n",
       "      <th>0</th>\n",
       "      <td>4680</td>\n",
       "      <td>2004-12-31</td>\n",
       "      <td>Jeopardy!</td>\n",
       "      <td>HISTORY</td>\n",
       "      <td>$200</td>\n",
       "      <td>For the last 8 years of his life, Galileo was under house arrest for espousing this man's theory</td>\n",
       "      <td>Copernicus</td>\n",
       "    </tr>\n",
       "    <tr>\n",
       "      <th>1</th>\n",
       "      <td>4680</td>\n",
       "      <td>2004-12-31</td>\n",
       "      <td>Jeopardy!</td>\n",
       "      <td>ESPN's TOP 10 ALL-TIME ATHLETES</td>\n",
       "      <td>$200</td>\n",
       "      <td>No. 2: 1912 Olympian; football star at Carlisle Indian School; 6 MLB seasons with the Reds, Giants &amp; Braves</td>\n",
       "      <td>Jim Thorpe</td>\n",
       "    </tr>\n",
       "    <tr>\n",
       "      <th>2</th>\n",
       "      <td>4680</td>\n",
       "      <td>2004-12-31</td>\n",
       "      <td>Jeopardy!</td>\n",
       "      <td>EVERYBODY TALKS ABOUT IT...</td>\n",
       "      <td>$200</td>\n",
       "      <td>The city of Yuma in this state has a record average of 4,055 hours of sunshine each year</td>\n",
       "      <td>Arizona</td>\n",
       "    </tr>\n",
       "    <tr>\n",
       "      <th>3</th>\n",
       "      <td>4680</td>\n",
       "      <td>2004-12-31</td>\n",
       "      <td>Jeopardy!</td>\n",
       "      <td>THE COMPANY LINE</td>\n",
       "      <td>$200</td>\n",
       "      <td>In 1963, live on \"The Art Linkletter Show\", this company served its billionth burger</td>\n",
       "      <td>McDonald's</td>\n",
       "    </tr>\n",
       "    <tr>\n",
       "      <th>4</th>\n",
       "      <td>4680</td>\n",
       "      <td>2004-12-31</td>\n",
       "      <td>Jeopardy!</td>\n",
       "      <td>EPITAPHS &amp; TRIBUTES</td>\n",
       "      <td>$200</td>\n",
       "      <td>Signer of the Dec. of Indep., framer of the Constitution of Mass., second President of the United States</td>\n",
       "      <td>John Adams</td>\n",
       "    </tr>\n",
       "    <tr>\n",
       "      <th>5</th>\n",
       "      <td>4680</td>\n",
       "      <td>2004-12-31</td>\n",
       "      <td>Jeopardy!</td>\n",
       "      <td>3-LETTER WORDS</td>\n",
       "      <td>$200</td>\n",
       "      <td>In the title of an Aesop fable, this insect shared billing with a grasshopper</td>\n",
       "      <td>the ant</td>\n",
       "    </tr>\n",
       "    <tr>\n",
       "      <th>6</th>\n",
       "      <td>4680</td>\n",
       "      <td>2004-12-31</td>\n",
       "      <td>Jeopardy!</td>\n",
       "      <td>HISTORY</td>\n",
       "      <td>$400</td>\n",
       "      <td>Built in 312 B.C. to link Rome &amp; the South of Italy, it's still in use today</td>\n",
       "      <td>the Appian Way</td>\n",
       "    </tr>\n",
       "    <tr>\n",
       "      <th>7</th>\n",
       "      <td>4680</td>\n",
       "      <td>2004-12-31</td>\n",
       "      <td>Jeopardy!</td>\n",
       "      <td>ESPN's TOP 10 ALL-TIME ATHLETES</td>\n",
       "      <td>$400</td>\n",
       "      <td>No. 8: 30 steals for the Birmingham Barons; 2,306 steals for the Bulls</td>\n",
       "      <td>Michael Jordan</td>\n",
       "    </tr>\n",
       "  </tbody>\n",
       "</table>\n",
       "</div>"
      ],
      "text/plain": [
       "   Show Number    Air Date      Round                         Category  Value  \\\n",
       "0         4680  2004-12-31  Jeopardy!                          HISTORY   $200   \n",
       "1         4680  2004-12-31  Jeopardy!  ESPN's TOP 10 ALL-TIME ATHLETES   $200   \n",
       "2         4680  2004-12-31  Jeopardy!      EVERYBODY TALKS ABOUT IT...   $200   \n",
       "3         4680  2004-12-31  Jeopardy!                 THE COMPANY LINE   $200   \n",
       "4         4680  2004-12-31  Jeopardy!              EPITAPHS & TRIBUTES   $200   \n",
       "5         4680  2004-12-31  Jeopardy!                   3-LETTER WORDS   $200   \n",
       "6         4680  2004-12-31  Jeopardy!                          HISTORY   $400   \n",
       "7         4680  2004-12-31  Jeopardy!  ESPN's TOP 10 ALL-TIME ATHLETES   $400   \n",
       "\n",
       "                                                                                                      Question  \\\n",
       "0             For the last 8 years of his life, Galileo was under house arrest for espousing this man's theory   \n",
       "1  No. 2: 1912 Olympian; football star at Carlisle Indian School; 6 MLB seasons with the Reds, Giants & Braves   \n",
       "2                     The city of Yuma in this state has a record average of 4,055 hours of sunshine each year   \n",
       "3                         In 1963, live on \"The Art Linkletter Show\", this company served its billionth burger   \n",
       "4     Signer of the Dec. of Indep., framer of the Constitution of Mass., second President of the United States   \n",
       "5                                In the title of an Aesop fable, this insect shared billing with a grasshopper   \n",
       "6                                 Built in 312 B.C. to link Rome & the South of Italy, it's still in use today   \n",
       "7                                       No. 8: 30 steals for the Birmingham Barons; 2,306 steals for the Bulls   \n",
       "\n",
       "           Answer  \n",
       "0      Copernicus  \n",
       "1      Jim Thorpe  \n",
       "2         Arizona  \n",
       "3      McDonald's  \n",
       "4      John Adams  \n",
       "5         the ant  \n",
       "6  the Appian Way  \n",
       "7  Michael Jordan  "
      ]
     },
     "metadata": {},
     "output_type": "display_data"
    }
   ],
   "source": [
    "display(jeopardy_data.head(8))"
   ]
  },
  {
   "cell_type": "markdown",
   "id": "471dcf02-0551-4d1f-9603-ae7d2568802f",
   "metadata": {},
   "source": [
    "##### The column´s names seems quite odd, so we can rename them as we pleased in order to have more clerance about the data stored in each column"
   ]
  },
  {
   "cell_type": "code",
   "execution_count": 4,
   "id": "0c2c892f-87cb-4d43-9db4-bf2534a498e0",
   "metadata": {},
   "outputs": [
    {
     "name": "stdout",
     "output_type": "stream",
     "text": [
      "\n",
      "Renamed Columns now are:\n",
      "Index(['Show Number', 'Broadcast Date', 'Phase', 'Topic', 'Prize', 'Clue',\n",
      "       'Solution'],\n",
      "      dtype='object')\n"
     ]
    }
   ],
   "source": [
    "jeopardy_data = jeopardy_data.rename(columns={\n",
    "    \" Air Date\": \"Broadcast Date\",\n",
    "    \" Round\": \"Phase\",\n",
    "    \" Category\": \"Topic\",\n",
    "    \" Value\": \"Prize\",\n",
    "    \" Question\": \"Clue\",\n",
    "    \" Answer\": \"Solution\"\n",
    "})\n",
    "print(\"\\nRenamed Columns now are:\")\n",
    "print(jeopardy_data.columns)"
   ]
  },
  {
   "cell_type": "markdown",
   "id": "9e500829-92f3-4bcc-b975-5771c2d69c49",
   "metadata": {},
   "source": [
    "##### Explore the types od data of each column"
   ]
  },
  {
   "cell_type": "code",
   "execution_count": 5,
   "id": "1bb17a1e-a3f8-42ac-84dc-409da79f6eab",
   "metadata": {},
   "outputs": [
    {
     "name": "stdout",
     "output_type": "stream",
     "text": [
      "Show Number        int64\n",
      "Broadcast Date    object\n",
      "Phase             object\n",
      "Topic             object\n",
      "Prize             object\n",
      "Clue              object\n",
      "Solution          object\n",
      "dtype: object\n"
     ]
    }
   ],
   "source": [
    "print(jeopardy_data.dtypes)"
   ]
  },
  {
   "cell_type": "markdown",
   "id": "837b9051-c96a-4ffd-ab82-c9ea6beda509",
   "metadata": {},
   "source": [
    "We see that \"Prize\" column is set as a object type, wich is not correct as it refears to nuemerical values. Let´s convert it to float type"
   ]
  },
  {
   "cell_type": "code",
   "execution_count": 6,
   "id": "fe4b3a47-a89f-432f-8adf-6b0999e40a06",
   "metadata": {},
   "outputs": [],
   "source": [
    "def clean_prize(value):\n",
    "    try:\n",
    "        # Attempt to clean and convert the value\n",
    "        if pd.notnull(value) and value.startswith(\"$\"):\n",
    "            return float(value[1:].replace(\",\", \"\"))\n",
    "        else:\n",
    "            return 0\n",
    "    except (ValueError, AttributeError):\n",
    "        # Handle any unexpected formats gracefully\n",
    "        return 0\n",
    "\n",
    "jeopardy_data[\"Prize\"] = jeopardy_data[\"Prize\"].apply(clean_prize)"
   ]
  },
  {
   "cell_type": "markdown",
   "id": "ba5e99e0-ebfa-46ad-b565-aca63443b7ea",
   "metadata": {},
   "source": [
    "Let´s check if the convertion worked properly"
   ]
  },
  {
   "cell_type": "code",
   "execution_count": 7,
   "id": "16c3bf2e-0d14-43c8-97ed-9cc682a04bfa",
   "metadata": {},
   "outputs": [
    {
     "name": "stdout",
     "output_type": "stream",
     "text": [
      "Show Number         int64\n",
      "Broadcast Date     object\n",
      "Phase              object\n",
      "Topic              object\n",
      "Prize             float64\n",
      "Clue               object\n",
      "Solution           object\n",
      "dtype: object\n"
     ]
    }
   ],
   "source": [
    "print(jeopardy_data.dtypes)"
   ]
  },
  {
   "cell_type": "markdown",
   "id": "cecf8999-8935-4d23-874d-496e34d95961",
   "metadata": {},
   "source": [
    "###### And yes, now the Prize columns is an integer type"
   ]
  },
  {
   "cell_type": "markdown",
   "id": "9e96a395-8499-4833-9f1b-8200d5601689",
   "metadata": {},
   "source": [
    "##### Preview the clue"
   ]
  },
  {
   "cell_type": "code",
   "execution_count": 8,
   "id": "f9df0470-c922-4357-82cc-540594065386",
   "metadata": {},
   "outputs": [
    {
     "name": "stdout",
     "output_type": "stream",
     "text": [
      "\n",
      "Sample Clues:\n",
      "0               For the last 8 years of his life, Galileo was under house arrest for espousing this man's theory\n",
      "1    No. 2: 1912 Olympian; football star at Carlisle Indian School; 6 MLB seasons with the Reds, Giants & Braves\n",
      "2                       The city of Yuma in this state has a record average of 4,055 hours of sunshine each year\n",
      "3                           In 1963, live on \"The Art Linkletter Show\", this company served its billionth burger\n",
      "4       Signer of the Dec. of Indep., framer of the Constitution of Mass., second President of the United States\n",
      "Name: Clue, dtype: object\n"
     ]
    }
   ],
   "source": [
    "print(\"\\nSample Clues:\")\n",
    "print(jeopardy_data[\"Clue\"].head())"
   ]
  },
  {
   "cell_type": "markdown",
   "id": "c0aa0faa-aa24-41ff-9ae6-eb9387f1011a",
   "metadata": {},
   "source": [
    "##### Filtering a dataset by a list of words"
   ]
  },
  {
   "cell_type": "markdown",
   "id": "6c363b5f-a71f-4921-a89b-e0ab5dc315f8",
   "metadata": {},
   "source": [
    "We are using a lambda function inside a common def function for this"
   ]
  },
  {
   "cell_type": "code",
   "execution_count": 9,
   "id": "34975c60-e305-4bd9-83e4-fec7fbdeeca1",
   "metadata": {},
   "outputs": [],
   "source": [
    "def filter_data(data, words):\n",
    "    \"\"\"\n",
    "    Filters the dataset for clues containing all specified words.\n",
    "    \n",
    "    Parameters:\n",
    "    data (DataFrame): The dataset to filter.\n",
    "    words (list): List of words to filter clues by.\n",
    "\n",
    "    Returns:\n",
    "    DataFrame: Filtered dataset.\n",
    "    \"\"\"\n",
    "    filter_func = lambda x: all(word.lower() in x.lower() for word in words)\n",
    "    return data.loc[data[\"Clue\"].apply(filter_func)]"
   ]
  },
  {
   "cell_type": "markdown",
   "id": "ed120041-088d-4b80-aac1-bcbb4090399a",
   "metadata": {},
   "source": [
    "##### We can now test our filter function adn see how it works"
   ]
  },
  {
   "cell_type": "code",
   "execution_count": 10,
   "id": "48be9888-dca1-44dc-a39d-b1a4c2f27852",
   "metadata": {},
   "outputs": [
    {
     "name": "stdout",
     "output_type": "stream",
     "text": [
      "\n",
      "Filtered Clues containing 'King' and 'England' words:\n",
      "4953                   Both England's King George V & FDR put their stamp of approval on this \"King of Hobbies\"\n",
      "6337     In retaliation for Viking raids, this \"Unready\" king of England attacks Norse areas of the Isle of Man\n",
      "9191                   This king of England beat the odds to trounce the French in the 1415 Battle of Agincourt\n",
      "11710              This Scotsman, the first Stuart king of England, was called \"The Wisest Fool in Christendom\"\n",
      "13454                                      It's the number that followed the last king of England named William\n",
      "Name: Clue, dtype: object\n"
     ]
    }
   ],
   "source": [
    "filtered = filter_data(jeopardy_data, [\"King\", \"England\"])\n",
    "print(\"\\nFiltered Clues containing 'King' and 'England' words:\")\n",
    "print(filtered[\"Clue\"].head())"
   ]
  },
  {
   "cell_type": "code",
   "execution_count": 11,
   "id": "c1228648-ee46-4c0e-977d-98706b2c1556",
   "metadata": {},
   "outputs": [
    {
     "name": "stdout",
     "output_type": "stream",
     "text": [
      "\n",
      "Filtered Clues containing 'fable' and 'Aesop' words:\n",
      "5                         In the title of an Aesop fable, this insect shared billing with a grasshopper\n",
      "7154            In an Aesop fable, this animal decides the grapes he can't reach must therefore be sour\n",
      "8753                                In the Aesop fable, he's so far ahead he takes a nap; what a loser!\n",
      "26859                     In the title of an Aesop fable, this insect shared billing with a grasshopper\n",
      "39731                        In an Aesop fable, Fox makes this bird drop its food by asking it to speak\n",
      "89930               In an Aesop fable, these insects laugh at a hungry cicada who goofed off all summer\n",
      "126430               \"It is best to prepare for the days of necessity\" is the moral of this Aesop fable\n",
      "154723     In an Aesop fable a shepherd boy tests the patience of his village by repeatedly crying this\n",
      "160246               An ant shares the billing with one of these insects in the title of an Aesop fable\n",
      "194178                    In an Aesop fable, he talks a lion out of eating him & later repays the favor\n",
      "199038    A line from the Aesop fable \"The Wolf in Sheep's Clothing\" says, \"Appearances often are\" this\n",
      "Name: Clue, dtype: object\n"
     ]
    }
   ],
   "source": [
    "filtered = filter_data(jeopardy_data, [\"Aesop \", \"fable\"])\n",
    "print(\"\\nFiltered Clues containing 'fable' and 'Aesop' words:\")\n",
    "print(filtered[\"Clue\"])"
   ]
  },
  {
   "cell_type": "markdown",
   "id": "0221abfe-df62-4413-88b1-0d1fa77a2871",
   "metadata": {},
   "source": [
    "##### Identyfing unique solutions"
   ]
  },
  {
   "cell_type": "code",
   "execution_count": 12,
   "id": "11b7537b-4fa8-416f-a7fb-e0e6c8d74c9b",
   "metadata": {},
   "outputs": [
    {
     "name": "stdout",
     "output_type": "stream",
     "text": [
      "\n",
      "Unique Solution Counts:\n",
      "Solution\n",
      "the ant    1\n",
      "a fox      1\n",
      "Hare       1\n",
      "Ant        1\n",
      "Crow       1\n",
      "Name: count, dtype: int64\n"
     ]
    }
   ],
   "source": [
    "def get_solution_counts(data):\n",
    "    \"\"\"\n",
    "    Counts the frequency of unique solutions in the dataset.\n",
    "    \n",
    "    Parameters:\n",
    "    data (DataFrame): The dataset to analyze.\n",
    "\n",
    "    Returns:\n",
    "    Series: Frequency of unique solutions.\n",
    "    \"\"\"\n",
    "    return data[\"Solution\"].value_counts()\n",
    "\n",
    "# Testing count function\n",
    "print(\"\\nUnique Solution Counts:\")\n",
    "print(get_solution_counts(filtered).head())"
   ]
  }
 ],
 "metadata": {
  "kernelspec": {
   "display_name": "Python 3 (ipykernel)",
   "language": "python",
   "name": "python3"
  },
  "language_info": {
   "codemirror_mode": {
    "name": "ipython",
    "version": 3
   },
   "file_extension": ".py",
   "mimetype": "text/x-python",
   "name": "python",
   "nbconvert_exporter": "python",
   "pygments_lexer": "ipython3",
   "version": "3.12.7"
  }
 },
 "nbformat": 4,
 "nbformat_minor": 5
}
