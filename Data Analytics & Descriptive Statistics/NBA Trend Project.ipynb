{
 "cells": [
  {
   "cell_type": "markdown",
   "id": "d4686b41-6cc7-4dd0-8984-55a41b2038c1",
   "metadata": {},
   "source": [
    "### NBA Trends Proejct\n",
    "\n",
    "\n",
    "In this project, you’ll analyze data from the NBA (National Basketball Association) and explore possible associations.\n",
    "\n",
    "This data was originally sourced from 538’s Analysis of the Complete History Of The NBA and contains the original, unmodified data from Basketball Reference as well as several additional variables 538 added to perform their own analysis.\n",
    "\n",
    "#### Workflow Process that we follow:\n",
    "\n",
    "1. Data Loading and Initial Exploration\n",
    "2. Data Cleaning and Preprocessing (ETL)\n",
    "3. Team Performance Analysis\n",
    "4. Comparative Analysis (Knicks vs Nets)\n",
    "5. Home Court Advantage Analysis\n",
    "6. Statistical Tests (Chi-square test)\n",
    "7. Correlation Analysis\n",
    "8. Conclusions"
   ]
  },
  {
   "cell_type": "markdown",
   "id": "84dd2c19-c34a-4c6f-a2bf-b8519f75ed14",
   "metadata": {},
   "source": [
    "#### Data Loading and Initial Exploration\n"
   ]
  },
  {
   "cell_type": "markdown",
   "id": "e2aae1a8-85c5-454d-8394-67bc6d2dba44",
   "metadata": {},
   "source": [
    "Import necessary libraries"
   ]
  },
  {
   "cell_type": "code",
   "execution_count": 1,
   "id": "dbbd53d3-b791-4612-8ed6-786f8d392cfb",
   "metadata": {},
   "outputs": [],
   "source": [
    "import numpy as np\n",
    "import pandas as pd\n",
    "import matplotlib.pyplot as plt\n",
    "import seaborn as sns\n",
    "from scipy.stats import pearsonr, chi2_contingency\n",
    "from sklearn.preprocessing import StandardScaler\n",
    "from sklearn.impute import SimpleImputer"
   ]
  },
  {
   "cell_type": "markdown",
   "id": "03d533c8-103f-46ec-a5b1-1a4aff3afce1",
   "metadata": {},
   "source": [
    "Load the Dataset"
   ]
  },
  {
   "cell_type": "code",
   "execution_count": 2,
   "id": "e2b60c5d-2680-4365-a4dc-cb90104fd491",
   "metadata": {},
   "outputs": [],
   "source": [
    "nba = pd.read_csv('nba_games.csv')"
   ]
  },
  {
   "cell_type": "markdown",
   "id": "0e7fa4e9-7bbe-49bb-8a02-38060a7373bf",
   "metadata": {},
   "source": [
    "Display basic info about the data"
   ]
  },
  {
   "cell_type": "code",
   "execution_count": 3,
   "id": "dbf674c8-0576-437a-bedd-b1765d4aed64",
   "metadata": {},
   "outputs": [
    {
     "name": "stdout",
     "output_type": "stream",
     "text": [
      "Dataset Information:\n",
      "<class 'pandas.core.frame.DataFrame'>\n",
      "RangeIndex: 24359 entries, 0 to 24358\n",
      "Data columns (total 11 columns):\n",
      " #   Column         Non-Null Count  Dtype  \n",
      "---  ------         --------------  -----  \n",
      " 0   game_id        24359 non-null  object \n",
      " 1   year_id        24359 non-null  int64  \n",
      " 2   fran_id        24359 non-null  object \n",
      " 3   opp_fran       24359 non-null  object \n",
      " 4   game_location  24359 non-null  object \n",
      " 5   is_playoffs    24359 non-null  int64  \n",
      " 6   pts            24359 non-null  int64  \n",
      " 7   opp_pts        24359 non-null  int64  \n",
      " 8   game_result    24359 non-null  object \n",
      " 9   forecast       24359 non-null  float64\n",
      " 10  point_diff     24359 non-null  int64  \n",
      "dtypes: float64(1), int64(5), object(5)\n",
      "memory usage: 2.0+ MB\n",
      "None\n"
     ]
    }
   ],
   "source": [
    "print(\"Dataset Information:\")\n",
    "print(nba.info())"
   ]
  },
  {
   "cell_type": "markdown",
   "id": "0523ea01-a0a6-4fe0-83ca-35bd3827e06e",
   "metadata": {},
   "source": [
    "Display summary statistics"
   ]
  },
  {
   "cell_type": "code",
   "execution_count": 4,
   "id": "45e3fa3b-e224-4a02-bc90-dd797463e7f4",
   "metadata": {},
   "outputs": [
    {
     "name": "stdout",
     "output_type": "stream",
     "text": [
      "\n",
      "Summary Statistics:\n",
      "<bound method NDFrame.describe of             game_id  year_id  fran_id      opp_fran game_location  \\\n",
      "0      194611010TRH     1947   Knicks       Huskies             A   \n",
      "1      194611020CHS     1947   Knicks         Stags             A   \n",
      "2      194611020PRO     1947  Celtics  Steamrollers             A   \n",
      "3      194611050BOS     1947  Celtics         Stags             H   \n",
      "4      194611070STB     1947   Knicks       Bombers             A   \n",
      "...             ...      ...      ...           ...           ...   \n",
      "24354  201504280LAC     2015    Spurs      Clippers             A   \n",
      "24355  201504290ATL     2015     Nets         Hawks             A   \n",
      "24356  201504300SAS     2015    Spurs      Clippers             H   \n",
      "24357  201505010BRK     2015     Nets         Hawks             H   \n",
      "24358  201505020LAC     2015    Spurs      Clippers             A   \n",
      "\n",
      "       is_playoffs  pts  opp_pts game_result  forecast  point_diff  \n",
      "0                0   68       66           W  0.359935           2  \n",
      "1                0   47       63           L  0.368899         -16  \n",
      "2                0   53       59           L  0.359935          -6  \n",
      "3                0   55       57           L  0.620204          -2  \n",
      "4                0   68       63           W  0.339290           5  \n",
      "...            ...  ...      ...         ...       ...         ...  \n",
      "24354            1  111      107           W  0.383515           4  \n",
      "24355            1   97      107           L  0.238122         -10  \n",
      "24356            1   96      102           L  0.684116          -6  \n",
      "24357            1   87      111           L  0.484831         -24  \n",
      "24358            1  109      111           L  0.374021          -2  \n",
      "\n",
      "[24359 rows x 11 columns]>\n"
     ]
    }
   ],
   "source": [
    "print(\"\\nSummary Statistics:\")\n",
    "print(nba.describe)"
   ]
  },
  {
   "cell_type": "markdown",
   "id": "9eaec6f2-ecfa-4d86-a566-979a2ca4e744",
   "metadata": {},
   "source": [
    "Basic display Overview of the Table"
   ]
  },
  {
   "cell_type": "code",
   "execution_count": 5,
   "id": "d46840d1-bb90-4d71-97b0-117ad78acfe9",
   "metadata": {},
   "outputs": [
    {
     "data": {
      "text/html": [
       "<div>\n",
       "<style scoped>\n",
       "    .dataframe tbody tr th:only-of-type {\n",
       "        vertical-align: middle;\n",
       "    }\n",
       "\n",
       "    .dataframe tbody tr th {\n",
       "        vertical-align: top;\n",
       "    }\n",
       "\n",
       "    .dataframe thead th {\n",
       "        text-align: right;\n",
       "    }\n",
       "</style>\n",
       "<table border=\"1\" class=\"dataframe\">\n",
       "  <thead>\n",
       "    <tr style=\"text-align: right;\">\n",
       "      <th></th>\n",
       "      <th>game_id</th>\n",
       "      <th>year_id</th>\n",
       "      <th>fran_id</th>\n",
       "      <th>opp_fran</th>\n",
       "      <th>game_location</th>\n",
       "      <th>is_playoffs</th>\n",
       "      <th>pts</th>\n",
       "      <th>opp_pts</th>\n",
       "      <th>game_result</th>\n",
       "      <th>forecast</th>\n",
       "      <th>point_diff</th>\n",
       "    </tr>\n",
       "  </thead>\n",
       "  <tbody>\n",
       "    <tr>\n",
       "      <th>0</th>\n",
       "      <td>194611010TRH</td>\n",
       "      <td>1947</td>\n",
       "      <td>Knicks</td>\n",
       "      <td>Huskies</td>\n",
       "      <td>A</td>\n",
       "      <td>0</td>\n",
       "      <td>68</td>\n",
       "      <td>66</td>\n",
       "      <td>W</td>\n",
       "      <td>0.359935</td>\n",
       "      <td>2</td>\n",
       "    </tr>\n",
       "    <tr>\n",
       "      <th>1</th>\n",
       "      <td>194611020CHS</td>\n",
       "      <td>1947</td>\n",
       "      <td>Knicks</td>\n",
       "      <td>Stags</td>\n",
       "      <td>A</td>\n",
       "      <td>0</td>\n",
       "      <td>47</td>\n",
       "      <td>63</td>\n",
       "      <td>L</td>\n",
       "      <td>0.368899</td>\n",
       "      <td>-16</td>\n",
       "    </tr>\n",
       "    <tr>\n",
       "      <th>2</th>\n",
       "      <td>194611020PRO</td>\n",
       "      <td>1947</td>\n",
       "      <td>Celtics</td>\n",
       "      <td>Steamrollers</td>\n",
       "      <td>A</td>\n",
       "      <td>0</td>\n",
       "      <td>53</td>\n",
       "      <td>59</td>\n",
       "      <td>L</td>\n",
       "      <td>0.359935</td>\n",
       "      <td>-6</td>\n",
       "    </tr>\n",
       "    <tr>\n",
       "      <th>3</th>\n",
       "      <td>194611050BOS</td>\n",
       "      <td>1947</td>\n",
       "      <td>Celtics</td>\n",
       "      <td>Stags</td>\n",
       "      <td>H</td>\n",
       "      <td>0</td>\n",
       "      <td>55</td>\n",
       "      <td>57</td>\n",
       "      <td>L</td>\n",
       "      <td>0.620204</td>\n",
       "      <td>-2</td>\n",
       "    </tr>\n",
       "    <tr>\n",
       "      <th>4</th>\n",
       "      <td>194611070STB</td>\n",
       "      <td>1947</td>\n",
       "      <td>Knicks</td>\n",
       "      <td>Bombers</td>\n",
       "      <td>A</td>\n",
       "      <td>0</td>\n",
       "      <td>68</td>\n",
       "      <td>63</td>\n",
       "      <td>W</td>\n",
       "      <td>0.339290</td>\n",
       "      <td>5</td>\n",
       "    </tr>\n",
       "    <tr>\n",
       "      <th>...</th>\n",
       "      <td>...</td>\n",
       "      <td>...</td>\n",
       "      <td>...</td>\n",
       "      <td>...</td>\n",
       "      <td>...</td>\n",
       "      <td>...</td>\n",
       "      <td>...</td>\n",
       "      <td>...</td>\n",
       "      <td>...</td>\n",
       "      <td>...</td>\n",
       "      <td>...</td>\n",
       "    </tr>\n",
       "    <tr>\n",
       "      <th>24354</th>\n",
       "      <td>201504280LAC</td>\n",
       "      <td>2015</td>\n",
       "      <td>Spurs</td>\n",
       "      <td>Clippers</td>\n",
       "      <td>A</td>\n",
       "      <td>1</td>\n",
       "      <td>111</td>\n",
       "      <td>107</td>\n",
       "      <td>W</td>\n",
       "      <td>0.383515</td>\n",
       "      <td>4</td>\n",
       "    </tr>\n",
       "    <tr>\n",
       "      <th>24355</th>\n",
       "      <td>201504290ATL</td>\n",
       "      <td>2015</td>\n",
       "      <td>Nets</td>\n",
       "      <td>Hawks</td>\n",
       "      <td>A</td>\n",
       "      <td>1</td>\n",
       "      <td>97</td>\n",
       "      <td>107</td>\n",
       "      <td>L</td>\n",
       "      <td>0.238122</td>\n",
       "      <td>-10</td>\n",
       "    </tr>\n",
       "    <tr>\n",
       "      <th>24356</th>\n",
       "      <td>201504300SAS</td>\n",
       "      <td>2015</td>\n",
       "      <td>Spurs</td>\n",
       "      <td>Clippers</td>\n",
       "      <td>H</td>\n",
       "      <td>1</td>\n",
       "      <td>96</td>\n",
       "      <td>102</td>\n",
       "      <td>L</td>\n",
       "      <td>0.684116</td>\n",
       "      <td>-6</td>\n",
       "    </tr>\n",
       "    <tr>\n",
       "      <th>24357</th>\n",
       "      <td>201505010BRK</td>\n",
       "      <td>2015</td>\n",
       "      <td>Nets</td>\n",
       "      <td>Hawks</td>\n",
       "      <td>H</td>\n",
       "      <td>1</td>\n",
       "      <td>87</td>\n",
       "      <td>111</td>\n",
       "      <td>L</td>\n",
       "      <td>0.484831</td>\n",
       "      <td>-24</td>\n",
       "    </tr>\n",
       "    <tr>\n",
       "      <th>24358</th>\n",
       "      <td>201505020LAC</td>\n",
       "      <td>2015</td>\n",
       "      <td>Spurs</td>\n",
       "      <td>Clippers</td>\n",
       "      <td>A</td>\n",
       "      <td>1</td>\n",
       "      <td>109</td>\n",
       "      <td>111</td>\n",
       "      <td>L</td>\n",
       "      <td>0.374021</td>\n",
       "      <td>-2</td>\n",
       "    </tr>\n",
       "  </tbody>\n",
       "</table>\n",
       "<p>24359 rows × 11 columns</p>\n",
       "</div>"
      ],
      "text/plain": [
       "            game_id  year_id  fran_id      opp_fran game_location  \\\n",
       "0      194611010TRH     1947   Knicks       Huskies             A   \n",
       "1      194611020CHS     1947   Knicks         Stags             A   \n",
       "2      194611020PRO     1947  Celtics  Steamrollers             A   \n",
       "3      194611050BOS     1947  Celtics         Stags             H   \n",
       "4      194611070STB     1947   Knicks       Bombers             A   \n",
       "...             ...      ...      ...           ...           ...   \n",
       "24354  201504280LAC     2015    Spurs      Clippers             A   \n",
       "24355  201504290ATL     2015     Nets         Hawks             A   \n",
       "24356  201504300SAS     2015    Spurs      Clippers             H   \n",
       "24357  201505010BRK     2015     Nets         Hawks             H   \n",
       "24358  201505020LAC     2015    Spurs      Clippers             A   \n",
       "\n",
       "       is_playoffs  pts  opp_pts game_result  forecast  point_diff  \n",
       "0                0   68       66           W  0.359935           2  \n",
       "1                0   47       63           L  0.368899         -16  \n",
       "2                0   53       59           L  0.359935          -6  \n",
       "3                0   55       57           L  0.620204          -2  \n",
       "4                0   68       63           W  0.339290           5  \n",
       "...            ...  ...      ...         ...       ...         ...  \n",
       "24354            1  111      107           W  0.383515           4  \n",
       "24355            1   97      107           L  0.238122         -10  \n",
       "24356            1   96      102           L  0.684116          -6  \n",
       "24357            1   87      111           L  0.484831         -24  \n",
       "24358            1  109      111           L  0.374021          -2  \n",
       "\n",
       "[24359 rows x 11 columns]"
      ]
     },
     "metadata": {},
     "output_type": "display_data"
    }
   ],
   "source": [
    "display(nba)"
   ]
  },
  {
   "cell_type": "markdown",
   "id": "5d54063e-bdb6-400c-b9e1-79c7879ed3e6",
   "metadata": {},
   "source": [
    "#### ETL"
   ]
  },
  {
   "cell_type": "markdown",
   "id": "f3ccff20-e37d-4d7e-993a-9c9f7b0b19ba",
   "metadata": {},
   "source": [
    " ##### Handle missing values"
   ]
  },
  {
   "cell_type": "markdown",
   "id": "165c9cb6-0cb7-4a88-8af4-840112955c69",
   "metadata": {},
   "source": [
    "We need first to idenify numerical and no-numerical columns"
   ]
  },
  {
   "cell_type": "code",
   "execution_count": 6,
   "id": "7575b3d4-3398-4f44-8be4-63559478498e",
   "metadata": {},
   "outputs": [
    {
     "name": "stdout",
     "output_type": "stream",
     "text": [
      "Numeric columns: Index(['year_id', 'is_playoffs', 'pts', 'opp_pts', 'forecast', 'point_diff'], dtype='object')\n",
      "Non-numeric columns: Index(['game_id', 'fran_id', 'opp_fran', 'game_location', 'game_result'], dtype='object')\n"
     ]
    }
   ],
   "source": [
    "# Identify numeric and non-numeric columns\n",
    "numeric_columns = nba.select_dtypes(include=[np.number]).columns\n",
    "non_numeric_columns = nba.select_dtypes(exclude=[np.number]).columns\n",
    "\n",
    "print(\"Numeric columns:\", numeric_columns)\n",
    "print(\"Non-numeric columns:\", non_numeric_columns)"
   ]
  },
  {
   "cell_type": "markdown",
   "id": "117079d1-364f-43fd-a5cf-95733fea60b9",
   "metadata": {},
   "source": [
    "Now we have to 4. Handle missing values separately for numeric and non-numeric columns. We need to use the SimpleImputer from *sklearn*"
   ]
  },
  {
   "cell_type": "code",
   "execution_count": 7,
   "id": "7691c536-2271-4ba2-8760-25644caea5db",
   "metadata": {},
   "outputs": [],
   "source": [
    "from sklearn.impute import SimpleImputer\n",
    "\n",
    "# For numeric columns, use mean imputation\n",
    "numeric_imputer = SimpleImputer(strategy='mean')\n",
    "nba_numeric_imputed = pd.DataFrame(numeric_imputer.fit_transform(nba[numeric_columns]), \n",
    "                                   columns=numeric_columns, \n",
    "                                   index=nba.index)\n",
    "\n",
    "# For non-numeric columns, use most frequent imputation\n",
    "non_numeric_imputer = SimpleImputer(strategy='most_frequent')\n",
    "nba_non_numeric_imputed = pd.DataFrame(non_numeric_imputer.fit_transform(nba[non_numeric_columns]), \n",
    "                                       columns=non_numeric_columns, \n",
    "                                       index=nba.index)"
   ]
  },
  {
   "cell_type": "markdown",
   "id": "c46498d2-0639-45ed-9df0-b1f646b5b5bc",
   "metadata": {},
   "source": [
    "We Combine the imputed dataframes and then we reorder columns to match original dataframe"
   ]
  },
  {
   "cell_type": "code",
   "execution_count": 8,
   "id": "9c89242e-39de-4ef4-93f3-c796e7d9231d",
   "metadata": {},
   "outputs": [],
   "source": [
    "nba_imputed = pd.concat([nba_numeric_imputed, nba_non_numeric_imputed], axis=1)\n",
    "nba_imputed = nba_imputed[nba.columns]"
   ]
  },
  {
   "cell_type": "code",
   "execution_count": 9,
   "id": "d4df722a-09bb-4025-927b-32704ded374e",
   "metadata": {},
   "outputs": [
    {
     "name": "stdout",
     "output_type": "stream",
     "text": [
      "<class 'pandas.core.frame.DataFrame'>\n",
      "RangeIndex: 24359 entries, 0 to 24358\n",
      "Data columns (total 11 columns):\n",
      " #   Column         Non-Null Count  Dtype  \n",
      "---  ------         --------------  -----  \n",
      " 0   game_id        24359 non-null  object \n",
      " 1   year_id        24359 non-null  float64\n",
      " 2   fran_id        24359 non-null  object \n",
      " 3   opp_fran       24359 non-null  object \n",
      " 4   game_location  24359 non-null  object \n",
      " 5   is_playoffs    24359 non-null  float64\n",
      " 6   pts            24359 non-null  float64\n",
      " 7   opp_pts        24359 non-null  float64\n",
      " 8   game_result    24359 non-null  object \n",
      " 9   forecast       24359 non-null  float64\n",
      " 10  point_diff     24359 non-null  float64\n",
      "dtypes: float64(6), object(5)\n",
      "memory usage: 2.0+ MB\n",
      "None\n",
      "\n",
      "Missing values after imputation:\n",
      "game_id          0\n",
      "year_id          0\n",
      "fran_id          0\n",
      "opp_fran         0\n",
      "game_location    0\n",
      "is_playoffs      0\n",
      "pts              0\n",
      "opp_pts          0\n",
      "game_result      0\n",
      "forecast         0\n",
      "point_diff       0\n",
      "dtype: int64\n"
     ]
    }
   ],
   "source": [
    "print(nba_imputed.info())\n",
    "print(\"\\nMissing values after imputation:\")\n",
    "print(nba_imputed.isnull().sum())"
   ]
  },
  {
   "cell_type": "markdown",
   "id": "c54bdf72-5274-40f3-aebc-e80ff76a8171",
   "metadata": {},
   "source": [
    "Some feature engineering"
   ]
  },
  {
   "cell_type": "code",
   "execution_count": 10,
   "id": "b0117839-cb7c-48a3-890f-12c19ba9674a",
   "metadata": {},
   "outputs": [],
   "source": [
    "nba_imputed['point_diff'] = nba_imputed['pts'] - nba_imputed['opp_pts']\n",
    "nba_imputed['is_home'] = (nba_imputed['game_location'] == 'H').astype(int)"
   ]
  },
  {
   "cell_type": "code",
   "execution_count": 11,
   "id": "d10a94b0-61cd-4815-9ee0-0d746cc2c2a1",
   "metadata": {},
   "outputs": [],
   "source": [
    "scaler = StandardScaler()\n",
    "numerical_features = ['pts', 'opp_pts', 'forecast', 'point_diff']\n",
    "nba_imputed[numerical_features] = scaler.fit_transform(nba_imputed[numerical_features])"
   ]
  },
  {
   "cell_type": "markdown",
   "id": "a99cedfc-69e8-41f2-a463-2cdf1604cc84",
   "metadata": {},
   "source": [
    "### Subset the Data to 2010 Season and 2014 Season"
   ]
  },
  {
   "cell_type": "code",
   "execution_count": 12,
   "id": "0e858621-ff24-4cb0-b7f4-eb0304bb4b86",
   "metadata": {},
   "outputs": [
    {
     "name": "stdout",
     "output_type": "stream",
     "text": [
      "2010 Season Data:\n",
      "            game_id  year_id  fran_id   opp_fran game_location  is_playoffs  \\\n",
      "21717  200910270CLE   2010.0  Celtics  Cavaliers             A          0.0   \n",
      "21718  200910280BOS   2010.0  Celtics    Hornets             H          0.0   \n",
      "21719  200910280MIA   2010.0   Knicks       Heat             A          0.0   \n",
      "\n",
      "            pts   opp_pts game_result  forecast  point_diff  is_home  \n",
      "21717 -0.569437 -0.907255           W -1.174996    0.378801        0  \n",
      "21718 -0.773179 -2.932657           W  1.346230    2.402676        1  \n",
      "21719 -0.705265  0.848093           L -1.262851   -1.720032        0  \n",
      "\n",
      "2014 Season Data:\n",
      "            game_id  year_id fran_id   opp_fran game_location  is_playoffs  \\\n",
      "23468  201310300CLE   2014.0    Nets  Cavaliers             A          0.0   \n",
      "23469  201310300NYK   2014.0  Knicks      Bucks             H          0.0   \n",
      "23470  201310300SAS   2014.0   Spurs  Grizzlies             H          0.0   \n",
      "\n",
      "            pts   opp_pts game_result  forecast  point_diff  is_home  \n",
      "23468 -0.637351 -0.299635           L  0.395101   -0.370782        0  \n",
      "23469 -0.909007 -1.312336           W  1.245460    0.453760        1  \n",
      "23470 -0.161952 -0.569688           W  0.775286    0.453760        1  \n"
     ]
    }
   ],
   "source": [
    "nba_2010 = nba_imputed[nba_imputed.year_id == 2010]\n",
    "nba_2014 = nba_imputed[nba_imputed.year_id == 2014]\n",
    "\n",
    "print(\"2010 Season Data:\")\n",
    "print(nba_2010.head(3))\n",
    "print(\"\\n2014 Season Data:\")\n",
    "print(nba_2014.head(3))"
   ]
  },
  {
   "cell_type": "markdown",
   "id": "08cb065e-be84-45d5-8a94-b2562b3c8bc0",
   "metadata": {},
   "source": [
    "\n",
    "###### Separate and filter data in small pieces the nba_2010"
   ]
  },
  {
   "cell_type": "code",
   "execution_count": 13,
   "id": "6ed15b31-4f33-45b5-ace6-a5f3be6fbc91",
   "metadata": {},
   "outputs": [],
   "source": [
    "knicks_pts_10 = nba_2010.pts[nba.fran_id == 'Knicks']\n",
    "nets_pts_10 = nba_2010.pts[nba.fran_id == 'Nets']"
   ]
  },
  {
   "cell_type": "markdown",
   "id": "3b70ed4f-c1c0-4846-a2fd-49153c8efb35",
   "metadata": {},
   "source": [
    "Get the mean value for each subset of data and the difference betwenn them"
   ]
  },
  {
   "cell_type": "code",
   "execution_count": 14,
   "id": "b799c126-516b-4097-bc42-2a61f1c87c96",
   "metadata": {},
   "outputs": [
    {
     "name": "stdout",
     "output_type": "stream",
     "text": [
      " The mean difference would be 0.6609198122109914\n"
     ]
    }
   ],
   "source": [
    "knicks_pts_10_mean = np.mean(knicks_pts_10)\n",
    "net_pts_10_mean = np.mean(nets_pts_10)\n",
    "diff_means_2010 = knicks_pts_10_mean - net_pts_10_mean\n",
    "print(f\" The mean difference would be {diff_means_2010}\")"
   ]
  },
  {
   "cell_type": "markdown",
   "id": "b28d4843-8b24-415d-ace7-eaef7af6108d",
   "metadata": {},
   "source": [
    "We now create an overlapping histogram to see if they are related"
   ]
  },
  {
   "cell_type": "code",
   "execution_count": 15,
   "id": "fc6b2ff9-57c2-46f0-809d-0abf84e7e132",
   "metadata": {},
   "outputs": [
    {
     "data": {
      "image/png": "[encoded data removed]",
      "text/plain": [
       "<Figure size 640x480 with 1 Axes>"
      ]
     },
     "metadata": {},
     "output_type": "display_data"
    }
   ],
   "source": [
    "plt.hist(knicks_pts_10, alpha=0.8, density=True, label='Knicks 2010')  \n",
    "plt.hist(nets_pts_10, alpha=0.8, density=True, label='Nets 2010')   \n",
    "plt.legend()\n",
    "plt.show()"
   ]
  },
  {
   "cell_type": "code",
   "execution_count": 16,
   "id": "f457159f-768d-430a-b1c8-c374728131c0",
   "metadata": {},
   "outputs": [],
   "source": [
    "###### Separate and filter data in small pieces the nba_2014 subset"
   ]
  },
  {
   "cell_type": "code",
   "execution_count": 17,
   "id": "b70a60e5-1f7c-4b12-9296-d038fb9436cd",
   "metadata": {},
   "outputs": [],
   "source": [
    "knicks_pts_14 = nba_2014.pts[nba.fran_id == 'Knicks']\n",
    "nets_pts_14 = nba_2014.pts[nba.fran_id == 'Nets']"
   ]
  },
  {
   "cell_type": "markdown",
   "id": "d764caa5-64af-46cc-a302-95f441458bc8",
   "metadata": {},
   "source": [
    "We now calculate the mean again, but this time for the 2014 subset"
   ]
  },
  {
   "cell_type": "code",
   "execution_count": 18,
   "id": "b2bdcfd8-bc9d-4923-b5cb-e5811c6afad0",
   "metadata": {},
   "outputs": [
    {
     "name": "stdout",
     "output_type": "stream",
     "text": [
      " The mean difference would be 0.03036220435235798\n"
     ]
    }
   ],
   "source": [
    "knicks_pts_14_mean = np.mean(knicks_pts_14)\n",
    "nets_pts_14_mean = np.mean(nets_pts_14)\n",
    "diff_means_2014 = knicks_pts_14_mean - nets_pts_14_mean\n",
    "print(f\" The mean difference would be {diff_means_2014}\")"
   ]
  },
  {
   "cell_type": "markdown",
   "id": "72dc13cc-b8c0-42ee-b774-ecf4c4e3a054",
   "metadata": {},
   "source": [
    "Again, we overlap both values to see visualy this"
   ]
  },
  {
   "cell_type": "code",
   "execution_count": 19,
   "id": "05574b26-1f3d-4bc1-9f53-b903ce96d39b",
   "metadata": {},
   "outputs": [
    {
     "data": {
      "image/png": "[encoded data removed]",
      "text/plain": [
       "<Figure size 640x480 with 1 Axes>"
      ]
     },
     "metadata": {},
     "output_type": "display_data"
    }
   ],
   "source": [
    "plt.hist(knicks_pts_14, alpha=0.8, density = True, label='knicks2014')\n",
    "plt.hist(nets_pts_14, alpha=0.8, density = True, label='nets2014')\n",
    "plt.legend()\n",
    "plt.title(\"2014 Season\")\n",
    "plt.show()"
   ]
  },
  {
   "cell_type": "markdown",
   "id": "ca269570-5f95-4d49-8cf1-dbf8d87378d3",
   "metadata": {},
   "source": [
    "We’d like to know if teams tend to win more games at home compared to away.\n",
    "\n",
    "The variable *game_result* indicates whether a team won a particular game ('W' stands for “win” and 'L' stands for “loss”). The variable *game_location* indicates whether a team was playing at home or away ('H' stands for “home” and 'A' stands for “away”).\n",
    "\n",
    "For this, we can calculate a **contingency table** of frequencies to help us determine if categorical variables are associated. We then will perform a table of frequencies that shows the counts of game_result and game_location."
   ]
  },
  {
   "cell_type": "code",
   "execution_count": 20,
   "id": "7590fe9c-5c6d-4944-982b-04d9a2dd7bd7",
   "metadata": {},
   "outputs": [
    {
     "name": "stdout",
     "output_type": "stream",
     "text": [
      "game_location    A    H\n",
      "game_result            \n",
      "L              133  105\n",
      "W               92  120\n",
      "game_location         A         H\n",
      "game_result                      \n",
      "L              0.295556  0.233333\n",
      "W              0.204444  0.266667\n"
     ]
    }
   ],
   "source": [
    "location_result_freq = pd.crosstab(nba_2010.game_result, nba_2010.game_location)\n",
    "print(location_result_freq)\n",
    "\n",
    "location_result_proportions = location_result_freq / len(nba_2010)\n",
    "print(location_result_proportions)"
   ]
  },
  {
   "cell_type": "markdown",
   "id": "3826016a-5c92-411f-8ac7-0e33f005d45a",
   "metadata": {},
   "source": [
    "Proportion of the contengiency table"
   ]
  },
  {
   "cell_type": "code",
   "execution_count": 21,
   "id": "aa8f8628-76a6-4cb0-8cc1-3251259ba9e6",
   "metadata": {},
   "outputs": [
    {
     "name": "stdout",
     "output_type": "stream",
     "text": [
      "game_location         A         H\n",
      "game_result                      \n",
      "L              0.295556  0.233333\n",
      "W              0.204444  0.266667\n"
     ]
    }
   ],
   "source": [
    "location_result_proportions = location_result_freq / len(nba_2010)\n",
    "print(location_result_proportions)"
   ]
  },
  {
   "cell_type": "markdown",
   "id": "a48eddd5-2e06-4f87-9483-a1995c6e236a",
   "metadata": {},
   "source": [
    "Expected contingency table and the Chi-Square statistic"
   ]
  },
  {
   "cell_type": "code",
   "execution_count": 22,
   "id": "de6b81ee-6c27-4a85-bcf1-bd17d6d9ba43",
   "metadata": {},
   "outputs": [
    {
     "name": "stdout",
     "output_type": "stream",
     "text": [
      "\n",
      "Chi-square test for independence between game location and result:\n",
      "[[119. 119.]\n",
      " [106. 106.]]\n",
      "Chi-square statistic: 6.50\n",
      "p-value: 0.0108\n"
     ]
    }
   ],
   "source": [
    "chi2, pval, dof, expected = chi2_contingency(location_result_freq)\n",
    "print(\"\\nChi-square test for independence between game location and result:\")\n",
    "\n",
    "print(expected)\n",
    "\n",
    "print(f\"Chi-square statistic: {chi2:.2f}\")\n",
    "print(f\"p-value: {pval:.4f}\")\n"
   ]
  },
  {
   "cell_type": "markdown",
   "id": "8f6cc0f8-3f31-4c30-9bcb-ba17bb7c8289",
   "metadata": {},
   "source": [
    "IF we also wanted to know the covariance between forecast (538’s projected win probability) and point_diff (the margin of victory/defeat) in the dataset. Call this point_diff_forecast_cov."
   ]
  },
  {
   "cell_type": "code",
   "execution_count": 23,
   "id": "f85910a9-76ee-44e2-bec1-b7d892d777dd",
   "metadata": {},
   "outputs": [
    {
     "name": "stdout",
     "output_type": "stream",
     "text": [
      "[[1.15149757 0.483636  ]\n",
      " [0.483636   1.04823014]]\n"
     ]
    }
   ],
   "source": [
    "point_diff_forecast_cov = np.cov(nba_2010.forecast, nba_2010.point_diff)\n",
    "print(point_diff_forecast_cov)"
   ]
  },
  {
   "cell_type": "markdown",
   "id": "42cafdaf-63ef-4337-ba74-ac8565d40a22",
   "metadata": {},
   "source": [
    "Explore at last the correlation"
   ]
  },
  {
   "cell_type": "code",
   "execution_count": 24,
   "id": "d42cf532-fd38-41d0-af71-cab0990e277a",
   "metadata": {},
   "outputs": [
    {
     "name": "stdout",
     "output_type": "stream",
     "text": [
      " The correlation vlue would be 0.44020887084680815\n"
     ]
    }
   ],
   "source": [
    "point_diff_forecast_corr, p = pearsonr(nba_2010.forecast, nba_2010.point_diff)\n",
    "print(f\" The correlation vlue would be {point_diff_forecast_corr}\")"
   ]
  },
  {
   "cell_type": "markdown",
   "id": "53b09d9a-fe78-4780-ac32-1cd3505f3d80",
   "metadata": {},
   "source": [
    "We can perform a scatter plott for Forecast vs Point Differential in the 2010 subset"
   ]
  },
  {
   "cell_type": "code",
   "execution_count": 25,
   "id": "403d47be-7430-4e13-a6dc-30762abb5b26",
   "metadata": {},
   "outputs": [
    {
     "data": {
      "image/png": "[encoded data removed]",
      "text/plain": [
       "<Figure size 1000x600 with 1 Axes>"
      ]
     },
     "metadata": {},
     "output_type": "display_data"
    }
   ],
   "source": [
    "plt.figure(figsize=(10, 6))\n",
    "plt.scatter(x = nba_2010.forecast,  y = nba_2010.point_diff)\n",
    "plt.xlabel('Forecasted Win Prob.') #label del eje x\n",
    "plt.ylabel('Point Differential')# label del eje y\n",
    "plt.show()"
   ]
  },
  {
   "cell_type": "markdown",
   "id": "d9162720-e6f9-4adb-964e-1114d54008aa",
   "metadata": {},
   "source": [
    "#### Conclusions:\n",
    "\n",
    "1. Team Performance: We analyzed the performance of the Knicks and Nets in both 2010 and 2014 seasons, looking at their average points scored, point distributions, and win-loss records. This allows us to see how each team's performance changed over time.\n",
    "2. Home Court Advantage: The analysis of game results by location suggests there might be a home court advantage. The chi-square test helps determine if there's a significant relationship between game location and outcome.\n",
    "3. Forecasting Accuracy: By examining the correlation between forecasted win probability and point differential, we can assess the accuracy of the forecasting model used in the dataset. We still need more time and analysis to afirm this, but there seems to be so far clear evidence in this way.\n",
    "4. League-wide Trends: The time series analysis of team performance allows us to identify any league-wide trends in scoring over the years.\n",
    "5. Comparative Analysis: The direct comparison between the Knicks and Nets provides insights into the relative performance of these two franchises over time."
   ]
  }
 ],
 "metadata": {
  "kernelspec": {
   "display_name": "Python 3 (ipykernel)",
   "language": "python",
   "name": "python3"
  },
  "language_info": {
   "codemirror_mode": {
    "name": "ipython",
    "version": 3
   },
   "file_extension": ".py",
   "mimetype": "text/x-python",
   "name": "python",
   "nbconvert_exporter": "python",
   "pygments_lexer": "ipython3",
   "version": "3.12.7"
  }
 },
 "nbformat": 4,
 "nbformat_minor": 5
}
