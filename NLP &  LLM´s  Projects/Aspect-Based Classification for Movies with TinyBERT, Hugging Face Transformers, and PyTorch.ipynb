{
 "cells": [
  {
   "cell_type": "markdown",
   "id": "98b58914-fdf1-4423-b405-2d8b8f91bd1b",
   "metadata": {},
   "source": [
    "# Tiny but Mighty: Aspect-Based Classification with TinyBERT, Hugging Face Transformers, and PyTorch\n",
    "\n",
    "## 🧠 Introduction\n",
    "\n",
    "In this project, we address the task of **text classification** within the movie domain, using a dataset of reviews from IMDB. The main goal is to **predict the thematic aspect** (Story, Characters, or Cinematography) that each review focuses on.\n",
    "\n",
    "To achieve this, we implement two main approaches:\n",
    "\n",
    "1. A **simple neural network** with trainable embeddings from scratch, used as a baseline.\n",
    "2. A **pretrained TinyBERT model**, partially fine-tuned to our specific task.\n",
    "\n",
    "## 🎯 Objective\n",
    "\n",
    "- Build a model capable of automatically classifying movie reviews by thematic aspect.\n",
    "- Compare the performance of a simple neural model with a pretrained Transformer.\n",
    "- Extract insights from text analysis, including most frequent words.\n",
    "- Visualize model performance through graphs to gain a better understanding of the results.\n",
    "\n",
    "## 🔧 Methodology and Workflow\n",
    "\n",
    "1. **Data loading and cleaning**: Reading training and test datasets, basic exploratory analysis, and tokenization.\n",
    "2. **Preprocessing**: Vocabulary construction, encoding, and padding.\n",
    "3. **Baseline training**: Simple neural network with embedding layers.\n",
    "4. **Model evaluation**: Classification metrics and confusion matrix.\n",
    "5. **TinyBERT fine-tuning**: Freezing most layers and adjusting to our domain-specific task.\n",
    "6. **Performance comparison**: Visual analysis and summary of both approaches.\n",
    "\n",
    "This pipeline enables us to evaluate how both traditional and state-of-the-art NLP models perform on a practical classification task, giving us experience with both foundational and modern tools.\n",
    "\n",
    "---"
   ]
  },
  {
   "cell_type": "markdown",
   "id": "9d90f6ef-0659-4afb-8b6e-dc40266b82b1",
   "metadata": {},
   "source": [
    "**Setup - Import Libraries**"
   ]
  },
  {
   "cell_type": "code",
   "execution_count": 1,
   "id": "275582c5-c2ca-43ae-85f0-5cdf88b36fdf",
   "metadata": {},
   "outputs": [],
   "source": [
    "import numpy as np\n",
    "import pandas as pd\n",
    "import matplotlib.pyplot as plt\n",
    "import seaborn as sns\n",
    "\n",
    "import torch\n",
    "torch.manual_seed(42)\n",
    "\n",
    "from transformers import logging\n",
    "logging.set_verbosity_error() # we remove warnings"
   ]
  },
  {
   "cell_type": "markdown",
   "id": "ebb5c280-304f-4038-8cb4-1c3c795d5fbd",
   "metadata": {},
   "source": [
    "## Import and Inspect the Movie Reviews\n",
    "\n",
    "Let's first import and inspect the datasets containing the movie reviews!"
   ]
  },
  {
   "cell_type": "markdown",
   "id": "65f1f258-9aaa-4cc8-9150-99f010d06b88",
   "metadata": {},
   "source": [
    "In this project, we'll be classifying different _aspects_ within movie reviews from IMDB (Internet Movie Database), which is a free online database containing data on movies, TV shows, and other types of media.\n",
    "\n",
    "We've obtained the movie reviews from this [Hugging Face Dataset](https://huggingface.co/datasets/Lowerated/lm6-movies-reviews-aspects) that we've cleaned and pre-processed into the following csv files:\n",
    "- `\"imdb_movie_reviews_train.csv\"` - contains movie reviews in the training dataset\n",
    "- `\"imdb_movie_reviews_test.csv\"` - contains the movie reviews in the testing dataset\n",
    "\n",
    "Here's a quick summary of the columns in the dataset:\n",
    "\n",
    "- `review` - the text of the movie review\n",
    "- `aspect` - the thematic aspect of the movie the review targets\n",
    "- `aspect_encoded` an integer label encoding the `aspect` column\n",
    "\n",
    "We can start by importing the CSV file to a pandas DataFrame named `train_reviews_df`.\n",
    "\n",
    "Then we use the `.head()`  and `.info()`method to preview the first five rows and some basic statics about the dataset"
   ]
  },
  {
   "cell_type": "code",
   "execution_count": 2,
   "id": "d7219599-d548-4d36-9a76-73b861f9c5ba",
   "metadata": {},
   "outputs": [
    {
     "name": "stdout",
     "output_type": "stream",
     "text": [
      "                                              review          aspect  \\\n",
      "0       Ibiza filming location looks very enchanting  Cinematography   \n",
      "1  RANDOLPH SCOTT always played men you could loo...      Characters   \n",
      "2  interesting and promising basic idea', 'some p...           Story   \n",
      "3  the film could explore very powerful politics,...           Story   \n",
      "4  The animation is nice, and the use of color ma...  Cinematography   \n",
      "\n",
      "   aspect_encoded  \n",
      "0               0  \n",
      "1               1  \n",
      "2               2  \n",
      "3               2  \n",
      "4               0  \n"
     ]
    },
    {
     "data": {
      "text/html": [
       "<div>\n",
       "<style scoped>\n",
       "    .dataframe tbody tr th:only-of-type {\n",
       "        vertical-align: middle;\n",
       "    }\n",
       "\n",
       "    .dataframe tbody tr th {\n",
       "        vertical-align: top;\n",
       "    }\n",
       "\n",
       "    .dataframe thead th {\n",
       "        text-align: right;\n",
       "    }\n",
       "</style>\n",
       "<table border=\"1\" class=\"dataframe\">\n",
       "  <thead>\n",
       "    <tr style=\"text-align: right;\">\n",
       "      <th></th>\n",
       "      <th>review</th>\n",
       "      <th>aspect</th>\n",
       "      <th>aspect_encoded</th>\n",
       "    </tr>\n",
       "  </thead>\n",
       "  <tbody>\n",
       "    <tr>\n",
       "      <th>0</th>\n",
       "      <td>Ibiza filming location looks very enchanting</td>\n",
       "      <td>Cinematography</td>\n",
       "      <td>0</td>\n",
       "    </tr>\n",
       "    <tr>\n",
       "      <th>1</th>\n",
       "      <td>RANDOLPH SCOTT always played men you could loo...</td>\n",
       "      <td>Characters</td>\n",
       "      <td>1</td>\n",
       "    </tr>\n",
       "    <tr>\n",
       "      <th>2</th>\n",
       "      <td>interesting and promising basic idea', 'some p...</td>\n",
       "      <td>Story</td>\n",
       "      <td>2</td>\n",
       "    </tr>\n",
       "    <tr>\n",
       "      <th>3</th>\n",
       "      <td>the film could explore very powerful politics,...</td>\n",
       "      <td>Story</td>\n",
       "      <td>2</td>\n",
       "    </tr>\n",
       "    <tr>\n",
       "      <th>4</th>\n",
       "      <td>The animation is nice, and the use of color ma...</td>\n",
       "      <td>Cinematography</td>\n",
       "      <td>0</td>\n",
       "    </tr>\n",
       "    <tr>\n",
       "      <th>...</th>\n",
       "      <td>...</td>\n",
       "      <td>...</td>\n",
       "      <td>...</td>\n",
       "    </tr>\n",
       "    <tr>\n",
       "      <th>364</th>\n",
       "      <td>obviously shot on video tape', 'very poorly at...</td>\n",
       "      <td>Cinematography</td>\n",
       "      <td>0</td>\n",
       "    </tr>\n",
       "    <tr>\n",
       "      <th>365</th>\n",
       "      <td>it is humorous how bad it is', \"i've seen porn...</td>\n",
       "      <td>Story</td>\n",
       "      <td>2</td>\n",
       "    </tr>\n",
       "    <tr>\n",
       "      <th>366</th>\n",
       "      <td>Everything that is seen or heard on the screen...</td>\n",
       "      <td>Cinematography</td>\n",
       "      <td>0</td>\n",
       "    </tr>\n",
       "    <tr>\n",
       "      <th>367</th>\n",
       "      <td>the actors delivered up to standard', 'only on...</td>\n",
       "      <td>Characters</td>\n",
       "      <td>1</td>\n",
       "    </tr>\n",
       "    <tr>\n",
       "      <th>368</th>\n",
       "      <td>Tony Randall works for the IRS', 'They dote on...</td>\n",
       "      <td>Characters</td>\n",
       "      <td>1</td>\n",
       "    </tr>\n",
       "  </tbody>\n",
       "</table>\n",
       "<p>369 rows × 3 columns</p>\n",
       "</div>"
      ],
      "text/plain": [
       "                                                review          aspect  \\\n",
       "0         Ibiza filming location looks very enchanting  Cinematography   \n",
       "1    RANDOLPH SCOTT always played men you could loo...      Characters   \n",
       "2    interesting and promising basic idea', 'some p...           Story   \n",
       "3    the film could explore very powerful politics,...           Story   \n",
       "4    The animation is nice, and the use of color ma...  Cinematography   \n",
       "..                                                 ...             ...   \n",
       "364  obviously shot on video tape', 'very poorly at...  Cinematography   \n",
       "365  it is humorous how bad it is', \"i've seen porn...           Story   \n",
       "366  Everything that is seen or heard on the screen...  Cinematography   \n",
       "367  the actors delivered up to standard', 'only on...      Characters   \n",
       "368  Tony Randall works for the IRS', 'They dote on...      Characters   \n",
       "\n",
       "     aspect_encoded  \n",
       "0                 0  \n",
       "1                 1  \n",
       "2                 2  \n",
       "3                 2  \n",
       "4                 0  \n",
       "..              ...  \n",
       "364               0  \n",
       "365               2  \n",
       "366               0  \n",
       "367               1  \n",
       "368               1  \n",
       "\n",
       "[369 rows x 3 columns]"
      ]
     },
     "metadata": {},
     "output_type": "display_data"
    }
   ],
   "source": [
    "train_reviews_df = pd.read_csv('imdb_movie_reviews_train.csv')\n",
    "print(train_reviews_df.head())\n",
    "display(train_reviews_df)"
   ]
  },
  {
   "cell_type": "markdown",
   "id": "c7f06982-e313-482c-b4ac-f81dd9a27fcd",
   "metadata": {},
   "source": [
    "Next, use `.info()` to inspect the training dataset. Make sure the data types for each column make sense and if there are any missing values."
   ]
  },
  {
   "cell_type": "code",
   "execution_count": 3,
   "id": "a502b157-10a8-49a8-a83a-2020388fb013",
   "metadata": {},
   "outputs": [
    {
     "name": "stdout",
     "output_type": "stream",
     "text": [
      "<class 'pandas.core.frame.DataFrame'>\n",
      "RangeIndex: 369 entries, 0 to 368\n",
      "Data columns (total 3 columns):\n",
      " #   Column          Non-Null Count  Dtype \n",
      "---  ------          --------------  ----- \n",
      " 0   review          369 non-null    object\n",
      " 1   aspect          369 non-null    object\n",
      " 2   aspect_encoded  369 non-null    int64 \n",
      "dtypes: int64(1), object(2)\n",
      "memory usage: 8.8+ KB\n",
      "None\n"
     ]
    }
   ],
   "source": [
    "print(train_reviews_df.info())"
   ]
  },
  {
   "cell_type": "markdown",
   "id": "87a8b644-3296-46de-bb91-40a21b133480",
   "metadata": {},
   "source": [
    "Let's explore the different aspect labels in the training dataset.\n",
    "\n",
    "We can use the `.value_counts()` method on the `aspect` column to count the number of aspect labels.\n",
    "\n",
    "After that, we do the same for the `aspect_encoded` column to verify that the number of aspect labels correspond equally."
   ]
  },
  {
   "cell_type": "code",
   "execution_count": 4,
   "id": "9a940209-b9f2-4390-be70-fa8c04d4b04c",
   "metadata": {},
   "outputs": [
    {
     "name": "stdout",
     "output_type": "stream",
     "text": [
      "aspect\n",
      "Cinematography    125\n",
      "Characters        123\n",
      "Story             121\n",
      "Name: count, dtype: int64\n",
      "aspect_encoded\n",
      "0    125\n",
      "1    123\n",
      "2    121\n",
      "Name: count, dtype: int64\n"
     ]
    }
   ],
   "source": [
    "print(train_reviews_df.aspect.value_counts())\n",
    "\n",
    "print(train_reviews_df.aspect_encoded.value_counts())"
   ]
  },
  {
   "cell_type": "markdown",
   "id": "ef6cb954-2249-4b7f-a4b9-a0d5c5de77db",
   "metadata": {},
   "source": [
    "Here's a quick summary of each aspect:\n",
    "\n",
    "- **Cinematography** focuses on the movie's visual elements like the locations, quality, lighting, and visual appeal\n",
    "- **Characters** addresses the portrayal of characters and their development throughout the movie, which can focus on their acting, personality, depth, and relatability\n",
    "- **Story** highlights the movie's themes, plots, originality, and quality of storytelling"
   ]
  },
  {
   "cell_type": "markdown",
   "id": "be883d99-a973-423c-9766-399fb6519604",
   "metadata": {},
   "source": [
    "Since each movie review is classified into one of the three aspects, we'll frame this task as a **multi-class** classification task. \n",
    "\n",
    "Let's save the number of aspects to the variable `n_aspects`, which we'll reference later when we build the neural network and BERT transformer using PyTorch."
   ]
  },
  {
   "cell_type": "code",
   "execution_count": 5,
   "id": "e7f168ad-fe32-4897-bd84-d9f2fa9a7d49",
   "metadata": {},
   "outputs": [
    {
     "name": "stdout",
     "output_type": "stream",
     "text": [
      "3\n"
     ]
    }
   ],
   "source": [
    "n_aspects = train_reviews_df['aspect'].nunique()\n",
    "print(n_aspects) # this value represents the number of classes for classification"
   ]
  },
  {
   "cell_type": "markdown",
   "id": "a993202c-4a55-4d7a-9358-8529c9a9ac2c",
   "metadata": {},
   "source": [
    "#### Chek the Plot for Distribution of Aspects in Reviews"
   ]
  },
  {
   "cell_type": "code",
   "execution_count": 36,
   "id": "499ddae9-9c42-4be8-bb71-33b035341d27",
   "metadata": {},
   "outputs": [
    {
     "data": {
      "image/png": "[encoded data removed]",
      "text/plain": [
       "<Figure size 600x400 with 1 Axes>"
      ]
     },
     "metadata": {},
     "output_type": "display_data"
    }
   ],
   "source": [
    "plt.figure(figsize=(6, 4))\n",
    "sns.countplot(x='aspect', data=train_reviews_df, hue='aspect', palette='pastel', legend=False)\n",
    "plt.title('Distribution of Aspects in Reviews')\n",
    "plt.xlabel('Aspect')\n",
    "plt.ylabel('Count')\n",
    "plt.show()"
   ]
  },
  {
   "cell_type": "markdown",
   "id": "5e20b1cb-527e-4e57-988a-117055232e63",
   "metadata": {},
   "source": [
    "Next, create the _training corpus_ by using the `.tolist()` function to convert the text sequence in each review and their corresponding aspect labels to the following lists:\n",
    "\n",
    "- `train_texts` contains each movie review separated by commas\n",
    "- `train_labels` contains each review aspect separated by commas"
   ]
  },
  {
   "cell_type": "code",
   "execution_count": 7,
   "id": "f17fa105-cdbd-406a-8cdd-961019222cf1",
   "metadata": {},
   "outputs": [],
   "source": [
    "train_texts = train_reviews_df['review'].tolist()\n",
    "train_labels = train_reviews_df['aspect_encoded'].tolist()"
   ]
  },
  {
   "cell_type": "markdown",
   "id": "273a602e-8f34-4276-9f8d-617a3046e957",
   "metadata": {},
   "source": [
    "## Pre-processing the Text Data\n",
    "\n",
    "Next, we'll need to pre-process the text data into a numerical representation that our text classification model will understand!"
   ]
  },
  {
   "cell_type": "markdown",
   "id": "9f7779c2-e0e1-4447-af48-c67dd3b58392",
   "metadata": {},
   "source": [
    "Next, let's **tokenize** each review into word tokens following this instructions:\n",
    "\n",
    "A. Create a function named `tokenize_review` that uses each review text as input.\n",
    "- with the `re` module, use the `re.findall()` function to lowercase the text using `.lower()` and locate words (without punctuations and special characters) using the regular expression `r'\\b\\w+\\b'`\n",
    "- save the tokenized text to the variable `tokenized_review_text` within the function\n",
    "- make sure the function returns the tokenized text\n",
    "\n",
    "B. Apply the function to tokenize each review text in the training corpus.\n",
    "- use a `for` loop to apply the `tokenize` function to each review text in `train_texts`\n",
    "- save the list of tokenized reviews to the variable `tokenized_corpus`"
   ]
  },
  {
   "cell_type": "code",
   "execution_count": 8,
   "id": "581436b8-1aea-444a-b8db-d4442b5bbafd",
   "metadata": {},
   "outputs": [
    {
     "name": "stdout",
     "output_type": "stream",
     "text": [
      "Take a look of the first tokenized sentence ['ibiza', 'filming', 'location', 'looks', 'very', 'enchanting']\n"
     ]
    }
   ],
   "source": [
    "import re\n",
    "\n",
    "# create tokenize function\n",
    "def tokenize_review(text):\n",
    "    tokenized_review_text = re.findall(r'\\b\\w+\\b', text.lower())\n",
    "    return tokenized_review_text\n",
    "\n",
    "# we will call the function using list comprehension\n",
    "tokenized_corpus = [tokenize_review(text) for text in train_texts]\n",
    "\n",
    "# show output and print the first tokenized text sequence to check everithon works porperly so far\n",
    "print(\"Take a look of the first tokenized sentence\", tokenized_corpus[0])"
   ]
  },
  {
   "cell_type": "markdown",
   "id": "a102c8eb-5e49-490c-8e5d-b99533b212dd",
   "metadata": {},
   "source": [
    "From the `collections` module, use the `Counter()` function to count the number of occurrences of each token and save the counts to the variable `word_freqs`\n",
    "\n",
    "- First, we'll need to combine each tokenized text sequence together into a single, long list of tokens of the full training corpus. We'll save the list to the variable `combined_corpus`.\n",
    "- Next, you'll need to create a _nested loop_ that first loops through each tokenized text sequence within the training corpus\n",
    "- Then, the second loop iterates through each token within each text sequence and appends each token to `combined_corpus`\n",
    "- Lastly, apply the `Counter()` function to `combined_corpus` to count the number of occurrences of each token"
   ]
  },
  {
   "cell_type": "code",
   "execution_count": null,
   "id": "8c9974f3-595a-4ab5-8a6f-c7f229875ca3",
   "metadata": {},
   "outputs": [],
   "source": []
  },
  {
   "cell_type": "code",
   "execution_count": 9,
   "id": "0634d392-947d-4afe-bdf8-d32f0b6c3a50",
   "metadata": {},
   "outputs": [],
   "source": [
    "from collections import Counter\n",
    "\n",
    "# here is the nested loop and we will append it to our empty list\n",
    "combined_corpus = []\n",
    "\n",
    "for text in tokenized_corpus:\n",
    "    for token in text:\n",
    "        combined_corpus.append(token)\n",
    "\n",
    "word_freqs = Counter(combined_corpus)\n",
    "# print(word_freqs) WORKS FINE"
   ]
  },
  {
   "cell_type": "markdown",
   "id": "212e3d75-135e-40f9-83c7-8bf8836b2b41",
   "metadata": {},
   "source": [
    "Use the `.most_common()` function to obtain the top 1000 most commonly occurring tokens.\n",
    "- Set the value `1000` to the variable `MAX_VOCAB_SIZE`\n",
    "- Save the top 1000 most commonly occurring tokens to the variable `most_common_words`\n",
    "\n",
    "Print out the top 10 most common words in the training corpus."
   ]
  },
  {
   "cell_type": "code",
   "execution_count": 10,
   "id": "a7128789-c86d-4b6b-bce7-7973cc522009",
   "metadata": {},
   "outputs": [
    {
     "name": "stdout",
     "output_type": "stream",
     "text": [
      "Top 10 Most Common Words:  [('the', 732), ('a', 307), ('and', 306), ('of', 296), ('is', 218), ('to', 213), ('in', 177), ('it', 134), ('s', 109), ('that', 105)]\n"
     ]
    }
   ],
   "source": [
    "MAX_VOCAB_SIZE = 1000\n",
    "most_common_words = word_freqs.most_common(MAX_VOCAB_SIZE)\n",
    "\n",
    "print(\"Top 10 Most Common Words: \", most_common_words[0:10])"
   ]
  },
  {
   "cell_type": "code",
   "execution_count": 11,
   "id": "0be82013-d36f-4760-b125-86aa00517e3b",
   "metadata": {},
   "outputs": [
    {
     "data": {
      "text/plain": [
       "\"\\n# Plot: Top 20 Most Frequent Words\\nmost_common_df = pd.DataFrame(most_common_words, columns=['word', 'count'])\\n\\nplt.figure(figsize=(10, 5))\\nsns.barplot(data=most_common_df[:20], x='count', y='word', hue='count', palette='pastel', legend = False)\\nplt.title('Top 20 Most Frequent Words in the Corpus')\\nplt.xlabel('Frequency')\\nplt.ylabel('Word')\\nplt.show()\\n\""
      ]
     },
     "execution_count": 11,
     "metadata": {},
     "output_type": "execute_result"
    }
   ],
   "source": [
    "# Plot: Top 20 Most Frequent Words\n",
    "most_common_df = pd.DataFrame(most_common_words, columns=['word', 'count'])\n",
    "\n",
    "plt.figure(figsize=(10, 5))\n",
    "sns.barplot(data=most_common_df[:20], x='count', y='word', hue='count', palette='pastel', legend = False)\n",
    "plt.title('Top 20 Most Frequent Words in the Corpus')\n",
    "plt.xlabel('Frequency')\n",
    "plt.ylabel('Word')\n",
    "plt.show()"
   ]
  },
  {
   "cell_type": "markdown",
   "id": "0b02877c-4d85-4d3a-b09a-0e025f07609e",
   "metadata": {
    "jp-MarkdownHeadingCollapsed": true
   },
   "source": [
    "We create the vocabulary as a dictionary using the top 1000 most commonly occurring word tokens.\n",
    "- use the `enumerate` function to assign token IDs for each word token in `most_common_words` based on its positional value **starting at the value 2**\n",
    "- save the vocabulary to the variable `vocab`\n",
    "\n",
    "Also we add the special tokens `<unk>` and `<pad>` to the vocabulary by:\n",
    "- assigning the special token key `<unk>` with the token ID value `0`\n",
    "- assigning the special token key `<pad>` with the token ID value `1`"
   ]
  },
  {
   "cell_type": "code",
   "execution_count": 12,
   "id": "03088d1d-7c54-422e-a460-a75692fb4440",
   "metadata": {},
   "outputs": [
    {
     "name": "stdout",
     "output_type": "stream",
     "text": [
      "Vocabulary Size: 1002\n",
      "First 10 words in the vocabulary:  [('the', 2), ('a', 3), ('and', 4), ('of', 5), ('is', 6), ('to', 7), ('in', 8), ('it', 9), ('s', 10), ('that', 11)]\n"
     ]
    }
   ],
   "source": [
    "vocab = {word: idx + 2 for idx, (word, freq) in enumerate(most_common_words)}\n",
    "\n",
    "vocab['<unk>'] = 0\n",
    "vocab['<pad>'] = 1\n",
    "\n",
    "# print the vocabulary size and the first 10 items\n",
    "print(\"Vocabulary Size:\", len(vocab))\n",
    "print(\"First 10 words in the vocabulary: \", list(vocab.items())[:10])"
   ]
  },
  {
   "cell_type": "markdown",
   "id": "44d69cb5-0770-4c3e-83cd-738498f60fe4",
   "metadata": {},
   "source": [
    "Using the vocabulary, we can create a function named `encode_text` that tokenizes and encodes each review text into a sequence of token IDs and then we:\n",
    "\n",
    "- specify the inputs `text` and `vocab`\n",
    "    - `text` will be the raw review text to be tokenized and encoded\n",
    "    - `vocab` is the vocabulary\n",
    "- apply the `tokenize` function to the input `text`\n",
    "- encode the tokenized text into a sequence of token IDs\n",
    "    - assign the token ID value for the special token `<unk>` for word tokens that are not in the vocabulary\n",
    "- the function should return the encoded review text"
   ]
  },
  {
   "cell_type": "code",
   "execution_count": 13,
   "id": "65d54afa-cf5f-4608-9a9d-c00acdcfa65e",
   "metadata": {},
   "outputs": [
    {
     "name": "stdout",
     "output_type": "stream",
     "text": [
      "\n",
      "Trying the encode:\n"
     ]
    },
    {
     "data": {
      "text/plain": [
       "[12, 0, 6, 46, 17, 0, 88, 0, 2, 0, 0, 0, 8, 113, 378, 5, 0, 14, 117, 0]"
      ]
     },
     "execution_count": 13,
     "metadata": {},
     "output_type": "execute_result"
    }
   ],
   "source": [
    "def encode_text(text, vocab):\n",
    "    tokenized_text = tokenize_review(text)\n",
    "    encoded_text = [vocab.get(word, vocab['<unk>']) for word in tokenized_text]\n",
    "    return encoded_text\n",
    "\n",
    "#  examples texts\n",
    "text = \"Good programmers write code humans can understand\"\n",
    "text2 = \"This snetneces is just for testing how weel the encoer function perform in any kind of sentences i will porvide\"\n",
    "\n",
    "print(\"\\nTrying the encode:\")\n",
    "encode_text(text, vocab)\n",
    "encode_text(text2, vocab)"
   ]
  },
  {
   "cell_type": "markdown",
   "id": "b8759be0-71e0-408a-8aec-62d5e813d81b",
   "metadata": {},
   "source": [
    "Let's create another function named `pad_or_truncate` that pre-processes each encoded text to have the same length specified by a maximum length value.\n",
    "- specify the inputs `encoded_text` and `max_len`\n",
    "    - `encoded_text` will be the input encoded review text\n",
    "    - `max_len` is the specified maximum length value\n",
    "- use an `if` statement to identify reviews longer than the maximum length and returns the review truncated to the maximum length value\n",
    "- use an `else` statement to identify reviews shorter than the maximum length and returns the review padded with `1` values (corresponding to the token ID for the special token `<pad>`)"
   ]
  },
  {
   "cell_type": "code",
   "execution_count": 14,
   "id": "3db3bfec-6d34-4220-82ca-202af4028256",
   "metadata": {},
   "outputs": [],
   "source": [
    "def pad_or_truncate(encoded_text, max_len):\n",
    "    if len(encoded_text) > max_len:\n",
    "        return encoded_text[:max_len]\n",
    "    else:\n",
    "        return encoded_text + [vocab['<pad>']] * (max_len - len(encoded_text))\n",
    "        # return encoded_text + [1] * (max_len - len(text))"
   ]
  },
  {
   "cell_type": "markdown",
   "id": "d7720614-300f-4608-a067-0a26faaf49a9",
   "metadata": {},
   "source": [
    "Now, let's fully tokenize and encode each review text by applying the `encode_text` and `pad_or_truncate` functions:\n",
    "- specify a maximum length of `128` for each review text sequence and save the value to the variable `MAX_SEQ_LENGTH`\n",
    "- tokenize and encode each review text as follows:\n",
    "    - use a `for` loop to iterate through each training review text in `train_texts`\n",
    "    - apply the `encode_text` function to each review text (be sure to specify the vocabulary)\n",
    "    - apply the `pad_or_truncate` function to each encoded text (be sure to specify the maximum length value)\n",
    "- save the fully pre-processed review text sequences to the variable `padded_text_seqs`"
   ]
  },
  {
   "cell_type": "code",
   "execution_count": 15,
   "id": "e6c5c039-bdbb-494f-86a5-8947e7ee84ef",
   "metadata": {},
   "outputs": [],
   "source": [
    "MAX_SEQ_LENGTH = 128\n",
    "padded_text_seqs = [pad_or_truncate(encode_text(text, vocab), max_len=MAX_SEQ_LENGTH) for text in train_texts]\n",
    "\n",
    "# print(padded_text_seqs)"
   ]
  },
  {
   "cell_type": "markdown",
   "id": "3b242c14-bbb0-49a2-a336-104601566aa1",
   "metadata": {},
   "source": [
    "Let's prepare our text sequences to for training by converting them into PyTorch tensors:\n",
    "\n",
    "- create the input tensor `X_tensor` by converting the padded/truncated sequences\n",
    "- create the label tensor `y_tensor` by converting the training review labels (be sure to specify the datatype `torch.long`)\n",
    "\n",
    "Using the PyTorch utility module `torch.utils.data`, let's organize the training input and label tensors into a single dataset object and an iterable that will allow us to load the training data in batches:\n",
    "- create the variable `train_dataset` using the `TensorDataset` utility class to organize the input tensor and label tensor into a single dataset object\n",
    "- create the variable `train_dataloader` using the `DataLoader` utility class to create an iterable that loads the `train_dataset` in batches of `16` (be sure to set `shuffle` to `True`)"
   ]
  },
  {
   "cell_type": "code",
   "execution_count": 16,
   "id": "72fcb32d-e5da-4522-b143-93f4c31a0476",
   "metadata": {},
   "outputs": [],
   "source": [
    "import torch\n",
    "\n",
    "X_tensor = torch.tensor(padded_text_seqs)\n",
    "y_tensor = torch.tensor(train_labels, dtype=torch.long)\n",
    "\n",
    "\n",
    "from torch.utils.data import DataLoader, TensorDataset\n",
    "\n",
    "train_dataset = TensorDataset(X_tensor, y_tensor)\n",
    "train_dataloader = DataLoader(train_dataset, batch_size = 16, shuffle=True)"
   ]
  },
  {
   "cell_type": "markdown",
   "id": "c10404cf-c27f-412f-aca9-c7f3a4ac813a",
   "metadata": {},
   "source": [
    "## Training a Simple Neural Network\n",
    "\n",
    "The first text classification model we'll build and train to classify movie reviews is a **simple neural network with an embedding layer**."
   ]
  },
  {
   "cell_type": "markdown",
   "id": "446f761e-513c-4993-a57d-42f82f6e02c5",
   "metadata": {},
   "source": [
    "Let's construct the neural network architecture that will be trained to classify movie reviews!\n",
    "\n",
    "We create a class named `SimpleNNWithEmbedding` for our neural network (using the PyTorch's `nn.Module`) with the following:\n",
    "\n",
    "A. Create the `init` method that takes in the following attributes:\n",
    "- `vocab_size` is the number of tokens in the vocabulary \n",
    "- `embed_size` is the embedding size\n",
    "- `hidden_size` is the number of neurons in the linear layer\n",
    "- `output_size` is the number of output classes\n",
    "\n",
    "B. Build the `init` method by initializing the following layers:\n",
    "- `self.embedding` is an embedding layer that creates embeddings equal to the vocabulary size with embedding sizes specified by the `embed_size` input\n",
    "- `self.fc1` is the first linear layer with an input size equal to the embedding size in the embedding layer and an output size equal to the number of neurons in the hidden layer specified by the `hidden_size` input\n",
    "- `self.fc2` is the second linear layer with an input size equal to the hidden size of the first linear layer and an output size equal to the number of classes specified by the `output_size` input\n",
    "\n",
    "C. Build the `forward` method and create the forward operations in the following order:\n",
    "1. Start by passing the input `x` into the embedding layer\n",
    "2. Average the embeddings into a single representation\n",
    "3. Pass the averaged embedding into the first linear layer\n",
    "4. Apply the ReLU activation function \n",
    "5. Pass the activated output to the second linear layer\n",
    "6. Return the output of the second linear layer"
   ]
  },
  {
   "cell_type": "code",
   "execution_count": 17,
   "id": "d5557d49-7af6-4999-bdc2-e7d41b31d59f",
   "metadata": {},
   "outputs": [],
   "source": [
    "import torch.nn as nn\n",
    "\n",
    "class SimpleNNWithEmbedding(nn.Module):\n",
    "    def __init__(self, vocab_size, embed_size, hidden_size, output_size):\n",
    "        super(SimpleNNWithEmbedding, self).__init__()\n",
    "        self.embedding = nn.Embedding(vocab_size, embed_size)\n",
    "        self.fc1 = nn.Linear(embed_size, hidden_size)\n",
    "        self.fc2 = nn.Linear(hidden_size, output_size)\n",
    "              \n",
    "    def forward(self, x):\n",
    "        x = self.embedding(x)\n",
    "        x = torch.mean(x, dim=1)\n",
    "        x = self.fc1(x)\n",
    "        x = torch.relu(x)\n",
    "        x = self.fc2(x)\n",
    "        return x    "
   ]
  },
  {
   "cell_type": "markdown",
   "id": "689a4d0b-ebe2-48e3-afc9-1586229d93e8",
   "metadata": {},
   "source": [
    "Next, let's create an instance of our `SimpleNNWithEmbedding` neural network class.\n",
    "\n",
    "Start by defining the following variables:\n",
    "- `vocab_size` - integer containing the vocabulary size (vocabulary length)\n",
    "- `embed_size` - an embedding size of `50` dimensions for each token\n",
    "- `hidden_size` - specifies the hidden layer in the neural network with `100` neurons\n",
    "- `output_size` - specifies the number of class labels in our **multi-class** classification task\n",
    "    - hint: each review will be classified as one of the following aspects: Cinematography, Characters, or Story\n",
    " \n",
    "Instantiate the model with the variable parameters to the variable `text_classifier_nn`."
   ]
  },
  {
   "cell_type": "code",
   "execution_count": 18,
   "id": "4df1e1a7-7232-4301-a5f8-6e16459e0490",
   "metadata": {},
   "outputs": [
    {
     "name": "stdout",
     "output_type": "stream",
     "text": [
      "\n",
      "Lets  check and see our model:\n",
      " SimpleNNWithEmbedding(\n",
      "  (embedding): Embedding(1002, 50)\n",
      "  (fc1): Linear(in_features=50, out_features=100, bias=True)\n",
      "  (fc2): Linear(in_features=100, out_features=3, bias=True)\n",
      ")\n"
     ]
    }
   ],
   "source": [
    "vocab_size = len(vocab)\n",
    "embed_size = 50\n",
    "hidden_size = 100\n",
    "output_size = 3 # because each review will be classified as one of the following aspects: Cinematography, Characters, or Story\n",
    "\n",
    "text_classifier_nn = SimpleNNWithEmbedding(vocab_size, embed_size, hidden_size, output_size)\n",
    "print(\"\\nLets  check and see our model:\\n\", text_classifier_nn) "
   ]
  },
  {
   "cell_type": "markdown",
   "id": "4a8df372-41f0-4fdb-9ebe-f977a32ec942",
   "metadata": {},
   "source": [
    "Next, let's initialize the **loss function** and the  **optimizer** for training:\n",
    "- create an instance of the **cross-entropy** loss function in PyTorch (from the `torch.nn` module) and save it to the variable `criterion`\n",
    "- create an instance of the **Adam** optimizer in PyTorch (from the `torch.optim` module) with a learning rate of **0.005** and save it to the variable `optimizer"
   ]
  },
  {
   "cell_type": "code",
   "execution_count": 19,
   "id": "e1926e79-6ac8-43a6-a0e5-e63315b09657",
   "metadata": {},
   "outputs": [],
   "source": [
    "import torch.nn as nn\n",
    "import torch.optim as optim\n",
    "\n",
    "# optimizer = torch.optim.AdamW(filter(lambda p: p.requires_grad, text_classifier_nn.parameters()), lr=0.005) OTRA FORMA DE ESCRIBIRLO\n",
    "optimizer = optim.Adam(text_classifier_nn.parameters(), lr=0.005)\n",
    "criterion = nn.CrossEntropyLoss()"
   ]
  },
  {
   "cell_type": "markdown",
   "id": "6ef4ff2c-5dd1-495b-982a-d3ade22b8d18",
   "metadata": {},
   "source": [
    "Now let's train our neural network to classify movie reviews!\n",
    "\n",
    "A. Create a function named `train_model` that takes in the following inputs:\n",
    "- `model` is the text classification model\n",
    "- `train_loader` is the training data contained in a PyTorch `DataLoader` object\n",
    "- `criterion` is the loss function used to train the model\n",
    "- `optimizer` is the optimizer used to train the model\n",
    "- `num_epochs` is the number of training epochs\n",
    "\n",
    "B. In the function, create a `for` loop that loops through the number of epochs specified by the input `num_epochs`. Within the loop:\n",
    "- set the model to training mode\n",
    "- track the loss per epoch by initializing the variable `epoch_loss` to `0.0`\n",
    "\n",
    "C. Create a nested `for` loop within the first `for` loop such that:\n",
    "\n",
    "1. Loops through the inputs and labels of each training batch in the input `train_loader` \n",
    "2. Reset the gradients at each iteration\n",
    "3. Input the training batch through the forward pass\n",
    "4. Calculate the cross-entropy loss\n",
    "5. Backpropagate the loss through the network\n",
    "6. Adjust the weights and biases\n",
    "7. Update the total loss within the current training epoch\n",
    "\n",
    "D. Run the function to train the `text_classifier_nn` model on the training dataset stored in the iterable `train_dataloader` using the loss-function saved in `criterion` and the optimizer saved in `optimizer` for `50` epochs."
   ]
  },
  {
   "cell_type": "code",
   "execution_count": 20,
   "id": "63f3bea0-ab65-468d-b968-5d3fcf8f6a0e",
   "metadata": {},
   "outputs": [
    {
     "name": "stdout",
     "output_type": "stream",
     "text": [
      "Now we will cal our function to see it in actionn\n",
      "\n",
      "[Epoch 5/50], Average CE Loss: 0.98320\n",
      "[Epoch 10/50], Average CE Loss: 0.74018\n",
      "[Epoch 15/50], Average CE Loss: 0.40746\n",
      "[Epoch 20/50], Average CE Loss: 0.15354\n",
      "[Epoch 25/50], Average CE Loss: 0.07105\n",
      "[Epoch 30/50], Average CE Loss: 0.03629\n",
      "[Epoch 35/50], Average CE Loss: 0.02796\n",
      "[Epoch 40/50], Average CE Loss: 0.01198\n",
      "[Epoch 45/50], Average CE Loss: 0.01633\n",
      "[Epoch 50/50], Average CE Loss: 0.01190\n"
     ]
    }
   ],
   "source": [
    "def train_model(model, train_loader, criterion, optimizer, num_epochs):\n",
    "    for epoch in range(num_epochs):\n",
    "        model.train()\n",
    "        epoch_loss = 0.0\n",
    "        for batch_X, batch_y in train_loader:\n",
    "            optimizer.zero_grad()\n",
    "            output = model(batch_X)\n",
    "            loss = criterion(output, batch_y)\n",
    "            loss.backward()\n",
    "            optimizer.step()\n",
    "            epoch_loss += loss.item()\n",
    "\n",
    "        avg_loss = epoch_loss / len(train_loader)\n",
    "        if (epoch + 1) % 5 == 0:\n",
    "            print(f\"[Epoch {epoch + 1}/{num_epochs}], Average CE Loss: {avg_loss:.5f}\")\n",
    "        \n",
    "print(\"Now we will cal our function to see it in actionn\\n\")\n",
    "\n",
    "train_model(text_classifier_nn, train_dataloader, criterion, optimizer, num_epochs=50)"
   ]
  },
  {
   "cell_type": "markdown",
   "id": "71f8b196-6de4-4d6d-9257-88adb9bb9a94",
   "metadata": {},
   "source": [
    "Let's evaluate the trained neural network on an out-of-sample testing dataset.\n",
    "\n",
    "Import the testing dataset stored in the CSV file `\"datasets/imdb_movie_reviews_test.csv\"` to a pandas DataFrame named `test_reviews_df`.\n",
    "\n",
    "Then, create the _testing corpus_ by using the `.tolist()` function to convert the text sequence in each review and their corresponding aspect labels to the following lists:\n",
    "\n",
    "- `test_texts` contains each movie review separated by commas\n",
    "- `test_labels` contains each review aspect separated by commas"
   ]
  },
  {
   "cell_type": "code",
   "execution_count": 21,
   "id": "6f61ab47-9a7a-41f2-99f4-4e513a46e735",
   "metadata": {},
   "outputs": [
    {
     "name": "stdout",
     "output_type": "stream",
     "text": [
      "\n",
      "Check test_reviews_df basic information:\n"
     ]
    },
    {
     "data": {
      "text/html": [
       "<div>\n",
       "<style scoped>\n",
       "    .dataframe tbody tr th:only-of-type {\n",
       "        vertical-align: middle;\n",
       "    }\n",
       "\n",
       "    .dataframe tbody tr th {\n",
       "        vertical-align: top;\n",
       "    }\n",
       "\n",
       "    .dataframe thead th {\n",
       "        text-align: right;\n",
       "    }\n",
       "</style>\n",
       "<table border=\"1\" class=\"dataframe\">\n",
       "  <thead>\n",
       "    <tr style=\"text-align: right;\">\n",
       "      <th></th>\n",
       "      <th>review</th>\n",
       "      <th>aspect</th>\n",
       "      <th>aspect_encoded</th>\n",
       "    </tr>\n",
       "  </thead>\n",
       "  <tbody>\n",
       "    <tr>\n",
       "      <th>0</th>\n",
       "      <td>the cinematography is commonplace it at least ...</td>\n",
       "      <td>Cinematography</td>\n",
       "      <td>0</td>\n",
       "    </tr>\n",
       "    <tr>\n",
       "      <th>1</th>\n",
       "      <td>The cinematography is OK', 'there are some pre...</td>\n",
       "      <td>Cinematography</td>\n",
       "      <td>0</td>\n",
       "    </tr>\n",
       "    <tr>\n",
       "      <th>2</th>\n",
       "      <td>the strangely annoying and unnecessary George ...</td>\n",
       "      <td>Characters</td>\n",
       "      <td>1</td>\n",
       "    </tr>\n",
       "    <tr>\n",
       "      <th>3</th>\n",
       "      <td>Alyssa Milano', 'Tina Yothers', \"Edie McClurg ...</td>\n",
       "      <td>Characters</td>\n",
       "      <td>1</td>\n",
       "    </tr>\n",
       "    <tr>\n",
       "      <th>4</th>\n",
       "      <td>I loved the way the minor characters intervene...</td>\n",
       "      <td>Characters</td>\n",
       "      <td>1</td>\n",
       "    </tr>\n",
       "    <tr>\n",
       "      <th>...</th>\n",
       "      <td>...</td>\n",
       "      <td>...</td>\n",
       "      <td>...</td>\n",
       "    </tr>\n",
       "    <tr>\n",
       "      <th>127</th>\n",
       "      <td>acting is bland and uninspired', 'completely l...</td>\n",
       "      <td>Characters</td>\n",
       "      <td>1</td>\n",
       "    </tr>\n",
       "    <tr>\n",
       "      <th>128</th>\n",
       "      <td>himesh showing his generosity character throug...</td>\n",
       "      <td>Characters</td>\n",
       "      <td>1</td>\n",
       "    </tr>\n",
       "    <tr>\n",
       "      <th>129</th>\n",
       "      <td>gorgeous and inventive camera work</td>\n",
       "      <td>Cinematography</td>\n",
       "      <td>0</td>\n",
       "    </tr>\n",
       "    <tr>\n",
       "      <th>130</th>\n",
       "      <td>The story was well knitted', 'Most of the conv...</td>\n",
       "      <td>Story</td>\n",
       "      <td>2</td>\n",
       "    </tr>\n",
       "    <tr>\n",
       "      <th>131</th>\n",
       "      <td>The panel is funny and the contestants so far ...</td>\n",
       "      <td>Characters</td>\n",
       "      <td>1</td>\n",
       "    </tr>\n",
       "  </tbody>\n",
       "</table>\n",
       "<p>132 rows × 3 columns</p>\n",
       "</div>"
      ],
      "text/plain": [
       "                                                review          aspect  \\\n",
       "0    the cinematography is commonplace it at least ...  Cinematography   \n",
       "1    The cinematography is OK', 'there are some pre...  Cinematography   \n",
       "2    the strangely annoying and unnecessary George ...      Characters   \n",
       "3    Alyssa Milano', 'Tina Yothers', \"Edie McClurg ...      Characters   \n",
       "4    I loved the way the minor characters intervene...      Characters   \n",
       "..                                                 ...             ...   \n",
       "127  acting is bland and uninspired', 'completely l...      Characters   \n",
       "128  himesh showing his generosity character throug...      Characters   \n",
       "129                 gorgeous and inventive camera work  Cinematography   \n",
       "130  The story was well knitted', 'Most of the conv...           Story   \n",
       "131  The panel is funny and the contestants so far ...      Characters   \n",
       "\n",
       "     aspect_encoded  \n",
       "0                 0  \n",
       "1                 0  \n",
       "2                 1  \n",
       "3                 1  \n",
       "4                 1  \n",
       "..              ...  \n",
       "127               1  \n",
       "128               1  \n",
       "129               0  \n",
       "130               2  \n",
       "131               1  \n",
       "\n",
       "[132 rows x 3 columns]"
      ]
     },
     "metadata": {},
     "output_type": "display_data"
    },
    {
     "name": "stdout",
     "output_type": "stream",
     "text": [
      "<class 'pandas.core.frame.DataFrame'>\n",
      "RangeIndex: 132 entries, 0 to 131\n",
      "Data columns (total 3 columns):\n",
      " #   Column          Non-Null Count  Dtype \n",
      "---  ------          --------------  ----- \n",
      " 0   review          132 non-null    object\n",
      " 1   aspect          132 non-null    object\n",
      " 2   aspect_encoded  132 non-null    int64 \n",
      "dtypes: int64(1), object(2)\n",
      "memory usage: 3.2+ KB\n",
      "None\n"
     ]
    }
   ],
   "source": [
    "test_reviews_df = pd.read_csv('imdb_movie_reviews_test.csv')\n",
    "\n",
    "print(\"\\nCheck test_reviews_df basic information:\")\n",
    "display(test_reviews_df)\n",
    "print(test_reviews_df.info())\n",
    "\n",
    "test_texts = test_reviews_df['review'].tolist()\n",
    "test_labels = test_reviews_df['aspect_encoded'].tolist()"
   ]
  },
  {
   "cell_type": "markdown",
   "id": "2590de0b-e30e-48b1-878d-541fe518cb0b",
   "metadata": {},
   "source": [
    "Let's pre-process (tokenize, encode, pad, and truncate) the text sequences in the testing dataset using the previous functions:\n",
    "- `encode_text` - uses the vocabulary to tokenize and encode text into token IDs\n",
    "- `pad_or_truncate` - pads or truncates the encoded text to a specified maximum sequence length\n",
    "\n",
    "Remember, we need to be sure to use the same maximum sequence length we used for the training dataset.\n",
    "\n",
    "Save the pre-processed test sequences to the variable `padded_text_seqs_test`."
   ]
  },
  {
   "cell_type": "code",
   "execution_count": 22,
   "id": "0692fdec-1946-412d-907f-93176f3fd500",
   "metadata": {},
   "outputs": [],
   "source": [
    "padded_text_seqs_test = [pad_or_truncate(encode_text(test_seq, vocab), MAX_SEQ_LENGTH) for test_seq in test_texts]\n",
    "# print(padded_text_seqs_test)"
   ]
  },
  {
   "cell_type": "markdown",
   "id": "8a5996fb-3d53-4cb7-b6f9-589af49e55eb",
   "metadata": {},
   "source": [
    "Next, let's convert the pre-processed test sequences into PyTorch tensors:\n",
    "- create the input tensor `X_tensor_test` by converting the padded/truncated test sequences\n",
    "- create the label tensor `y_tensor_test` by converting the testing labels (be sure to specify thet datatype `torch.long`\n",
    "\n",
    "\n",
    "Using the PyTorch utility module `torch.utils.data`, let's organize the testing input and label tensors into a single dataset object and an iterable that will allow us to load the testing data in batches:\n",
    "- create the variable `test_dataset` using the `TensorDataset` utility class to organize the input tensor and label tensor into a single dataset object\n",
    "- create the variable `test_dataloader` using the `DataLoader` utility class to create an iterable that loads the `test_dataset` in batches of `8` (be sure to set `shuffle` to `False`)"
   ]
  },
  {
   "cell_type": "code",
   "execution_count": 23,
   "id": "d49c132a-ce3a-4309-80e3-26ef315bb517",
   "metadata": {},
   "outputs": [],
   "source": [
    "X_tensor_test = torch.tensor(padded_text_seqs_test)\n",
    "y_tensor_test = torch.tensor(test_labels, dtype=torch.long)\n",
    "\n",
    "from torch.utils.data import DataLoader, TensorDataset\n",
    "test_dataset = TensorDataset(X_tensor_test, y_tensor_test)\n",
    "test_loader = DataLoader(test_dataset, batch_size=8, shuffle=False)"
   ]
  },
  {
   "cell_type": "markdown",
   "id": "c4021084-f5da-46fc-9367-0a03e0138358",
   "metadata": {},
   "source": [
    "Let's generate predictions from the trained neural network on the reviews in the testing dataset!\n",
    "\n",
    "A. Create the function `get_predictions_and_probabilities` that takes in the trained model and testing dataloader as input.\n",
    "\n",
    "B. Within the function:\n",
    "- set the model to evaluation mode\n",
    "- initialize the following empty lists:\n",
    "    - `all_probs` - stores all of the predicted probabilities for the testing dataset\n",
    "    - `all_labels` - stores all of the predicted labels for the testing dataset\n",
    "\n",
    "- using `with torch.no_grad()`, loop through each batch in the testing dataloader and:\n",
    "    -  generate outputs from the forward pass\n",
    "    -  use the **softmax** function to generate predicted probabilities (be sure to add the probabilities to the `all_probs` list using `extend()`\n",
    "    -  use the **argmax** function to select the class label with the highest probabilities (be sure to add the labels to the `all_labels` list using `extend()`\n",
    "- the function should return the predicted probabilities `all_probs` and predicted labels `all_labels`\n",
    "\n",
    "C. Apply the `get_predictions_and_probabilities` to generate predictions. Save the predicted probabilities to the variable `pred_probs` and predicted labels to the variable `pred_labels`."
   ]
  },
  {
   "cell_type": "code",
   "execution_count": 24,
   "id": "fbe3fcaa-7c53-40df-b801-78469db1e6ff",
   "metadata": {},
   "outputs": [],
   "source": [
    "import torch.nn.functional as F\n",
    "\n",
    "def get_predictions_and_probabilities(model, test_loader):\n",
    "    model.eval()\n",
    "    \n",
    "    all_probs = []\n",
    "    all_labels = []\n",
    "    \n",
    "    with torch.no_grad():\n",
    "        for batch_X, batch_y in test_loader:\n",
    "            outputs = model(batch_X)\n",
    "            probs = F.softmax(outputs, dim=1)  \n",
    "            all_probs.extend(probs.cpu().numpy())\n",
    "            predicted_labels = torch.argmax(outputs, dim=1)\n",
    "            all_labels.extend(predicted_labels.cpu().numpy())\n",
    "\n",
    "        return all_probs, all_labels\n",
    "\n",
    "pred_probs, pred_labels = get_predictions_and_probabilities(text_classifier_nn, test_loader)\n",
    "# print(pred_probs, pred_labels)"
   ]
  },
  {
   "cell_type": "markdown",
   "id": "f7b7edf8-386a-425c-af8f-b2c36669d223",
   "metadata": {},
   "source": [
    "Let's evaluate the model's predictions (`pred_labels`) with the true labels (`test_labels`).\n",
    "\n",
    "A. Generate a **confusion matrix** to count the number of true negatives (TN), false positives (FP), false negatives (FN), and true positives (TP). Save the confusion matrix to the variable `conf_matrix`.\n",
    "\n",
    "B. Generate a **classification report** to calculate the accuracy, precision, recall, and F1-score metrics for each label. Save the classification report to the variable `report`.\n",
    "\n",
    "Print the confusion matrix and classification report."
   ]
  },
  {
   "cell_type": "code",
   "execution_count": 25,
   "id": "fbce5406-f843-40c3-9078-3e4e32c71955",
   "metadata": {},
   "outputs": [
    {
     "name": "stdout",
     "output_type": "stream",
     "text": [
      "\n",
      "Confusion Matrix Results:\n",
      " [[27 18  4]\n",
      " [ 1 35  2]\n",
      " [ 2 15 28]]\n",
      "\n",
      "Report Result:\n",
      "               precision    recall  f1-score   support\n",
      "\n",
      "           0       0.90      0.55      0.68        49\n",
      "           1       0.51      0.92      0.66        38\n",
      "           2       0.82      0.62      0.71        45\n",
      "\n",
      "    accuracy                           0.68       132\n",
      "   macro avg       0.75      0.70      0.68       132\n",
      "weighted avg       0.76      0.68      0.69       132\n",
      "\n"
     ]
    }
   ],
   "source": [
    "from sklearn.metrics import confusion_matrix, classification_report\n",
    "\n",
    "conf_matrix = confusion_matrix(test_labels, pred_labels)\n",
    "print(\"\\nConfusion Matrix Results:\\n\", conf_matrix)\n",
    "\n",
    "report = classification_report(test_labels, pred_labels)\n",
    "print(\"\\nReport Result:\\n\", report)"
   ]
  },
  {
   "cell_type": "markdown",
   "id": "b29ed6e0-0ba9-44df-9d41-2eb9788b7655",
   "metadata": {},
   "source": [
    "<details><summary style=\"display:list-item; font-size:16px; color:blue;\">How well does the simple neural network perform when classifying movie reviews?</summary>\n",
    "\n",
    "    \n",
    "**Confusion Matrix**\n",
    "\n",
    "We can interpret the confusion matrix by this structure:\n",
    "    \n",
    "```py\n",
    "    [[TP0 FN0  FN0]\n",
    "     [FN1 TP1  FN1]\n",
    "     [FN2 FN2  TP2]]\n",
    "```\n",
    "\n",
    "Each row corresponds to the TPs and FNs for each review aspect: \n",
    "    \n",
    "- row 1 corresponds to the TPs and FNs for Cinematography reviews (label 0)\n",
    "    - 27 Cinematography reviews were correctly classified as Cinematography reviews (label 0)\n",
    "    - 18 Cinematography reviews were incorrectly classified as Character reviews (label 1)\n",
    "    - 4 Cinematography reviews were incorrectly classified as Story reviews (label 2)\n",
    "- row 2 corresponds to the TPs and FNs for Character reviews (label 1)\n",
    "    - 35 Character reviews were correctly classified as Character reviews (label 1)\n",
    "    - 1 Character review was incorrectly classified as a Cinematography review (label 0)\n",
    "    - 2 Character reviews were incorrectly classified as Story reviews (label 2)\n",
    "- row 3 corresponds to the TPs and FNs for Story reviews (label 2)\n",
    "    - 28 Story reviews were correctly classified as Story reviews (label 2)\n",
    "    - 2 Story review was incorrectly classified as a Cinematography review (label 0)\n",
    "    - 15 Story reviews were incorrectly classified as Character reviews (label 1)    \n",
    "\n",
    "**Classification Report**\n",
    "\n",
    "When classifying movie reviews, the simple neural network (with an embedding layer) had an overall accuracy of 68%, which is decent but not too great. \n",
    "    \n",
    "For Cinematography reviews (label 0):\n",
    "- the model has a high precision score of 90%, meaning that when it classified a review as a Cinematography review, it was right 90% of the time\n",
    "- however, the model has a low recall score of 55%, meaning that it could only identify 55% of all Cinematography reviews, which suggests that it is overpredicting \n",
    "    \n",
    "For Character reviews (label 1):\n",
    "- the model has a low precision score of 51%, meaning that when it classified a review as a Character review, it was right 51% of the time (pretty much a 50/50 coin flip)\n",
    "- however, the model has a high recall score of 92%, meaning that it successfully identified 92% of all Character reviews\n",
    "- this suggests that the model rarely misses a Character review, but seems to misclassify the other review aspects often\n",
    "    \n",
    "For Story reviews (label 2):\n",
    "- the model has a decent precision score of 82%, meaning that when it classified a review as a Story review, it was right 82% of the time\n",
    "- however, the model has a low recall score of 62%, meaning that it could only identify 62% of all Story reviews\n",
    "    \n",
    "Overall, the model performs moderately well in classifying movie review aspects, but there is definitely room for improvement."
   ]
  },
  {
   "cell_type": "markdown",
   "id": "934abae6-9de7-42b4-8c8b-5c0df23e84a6",
   "metadata": {},
   "source": [
    "## Fine-tuning a TinyBERT Transformer\n",
    "\n",
    "Let's now train a more advanced BERT transformer language model! Specifically, let's fine-tune a TinyBERT model to classify movie reviews! "
   ]
  },
  {
   "cell_type": "code",
   "execution_count": 26,
   "id": "da5a137d-a225-4586-8ef2-041468fbcd3e",
   "metadata": {},
   "outputs": [
    {
     "data": {
      "text/plain": [
       "<torch._C.Generator at 0x259347d89b0>"
      ]
     },
     "execution_count": 26,
     "metadata": {},
     "output_type": "execute_result"
    }
   ],
   "source": [
    "import torch\n",
    "torch.manual_seed(42)"
   ]
  },
  {
   "cell_type": "markdown",
   "id": "837afff7-9f73-4e2a-b538-4cf51b338805",
   "metadata": {},
   "source": [
    "Load the pre-trained BERT model using the `transformers` library from Hugging Face.\n",
    "\n",
    "Due to memory and hardware constraints, we won't be able to use the full pre-trained BERT model that contains 12 layers and 110 million parameters. Instead, we'll use a distilled, smaller version of BERT called **TinyBERT** that contains 4 layers and 14.5 million parameters developed by Huawei Noah's Ark Lab (https://huggingface.co/huawei-noah).\n",
    "\n",
    "A. First, save the TinyBERT model name `'huawei-noah/TinyBERT_General_4L_312D'` as a string to the variable `model_name`.\n",
    "\n",
    "B. Download and load the TinyBERT tokenizer from the `BertTokenizer` module and save the tokenizer to the variable `tinybert_tokenizer`.\n",
    "\n",
    "C. Download and load the TinyBERT models (weights) with the `BertForSequenceClassification` module. Be sure to specify `num_labels=` with the correct number of class labels (# of movie aspects). Save the TinyBERT model to the variable `text_classifier_tinybert`. "
   ]
  },
  {
   "cell_type": "code",
   "execution_count": 27,
   "id": "fda1b125-2c19-4b9a-b5fb-84166724daec",
   "metadata": {},
   "outputs": [],
   "source": [
    "from transformers import BertTokenizer, BertForSequenceClassification\n",
    "\n",
    "\n",
    "model_name = 'huawei-noah/TinyBERT_General_4L_312D'\n",
    "tinybert_tokenizer = BertTokenizer.from_pretrained(model_name)\n",
    "text_classifier_tinybert = BertForSequenceClassification.from_pretrained(model_name, num_labels = n_aspects) # Model"
   ]
  },
  {
   "cell_type": "markdown",
   "id": "aa3b100d-a34d-4ecf-91d4-f3318c3255e8",
   "metadata": {},
   "source": [
    "Before fine-tuning the TinyBERT, let's **freeze** and **unfreeze** the following layers:\n",
    "\n",
    "- first, freeze all of the parameters in the pre-trained TinyBERT\n",
    "- second, unfreeze the classification layer added on top of the pre-trained model\n",
    "- third, unfreeze the encoder layer specified at `layer[3]` "
   ]
  },
  {
   "cell_type": "code",
   "execution_count": 28,
   "id": "1882aba4-632b-4043-bd85-47e13e4e47e9",
   "metadata": {},
   "outputs": [],
   "source": [
    "# Freeze the pre-trained layers\n",
    "for param in text_classifier_tinybert.bert.parameters():\n",
    "    param.requires_grad = False\n",
    "\n",
    "# Unfreeze the feed-forward classification layer\n",
    "for param in text_classifier_tinybert.classifier.parameters():\n",
    "    param.requires_grad = True\n",
    "\n",
    "# Unfreeze an encoder layer\n",
    "for param in text_classifier_tinybert.bert.encoder.layer[3].parameters():\n",
    "    param.requires_grad = True"
   ]
  },
  {
   "cell_type": "markdown",
   "id": "3a3823a4-d934-411b-b375-63fcd4f7c6be",
   "metadata": {},
   "source": [
    "Let's pre-process the training text reviews (`train_texts`) with the TinyBERT tokenizer:\n",
    "- specify a maximum sequence length of `124` and save the value to the variable `MAX_SEQ_LENGTH_TINYBERT`\n",
    "- create the tensor `X_train` that contains the tokenized training text tokenized by the TinyBERT tokenizer:\n",
    "    - the sequences have a maximum length of **128** tokens\n",
    "    - the sequences are **padded**\n",
    "    - the sequences are **truncated**\n",
    "    - the padded and truncated sequences are returned as PyTorch tensors\n",
    "- create the tensor `y_train` that contains the corresponding training labels in `train_labels` converted to a PyTorch tensor (be sure to specify the `torch.long` datatype)\n",
    "\n",
    "Using the PyTorch utility module `torch.utils.data`, let's organize the training input and label tensors into a single dataset object and an iterable that will allow us to load the training data in batches:\n",
    "- create the variable `train_dataset` using the `TensorDataset` utility class to organize the input tensor `X_train` and label tensor `y_train` into a single dataset object (be sure to specify the attention mask in the input tensor created by the TinyBERT tokenizer)\n",
    "- create the variable `train_dataloader` using the `DataLoader` utility class to create an iterable that loads the `train_dataset` in batches of `16` (be sure to set `shuffle` to `True`)"
   ]
  },
  {
   "cell_type": "code",
   "execution_count": 29,
   "id": "b7004e87-7a64-4507-8da5-6f914388a229",
   "metadata": {},
   "outputs": [],
   "source": [
    "MAX_SEQ_LENGTH_TINYBERT = 124\n",
    "\n",
    "X_train = tinybert_tokenizer(train_texts, padding=True, truncation=True, return_tensors=\"pt\", max_length = MAX_SEQ_LENGTH_TINYBERT)\n",
    "y_train = torch.tensor(train_labels, dtype=torch.long)\n",
    "\n",
    "from torch.utils.data import DataLoader, TensorDataset # was already imported, buts as a remember\n",
    "train_dataset = TensorDataset(X_train['input_ids'], X_train['attention_mask'], y_train)\n",
    "train_dataloader = DataLoader(train_dataset, batch_size=16, shuffle=True)"
   ]
  },
  {
   "cell_type": "markdown",
   "id": "c5fd42e2-dbdc-4d9f-843d-4426a96ce30a",
   "metadata": {},
   "source": [
    "Next, let's initialize the optimizer and loss function to fine-tune our TinyBERT model (`text_classifier_tinybert`).\n",
    "\n",
    "A. Initialize the Adam optimizer with **weight decay** with a learning rate of `0.0025`. Ensure that only the unfrozen layers are optimized during training. Save the optimizer to the variable `optimizer`.\n",
    "\n",
    "B. Initialize the cross-entropy loss function. Save the loss function to the variable `criterion`."
   ]
  },
  {
   "cell_type": "code",
   "execution_count": 30,
   "id": "952d9821-1780-4d4c-82d6-1d3edb48fadf",
   "metadata": {},
   "outputs": [],
   "source": [
    "import torch.nn as nn    # was already imported, buts as a remember\n",
    "import torch.optim as optim  # was already imported, buts as a remember\n",
    "\n",
    "optimizer = torch.optim.AdamW(filter(lambda p: p.requires_grad, text_classifier_tinybert.parameters()), lr = 0.0025)\n",
    "criterion = nn.CrossEntropyLoss()"
   ]
  },
  {
   "cell_type": "markdown",
   "id": "9ad4dd75-1371-4757-bf65-79b350221a6c",
   "metadata": {},
   "source": [
    "Let's create a training loop to fine-tune the TinyBERT model for `10` epochs!\n",
    "\n",
    "A. Set the value of `10` to the variable `num_epochs`.\n",
    "\n",
    "B. Create a training loop first loops through each epoch where in each epoch:\n",
    "- set the TinyBERT model to training mode\n",
    "- initialize the empty variable `total_loss` with `0.0` to keep track of the total loss per epoch\n",
    "- create a nested loop that loops through each batch (be sure to specify the batch's attention mask) in the training dataloader where for each batch:\n",
    "    1. reset the gradients\n",
    "    2. apply the forward pass to the training batch (be sure to pass the current batch's attention mask)\n",
    "    3. extract the logits from the forward pass output\n",
    "    4. calculate the cross-entropy loss\n",
    "    5. update the `total_loss`\n",
    "    6. backpropagate the loss through the network\n",
    "    7. adjust the weights and biases"
   ]
  },
  {
   "cell_type": "code",
   "execution_count": 31,
   "id": "0737017b-f254-4da6-a291-cd0ac2685be2",
   "metadata": {},
   "outputs": [
    {
     "name": "stdout",
     "output_type": "stream",
     "text": [
      "Epoch 1, Loss: 0.9607686599095663\n",
      "Epoch 2, Loss: 0.5334098692983389\n",
      "Epoch 3, Loss: 0.3706777536620696\n",
      "Epoch 4, Loss: 0.42953731181720894\n",
      "Epoch 5, Loss: 0.3311362837751706\n",
      "Epoch 6, Loss: 0.25495298237850267\n",
      "Epoch 7, Loss: 0.2601506874586145\n",
      "Epoch 8, Loss: 0.3355211243033409\n",
      "Epoch 9, Loss: 0.2327814206170539\n",
      "Epoch 10, Loss: 0.17160291612769166\n"
     ]
    }
   ],
   "source": [
    "num_epochs = 10\n",
    "for epoch in range(num_epochs):\n",
    "    text_classifier_tinybert.train()\n",
    "    total_loss = 0.0\n",
    "    \n",
    "    for batch_X, batch_attention_mask, batch_y in train_dataloader:  # es train_loader o train_dataloader??\n",
    "        optimizer.zero_grad()\n",
    "        outputs = text_classifier_tinybert(input_ids=batch_X, attention_mask=batch_attention_mask)\n",
    "        logits = outputs.logits\n",
    "        loss = criterion(logits, batch_y)\n",
    "        total_loss += loss.item()\n",
    "        loss.backward()\n",
    "        optimizer.step()\n",
    "    \n",
    "    avg_loss = total_loss / len(train_dataloader)\n",
    "    print(f'Epoch {epoch+1}, Loss: {avg_loss}')"
   ]
  },
  {
   "cell_type": "markdown",
   "id": "217ee652-d91c-464d-ae02-4adc1a22554e",
   "metadata": {},
   "source": [
    "Now that the TinyBERT model is fine-tuned, let's evaluate how the transformer performs on the movie reviews in the testing set and compare its performance with the simple neural network from before!\n",
    "\n",
    "Pre-process the testing dataset into the following PyTorch tensors:\n",
    "\n",
    "- create the tensor `X_test` using the TinyBERT tokenizer to tokenize and testing dataset and save the pre-processed tensor to the variable `X_test`:\n",
    "    - the maximum sequence length should be same as the length used during fine-tuning the TinyBERT\n",
    "    - apply padding and truncating\n",
    "    - return the tokenized text as a PyTorch tensor\n",
    "- create the tensor `y_test` that contains the testing labels `test_labels` as a PyTorch tensor (be sure to specify the `torch.long` datatype).\n",
    "\n",
    "Using the PyTorch utility module `torch.utils.data`, let's organize the training input and label tensors into a single dataset object and an iterable that will allow us to load the training data in batches:\n",
    "- create the variable `test_dataset` using the `TensorDataset` utility class to organize the input tensor `X_test` and label tensor `y_test` into a single dataset object (be sure to specify the attention mask in the input tensor created by the TinyBERT tokenizer)\n",
    "- create the variable `test_dataloader` using the `DataLoader` utility class to create an iterable that loads the `test_dataset` in batches of `8` (be sure to set `shuffle` to `False`)"
   ]
  },
  {
   "cell_type": "code",
   "execution_count": 32,
   "id": "2a7403a5-7c72-47dc-9444-2314cecf16ad",
   "metadata": {},
   "outputs": [],
   "source": [
    "X_test = tinybert_tokenizer(test_texts, padding=True, truncation=True, return_tensors=\"pt\", max_length=MAX_SEQ_LENGTH_TINYBERT)\n",
    "y_test = torch.tensor(test_labels, dtype=torch.long)\n",
    "\n",
    "from torch.utils.data import DataLoader, TensorDataset # was already imported, buts as a remember\n",
    "\n",
    "test_dataset = TensorDataset(X_test['input_ids'], X_test['attention_mask'], y_test)\n",
    "test_dataloader = DataLoader(test_dataset, batch_size=8, shuffle=False)"
   ]
  },
  {
   "cell_type": "markdown",
   "id": "5e31d98a-b28a-46e2-9b6b-b52559e8f58d",
   "metadata": {},
   "source": [
    "Next, let's generate predictions from the fine-tuned TinyBERT!\n",
    "\n",
    "A. Set the fine-tuned TinyBERT model to evaluation mode.\n",
    "\n",
    "B. Initialize the following empty lists:\n",
    "- `pred_probs` - stores the predicted probabilities for the reviews in the testing dataset\n",
    "- `pred_labels` - stores the predicted labels for the reviews in the testing dataset\n",
    "\n",
    "C. Within `with torch.no_grad()`:\n",
    "- loop through each batch in the testing dataloader (be sure to specify the attention masks)\n",
    "- apply the forward pass to each batch\n",
    "- obtain the logits from the outputs from the forward pass\n",
    "-  use the **softmax** function to generate predicted probabilities (be sure to add the probabilities to the `pred_probs` list using `extend()`\n",
    "-  use the **argmax** function to select the class label with the highest probabilities (be sure to add the labels to the `pred_labels` list using `extend()`"
   ]
  },
  {
   "cell_type": "code",
   "execution_count": 33,
   "id": "336a679d-ab59-4632-a7db-5f746955e18c",
   "metadata": {},
   "outputs": [],
   "source": [
    "import torch.nn.functional as F\n",
    "\n",
    "text_classifier_tinybert.eval() # this put our model in evaluation mode\n",
    "\n",
    "pred_probs = []\n",
    "pred_labels = []\n",
    "\n",
    "with torch.no_grad():\n",
    "    for batch_X, batch_attention_mask, batch_y in test_dataloader:\n",
    "        outputs = text_classifier_tinybert(input_ids= batch_X, attention_mask= batch_attention_mask)\n",
    "        logits = outputs.logits\n",
    "        probs = F.softmax(logits, dim=1)\n",
    "        pred_probs.extend(probs.cpu().numpy())\n",
    "        \n",
    "        predicted_labels = torch.argmax(logits, dim=1)\n",
    "        pred_labels.extend(predicted_labels.cpu().numpy())"
   ]
  },
  {
   "cell_type": "markdown",
   "id": "bc48957b-4d22-40da-8a5f-921fe3a5fc7c",
   "metadata": {},
   "source": [
    "Let's see how well our fine-tuned TinyBERT model classifies movie reviews!\n",
    "\n",
    "Evaluate the TinyBERT model's predictions (`pred_labels`) with the true labels (`test_labels`) with the following:\n",
    "\n",
    "A. Generate a **confusion matrix** to count the number of true negatives (TN), false positives (FP), false negatives (FN), and true positives (TP). Save the confusion matrix to the variable `conf_matrix`.\n",
    "\n",
    "B. Generate a **classification report** to calculate the accuracy, precision, recall, and F1-score metrics for each label. Save the classification report to the variable `report`.\n",
    "\n",
    "Print the confusion matrix and classification report.\n",
    "\n",
    "How does the fine-tuned TinyBERT model performance compare to the simple neural network?"
   ]
  },
  {
   "cell_type": "code",
   "execution_count": 34,
   "id": "cb920469-ad9c-4010-ade7-f46a201aaf9d",
   "metadata": {},
   "outputs": [
    {
     "name": "stdout",
     "output_type": "stream",
     "text": [
      "[[49  0  0]\n",
      " [ 2 32  4]\n",
      " [ 4  4 37]]\n",
      "              precision    recall  f1-score   support\n",
      "\n",
      "           0       0.89      1.00      0.94        49\n",
      "           1       0.89      0.84      0.86        38\n",
      "           2       0.90      0.82      0.86        45\n",
      "\n",
      "    accuracy                           0.89       132\n",
      "   macro avg       0.89      0.89      0.89       132\n",
      "weighted avg       0.89      0.89      0.89       132\n",
      "\n"
     ]
    }
   ],
   "source": [
    "from sklearn.metrics import confusion_matrix, classification_report\n",
    "\n",
    "confusion_matrix = confusion_matrix(test_labels, pred_labels)\n",
    "print(confusion_matrix)\n",
    "\n",
    "report = classification_report(test_labels, pred_labels)\n",
    "print(report)"
   ]
  },
  {
   "cell_type": "markdown",
   "id": "ac0d1b3b-9922-449c-ae53-bb07b828237c",
   "metadata": {},
   "source": [
    "#### Let´s  plot the Confusion Matrix for our TinyBERT Model"
   ]
  },
  {
   "cell_type": "code",
   "execution_count": 35,
   "id": "2666a429-3651-4bd4-889f-bf12f35a5073",
   "metadata": {},
   "outputs": [
    {
     "data": {
      "text/plain": [
       "\"\\nlabels = train_reviews_df['aspect'].unique()\\n\\nplt.figure(figsize=(6, 5))\\nsns.heatmap(confusion_matrix, annot=True, fmt='d', cmap='Blues', \\n            xticklabels=labels, yticklabels=labels)\\nplt.title('Confusion Matrix - TinyBERT Model')\\nplt.xlabel('Predicted Label')\\nplt.ylabel('True Label')\\nplt.show()\\n\""
      ]
     },
     "execution_count": 35,
     "metadata": {},
     "output_type": "execute_result"
    }
   ],
   "source": [
    "'''\n",
    "labels = train_reviews_df['aspect'].unique()\n",
    "\n",
    "plt.figure(figsize=(6, 5))\n",
    "sns.heatmap(confusion_matrix, annot=True, fmt='d', cmap='Blues', \n",
    "            xticklabels=labels, yticklabels=labels)\n",
    "plt.title('Confusion Matrix - TinyBERT Model')\n",
    "plt.xlabel('Predicted Label')\n",
    "plt.ylabel('True Label')\n",
    "plt.show()\n",
    "'''"
   ]
  },
  {
   "cell_type": "markdown",
   "id": "5a972f76-4413-477c-b58b-9e55458ec412",
   "metadata": {},
   "source": [
    "<details><summary style=\"display:list-item; font-size:16px; color:blue;\">How does the fine-tuned TinyBERT model performance compare to the simple neural network?</summary>\n",
    "   \n",
    "**Confusion Matrix**\n",
    "\n",
    "We can interpret the confusion matrix by this structure:\n",
    "    \n",
    "```py\n",
    "    [[TP0 FN0  FN0]\n",
    "     [FN1 TP1  FN1]\n",
    "     [FN2 FN2  TP2]]\n",
    "```\n",
    "\n",
    "Each row corresponds to the TPs and FNs for each review aspect: \n",
    "    \n",
    "- row 1 corresponds to the TPs and FNs for Cinematography reviews (label 0)\n",
    "    - 49 Cinematography reviews were correctly classified as Cinematography reviews (label 0)\n",
    "    - 0 Cinematography reviews were incorrectly classified as Character reviews (label 1)\n",
    "    - 0 Cinematography reviews were incorrectly classified as Story reviews (label 2)\n",
    "- row 2 corresponds to the TPs and FNs for Character reviews (label 1)\n",
    "    - 32 Character reviews were correctly classified as Character reviews (label 1)\n",
    "    - 2 Character review was incorrectly classified as a Cinematography review (label 0)\n",
    "    - 4 Character reviews were incorrectly classified as Story reviews (label 2)\n",
    "- row 3 corresponds to the TPs and FNs for Story reviews (label 2)\n",
    "    - 37 Story reviews were correctly classified as Story reviews (label 2)\n",
    "    - 4 Story review was incorrectly classified as a Cinematography review (label 0)\n",
    "    - 4 Story reviews were incorrectly classified as Character reviews (label 1)    \n",
    "\n",
    "**Classification Report**\n",
    "\n",
    "When classifying movie reviews, the fine-tuned TinyBERT achieved an overall accuracy of 89%, which outperformed the simple neural network that had an overall accuracy of 68%. \n",
    "    \n",
    "For Cinematography reviews (label 0):\n",
    "- the model has a high precision score of 89%, meaning that when it classified a review as a Cinematography review, it was right 89% of the time\n",
    "- the model has a perfect recall score of 100%, meaning that it correctly identified all Cinematography reviews\n",
    "    \n",
    "For Character reviews (label 1):\n",
    "- the model has a high precision score of 89%, meaning that when it classified a review as a Character review, it was right 89% of the time\n",
    "- the model has a decent recall score of 84%, meaning that it correctly identified most of all Character reviews\n",
    "    \n",
    "For Story reviews (label 2):\n",
    "- the model has a perfect precision score of 89%, meaning that when it classified a review as a Story review, it was right 89% of the time\n",
    "- the model has a decent recall score of 89%, meaning that it identified 89% of all Story reviews\n",
    "\n",
    "    \n",
    "The macro and weighted average F1 Score of almost 90% tell us that the model performs well across all label aspects.\n",
    "    \n",
    "Overall, the model performs exceptionally well in classifying movie review aspects, confirming that fine-tuning a TinyBERT model outperforms a simple neural network for this text classification task!"
   ]
  },
  {
   "cell_type": "markdown",
   "id": "e2a43fd2-880d-4b00-a509-1f555501da06",
   "metadata": {},
   "source": [
    "That's the end of our project on building text classification models to classify different aspects of movie reviews! \n",
    "\n",
    "Here are some areas for improvement:\n",
    "- increase the maximum sequence length\n",
    "- increase the training batch sizes\n",
    "- freeze/unfreeze different layers in the TinyBERT architecture\n",
    "- increase the number of training epochs\n",
    "- try different optimizers and learning rates\n",
    "- try a different transformer model\n",
    "- increase the size of training dataset ([Full Hugging Face Dataset](https://huggingface.co/datasets/Lowerated/lm6-movies-reviews-aspects))\n"
   ]
  },
  {
   "cell_type": "markdown",
   "id": "0cc914e9-3728-45f5-b9e7-f5836fd65a8f",
   "metadata": {},
   "source": [
    "# 📊 Conclusion and Results\n",
    "\n",
    "##### After training and comparing two distinct approaches for text classification on IMDB movie reviews, we reached the following conclusions:\n",
    "\n",
    "## 🔍 Key Findings\n",
    "\n",
    "- **The TinyBERT model significantly outperformed the simple neural network**, thanks to its prior training on a massive corpus and its ability to understand contextual word relationships.\n",
    "- The dataset is relatively balanced across classes, which simplifies the learning process without requiring additional balancing techniques.\n",
    "- The most frequent words are domain-relevant (e.g., film-related), confirming the quality and consistency of the corpus.\n",
    "\n",
    "## 📈 Model Performance\n",
    "\n",
    "- The simple neural network achieved modest performance, serving as a useful initial baseline.\n",
    "- TinyBERT achieved **high precision, recall, and F1 scores**, particularly in identifying \"Story\" and \"Characters\" aspects.\n",
    "- The confusion matrix shows a **clear improvement in class distinction** when using a Transformer-based model.\n",
    "\n",
    "## 🚀 Future Work\n",
    "\n",
    "- Apply data augmentation techniques to expand the training set.\n",
    "- Experiment with more robust models like DistilBERT or full BERT-base.\n",
    "- Deploy the model using an inference API (e.g., with FastAPI or Flask).\n",
    "\n",
    "This project demonstrates the strength of **Transformer-based models** in Natural Language Processing and contributes to the development of core skills in text classification, embeddings, and transfer learning with pretrained language models.\n"
   ]
  },
  {
   "cell_type": "code",
   "execution_count": null,
   "id": "0a9e4745-6960-49f5-a732-b528792c7fd4",
   "metadata": {},
   "outputs": [],
   "source": []
  }
 ],
 "metadata": {
  "kernelspec": {
   "display_name": "Python 3 (ipykernel)",
   "language": "python",
   "name": "python3"
  },
  "language_info": {
   "codemirror_mode": {
    "name": "ipython",
    "version": 3
   },
   "file_extension": ".py",
   "mimetype": "text/x-python",
   "name": "python",
   "nbconvert_exporter": "python",
   "pygments_lexer": "ipython3",
   "version": "3.12.7"
  }
 },
 "nbformat": 4,
 "nbformat_minor": 5
}
