{
 "cells": [
  {
   "cell_type": "markdown",
   "id": "1ae1b950-8be6-4832-b328-933419feafdc",
   "metadata": {},
   "source": [
    "# Petal Inventory Analysis"
   ]
  },
  {
   "cell_type": "markdown",
   "id": "e3847c74-b1bb-4e56-b954-822ee439a3c7",
   "metadata": {},
   "source": [
    "## Introduction:\n",
    "### As the lead data analyst for a gardening store chain called Petal Power, our goal is to analyze their inventory data.\n",
    "\n",
    "#### In this project, we will:\n",
    "- Examine the inventory to understand the available data.\n",
    "- Perform specific analyses, such as filtering by location and product type.\n",
    "- Add useful insights like stock availability and total value.\n",
    "- Create detailed descriptions for each product to enhance reporting.\n"
   ]
  },
  {
   "cell_type": "markdown",
   "id": "625718d3-c28d-4541-b342-e24235e5a2ec",
   "metadata": {},
   "source": [
    "###### we import pandas library"
   ]
  },
  {
   "cell_type": "code",
   "execution_count": 1,
   "id": "e541247b-e1f2-41b1-9634-a96c896c7f73",
   "metadata": {},
   "outputs": [],
   "source": [
    "import pandas as pd"
   ]
  },
  {
   "cell_type": "markdown",
   "id": "f48832f1-c973-4155-8535-db2569f51dae",
   "metadata": {},
   "source": [
    "###### Load the inventory data"
   ]
  },
  {
   "cell_type": "code",
   "execution_count": 2,
   "id": "da8dffc3-c903-4b79-9f63-58eeb8512ded",
   "metadata": {},
   "outputs": [],
   "source": [
    "inventory = pd.read_csv('petal inventory.csv')"
   ]
  },
  {
   "cell_type": "markdown",
   "id": "1ff31d13-6307-4f3c-a1a3-ddf3f5c959cf",
   "metadata": {},
   "source": [
    "##### Display the first 10 rows of the DataFrame\n"
   ]
  },
  {
   "cell_type": "code",
   "execution_count": 3,
   "id": "0f88458c-215e-4297-aab1-35975e3628bd",
   "metadata": {},
   "outputs": [
    {
     "name": "stdout",
     "output_type": "stream",
     "text": [
      "        location  product_type         product_description  quantity  price\n",
      "0  Staten Island         seeds                       daisy         4   6.99\n",
      "1  Staten Island         seeds                  calla lily        46  19.99\n",
      "2  Staten Island         seeds                      tomato        85  13.99\n",
      "3  Staten Island  garden tools                        rake         4  13.99\n",
      "4  Staten Island  garden tools                 wheelbarrow         0  89.99\n",
      "5  Staten Island  garden tools                       spade        93  19.99\n",
      "6  Staten Island  pest_control               insect killer        74  12.99\n",
      "7  Staten Island  pest_control                 weed killer         8  23.99\n",
      "8  Staten Island       planter  20 inch terracotta planter         0  17.99\n",
      "9  Staten Island       planter      8 inch plastic planter        53   3.99\n"
     ]
    }
   ],
   "source": [
    "print(inventory.head(10))"
   ]
  },
  {
   "cell_type": "markdown",
   "id": "72ffcbd1-86f2-4bce-9f60-cf73a7d3c214",
   "metadata": {},
   "source": [
    "#### Select the 'location' column and store it in a variable of yor conveniance. Then we can print it to see the values\n"
   ]
  },
  {
   "cell_type": "code",
   "execution_count": 4,
   "id": "6d7c4bcf-ed3b-443f-853a-fdd456cb9fdf",
   "metadata": {},
   "outputs": [
    {
     "name": "stdout",
     "output_type": "stream",
     "text": [
      "0     Staten Island\n",
      "1     Staten Island\n",
      "2     Staten Island\n",
      "3     Staten Island\n",
      "4     Staten Island\n",
      "5     Staten Island\n",
      "6     Staten Island\n",
      "7     Staten Island\n",
      "8     Staten Island\n",
      "9     Staten Island\n",
      "10         Brooklyn\n",
      "11         Brooklyn\n",
      "12         Brooklyn\n",
      "13         Brooklyn\n",
      "14         Brooklyn\n",
      "15         Brooklyn\n",
      "16         Brooklyn\n",
      "17         Brooklyn\n",
      "18         Brooklyn\n",
      "19         Brooklyn\n",
      "20           Queens\n",
      "21           Queens\n",
      "22           Queens\n",
      "23           Queens\n",
      "24           Queens\n",
      "25           Queens\n",
      "26           Queens\n",
      "27           Queens\n",
      "28           Queens\n",
      "Name: location, dtype: object\n"
     ]
    }
   ],
   "source": [
    "location_column = inventory['location']\n",
    "print(location_column)"
   ]
  },
  {
   "cell_type": "markdown",
   "id": "4ddb64bf-0afb-4cd3-a3d3-7e3c0c17a8dc",
   "metadata": {},
   "source": [
    "##### If we want to subset and filter the values, we can do it. For instance, just select the Brooklyn values and print just them"
   ]
  },
  {
   "cell_type": "code",
   "execution_count": 5,
   "id": "249a38c4-77fe-45a7-984f-867e152fddae",
   "metadata": {},
   "outputs": [
    {
     "name": "stdout",
     "output_type": "stream",
     "text": [
      "    location  product_type         product_description  quantity  price\n",
      "10  Brooklyn         seeds                       daisy        50   6.99\n",
      "11  Brooklyn         seeds                  calla lily         0  19.99\n",
      "12  Brooklyn         seeds                      tomato         0  13.99\n",
      "13  Brooklyn  garden tools                        rake        15  13.99\n",
      "14  Brooklyn  garden tools                 wheelbarrow        82  89.99\n",
      "15  Brooklyn  garden tools                       spade        36  19.99\n",
      "16  Brooklyn  pest_control               insect killer        80  12.99\n",
      "17  Brooklyn  pest_control                 weed killer        76  23.99\n",
      "18  Brooklyn       planter  20 inch terracotta planter         5  17.99\n",
      "19  Brooklyn       planter      8 inch plastic planter        26   3.99\n"
     ]
    }
   ],
   "source": [
    "brooklyn = inventory[inventory['location'] == 'Brooklyn']\n",
    "print(brooklyn)"
   ]
  },
  {
   "cell_type": "markdown",
   "id": "e0e95373-3e2f-4b66-ac9c-97f44d8f1d94",
   "metadata": {},
   "source": [
    "Or we can just print the location column"
   ]
  },
  {
   "cell_type": "code",
   "execution_count": 6,
   "id": "990d3b9e-844c-4e46-a672-dd85b3cd4f8f",
   "metadata": {},
   "outputs": [
    {
     "name": "stdout",
     "output_type": "stream",
     "text": [
      "10    Brooklyn\n",
      "11    Brooklyn\n",
      "12    Brooklyn\n",
      "13    Brooklyn\n",
      "14    Brooklyn\n",
      "15    Brooklyn\n",
      "16    Brooklyn\n",
      "17    Brooklyn\n",
      "18    Brooklyn\n",
      "19    Brooklyn\n",
      "Name: location, dtype: object\n"
     ]
    }
   ],
   "source": [
    "brooklyn_location = inventory.location[inventory['location'] == 'Brooklyn']\n",
    "print(brooklyn_location)"
   ]
  },
  {
   "cell_type": "markdown",
   "id": "34f795f3-3e59-4582-97b2-15269baf6316",
   "metadata": {},
   "source": [
    "##### We can filter the DataFrame for products in 'Staten Island' and select the 'product_description' column\n"
   ]
  },
  {
   "cell_type": "code",
   "execution_count": 7,
   "id": "e8c3cbaa-deb7-4b83-838c-1aee6ce8ad4c",
   "metadata": {},
   "outputs": [
    {
     "name": "stdout",
     "output_type": "stream",
     "text": [
      "0                         daisy\n",
      "1                    calla lily\n",
      "2                        tomato\n",
      "3                          rake\n",
      "4                   wheelbarrow\n",
      "5                         spade\n",
      "6                 insect killer\n",
      "7                   weed killer\n",
      "8    20 inch terracotta planter\n",
      "9        8 inch plastic planter\n",
      "Name: product_description, dtype: object\n"
     ]
    }
   ],
   "source": [
    "product_request = inventory[inventory['location'] == 'Staten Island']['product_description']\n",
    "print(product_request)"
   ]
  },
  {
   "cell_type": "markdown",
   "id": "cc57c0e8-d74f-45c9-8bfe-973ec88c8f28",
   "metadata": {},
   "source": [
    "##### This is another way to filter and get exactly the same values from before but from a different way of writint the subset"
   ]
  },
  {
   "cell_type": "code",
   "execution_count": 8,
   "id": "6292e307-11d0-471e-8694-325ac8cad399",
   "metadata": {},
   "outputs": [
    {
     "name": "stdout",
     "output_type": "stream",
     "text": [
      "0                         daisy\n",
      "1                    calla lily\n",
      "2                        tomato\n",
      "3                          rake\n",
      "4                   wheelbarrow\n",
      "5                         spade\n",
      "6                 insect killer\n",
      "7                   weed killer\n",
      "8    20 inch terracotta planter\n",
      "9        8 inch plastic planter\n",
      "Name: product_description, dtype: object\n"
     ]
    }
   ],
   "source": [
    "product_request_b = inventory.product_description[inventory['location'] == 'Staten Island']\n",
    "print(product_request_b)"
   ]
  },
  {
   "cell_type": "markdown",
   "id": "0988f204-f849-4a17-80a4-fe9d8aff9b70",
   "metadata": {},
   "source": [
    "##### Filter the DataFrame for \"seeds\" in 'Brooklyn', so we need to use a double filter for our requested subset, thats is why we will use the \"&\"\n"
   ]
  },
  {
   "cell_type": "code",
   "execution_count": 10,
   "id": "60ccbb5a-3fa7-4cc2-9510-051f59edad89",
   "metadata": {},
   "outputs": [
    {
     "name": "stdout",
     "output_type": "stream",
     "text": [
      "    location product_type product_description  quantity  price\n",
      "10  Brooklyn        seeds               daisy        50   6.99\n",
      "11  Brooklyn        seeds          calla lily         0  19.99\n",
      "12  Brooklyn        seeds              tomato         0  13.99\n"
     ]
    }
   ],
   "source": [
    "seed_request = inventory[(inventory['location'] == 'Brooklyn') & (inventory['product_type'] == 'seeds')]\n",
    "print(seed_request)"
   ]
  },
  {
   "cell_type": "markdown",
   "id": "71d68cc7-2393-4c29-aa81-8f1778c4d212",
   "metadata": {},
   "source": [
    "##### Lets try to Add a new column 'in_stock' based on the 'quantity' column. For this, we will use a lambda function for it\n"
   ]
  },
  {
   "cell_type": "code",
   "execution_count": 11,
   "id": "c501062c-9db6-4df4-ada7-1998f9830950",
   "metadata": {},
   "outputs": [
    {
     "name": "stdout",
     "output_type": "stream",
     "text": [
      "         location  product_type         product_description  quantity  price  \\\n",
      "0   Staten Island         seeds                       daisy         4   6.99   \n",
      "1   Staten Island         seeds                  calla lily        46  19.99   \n",
      "2   Staten Island         seeds                      tomato        85  13.99   \n",
      "3   Staten Island  garden tools                        rake         4  13.99   \n",
      "4   Staten Island  garden tools                 wheelbarrow         0  89.99   \n",
      "5   Staten Island  garden tools                       spade        93  19.99   \n",
      "6   Staten Island  pest_control               insect killer        74  12.99   \n",
      "7   Staten Island  pest_control                 weed killer         8  23.99   \n",
      "8   Staten Island       planter  20 inch terracotta planter         0  17.99   \n",
      "9   Staten Island       planter      8 inch plastic planter        53   3.99   \n",
      "10       Brooklyn         seeds                       daisy        50   6.99   \n",
      "11       Brooklyn         seeds                  calla lily         0  19.99   \n",
      "12       Brooklyn         seeds                      tomato         0  13.99   \n",
      "13       Brooklyn  garden tools                        rake        15  13.99   \n",
      "14       Brooklyn  garden tools                 wheelbarrow        82  89.99   \n",
      "15       Brooklyn  garden tools                       spade        36  19.99   \n",
      "16       Brooklyn  pest_control               insect killer        80  12.99   \n",
      "17       Brooklyn  pest_control                 weed killer        76  23.99   \n",
      "18       Brooklyn       planter  20 inch terracotta planter         5  17.99   \n",
      "19       Brooklyn       planter      8 inch plastic planter        26   3.99   \n",
      "20         Queens         seeds                       daisy        57   6.99   \n",
      "21         Queens         seeds                  calla lily        95  19.99   \n",
      "22         Queens         seeds                      tomato        45  13.99   \n",
      "23         Queens  garden tools                        rake        21  13.99   \n",
      "24         Queens  garden tools                 wheelbarrow        98  89.99   \n",
      "25         Queens  garden tools                       spade        26  19.99   \n",
      "26         Queens  pest_control               insect killer         0  12.99   \n",
      "27         Queens  pest_control                 weed killer        16  23.99   \n",
      "28         Queens       planter  20 inch terracotta planter        87  17.99   \n",
      "\n",
      "    in_stock  \n",
      "0       True  \n",
      "1       True  \n",
      "2       True  \n",
      "3       True  \n",
      "4      False  \n",
      "5       True  \n",
      "6       True  \n",
      "7       True  \n",
      "8      False  \n",
      "9       True  \n",
      "10      True  \n",
      "11     False  \n",
      "12     False  \n",
      "13      True  \n",
      "14      True  \n",
      "15      True  \n",
      "16      True  \n",
      "17      True  \n",
      "18      True  \n",
      "19      True  \n",
      "20      True  \n",
      "21      True  \n",
      "22      True  \n",
      "23      True  \n",
      "24      True  \n",
      "25      True  \n",
      "26     False  \n",
      "27      True  \n",
      "28      True  \n"
     ]
    }
   ],
   "source": [
    "inventory['in_stock'] = inventory['quantity'].apply(lambda x: True if x > 0 else False)\n",
    "print(inventory)"
   ]
  },
  {
   "cell_type": "markdown",
   "id": "71429a12-033b-4484-9416-3b243b6971bd",
   "metadata": {},
   "source": [
    "##### Now lets examine the columns we have."
   ]
  },
  {
   "cell_type": "code",
   "execution_count": 12,
   "id": "5e53f844-add6-4204-a137-949b4e6b5563",
   "metadata": {},
   "outputs": [
    {
     "name": "stdout",
     "output_type": "stream",
     "text": [
      "Index(['location', 'product_type', 'product_description', 'quantity', 'price',\n",
      "       'in_stock'],\n",
      "      dtype='object')\n"
     ]
    }
   ],
   "source": [
    "print(inventory.columns)"
   ]
  },
  {
   "cell_type": "markdown",
   "id": "bd88788e-8ade-4491-9694-cdc9d859482a",
   "metadata": {},
   "source": [
    "###### Ans yes, we see out new column \"in stock\" already created"
   ]
  },
  {
   "cell_type": "markdown",
   "id": "3aee0761-69b6-454d-be0e-104ac8a5395f",
   "metadata": {},
   "source": [
    "##### Now, add a new column 'total_value' to calculate total value of each item, wich would be the product between the columns of price and quantity\n"
   ]
  },
  {
   "cell_type": "code",
   "execution_count": 13,
   "id": "efe3b70f-2c18-4b41-b4c2-1f31e9dd9a00",
   "metadata": {},
   "outputs": [
    {
     "name": "stdout",
     "output_type": "stream",
     "text": [
      "         location  product_type         product_description  quantity  price  \\\n",
      "0   Staten Island         seeds                       daisy         4   6.99   \n",
      "1   Staten Island         seeds                  calla lily        46  19.99   \n",
      "2   Staten Island         seeds                      tomato        85  13.99   \n",
      "3   Staten Island  garden tools                        rake         4  13.99   \n",
      "4   Staten Island  garden tools                 wheelbarrow         0  89.99   \n",
      "5   Staten Island  garden tools                       spade        93  19.99   \n",
      "6   Staten Island  pest_control               insect killer        74  12.99   \n",
      "7   Staten Island  pest_control                 weed killer         8  23.99   \n",
      "8   Staten Island       planter  20 inch terracotta planter         0  17.99   \n",
      "9   Staten Island       planter      8 inch plastic planter        53   3.99   \n",
      "10       Brooklyn         seeds                       daisy        50   6.99   \n",
      "11       Brooklyn         seeds                  calla lily         0  19.99   \n",
      "12       Brooklyn         seeds                      tomato         0  13.99   \n",
      "13       Brooklyn  garden tools                        rake        15  13.99   \n",
      "14       Brooklyn  garden tools                 wheelbarrow        82  89.99   \n",
      "15       Brooklyn  garden tools                       spade        36  19.99   \n",
      "16       Brooklyn  pest_control               insect killer        80  12.99   \n",
      "17       Brooklyn  pest_control                 weed killer        76  23.99   \n",
      "18       Brooklyn       planter  20 inch terracotta planter         5  17.99   \n",
      "19       Brooklyn       planter      8 inch plastic planter        26   3.99   \n",
      "20         Queens         seeds                       daisy        57   6.99   \n",
      "21         Queens         seeds                  calla lily        95  19.99   \n",
      "22         Queens         seeds                      tomato        45  13.99   \n",
      "23         Queens  garden tools                        rake        21  13.99   \n",
      "24         Queens  garden tools                 wheelbarrow        98  89.99   \n",
      "25         Queens  garden tools                       spade        26  19.99   \n",
      "26         Queens  pest_control               insect killer         0  12.99   \n",
      "27         Queens  pest_control                 weed killer        16  23.99   \n",
      "28         Queens       planter  20 inch terracotta planter        87  17.99   \n",
      "\n",
      "    in_stock  total_value  \n",
      "0       True        27.96  \n",
      "1       True       919.54  \n",
      "2       True      1189.15  \n",
      "3       True        55.96  \n",
      "4      False         0.00  \n",
      "5       True      1859.07  \n",
      "6       True       961.26  \n",
      "7       True       191.92  \n",
      "8      False         0.00  \n",
      "9       True       211.47  \n",
      "10      True       349.50  \n",
      "11     False         0.00  \n",
      "12     False         0.00  \n",
      "13      True       209.85  \n",
      "14      True      7379.18  \n",
      "15      True       719.64  \n",
      "16      True      1039.20  \n",
      "17      True      1823.24  \n",
      "18      True        89.95  \n",
      "19      True       103.74  \n",
      "20      True       398.43  \n",
      "21      True      1899.05  \n",
      "22      True       629.55  \n",
      "23      True       293.79  \n",
      "24      True      8819.02  \n",
      "25      True       519.74  \n",
      "26     False         0.00  \n",
      "27      True       383.84  \n",
      "28      True      1565.13  \n"
     ]
    }
   ],
   "source": [
    "inventory['total_value'] = inventory['price'] * inventory['quantity']\n",
    "print(inventory)"
   ]
  },
  {
   "cell_type": "markdown",
   "id": "da739c55-6a9b-490b-8b69-0ba8fe7aa67e",
   "metadata": {},
   "source": [
    "##### For last, we will use again lambda function to generate a full descrption "
   ]
  },
  {
   "cell_type": "code",
   "execution_count": 15,
   "id": "7d107df1-ac5c-4b9f-90bc-1197b1d5fdc3",
   "metadata": {},
   "outputs": [],
   "source": [
    "combine_lambda = lambda row: f\"{row['product_type']} - {row['product_description']}\""
   ]
  },
  {
   "cell_type": "markdown",
   "id": "2187a579-2436-4a2a-ac93-cbf034db789a",
   "metadata": {},
   "source": [
    "##### Now we apply the lambda function to each row to create the 'full_description' column\n",
    "\n"
   ]
  },
  {
   "cell_type": "code",
   "execution_count": 17,
   "id": "0a3a7e21-b065-422e-9b73-ce8e6312e2d3",
   "metadata": {},
   "outputs": [
    {
     "name": "stdout",
     "output_type": "stream",
     "text": [
      "         location  product_type         product_description  quantity  price  \\\n",
      "0   Staten Island         seeds                       daisy         4   6.99   \n",
      "1   Staten Island         seeds                  calla lily        46  19.99   \n",
      "2   Staten Island         seeds                      tomato        85  13.99   \n",
      "3   Staten Island  garden tools                        rake         4  13.99   \n",
      "4   Staten Island  garden tools                 wheelbarrow         0  89.99   \n",
      "5   Staten Island  garden tools                       spade        93  19.99   \n",
      "6   Staten Island  pest_control               insect killer        74  12.99   \n",
      "7   Staten Island  pest_control                 weed killer         8  23.99   \n",
      "8   Staten Island       planter  20 inch terracotta planter         0  17.99   \n",
      "9   Staten Island       planter      8 inch plastic planter        53   3.99   \n",
      "10       Brooklyn         seeds                       daisy        50   6.99   \n",
      "11       Brooklyn         seeds                  calla lily         0  19.99   \n",
      "12       Brooklyn         seeds                      tomato         0  13.99   \n",
      "13       Brooklyn  garden tools                        rake        15  13.99   \n",
      "14       Brooklyn  garden tools                 wheelbarrow        82  89.99   \n",
      "15       Brooklyn  garden tools                       spade        36  19.99   \n",
      "16       Brooklyn  pest_control               insect killer        80  12.99   \n",
      "17       Brooklyn  pest_control                 weed killer        76  23.99   \n",
      "18       Brooklyn       planter  20 inch terracotta planter         5  17.99   \n",
      "19       Brooklyn       planter      8 inch plastic planter        26   3.99   \n",
      "20         Queens         seeds                       daisy        57   6.99   \n",
      "21         Queens         seeds                  calla lily        95  19.99   \n",
      "22         Queens         seeds                      tomato        45  13.99   \n",
      "23         Queens  garden tools                        rake        21  13.99   \n",
      "24         Queens  garden tools                 wheelbarrow        98  89.99   \n",
      "25         Queens  garden tools                       spade        26  19.99   \n",
      "26         Queens  pest_control               insect killer         0  12.99   \n",
      "27         Queens  pest_control                 weed killer        16  23.99   \n",
      "28         Queens       planter  20 inch terracotta planter        87  17.99   \n",
      "\n",
      "    in_stock  total_value                      full_description  \n",
      "0       True        27.96                         seeds - daisy  \n",
      "1       True       919.54                    seeds - calla lily  \n",
      "2       True      1189.15                        seeds - tomato  \n",
      "3       True        55.96                   garden tools - rake  \n",
      "4      False         0.00            garden tools - wheelbarrow  \n",
      "5       True      1859.07                  garden tools - spade  \n",
      "6       True       961.26          pest_control - insect killer  \n",
      "7       True       191.92            pest_control - weed killer  \n",
      "8      False         0.00  planter - 20 inch terracotta planter  \n",
      "9       True       211.47      planter - 8 inch plastic planter  \n",
      "10      True       349.50                         seeds - daisy  \n",
      "11     False         0.00                    seeds - calla lily  \n",
      "12     False         0.00                        seeds - tomato  \n",
      "13      True       209.85                   garden tools - rake  \n",
      "14      True      7379.18            garden tools - wheelbarrow  \n",
      "15      True       719.64                  garden tools - spade  \n",
      "16      True      1039.20          pest_control - insect killer  \n",
      "17      True      1823.24            pest_control - weed killer  \n",
      "18      True        89.95  planter - 20 inch terracotta planter  \n",
      "19      True       103.74      planter - 8 inch plastic planter  \n",
      "20      True       398.43                         seeds - daisy  \n",
      "21      True      1899.05                    seeds - calla lily  \n",
      "22      True       629.55                        seeds - tomato  \n",
      "23      True       293.79                   garden tools - rake  \n",
      "24      True      8819.02            garden tools - wheelbarrow  \n",
      "25      True       519.74                  garden tools - spade  \n",
      "26     False         0.00          pest_control - insect killer  \n",
      "27      True       383.84            pest_control - weed killer  \n",
      "28      True      1565.13  planter - 20 inch terracotta planter  \n"
     ]
    }
   ],
   "source": [
    "inventory['full_description'] = inventory.apply(combine_lambda, axis=1)\n",
    "print(inventory)"
   ]
  }
 ],
 "metadata": {
  "kernelspec": {
   "display_name": "Python 3 (ipykernel)",
   "language": "python",
   "name": "python3"
  },
  "language_info": {
   "codemirror_mode": {
    "name": "ipython",
    "version": 3
   },
   "file_extension": ".py",
   "mimetype": "text/x-python",
   "name": "python",
   "nbconvert_exporter": "python",
   "pygments_lexer": "ipython3",
   "version": "3.12.7"
  }
 },
 "nbformat": 4,
 "nbformat_minor": 5
}
